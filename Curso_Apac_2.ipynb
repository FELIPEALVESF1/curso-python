{
  "nbformat": 4,
  "nbformat_minor": 0,
  "metadata": {
    "colab": {
      "provenance": [],
      "toc_visible": true
    },
    "kernelspec": {
      "name": "python3",
      "display_name": "Python 3"
    },
    "language_info": {
      "name": "python"
    }
  },
  "cells": [
    {
      "cell_type": "markdown",
      "source": [
        "# Variáveis"
      ],
      "metadata": {
        "id": "6AhZfSLPkRVx"
      }
    },
    {
      "cell_type": "markdown",
      "source": [
        "As variáveis podem ser entendidas como uma caixinha, onde os dados são armazenados temporariamente ou em definitivo e que são manipuladas durante a execução do programa"
      ],
      "metadata": {
        "id": "K6ishwrXbWrC"
      }
    },
    {
      "cell_type": "code",
      "source": [
        "x = 1\n",
        "print(x)"
      ],
      "metadata": {
        "colab": {
          "base_uri": "https://localhost:8080/"
        },
        "id": "oJW4DbkmkUd4",
        "outputId": "fc06ba73-15b0-47ea-9e4b-9956b23eba83"
      },
      "execution_count": 1,
      "outputs": [
        {
          "output_type": "stream",
          "name": "stdout",
          "text": [
            "1\n"
          ]
        }
      ]
    },
    {
      "cell_type": "code",
      "source": [
        "y = 3.14\n",
        "y"
      ],
      "metadata": {
        "colab": {
          "base_uri": "https://localhost:8080/"
        },
        "id": "vnIKPPbGkrng",
        "outputId": "d224beaa-772f-404a-f654-f6027101422b"
      },
      "execution_count": 2,
      "outputs": [
        {
          "output_type": "execute_result",
          "data": {
            "text/plain": [
              "3.14"
            ]
          },
          "metadata": {},
          "execution_count": 2
        }
      ]
    },
    {
      "cell_type": "code",
      "source": [
        "nome = 'Vinícius Gomes Costa Júnior'"
      ],
      "metadata": {
        "id": "yi45xxYmZPcA"
      },
      "execution_count": 3,
      "outputs": []
    },
    {
      "cell_type": "code",
      "source": [],
      "metadata": {
        "id": "GvxRWHEWlRHv"
      },
      "execution_count": 3,
      "outputs": []
    },
    {
      "cell_type": "markdown",
      "source": [
        "### Trocando valor entre variáveis "
      ],
      "metadata": {
        "id": "NFjcvORhwz0d"
      }
    },
    {
      "cell_type": "code",
      "metadata": {
        "id": "Zkmn7mVN9gbN",
        "outputId": "0537ff19-de0b-46d9-bd4f-6ddd938443d2",
        "colab": {
          "base_uri": "https://localhost:8080/"
        }
      },
      "source": [
        "#Tradicionalmente em outras linguagens\n",
        "x = 10\n",
        "y = 'Vinícius'\n",
        "\n",
        "z = x\n",
        "x = y \n",
        "y = z\n",
        "print('x: ', x)\n",
        "print('y: ', y)"
      ],
      "execution_count": 4,
      "outputs": [
        {
          "output_type": "stream",
          "name": "stdout",
          "text": [
            "x:  Vinícius\n",
            "y:  10\n"
          ]
        }
      ]
    },
    {
      "cell_type": "code",
      "metadata": {
        "id": "12c2ir3F-VRE"
      },
      "source": [
        "#Trocando valor entre variáveis em python\n",
        "x = 10\n",
        "y = 'Vinícius'\n",
        "x, y = y, x\n"
      ],
      "execution_count": 5,
      "outputs": []
    },
    {
      "cell_type": "markdown",
      "source": [
        "# Tipos Internos"
      ],
      "metadata": {
        "id": "Aq2S-ng9RiTc"
      }
    },
    {
      "cell_type": "code",
      "source": [
        "type(nome)"
      ],
      "metadata": {
        "colab": {
          "base_uri": "https://localhost:8080/"
        },
        "id": "majm87CvbCcu",
        "outputId": "e239235c-c675-4277-e3bf-ac9a855bc4c5"
      },
      "execution_count": 6,
      "outputs": [
        {
          "output_type": "execute_result",
          "data": {
            "text/plain": [
              "str"
            ]
          },
          "metadata": {},
          "execution_count": 6
        }
      ]
    },
    {
      "cell_type": "code",
      "source": [
        "novo_nome = input('Digite seu nome: ')"
      ],
      "metadata": {
        "colab": {
          "base_uri": "https://localhost:8080/"
        },
        "id": "OtowL8i2bF3j",
        "outputId": "9ed66c27-d635-453f-9b8d-34828c178d0d"
      },
      "execution_count": 7,
      "outputs": [
        {
          "name": "stdout",
          "output_type": "stream",
          "text": [
            "Digite seu nome: 55\n"
          ]
        }
      ]
    },
    {
      "cell_type": "code",
      "source": [
        "numero = 66\n",
        "print(numero)"
      ],
      "metadata": {
        "colab": {
          "base_uri": "https://localhost:8080/"
        },
        "id": "6PLeEbU1bsA_",
        "outputId": "19beed7c-56e9-43f7-a0f9-1cf66c5a37a9"
      },
      "execution_count": 8,
      "outputs": [
        {
          "output_type": "stream",
          "name": "stdout",
          "text": [
            "66\n"
          ]
        }
      ]
    },
    {
      "cell_type": "code",
      "source": [
        "type(numero)"
      ],
      "metadata": {
        "colab": {
          "base_uri": "https://localhost:8080/"
        },
        "id": "OOzueTQnbwi4",
        "outputId": "b4d4015c-5c2c-4560-83ab-ec05fc7e183b"
      },
      "execution_count": 9,
      "outputs": [
        {
          "output_type": "execute_result",
          "data": {
            "text/plain": [
              "int"
            ]
          },
          "metadata": {},
          "execution_count": 9
        }
      ]
    },
    {
      "cell_type": "code",
      "source": [
        "novo_numero = input('Digite um número: ')"
      ],
      "metadata": {
        "colab": {
          "base_uri": "https://localhost:8080/"
        },
        "id": "NFQh3aK0byR-",
        "outputId": "33928973-6c7e-49dd-ee30-a86173e0b42f"
      },
      "execution_count": 10,
      "outputs": [
        {
          "name": "stdout",
          "output_type": "stream",
          "text": [
            "Digite um número: 345\n"
          ]
        }
      ]
    },
    {
      "cell_type": "code",
      "source": [
        "numero + 1000"
      ],
      "metadata": {
        "colab": {
          "base_uri": "https://localhost:8080/"
        },
        "id": "5PgyVZCgb8Nj",
        "outputId": "c20b3c9a-433a-40ac-99ea-7c174e2a513f"
      },
      "execution_count": 11,
      "outputs": [
        {
          "output_type": "execute_result",
          "data": {
            "text/plain": [
              "1066"
            ]
          },
          "metadata": {},
          "execution_count": 11
        }
      ]
    },
    {
      "cell_type": "code",
      "source": [
        "numero + novo_numero"
      ],
      "metadata": {
        "id": "0hWUIB4scEQC",
        "colab": {
          "base_uri": "https://localhost:8080/",
          "height": 165
        },
        "outputId": "35097fb6-d3c3-4ecf-b29d-17e0e1e1a7e5"
      },
      "execution_count": 12,
      "outputs": [
        {
          "output_type": "error",
          "ename": "TypeError",
          "evalue": "ignored",
          "traceback": [
            "\u001b[0;31m---------------------------------------------------------------------------\u001b[0m",
            "\u001b[0;31mTypeError\u001b[0m                                 Traceback (most recent call last)",
            "\u001b[0;32m<ipython-input-12-eca0be769821>\u001b[0m in \u001b[0;36m<module>\u001b[0;34m\u001b[0m\n\u001b[0;32m----> 1\u001b[0;31m \u001b[0mnumero\u001b[0m \u001b[0;34m+\u001b[0m \u001b[0mnovo_numero\u001b[0m\u001b[0;34m\u001b[0m\u001b[0;34m\u001b[0m\u001b[0m\n\u001b[0m",
            "\u001b[0;31mTypeError\u001b[0m: unsupported operand type(s) for +: 'int' and 'str'"
          ]
        }
      ]
    },
    {
      "cell_type": "code",
      "source": [
        "novo_numero"
      ],
      "metadata": {
        "colab": {
          "base_uri": "https://localhost:8080/",
          "height": 36
        },
        "id": "PrW6wMFSV8CZ",
        "outputId": "6cea2477-c5ef-42bd-e152-ac87fc6fb033"
      },
      "execution_count": 13,
      "outputs": [
        {
          "output_type": "execute_result",
          "data": {
            "text/plain": [
              "'345'"
            ],
            "application/vnd.google.colaboratory.intrinsic+json": {
              "type": "string"
            }
          },
          "metadata": {},
          "execution_count": 13
        }
      ]
    },
    {
      "cell_type": "code",
      "source": [
        "novo_numero + nome"
      ],
      "metadata": {
        "colab": {
          "base_uri": "https://localhost:8080/",
          "height": 36
        },
        "id": "9UF695JiESZG",
        "outputId": "a2f2f0e1-98a3-4fe9-bb78-303327b35e7f"
      },
      "execution_count": 14,
      "outputs": [
        {
          "output_type": "execute_result",
          "data": {
            "text/plain": [
              "'345Vinícius Gomes Costa Júnior'"
            ],
            "application/vnd.google.colaboratory.intrinsic+json": {
              "type": "string"
            }
          },
          "metadata": {},
          "execution_count": 14
        }
      ]
    },
    {
      "cell_type": "markdown",
      "source": [
        "## Casting (Conversão)"
      ],
      "metadata": {
        "id": "Y1Clw0Zbcasc"
      }
    },
    {
      "cell_type": "code",
      "source": [
        "numero"
      ],
      "metadata": {
        "colab": {
          "base_uri": "https://localhost:8080/"
        },
        "id": "Mo8D4V3FXH3x",
        "outputId": "63110a58-ad13-41af-f1c4-07c1ad6c9855"
      },
      "execution_count": 15,
      "outputs": [
        {
          "output_type": "execute_result",
          "data": {
            "text/plain": [
              "66"
            ]
          },
          "metadata": {},
          "execution_count": 15
        }
      ]
    },
    {
      "cell_type": "code",
      "source": [
        "novo_numero"
      ],
      "metadata": {
        "colab": {
          "base_uri": "https://localhost:8080/",
          "height": 36
        },
        "id": "42uWfDQtXJZJ",
        "outputId": "7814fabb-b987-4c36-8022-6ffb4675939e"
      },
      "execution_count": 16,
      "outputs": [
        {
          "output_type": "execute_result",
          "data": {
            "text/plain": [
              "'345'"
            ],
            "application/vnd.google.colaboratory.intrinsic+json": {
              "type": "string"
            }
          },
          "metadata": {},
          "execution_count": 16
        }
      ]
    },
    {
      "cell_type": "code",
      "source": [
        "numero + int(novo_numero)"
      ],
      "metadata": {
        "colab": {
          "base_uri": "https://localhost:8080/"
        },
        "id": "HqrT3qv2caCN",
        "outputId": "e9eeef6e-3fc6-4fe2-dc1b-ce1da6709c5a"
      },
      "execution_count": 17,
      "outputs": [
        {
          "output_type": "execute_result",
          "data": {
            "text/plain": [
              "411"
            ]
          },
          "metadata": {},
          "execution_count": 17
        }
      ]
    },
    {
      "cell_type": "code",
      "source": [
        "numero + float(novo_numero)"
      ],
      "metadata": {
        "colab": {
          "base_uri": "https://localhost:8080/"
        },
        "id": "o8eIgnMNXF2a",
        "outputId": "47dea5cb-be17-464d-81b2-2b3c29a8afbd"
      },
      "execution_count": 18,
      "outputs": [
        {
          "output_type": "execute_result",
          "data": {
            "text/plain": [
              "411.0"
            ]
          },
          "metadata": {},
          "execution_count": 18
        }
      ]
    },
    {
      "cell_type": "code",
      "source": [
        "str(numero) + novo_numero"
      ],
      "metadata": {
        "colab": {
          "base_uri": "https://localhost:8080/",
          "height": 36
        },
        "id": "LzbBYCcWXUfT",
        "outputId": "70e4c302-cd9e-4aca-a3ce-741eb7a1accb"
      },
      "execution_count": 19,
      "outputs": [
        {
          "output_type": "execute_result",
          "data": {
            "text/plain": [
              "'66345'"
            ],
            "application/vnd.google.colaboratory.intrinsic+json": {
              "type": "string"
            }
          },
          "metadata": {},
          "execution_count": 19
        }
      ]
    },
    {
      "cell_type": "markdown",
      "source": [
        "##Tipos Numéricos "
      ],
      "metadata": {
        "id": "9YoJkkqrI1ns"
      }
    },
    {
      "cell_type": "markdown",
      "source": [
        "Há três tipos numéricos distintos: integers, floating point numbers, e complex numbers. "
      ],
      "metadata": {
        "id": "EZfWp7R2QOlS"
      }
    },
    {
      "cell_type": "code",
      "source": [
        "# O número inteiro\n",
        "print(123)\n",
        "\n",
        "# O número real (ponto flutuante)\n",
        "print(3.14)\n",
        "\n",
        "# O número complexo\n",
        "1+5j"
      ],
      "metadata": {
        "colab": {
          "base_uri": "https://localhost:8080/"
        },
        "id": "f4yjoG-7SYOI",
        "outputId": "dcf8c579-c4a2-47b8-eb05-9dbda2cfa129"
      },
      "execution_count": 20,
      "outputs": [
        {
          "output_type": "stream",
          "name": "stdout",
          "text": [
            "123\n",
            "3.14\n"
          ]
        },
        {
          "output_type": "execute_result",
          "data": {
            "text/plain": [
              "(1+5j)"
            ]
          },
          "metadata": {},
          "execution_count": 20
        }
      ]
    },
    {
      "cell_type": "markdown",
      "source": [
        "Todos os tipos numéricos (exceto complexos) suportam as seguintes operações:\n",
        " \n",
        "| Operação        | Resultado                                                                       |\n",
        "| --------------- | ------------------------------------------------------------------------------- |\n",
        "| x + y           | soma de x e y                                                                   |\n",
        "| x - y           | diferença de \\* x \\* e \\* y \\*                                                  |\n",
        "| x \\* y          | produto de \\* x \\* e \\* y \\*                                                    |\n",
        "| x / y           | quociente de x e y                                                              |\n",
        "| x // y          | quociente flutuante of x and y                                                  |\n",
        "| x % y           | restante de x / y                                                               |\n",
        "| \\-x             | x negado                                                                        |\n",
        "| +x              | x inalterado                                                                    |\n",
        "| abs(x)          | valor absoluto ou magnitude de x                                                |\n",
        "| int(x)          | x convertido em inteiro                                                         |\n",
        "| float(x)        | x convertido em ponto flutuante                                                 |\n",
        "| complex(re, im) | um número complexo com parte real re, parte imaginária im. im acarreta em zero. |\n",
        "| c.conjugate()   | conjugado do número complexo c                                                  |\n",
        "| divmod(x, y)    | o par (x // y, x % y)                                                           |\n",
        "| pow(x, y)       | x elevado a y                                                                   |\n",
        "| x \\*\\* y        | x elevado a y                                                                   |\n",
        "\n",
        "[Referência](https://docs.python.org/pt-br/3.7/library/stdtypes.html#numeric-types-int-float-complex)"
      ],
      "metadata": {
        "id": "ekMTPGUoGWvA"
      }
    },
    {
      "cell_type": "code",
      "source": [
        "9 + 2"
      ],
      "metadata": {
        "colab": {
          "base_uri": "https://localhost:8080/"
        },
        "id": "8oyg-CYrUSew",
        "outputId": "0394c433-3a39-40e2-b782-4166641c621f"
      },
      "execution_count": 21,
      "outputs": [
        {
          "output_type": "execute_result",
          "data": {
            "text/plain": [
              "11"
            ]
          },
          "metadata": {},
          "execution_count": 21
        }
      ]
    },
    {
      "cell_type": "code",
      "source": [
        "9 - 2"
      ],
      "metadata": {
        "colab": {
          "base_uri": "https://localhost:8080/"
        },
        "id": "nwD1fWcEUVml",
        "outputId": "7e9945a8-474b-4326-8633-35190efd6780"
      },
      "execution_count": 22,
      "outputs": [
        {
          "output_type": "execute_result",
          "data": {
            "text/plain": [
              "7"
            ]
          },
          "metadata": {},
          "execution_count": 22
        }
      ]
    },
    {
      "cell_type": "code",
      "source": [
        "9 * 2"
      ],
      "metadata": {
        "colab": {
          "base_uri": "https://localhost:8080/"
        },
        "id": "p00QcZ-HUgpO",
        "outputId": "0c962a0a-88a3-40d7-fe15-3819c34affec"
      },
      "execution_count": 23,
      "outputs": [
        {
          "output_type": "execute_result",
          "data": {
            "text/plain": [
              "18"
            ]
          },
          "metadata": {},
          "execution_count": 23
        }
      ]
    },
    {
      "cell_type": "code",
      "source": [
        "9 / 2"
      ],
      "metadata": {
        "colab": {
          "base_uri": "https://localhost:8080/"
        },
        "id": "D6mp_igaUqKj",
        "outputId": "e37b8380-4ac0-49fb-e180-f30e7cecd8ec"
      },
      "execution_count": 24,
      "outputs": [
        {
          "output_type": "execute_result",
          "data": {
            "text/plain": [
              "4.5"
            ]
          },
          "metadata": {},
          "execution_count": 24
        }
      ]
    },
    {
      "cell_type": "code",
      "source": [
        "type(9 / 2)"
      ],
      "metadata": {
        "colab": {
          "base_uri": "https://localhost:8080/"
        },
        "id": "ZzyxVf0SVTk_",
        "outputId": "d1f64de6-a350-4688-aae1-ee3ba13be3ca"
      },
      "execution_count": 25,
      "outputs": [
        {
          "output_type": "execute_result",
          "data": {
            "text/plain": [
              "float"
            ]
          },
          "metadata": {},
          "execution_count": 25
        }
      ]
    },
    {
      "cell_type": "code",
      "source": [
        "9 // 2"
      ],
      "metadata": {
        "colab": {
          "base_uri": "https://localhost:8080/"
        },
        "id": "mBOgO0dSUvKB",
        "outputId": "b4b2ba1b-874a-4a54-a5ac-af9a56a72d10"
      },
      "execution_count": 26,
      "outputs": [
        {
          "output_type": "execute_result",
          "data": {
            "text/plain": [
              "4"
            ]
          },
          "metadata": {},
          "execution_count": 26
        }
      ]
    },
    {
      "cell_type": "code",
      "source": [
        "type( 9 // 2)"
      ],
      "metadata": {
        "colab": {
          "base_uri": "https://localhost:8080/"
        },
        "id": "67olXm8ZVYb4",
        "outputId": "8956a6c1-a3cf-4885-9ea6-737542d679d4"
      },
      "execution_count": 27,
      "outputs": [
        {
          "output_type": "execute_result",
          "data": {
            "text/plain": [
              "int"
            ]
          },
          "metadata": {},
          "execution_count": 27
        }
      ]
    },
    {
      "cell_type": "code",
      "source": [
        "9 % 2"
      ],
      "metadata": {
        "colab": {
          "base_uri": "https://localhost:8080/"
        },
        "id": "8-f4RtfbU0dH",
        "outputId": "ab0fd56c-4e78-44ff-83f6-b2afbee09787"
      },
      "execution_count": 28,
      "outputs": [
        {
          "output_type": "execute_result",
          "data": {
            "text/plain": [
              "1"
            ]
          },
          "metadata": {},
          "execution_count": 28
        }
      ]
    },
    {
      "cell_type": "code",
      "source": [
        "9 ** 2"
      ],
      "metadata": {
        "colab": {
          "base_uri": "https://localhost:8080/"
        },
        "id": "utgtrcaRU7A4",
        "outputId": "b6e23432-3702-4423-ca2c-163a10e76763"
      },
      "execution_count": 29,
      "outputs": [
        {
          "output_type": "execute_result",
          "data": {
            "text/plain": [
              "81"
            ]
          },
          "metadata": {},
          "execution_count": 29
        }
      ]
    },
    {
      "cell_type": "markdown",
      "source": [
        "**Observação**   \n",
        "\n",
        "Operações possíveis com strings"
      ],
      "metadata": {
        "id": "M5pSy9kClHp1"
      }
    },
    {
      "cell_type": "code",
      "source": [
        "'vinicius ' + 'gomes' "
      ],
      "metadata": {
        "colab": {
          "base_uri": "https://localhost:8080/",
          "height": 36
        },
        "id": "KEvGWj1blMZj",
        "outputId": "1c5bf077-56fd-46a9-960d-7a05148a8a7b"
      },
      "execution_count": 30,
      "outputs": [
        {
          "output_type": "execute_result",
          "data": {
            "text/plain": [
              "'vinicius gomes'"
            ],
            "application/vnd.google.colaboratory.intrinsic+json": {
              "type": "string"
            }
          },
          "metadata": {},
          "execution_count": 30
        }
      ]
    },
    {
      "cell_type": "code",
      "source": [
        "'vinicius ' * 3"
      ],
      "metadata": {
        "colab": {
          "base_uri": "https://localhost:8080/",
          "height": 36
        },
        "id": "eHATqSh4lUDK",
        "outputId": "c0d06fae-2297-4d57-8b81-40bd765c525c"
      },
      "execution_count": 31,
      "outputs": [
        {
          "output_type": "execute_result",
          "data": {
            "text/plain": [
              "'vinicius vinicius vinicius '"
            ],
            "application/vnd.google.colaboratory.intrinsic+json": {
              "type": "string"
            }
          },
          "metadata": {},
          "execution_count": 31
        }
      ]
    },
    {
      "cell_type": "markdown",
      "source": [
        "# Operadores de comparação"
      ],
      "metadata": {
        "id": "atvEOTdBXNkf"
      }
    },
    {
      "cell_type": "markdown",
      "source": [
        "## Valores Booleanos\n",
        "Valores Booleanos são os dois objetos constantes False e True. Eles são usados para representar valores verdadeiros (apesar que outros valores também podem ser considerados falso ou verdadeiro). Em contextos numéricos (por exemplo quando usados como argumentos para um operator aritmético), eles se comportam como os inteiros 0 e 1, respectivamente. A função embutida bool() pode ser usada para converter qualquer valor para um Boolean, se o valor puder ser interpretado como um valor verdadeiro "
      ],
      "metadata": {
        "id": "qUBMvMpQOU55"
      }
    },
    {
      "cell_type": "code",
      "source": [
        "# O valor lógico verdadeiro\n",
        "True"
      ],
      "metadata": {
        "colab": {
          "base_uri": "https://localhost:8080/"
        },
        "id": "uUusfGFXSm0T",
        "outputId": "fb1081e6-c7a3-4913-820f-1bdfce43f57b"
      },
      "execution_count": 32,
      "outputs": [
        {
          "output_type": "execute_result",
          "data": {
            "text/plain": [
              "True"
            ]
          },
          "metadata": {},
          "execution_count": 32
        }
      ]
    },
    {
      "cell_type": "code",
      "source": [
        "# O valor lógico falso\n",
        "False"
      ],
      "metadata": {
        "colab": {
          "base_uri": "https://localhost:8080/"
        },
        "id": "LpRgO3_0Sps0",
        "outputId": "f0c3670f-aee3-4495-9ef5-0d75dafc584f"
      },
      "execution_count": 33,
      "outputs": [
        {
          "output_type": "execute_result",
          "data": {
            "text/plain": [
              "False"
            ]
          },
          "metadata": {},
          "execution_count": 33
        }
      ]
    },
    {
      "cell_type": "markdown",
      "source": [
        "| Operação | Significado                 |\n",
        "| -------- | --------------------------- |\n",
        "| <        | estritamente menor que      |\n",
        "| <=       | menor que ou igual          |\n",
        "| \\>       | estritamente maior que      |\n",
        "| \\>=      | maior que ou igual          |\n",
        "| \\==      | igual                       |\n",
        "| !=       | não é igual                 |\n",
        "| is       | identidade do objeto        |\n",
        "| is not   | identidade de objeto negada |\n",
        "\n",
        "[Referência](https://docs.python.org/pt-br/3.7/library/stdtypes.html#comparisons)"
      ],
      "metadata": {
        "id": "c33USr6SJD_g"
      }
    },
    {
      "cell_type": "code",
      "source": [
        "numero == novo_numero"
      ],
      "metadata": {
        "colab": {
          "base_uri": "https://localhost:8080/"
        },
        "id": "Di7FIqs9R5ka",
        "outputId": "ebbcc114-2760-4c08-ff6e-96b9a9e482c2"
      },
      "execution_count": 34,
      "outputs": [
        {
          "output_type": "execute_result",
          "data": {
            "text/plain": [
              "False"
            ]
          },
          "metadata": {},
          "execution_count": 34
        }
      ]
    },
    {
      "cell_type": "code",
      "source": [
        "numero == 66"
      ],
      "metadata": {
        "colab": {
          "base_uri": "https://localhost:8080/"
        },
        "id": "4RBHlgR7SEDT",
        "outputId": "c97cfb0e-3b8c-47af-d1d4-d20760251fa4"
      },
      "execution_count": 35,
      "outputs": [
        {
          "output_type": "execute_result",
          "data": {
            "text/plain": [
              "True"
            ]
          },
          "metadata": {},
          "execution_count": 35
        }
      ]
    },
    {
      "cell_type": "code",
      "source": [
        "print(False and True)\n",
        "\n",
        "print(False or True)\n",
        "\n",
        "print(not True)\n",
        "\n",
        "print(not False)"
      ],
      "metadata": {
        "colab": {
          "base_uri": "https://localhost:8080/"
        },
        "id": "xo-tDMIFXgJT",
        "outputId": "714502f2-f2e4-4017-8378-3c342eee8c91"
      },
      "execution_count": 36,
      "outputs": [
        {
          "output_type": "stream",
          "name": "stdout",
          "text": [
            "False\n",
            "True\n",
            "False\n",
            "True\n"
          ]
        }
      ]
    },
    {
      "cell_type": "code",
      "source": [
        "2 = 2 # Atenção para o operador ==\n"
      ],
      "metadata": {
        "colab": {
          "base_uri": "https://localhost:8080/",
          "height": 130
        },
        "id": "Ja521oxGX2Em",
        "outputId": "151bd8b2-7c81-4e60-b645-ed8303be3c5f"
      },
      "execution_count": 37,
      "outputs": [
        {
          "output_type": "error",
          "ename": "SyntaxError",
          "evalue": "ignored",
          "traceback": [
            "\u001b[0;36m  File \u001b[0;32m\"<ipython-input-37-e5bc8ce5d5b1>\"\u001b[0;36m, line \u001b[0;32m1\u001b[0m\n\u001b[0;31m    2 = 2 # Atenção para o operador ==\u001b[0m\n\u001b[0m                                      ^\u001b[0m\n\u001b[0;31mSyntaxError\u001b[0m\u001b[0;31m:\u001b[0m can't assign to literal\n"
          ]
        }
      ]
    },
    {
      "cell_type": "code",
      "source": [
        "2 == 2"
      ],
      "metadata": {
        "colab": {
          "base_uri": "https://localhost:8080/"
        },
        "id": "j3Fa_7N1X170",
        "outputId": "f8e82c88-6788-4c9a-9f92-85c94862c65b"
      },
      "execution_count": 38,
      "outputs": [
        {
          "output_type": "execute_result",
          "data": {
            "text/plain": [
              "True"
            ]
          },
          "metadata": {},
          "execution_count": 38
        }
      ]
    },
    {
      "cell_type": "code",
      "source": [
        "98 == 12"
      ],
      "metadata": {
        "colab": {
          "base_uri": "https://localhost:8080/"
        },
        "id": "IMOK6kBhXulg",
        "outputId": "df2d9dfd-f60f-4238-e90d-ee62135987b9"
      },
      "execution_count": 39,
      "outputs": [
        {
          "output_type": "execute_result",
          "data": {
            "text/plain": [
              "False"
            ]
          },
          "metadata": {},
          "execution_count": 39
        }
      ]
    },
    {
      "cell_type": "code",
      "source": [
        "98 != 12"
      ],
      "metadata": {
        "colab": {
          "base_uri": "https://localhost:8080/"
        },
        "id": "BjxoE9pDX2HF",
        "outputId": "053aced4-66f7-438f-ab56-92e10d9b828b"
      },
      "execution_count": 40,
      "outputs": [
        {
          "output_type": "execute_result",
          "data": {
            "text/plain": [
              "True"
            ]
          },
          "metadata": {},
          "execution_count": 40
        }
      ]
    },
    {
      "cell_type": "code",
      "source": [
        "2 != 2"
      ],
      "metadata": {
        "colab": {
          "base_uri": "https://localhost:8080/"
        },
        "id": "ZUi4z3TMX2Ja",
        "outputId": "ccabf149-8600-4ebc-e5ef-b08e9503ca7c"
      },
      "execution_count": 41,
      "outputs": [
        {
          "output_type": "execute_result",
          "data": {
            "text/plain": [
              "False"
            ]
          },
          "metadata": {},
          "execution_count": 41
        }
      ]
    },
    {
      "cell_type": "code",
      "source": [
        "print(10 < 10)\n",
        "print(2 < 10)\n",
        "\n",
        "print(10 <= 10)\n",
        "print(999 <= 10)"
      ],
      "metadata": {
        "colab": {
          "base_uri": "https://localhost:8080/"
        },
        "id": "vkFpR9xyX2Mu",
        "outputId": "720ad8af-2afd-4917-d37d-f44f3ad455b0"
      },
      "execution_count": 42,
      "outputs": [
        {
          "output_type": "stream",
          "name": "stdout",
          "text": [
            "False\n",
            "True\n",
            "True\n",
            "False\n"
          ]
        }
      ]
    },
    {
      "cell_type": "code",
      "source": [
        "print(5 > 4.1)\n",
        "print(5 != 4.1)"
      ],
      "metadata": {
        "colab": {
          "base_uri": "https://localhost:8080/"
        },
        "id": "4cTU24KyX2P2",
        "outputId": "867f2aaf-9485-46b9-fd9e-dc108436754f"
      },
      "execution_count": 43,
      "outputs": [
        {
          "output_type": "stream",
          "name": "stdout",
          "text": [
            "True\n",
            "True\n"
          ]
        }
      ]
    },
    {
      "cell_type": "code",
      "source": [
        "print(\"palavrinha\" < \"Palavrão\")"
      ],
      "metadata": {
        "colab": {
          "base_uri": "https://localhost:8080/"
        },
        "id": "ZIkei0UkZOet",
        "outputId": "6dc56002-53f6-42cf-a7b4-0ee66f387423"
      },
      "execution_count": 44,
      "outputs": [
        {
          "output_type": "stream",
          "name": "stdout",
          "text": [
            "False\n"
          ]
        }
      ]
    },
    {
      "cell_type": "markdown",
      "source": [
        "## Expressões lógicas"
      ],
      "metadata": {
        "id": "cKXwMmgVcLKM"
      }
    },
    {
      "cell_type": "code",
      "source": [
        "ano = 2020"
      ],
      "metadata": {
        "id": "t3UmA1_ZcQc6"
      },
      "execution_count": 45,
      "outputs": []
    },
    {
      "cell_type": "markdown",
      "source": [
        "Verificar se ano é bissexto:"
      ],
      "metadata": {
        "id": "-_wTHmOdcSnD"
      }
    },
    {
      "cell_type": "code",
      "source": [
        "bissexto = (ano %   4 == 0 and \n",
        "            ano % 100 != 0) or \\\n",
        "            ano % 400 == 0\n",
        "            \n",
        "print(\"O ano\", ano, \"é bissexto?\", bissexto)"
      ],
      "metadata": {
        "colab": {
          "base_uri": "https://localhost:8080/"
        },
        "id": "TMnOBY5tbeqB",
        "outputId": "7303ef82-2909-40df-bf8f-87a9bea9677b"
      },
      "execution_count": 46,
      "outputs": [
        {
          "output_type": "stream",
          "name": "stdout",
          "text": [
            "O ano 2020 é bissexto? True\n"
          ]
        }
      ]
    },
    {
      "cell_type": "markdown",
      "source": [
        "**Observação - Junção de linhas**\n",
        "\n",
        "* Junção de linha explícita\n",
        "* Junção de linha implicita\n",
        "\n",
        "[Referência](https://docs.python.org/pt-br/3.7/reference/lexical_analysis.html#explicit-line-joining)\n",
        "\n"
      ],
      "metadata": {
        "id": "fwNWQAD2hsR1"
      }
    },
    {
      "cell_type": "markdown",
      "source": [
        "# Tipagem \n"
      ],
      "metadata": {
        "id": "ayzsPjfgeNss"
      }
    },
    {
      "cell_type": "markdown",
      "source": [
        "## Tipos de Sequências\n",
        "\n",
        "Existem três tipos básicos de seqüência: listas, tuplas e objetos range."
      ],
      "metadata": {
        "id": "6QIjxqloJuHW"
      }
    },
    {
      "cell_type": "markdown",
      "source": [
        "| Operação                 | Resultado                                                                 |\n",
        "| ------------------------ | ------------------------------------------------------------------------- |\n",
        "| x in s                   | True caso um item de s seja igual a x, senão False                        |\n",
        "| x not in s               | False caso um item de s for igual a x, senão True                         |\n",
        "| s + t                    | a concatenão de s e t                                                     |\n",
        "| s \\* n ou n \\* s         | equivalente a adicionar s a si mesmo n vezes                              |\n",
        "| s\\[i\\]                   | ienésimo item de s, origem 0                                              |\n",
        "| s\\[i:j\\]                 | fatia de s desde i para j                                                 |\n",
        "| s\\[i:j:k\\]               | fatia de s desde i para j com passo k                                     |\n",
        "| len(s)                   | comprimento de s                                                          |\n",
        "| min(s)                   | menor item de s                                                           |\n",
        "| max(s)                   | maior item de s                                                           |\n",
        "| s.index(x\\[, i\\[, j\\]\\]) | índice da primeira ocorrência de x em s (no índice i e antes do índice j) |\n",
        "| s.count(x)               | numero total de ocorrência de x em s                                      |\n",
        "\n",
        "[Referência](https://docs.python.org/pt-br/3.7/library/stdtypes.html#sequence-types-list-tuple-range)"
      ],
      "metadata": {
        "id": "DqTbq1rVJ5KD"
      }
    },
    {
      "cell_type": "code",
      "source": [
        "\"gg\" in \"eggs\""
      ],
      "metadata": {
        "colab": {
          "base_uri": "https://localhost:8080/"
        },
        "id": "psDuQs4uKcKd",
        "outputId": "34e9ee02-f84f-48bf-8710-9a473f491daf"
      },
      "execution_count": 47,
      "outputs": [
        {
          "output_type": "execute_result",
          "data": {
            "text/plain": [
              "True"
            ]
          },
          "metadata": {},
          "execution_count": 47
        }
      ]
    },
    {
      "cell_type": "code",
      "source": [
        "lists = [[]] * 3\n",
        "lists\n",
        "\n"
      ],
      "metadata": {
        "colab": {
          "base_uri": "https://localhost:8080/"
        },
        "id": "kGgrD7vHKizW",
        "outputId": "aad3362e-2d3e-41c1-f40d-c8efc7eeb636"
      },
      "execution_count": 48,
      "outputs": [
        {
          "output_type": "execute_result",
          "data": {
            "text/plain": [
              "[[], [], []]"
            ]
          },
          "metadata": {},
          "execution_count": 48
        }
      ]
    },
    {
      "cell_type": "code",
      "source": [
        "lists[0].append(3)\n",
        "lists\n"
      ],
      "metadata": {
        "colab": {
          "base_uri": "https://localhost:8080/"
        },
        "id": "MVdCgGmBKlOG",
        "outputId": "0ac3370a-3836-4a39-d0ff-2d59e0f0118a"
      },
      "execution_count": 49,
      "outputs": [
        {
          "output_type": "execute_result",
          "data": {
            "text/plain": [
              "[[3], [3], [3]]"
            ]
          },
          "metadata": {},
          "execution_count": 49
        }
      ]
    },
    {
      "cell_type": "markdown",
      "source": [
        "## Listas\n",
        "\n",
        "As listas são sequências mutáveis, normalmente usadas para armazenar coleções de itens homogêneos\n",
        "\n",
        "[Referência](https://docs.python.org/pt-br/3.7/library/stdtypes.html#lists)"
      ],
      "metadata": {
        "id": "i9-ZZljzKYGh"
      }
    },
    {
      "cell_type": "markdown",
      "source": [
        "As listas podem ser construídas de várias maneiras:\n",
        "\n",
        "* Usando um par de colchetes para denotar uma lista vazia: []\n",
        "* Usando suportes a colchetes, separando itens por vírgulas: [a], [a, b, c]\n",
        "* Usando uma list comprehension: [x for x in iterable]\n",
        "* Usando o construtor de tipo: list() ou list(iterable)"
      ],
      "metadata": {
        "id": "hwVIY3MxLB-W"
      }
    },
    {
      "cell_type": "code",
      "source": [
        "lista = ['Vinícius', 'Gomes', 'Costa', \"Júnior\"]"
      ],
      "metadata": {
        "id": "QOroF7zzZjjx"
      },
      "execution_count": 50,
      "outputs": []
    },
    {
      "cell_type": "code",
      "source": [
        "valores = [1,2,3,4,5,6,7,8]\n"
      ],
      "metadata": {
        "id": "cRYO9sRxXxaQ"
      },
      "execution_count": 51,
      "outputs": []
    },
    {
      "cell_type": "code",
      "source": [
        "len(lista) #Comprimento da lista"
      ],
      "metadata": {
        "colab": {
          "base_uri": "https://localhost:8080/"
        },
        "id": "lXkTG4jCm6fX",
        "outputId": "05950781-4851-42a5-847f-00f74e9659f8"
      },
      "execution_count": 52,
      "outputs": [
        {
          "output_type": "execute_result",
          "data": {
            "text/plain": [
              "4"
            ]
          },
          "metadata": {},
          "execution_count": 52
        }
      ]
    },
    {
      "cell_type": "code",
      "source": [
        "max(valores)"
      ],
      "metadata": {
        "colab": {
          "base_uri": "https://localhost:8080/"
        },
        "id": "-9CfztT4X1bQ",
        "outputId": "7104f51b-d380-47e1-c17c-b58773c71d37"
      },
      "execution_count": 53,
      "outputs": [
        {
          "output_type": "execute_result",
          "data": {
            "text/plain": [
              "8"
            ]
          },
          "metadata": {},
          "execution_count": 53
        }
      ]
    },
    {
      "cell_type": "code",
      "source": [
        "max(lista)"
      ],
      "metadata": {
        "colab": {
          "base_uri": "https://localhost:8080/",
          "height": 36
        },
        "id": "erezNI-EX-HL",
        "outputId": "e77a134f-47d0-4b17-d909-0f5706027ffc"
      },
      "execution_count": 54,
      "outputs": [
        {
          "output_type": "execute_result",
          "data": {
            "text/plain": [
              "'Vinícius'"
            ],
            "application/vnd.google.colaboratory.intrinsic+json": {
              "type": "string"
            }
          },
          "metadata": {},
          "execution_count": 54
        }
      ]
    },
    {
      "cell_type": "code",
      "source": [
        "min(lista)"
      ],
      "metadata": {
        "colab": {
          "base_uri": "https://localhost:8080/",
          "height": 36
        },
        "id": "9gAFgtBtX56j",
        "outputId": "4c34c8b0-a74d-419a-9a32-8125def69ca4"
      },
      "execution_count": 55,
      "outputs": [
        {
          "output_type": "execute_result",
          "data": {
            "text/plain": [
              "'Costa'"
            ],
            "application/vnd.google.colaboratory.intrinsic+json": {
              "type": "string"
            }
          },
          "metadata": {},
          "execution_count": 55
        }
      ]
    },
    {
      "cell_type": "code",
      "source": [
        "print('Vinícius Gomes Costa')\n",
        "print('Júnior')"
      ],
      "metadata": {
        "colab": {
          "base_uri": "https://localhost:8080/"
        },
        "id": "bwvAKNvhYuJo",
        "outputId": "a66cf159-4e5d-47a9-bf48-41b2b35491e2"
      },
      "execution_count": 56,
      "outputs": [
        {
          "output_type": "stream",
          "name": "stdout",
          "text": [
            "Vinícius Gomes Costa\n",
            "Júnior\n"
          ]
        }
      ]
    },
    {
      "cell_type": "markdown",
      "source": [
        "### Desempacotar listas"
      ],
      "metadata": {
        "id": "dKqHtU0fwY4V"
      }
    },
    {
      "cell_type": "code",
      "metadata": {
        "id": "Yex2pxbi6ULN",
        "outputId": "7c4502fb-d652-408a-8062-a05cbd8455b6",
        "colab": {
          "base_uri": "https://localhost:8080/",
          "height": 217
        }
      },
      "source": [
        "#Desempacotamento de listas\n",
        "lista = ['Vinícius', 'Joao', 'Maria', 1,2,3,4,5,6,67]\n",
        "\n",
        "n1, n2 = lista\n",
        "print(n1, n2)"
      ],
      "execution_count": 62,
      "outputs": [
        {
          "output_type": "error",
          "ename": "ValueError",
          "evalue": "ignored",
          "traceback": [
            "\u001b[0;31m---------------------------------------------------------------------------\u001b[0m",
            "\u001b[0;31mValueError\u001b[0m                                Traceback (most recent call last)",
            "\u001b[0;32m<ipython-input-62-d3153b0c0272>\u001b[0m in \u001b[0;36m<module>\u001b[0;34m\u001b[0m\n\u001b[1;32m      2\u001b[0m \u001b[0mlista\u001b[0m \u001b[0;34m=\u001b[0m \u001b[0;34m[\u001b[0m\u001b[0;34m'Vinícius'\u001b[0m\u001b[0;34m,\u001b[0m \u001b[0;34m'Joao'\u001b[0m\u001b[0;34m,\u001b[0m \u001b[0;34m'Maria'\u001b[0m\u001b[0;34m,\u001b[0m \u001b[0;36m1\u001b[0m\u001b[0;34m,\u001b[0m\u001b[0;36m2\u001b[0m\u001b[0;34m,\u001b[0m\u001b[0;36m3\u001b[0m\u001b[0;34m,\u001b[0m\u001b[0;36m4\u001b[0m\u001b[0;34m,\u001b[0m\u001b[0;36m5\u001b[0m\u001b[0;34m,\u001b[0m\u001b[0;36m6\u001b[0m\u001b[0;34m,\u001b[0m\u001b[0;36m67\u001b[0m\u001b[0;34m]\u001b[0m\u001b[0;34m\u001b[0m\u001b[0;34m\u001b[0m\u001b[0m\n\u001b[1;32m      3\u001b[0m \u001b[0;34m\u001b[0m\u001b[0m\n\u001b[0;32m----> 4\u001b[0;31m \u001b[0mn1\u001b[0m\u001b[0;34m,\u001b[0m \u001b[0mn2\u001b[0m \u001b[0;34m=\u001b[0m \u001b[0mlista\u001b[0m\u001b[0;34m\u001b[0m\u001b[0;34m\u001b[0m\u001b[0m\n\u001b[0m\u001b[1;32m      5\u001b[0m \u001b[0mprint\u001b[0m\u001b[0;34m(\u001b[0m\u001b[0mn1\u001b[0m\u001b[0;34m,\u001b[0m \u001b[0mn2\u001b[0m\u001b[0;34m)\u001b[0m\u001b[0;34m\u001b[0m\u001b[0;34m\u001b[0m\u001b[0m\n",
            "\u001b[0;31mValueError\u001b[0m: too many values to unpack (expected 2)"
          ]
        }
      ]
    },
    {
      "cell_type": "code",
      "metadata": {
        "id": "UfTxdv6p8zsY",
        "outputId": "414ba432-cc98-4ce8-e7f1-9943ede82415",
        "colab": {
          "base_uri": "https://localhost:8080/"
        }
      },
      "source": [
        "#Desempacotamento de listas\n",
        "lista = ['Vinícius', 'Joao', 'Maria', 1,2,3,4,5,6,67]\n",
        "\n",
        "n1, n2, *outra_lista = lista\n",
        "print(n1, n2)"
      ],
      "execution_count": 63,
      "outputs": [
        {
          "output_type": "stream",
          "name": "stdout",
          "text": [
            "Vinícius Joao\n"
          ]
        }
      ]
    },
    {
      "cell_type": "code",
      "metadata": {
        "id": "9r-H-dsn86Z0",
        "outputId": "8889107a-2571-4439-a9ee-02612bb9aed9",
        "colab": {
          "base_uri": "https://localhost:8080/"
        }
      },
      "source": [
        "#Desempacotamento de listas\n",
        "lista = ['Vinícius', 'Joao', 'Maria', 1,2,3,4,5,6,67]\n",
        "\n",
        "n1, n2, *outra_lista = lista\n",
        "print(n1, n2, outra_lista)"
      ],
      "execution_count": 64,
      "outputs": [
        {
          "output_type": "stream",
          "name": "stdout",
          "text": [
            "Vinícius Joao ['Maria', 1, 2, 3, 4, 5, 6, 67]\n"
          ]
        }
      ]
    },
    {
      "cell_type": "code",
      "metadata": {
        "id": "yLC2sh599CwU",
        "outputId": "d21dae53-f7cc-4a69-add6-57bef0a43481",
        "colab": {
          "base_uri": "https://localhost:8080/"
        }
      },
      "source": [
        "#Desempacotamento de listas\n",
        "lista = ['Vinícius', 'Joao', 'Maria', 1,2,3,4,5,6,67]\n",
        "\n",
        "n1, n2, *outra_lista, ult_valor = lista\n",
        "print(n1, n2, ult_valor)"
      ],
      "execution_count": 65,
      "outputs": [
        {
          "output_type": "stream",
          "name": "stdout",
          "text": [
            "Vinícius Joao 67\n"
          ]
        }
      ]
    },
    {
      "cell_type": "code",
      "metadata": {
        "id": "_dSXkvkX9T3V",
        "outputId": "bbdb5c06-e12d-47c4-a768-bd0df33dd826",
        "colab": {
          "base_uri": "https://localhost:8080/"
        }
      },
      "source": [
        "#Desempacotamento de listas\n",
        "lista = ['Vinícius', 'Joao', 'Maria', 1,2,3,4,5,6,67]\n",
        "\n",
        "*outra_lista, n1, n2, n3 = lista\n",
        "print(outra_lista, n1, n2, n3)"
      ],
      "execution_count": 66,
      "outputs": [
        {
          "output_type": "stream",
          "name": "stdout",
          "text": [
            "['Vinícius', 'Joao', 'Maria', 1, 2, 3, 4] 5 6 67\n"
          ]
        }
      ]
    },
    {
      "cell_type": "markdown",
      "source": [
        "## Tuplas\n",
        "As Tuplas são sequências imutáveis, tipicamente usadas para armazenar coleções de dados heterogêneos\n",
        "\n",
        "[Referência](https://docs.python.org/pt-br/3.7/library/stdtypes.html#tuples)"
      ],
      "metadata": {
        "id": "pFow8X3yLYRL"
      }
    },
    {
      "cell_type": "markdown",
      "source": [
        "As Tuplas podem ser construídos de várias maneiras:\n",
        "\n",
        "* Usando um par de parênteses para denotar que a tupla está vazia: ()\n",
        "* Usando uma vírgula à direita para uma tupla contendo um único elemento: a, ou (a,)\n",
        "* Separando os itens por vírgula: a, b, c ou (a, b, c)\n",
        "* Usando a função built-in tuple(): tuple() ou tuple(iterable)"
      ],
      "metadata": {
        "id": "2UI4RwXRLa73"
      }
    },
    {
      "cell_type": "code",
      "source": [
        "t = 1,\n",
        "print(type(t))"
      ],
      "metadata": {
        "colab": {
          "base_uri": "https://localhost:8080/"
        },
        "id": "TlTJ6VVzxl6A",
        "outputId": "62333831-5ce3-4841-e2c2-7035ef49ce6c"
      },
      "execution_count": 67,
      "outputs": [
        {
          "output_type": "stream",
          "name": "stdout",
          "text": [
            "<class 'tuple'>\n"
          ]
        }
      ]
    },
    {
      "cell_type": "code",
      "source": [
        "tupla1 = (1,2,3,4, 'a1', 'Vinicius')\n",
        "tupla1[1]"
      ],
      "metadata": {
        "colab": {
          "base_uri": "https://localhost:8080/"
        },
        "id": "LLVVCBtNxfl_",
        "outputId": "5ea8fb30-ae56-4f11-ab51-c86c71cc26e6"
      },
      "execution_count": 68,
      "outputs": [
        {
          "output_type": "execute_result",
          "data": {
            "text/plain": [
              "2"
            ]
          },
          "metadata": {},
          "execution_count": 68
        }
      ]
    },
    {
      "cell_type": "code",
      "source": [
        "tupla2 = 1, 2, 'a', 'b'\n",
        "print(tupla2)\n",
        "print(type(tupla2))"
      ],
      "metadata": {
        "colab": {
          "base_uri": "https://localhost:8080/"
        },
        "id": "Zb9i9GKXxhYX",
        "outputId": "1c95508f-dd5f-4362-9887-9d36b6ebd553"
      },
      "execution_count": 69,
      "outputs": [
        {
          "output_type": "stream",
          "name": "stdout",
          "text": [
            "(1, 2, 'a', 'b')\n",
            "<class 'tuple'>\n"
          ]
        }
      ]
    },
    {
      "cell_type": "markdown",
      "source": [
        "## Ranges\n",
        "O tipo da classe range representa uma sequência imutável de números e é comumente usada para fazer um looping um número determinado de vezes por for.\n",
        "\n",
        "[Referência](https://docs.python.org/pt-br/3.7/library/stdtypes.html#ranges)"
      ],
      "metadata": {
        "id": "ek5YcoeRLoIA"
      }
    },
    {
      "cell_type": "code",
      "source": [
        "list(range(10))"
      ],
      "metadata": {
        "colab": {
          "base_uri": "https://localhost:8080/"
        },
        "id": "MTorAnscLre7",
        "outputId": "9d2eb734-8bee-49bc-cb02-192e8b7940a5"
      },
      "execution_count": 70,
      "outputs": [
        {
          "output_type": "execute_result",
          "data": {
            "text/plain": [
              "[0, 1, 2, 3, 4, 5, 6, 7, 8, 9]"
            ]
          },
          "metadata": {},
          "execution_count": 70
        }
      ]
    },
    {
      "cell_type": "code",
      "source": [
        "list(range(0,20,3))"
      ],
      "metadata": {
        "colab": {
          "base_uri": "https://localhost:8080/"
        },
        "id": "MxikOUxmLtOr",
        "outputId": "219e8f40-6898-42b8-d29d-94211e5f74eb"
      },
      "execution_count": 71,
      "outputs": [
        {
          "output_type": "execute_result",
          "data": {
            "text/plain": [
              "[0, 3, 6, 9, 12, 15, 18]"
            ]
          },
          "metadata": {},
          "execution_count": 71
        }
      ]
    },
    {
      "cell_type": "markdown",
      "source": [
        "## Tipo de Sequência de Texto — str\n",
        "\n",
        "Os dados textuais em Python são tratados com objetos str, ou strings. \n",
        "\n",
        "[Referência](https://docs.python.org/pt-br/3.7/library/stdtypes.html#text-sequence-type-str)"
      ],
      "metadata": {
        "id": "OUrzquoWMdw4"
      }
    },
    {
      "cell_type": "markdown",
      "source": [
        "### Concatenação de strings"
      ],
      "metadata": {
        "id": "cFyh3_WejWsb"
      }
    },
    {
      "cell_type": "code",
      "source": [
        "\"Curso\" + \"de\" + \"python\""
      ],
      "metadata": {
        "colab": {
          "base_uri": "https://localhost:8080/",
          "height": 36
        },
        "id": "686NjSuTSvQx",
        "outputId": "6f0b2ffa-5870-4940-cdc9-212ab5b1f1eb"
      },
      "execution_count": 72,
      "outputs": [
        {
          "output_type": "execute_result",
          "data": {
            "text/plain": [
              "'Cursodepython'"
            ],
            "application/vnd.google.colaboratory.intrinsic+json": {
              "type": "string"
            }
          },
          "metadata": {},
          "execution_count": 72
        }
      ]
    },
    {
      "cell_type": "markdown",
      "source": [
        "**Observar os espaços**"
      ],
      "metadata": {
        "id": "WM2sZLdWkDB4"
      }
    },
    {
      "cell_type": "code",
      "source": [
        "\"Curso \" + \"de \" + \"python\""
      ],
      "metadata": {
        "colab": {
          "base_uri": "https://localhost:8080/",
          "height": 36
        },
        "id": "o1O0nrYahZva",
        "outputId": "6cbd2bf1-0e42-4e05-a8b7-fa7a79c0869c"
      },
      "execution_count": 73,
      "outputs": [
        {
          "output_type": "execute_result",
          "data": {
            "text/plain": [
              "'Curso de python'"
            ],
            "application/vnd.google.colaboratory.intrinsic+json": {
              "type": "string"
            }
          },
          "metadata": {},
          "execution_count": 73
        }
      ]
    },
    {
      "cell_type": "code",
      "source": [
        "\"Curso \" \"python\""
      ],
      "metadata": {
        "colab": {
          "base_uri": "https://localhost:8080/",
          "height": 36
        },
        "id": "znyxEerCjplf",
        "outputId": "20963546-b36b-43b5-9af8-b336f63b548d"
      },
      "execution_count": 74,
      "outputs": [
        {
          "output_type": "execute_result",
          "data": {
            "text/plain": [
              "'Curso python'"
            ],
            "application/vnd.google.colaboratory.intrinsic+json": {
              "type": "string"
            }
          },
          "metadata": {},
          "execution_count": 74
        }
      ]
    },
    {
      "cell_type": "code",
      "source": [
        "\"Curso \"  \"de \" + \"python\""
      ],
      "metadata": {
        "colab": {
          "base_uri": "https://localhost:8080/",
          "height": 36
        },
        "id": "kyWCdKanjsZN",
        "outputId": "b8c650d7-b77f-4c3e-dd89-284920034986"
      },
      "execution_count": 75,
      "outputs": [
        {
          "output_type": "execute_result",
          "data": {
            "text/plain": [
              "'Curso de python'"
            ],
            "application/vnd.google.colaboratory.intrinsic+json": {
              "type": "string"
            }
          },
          "metadata": {},
          "execution_count": 75
        }
      ]
    },
    {
      "cell_type": "code",
      "source": [
        "print('Curso', 'de', 'python')"
      ],
      "metadata": {
        "colab": {
          "base_uri": "https://localhost:8080/"
        },
        "id": "zVNJiMHxkx3w",
        "outputId": "dae41541-e914-45df-bfcd-f84f5a5fa008"
      },
      "execution_count": 76,
      "outputs": [
        {
          "output_type": "stream",
          "name": "stdout",
          "text": [
            "Curso de python\n"
          ]
        }
      ]
    },
    {
      "cell_type": "code",
      "source": [
        "texto = ['Curso', 'de', 'python']\n",
        "str_concat = ' '.join(texto)\n",
        "print(str_concat)"
      ],
      "metadata": {
        "colab": {
          "base_uri": "https://localhost:8080/"
        },
        "id": "X55EZmdJj42x",
        "outputId": "cbcd1c51-6b51-4189-f316-cd2264f96567"
      },
      "execution_count": 77,
      "outputs": [
        {
          "output_type": "stream",
          "name": "stdout",
          "text": [
            "Curso de python\n"
          ]
        }
      ]
    },
    {
      "cell_type": "code",
      "source": [
        "len(str_concat)"
      ],
      "metadata": {
        "colab": {
          "base_uri": "https://localhost:8080/"
        },
        "id": "qyoFDTh-nUi_",
        "outputId": "0ebc72d0-69c8-46a6-dee7-2c63727ffe83"
      },
      "execution_count": 78,
      "outputs": [
        {
          "output_type": "execute_result",
          "data": {
            "text/plain": [
              "15"
            ]
          },
          "metadata": {},
          "execution_count": 78
        }
      ]
    },
    {
      "cell_type": "code",
      "source": [
        "len(texto)"
      ],
      "metadata": {
        "colab": {
          "base_uri": "https://localhost:8080/"
        },
        "id": "TsXfXiS8nDcS",
        "outputId": "f71e33ea-126f-4a2e-9298-b476584af9d5"
      },
      "execution_count": 79,
      "outputs": [
        {
          "output_type": "execute_result",
          "data": {
            "text/plain": [
              "3"
            ]
          },
          "metadata": {},
          "execution_count": 79
        }
      ]
    },
    {
      "cell_type": "markdown",
      "source": [
        "### Pertinência e Impertinência"
      ],
      "metadata": {
        "id": "y_qFaZgdk9XA"
      }
    },
    {
      "cell_type": "code",
      "source": [
        "'i' in 'vinicius'"
      ],
      "metadata": {
        "colab": {
          "base_uri": "https://localhost:8080/"
        },
        "id": "3l3uX6dnk_xo",
        "outputId": "03429028-3fd7-46c0-b869-2b3efaafe98a"
      },
      "execution_count": 80,
      "outputs": [
        {
          "output_type": "execute_result",
          "data": {
            "text/plain": [
              "True"
            ]
          },
          "metadata": {},
          "execution_count": 80
        }
      ]
    },
    {
      "cell_type": "code",
      "source": [
        "'a' in 'vinicius'"
      ],
      "metadata": {
        "colab": {
          "base_uri": "https://localhost:8080/"
        },
        "id": "_1VZy4usl0kq",
        "outputId": "b84bf46f-4b61-4e9c-c9e3-535df4d659df"
      },
      "execution_count": 81,
      "outputs": [
        {
          "output_type": "execute_result",
          "data": {
            "text/plain": [
              "False"
            ]
          },
          "metadata": {},
          "execution_count": 81
        }
      ]
    },
    {
      "cell_type": "code",
      "source": [
        "'arquivo' in 'arquivo_qualquer.txt'"
      ],
      "metadata": {
        "colab": {
          "base_uri": "https://localhost:8080/"
        },
        "id": "K2i_SWqFl4m4",
        "outputId": "7301f8bb-b017-4a73-a04d-869e8c6ac825"
      },
      "execution_count": 82,
      "outputs": [
        {
          "output_type": "execute_result",
          "data": {
            "text/plain": [
              "True"
            ]
          },
          "metadata": {},
          "execution_count": 82
        }
      ]
    },
    {
      "cell_type": "code",
      "source": [
        "'txt' in 'arquivo_qualquer.txt'"
      ],
      "metadata": {
        "colab": {
          "base_uri": "https://localhost:8080/"
        },
        "id": "hQIOfTWmmOyk",
        "outputId": "863f2338-1819-4395-ab54-61f576efa6a6"
      },
      "execution_count": 83,
      "outputs": [
        {
          "output_type": "execute_result",
          "data": {
            "text/plain": [
              "True"
            ]
          },
          "metadata": {},
          "execution_count": 83
        }
      ]
    },
    {
      "cell_type": "code",
      "source": [
        "'i' not in 'vinicius'"
      ],
      "metadata": {
        "colab": {
          "base_uri": "https://localhost:8080/"
        },
        "id": "8pz6xo4WmGko",
        "outputId": "6b07a437-2d79-4bb0-d461-03ca5afbcec6"
      },
      "execution_count": 84,
      "outputs": [
        {
          "output_type": "execute_result",
          "data": {
            "text/plain": [
              "False"
            ]
          },
          "metadata": {},
          "execution_count": 84
        }
      ]
    },
    {
      "cell_type": "code",
      "source": [
        "'.txt' not in 'arquivo_qualquer.txt'"
      ],
      "metadata": {
        "colab": {
          "base_uri": "https://localhost:8080/"
        },
        "id": "_e45IhGAmKUv",
        "outputId": "60f66006-9d40-401c-cfed-847a34a65c39"
      },
      "execution_count": 85,
      "outputs": [
        {
          "output_type": "execute_result",
          "data": {
            "text/plain": [
              "False"
            ]
          },
          "metadata": {},
          "execution_count": 85
        }
      ]
    },
    {
      "cell_type": "code",
      "source": [],
      "metadata": {
        "id": "sAnfp644ncah"
      },
      "execution_count": 85,
      "outputs": []
    },
    {
      "cell_type": "markdown",
      "source": [],
      "metadata": {
        "id": "Ozd7b74Nnc0O"
      }
    },
    {
      "cell_type": "markdown",
      "source": [
        "##Indexing\n",
        "\n",
        "**s[i]**"
      ],
      "metadata": {
        "id": "ZOmmM5AbxS2X"
      }
    },
    {
      "cell_type": "code",
      "source": [
        "\"Vinícius Gomes Costa Júnior\"[0]\n"
      ],
      "metadata": {
        "colab": {
          "base_uri": "https://localhost:8080/",
          "height": 36
        },
        "id": "_ZQ0qDICxTVx",
        "outputId": "2fd6e7a9-e484-4dac-a3e0-41426de0ccdc"
      },
      "execution_count": 86,
      "outputs": [
        {
          "output_type": "execute_result",
          "data": {
            "text/plain": [
              "'V'"
            ],
            "application/vnd.google.colaboratory.intrinsic+json": {
              "type": "string"
            }
          },
          "metadata": {},
          "execution_count": 86
        }
      ]
    },
    {
      "cell_type": "code",
      "source": [
        "\"Vinícius Gomes Costa Júnior\"[5]"
      ],
      "metadata": {
        "colab": {
          "base_uri": "https://localhost:8080/",
          "height": 36
        },
        "id": "vEiCWTy3xlQf",
        "outputId": "b4ff8d68-1d16-4abf-ddba-f500165b3b62"
      },
      "execution_count": 87,
      "outputs": [
        {
          "output_type": "execute_result",
          "data": {
            "text/plain": [
              "'i'"
            ],
            "application/vnd.google.colaboratory.intrinsic+json": {
              "type": "string"
            }
          },
          "metadata": {},
          "execution_count": 87
        }
      ]
    },
    {
      "cell_type": "code",
      "source": [
        "\"Vinícius Gomes Costa Júnior\"[-1]"
      ],
      "metadata": {
        "colab": {
          "base_uri": "https://localhost:8080/",
          "height": 36
        },
        "id": "puckZCNjxZ4x",
        "outputId": "564e1e2c-2840-40f0-f4a3-9590f9b1fcb2"
      },
      "execution_count": 88,
      "outputs": [
        {
          "output_type": "execute_result",
          "data": {
            "text/plain": [
              "'r'"
            ],
            "application/vnd.google.colaboratory.intrinsic+json": {
              "type": "string"
            }
          },
          "metadata": {},
          "execution_count": 88
        }
      ]
    },
    {
      "cell_type": "code",
      "source": [
        "\"Vinícius Gomes Costa Júnior\"[50] #indexar valor maior que string"
      ],
      "metadata": {
        "colab": {
          "base_uri": "https://localhost:8080/",
          "height": 165
        },
        "id": "lOO7uqjVxhhw",
        "outputId": "a96a9df1-d26c-4a03-a9bb-b95dcb17606b"
      },
      "execution_count": 89,
      "outputs": [
        {
          "output_type": "error",
          "ename": "IndexError",
          "evalue": "ignored",
          "traceback": [
            "\u001b[0;31m---------------------------------------------------------------------------\u001b[0m",
            "\u001b[0;31mIndexError\u001b[0m                                Traceback (most recent call last)",
            "\u001b[0;32m<ipython-input-89-8e4692ea5d25>\u001b[0m in \u001b[0;36m<module>\u001b[0;34m\u001b[0m\n\u001b[0;32m----> 1\u001b[0;31m \u001b[0;34m\"Vinícius Gomes Costa Júnior\"\u001b[0m\u001b[0;34m[\u001b[0m\u001b[0;36m50\u001b[0m\u001b[0;34m]\u001b[0m \u001b[0;31m#indexar valor maior que string\u001b[0m\u001b[0;34m\u001b[0m\u001b[0;34m\u001b[0m\u001b[0m\n\u001b[0m",
            "\u001b[0;31mIndexError\u001b[0m: string index out of range"
          ]
        }
      ]
    },
    {
      "cell_type": "code",
      "source": [
        "\"Vinícius Gomes Costa Júnior\".index('G')"
      ],
      "metadata": {
        "colab": {
          "base_uri": "https://localhost:8080/"
        },
        "id": "HHFJpfSdXb2u",
        "outputId": "fae9d3fa-a193-449b-c1f5-c241af90216f"
      },
      "execution_count": 90,
      "outputs": [
        {
          "output_type": "execute_result",
          "data": {
            "text/plain": [
              "9"
            ]
          },
          "metadata": {},
          "execution_count": 90
        }
      ]
    },
    {
      "cell_type": "code",
      "source": [
        "\"Vinícius Gomes Costa Júnior\".find('Gom')"
      ],
      "metadata": {
        "colab": {
          "base_uri": "https://localhost:8080/"
        },
        "id": "r31QEjtVZvL8",
        "outputId": "472e9bba-c5d8-4073-a17a-524dc593c278"
      },
      "execution_count": 91,
      "outputs": [
        {
          "output_type": "execute_result",
          "data": {
            "text/plain": [
              "9"
            ]
          },
          "metadata": {},
          "execution_count": 91
        }
      ]
    },
    {
      "cell_type": "code",
      "source": [
        "\"Vinícius Gomes Costa Júnior\"[9]"
      ],
      "metadata": {
        "colab": {
          "base_uri": "https://localhost:8080/",
          "height": 36
        },
        "id": "B3CO3nxOXpQD",
        "outputId": "59beedc0-869b-4fcc-cae7-1af245ffcfd0"
      },
      "execution_count": 92,
      "outputs": [
        {
          "output_type": "execute_result",
          "data": {
            "text/plain": [
              "'G'"
            ],
            "application/vnd.google.colaboratory.intrinsic+json": {
              "type": "string"
            }
          },
          "metadata": {},
          "execution_count": 92
        }
      ]
    },
    {
      "cell_type": "code",
      "source": [
        "\"Vinícius Gomes\".find(\"xyz\")"
      ],
      "metadata": {
        "colab": {
          "base_uri": "https://localhost:8080/"
        },
        "id": "FlOAsScQXscA",
        "outputId": "c4acaaff-7689-47ce-fe84-3cd836a953db"
      },
      "execution_count": 93,
      "outputs": [
        {
          "output_type": "execute_result",
          "data": {
            "text/plain": [
              "-1"
            ]
          },
          "metadata": {},
          "execution_count": 93
        }
      ]
    },
    {
      "cell_type": "markdown",
      "source": [
        "## Slicing  \n",
        "\n",
        "**s[i:j]**"
      ],
      "metadata": {
        "id": "yKFi3AELuqHy"
      }
    },
    {
      "cell_type": "code",
      "source": [
        "'vinicius-gomes'[0:8]"
      ],
      "metadata": {
        "colab": {
          "base_uri": "https://localhost:8080/",
          "height": 36
        },
        "id": "bVVGzKXrw4-n",
        "outputId": "63dfca6d-df51-4df6-a0c9-92fcaf30f2f1"
      },
      "execution_count": 94,
      "outputs": [
        {
          "output_type": "execute_result",
          "data": {
            "text/plain": [
              "'vinicius'"
            ],
            "application/vnd.google.colaboratory.intrinsic+json": {
              "type": "string"
            }
          },
          "metadata": {},
          "execution_count": 94
        }
      ]
    },
    {
      "cell_type": "code",
      "source": [
        "'vinicius-gomes'[:8]"
      ],
      "metadata": {
        "colab": {
          "base_uri": "https://localhost:8080/",
          "height": 36
        },
        "id": "KRrih-TQw9J0",
        "outputId": "912d2681-f1c7-4fd2-9e13-bba714d77b10"
      },
      "execution_count": 95,
      "outputs": [
        {
          "output_type": "execute_result",
          "data": {
            "text/plain": [
              "'vinicius'"
            ],
            "application/vnd.google.colaboratory.intrinsic+json": {
              "type": "string"
            }
          },
          "metadata": {},
          "execution_count": 95
        }
      ]
    },
    {
      "cell_type": "code",
      "source": [
        "'vinicius-gomes'[8:9]"
      ],
      "metadata": {
        "colab": {
          "base_uri": "https://localhost:8080/",
          "height": 36
        },
        "id": "V6i1AYeS0txf",
        "outputId": "cc7586a9-c39d-4bcf-cedb-953cb58c4c82"
      },
      "execution_count": 96,
      "outputs": [
        {
          "output_type": "execute_result",
          "data": {
            "text/plain": [
              "'-'"
            ],
            "application/vnd.google.colaboratory.intrinsic+json": {
              "type": "string"
            }
          },
          "metadata": {},
          "execution_count": 96
        }
      ]
    },
    {
      "cell_type": "code",
      "source": [
        "'vinicius-gomes'[9:]"
      ],
      "metadata": {
        "colab": {
          "base_uri": "https://localhost:8080/",
          "height": 36
        },
        "id": "onKF9ME007F7",
        "outputId": "cc95fc5b-e99c-4418-f46a-3703c38fa536"
      },
      "execution_count": 97,
      "outputs": [
        {
          "output_type": "execute_result",
          "data": {
            "text/plain": [
              "'gomes'"
            ],
            "application/vnd.google.colaboratory.intrinsic+json": {
              "type": "string"
            }
          },
          "metadata": {},
          "execution_count": 97
        }
      ]
    }
  ]
}