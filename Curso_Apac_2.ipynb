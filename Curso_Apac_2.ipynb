{
  "nbformat": 4,
  "nbformat_minor": 0,
  "metadata": {
    "colab": {
      "provenance": [],
      "toc_visible": true
    },
    "kernelspec": {
      "name": "python3",
      "display_name": "Python 3"
    },
    "language_info": {
      "name": "python"
    }
  },
  "cells": [
    {
      "cell_type": "markdown",
      "source": [
        "# Variáveis"
      ],
      "metadata": {
        "id": "6AhZfSLPkRVx"
      }
    },
    {
      "cell_type": "markdown",
      "source": [
        "As variáveis podem ser entendidas como uma caixinha, onde os dados são armazenados temporariamente ou em definitivo e que são manipuladas durante a execução do programa"
      ],
      "metadata": {
        "id": "K6ishwrXbWrC"
      }
    },
    {
      "cell_type": "code",
      "source": [
        "x = 1\n",
        "print(x)"
      ],
      "metadata": {
        "colab": {
          "base_uri": "https://localhost:8080/"
        },
        "id": "oJW4DbkmkUd4",
        "outputId": "b1a4d30f-999a-429f-8f6b-a7b9c98d3c37"
      },
      "execution_count": null,
      "outputs": [
        {
          "output_type": "stream",
          "name": "stdout",
          "text": [
            "1\n"
          ]
        }
      ]
    },
    {
      "cell_type": "code",
      "source": [
        "y = 3.14\n",
        "y"
      ],
      "metadata": {
        "colab": {
          "base_uri": "https://localhost:8080/"
        },
        "id": "vnIKPPbGkrng",
        "outputId": "a1e03d42-e9b8-4ec2-c98b-92838236f492"
      },
      "execution_count": null,
      "outputs": [
        {
          "output_type": "execute_result",
          "data": {
            "text/plain": [
              "3.14"
            ]
          },
          "metadata": {},
          "execution_count": 5
        }
      ]
    },
    {
      "cell_type": "code",
      "source": [
        "nome = 'Vinícius Gomes Costa Júnior'"
      ],
      "metadata": {
        "id": "yi45xxYmZPcA"
      },
      "execution_count": null,
      "outputs": []
    },
    {
      "cell_type": "code",
      "source": [],
      "metadata": {
        "id": "GvxRWHEWlRHv"
      },
      "execution_count": null,
      "outputs": []
    },
    {
      "cell_type": "markdown",
      "source": [
        "### Trocando valor entre variáveis "
      ],
      "metadata": {
        "id": "NFjcvORhwz0d"
      }
    },
    {
      "cell_type": "code",
      "metadata": {
        "id": "Zkmn7mVN9gbN",
        "outputId": "831779a3-9661-44cb-9d6c-bff37b996f6c",
        "colab": {
          "base_uri": "https://localhost:8080/"
        }
      },
      "source": [
        "#Tradicionalmente em outras linguagens\n",
        "x = 10\n",
        "y = 'Vinícius'\n",
        "\n",
        "z = x\n",
        "x = y \n",
        "y = z\n",
        "print('x: ', x)\n",
        "print('y: ', y)"
      ],
      "execution_count": null,
      "outputs": [
        {
          "output_type": "stream",
          "name": "stdout",
          "text": [
            "x:  Vinícius\n",
            "y:  10\n"
          ]
        }
      ]
    },
    {
      "cell_type": "code",
      "metadata": {
        "id": "12c2ir3F-VRE"
      },
      "source": [
        "#Trocando valor entre variáveis em python\n",
        "x = 10\n",
        "y = 'Vinícius'\n",
        "x, y = y, x\n"
      ],
      "execution_count": null,
      "outputs": []
    },
    {
      "cell_type": "markdown",
      "source": [
        "# Tipos Internos"
      ],
      "metadata": {
        "id": "Aq2S-ng9RiTc"
      }
    },
    {
      "cell_type": "code",
      "source": [
        "type(nome)"
      ],
      "metadata": {
        "colab": {
          "base_uri": "https://localhost:8080/"
        },
        "id": "majm87CvbCcu",
        "outputId": "a0dbb58d-16fe-4380-bfae-c4f74ded152c"
      },
      "execution_count": null,
      "outputs": [
        {
          "output_type": "execute_result",
          "data": {
            "text/plain": [
              "str"
            ]
          },
          "metadata": {},
          "execution_count": 7
        }
      ]
    },
    {
      "cell_type": "code",
      "source": [
        "novo_nome = input('Digite seu nome: ')"
      ],
      "metadata": {
        "colab": {
          "base_uri": "https://localhost:8080/"
        },
        "id": "OtowL8i2bF3j",
        "outputId": "d46858c5-98aa-49d9-dd8e-e02f33395ac3"
      },
      "execution_count": null,
      "outputs": [
        {
          "name": "stdout",
          "output_type": "stream",
          "text": [
            "Digite seu nome: v\n"
          ]
        }
      ]
    },
    {
      "cell_type": "code",
      "source": [
        "numero = 66\n",
        "print(numero)"
      ],
      "metadata": {
        "colab": {
          "base_uri": "https://localhost:8080/"
        },
        "id": "6PLeEbU1bsA_",
        "outputId": "1dd6c764-509e-430e-c88e-15c9d6b49c2b"
      },
      "execution_count": null,
      "outputs": [
        {
          "output_type": "stream",
          "name": "stdout",
          "text": [
            "66\n"
          ]
        }
      ]
    },
    {
      "cell_type": "code",
      "source": [
        "type(numero)"
      ],
      "metadata": {
        "colab": {
          "base_uri": "https://localhost:8080/"
        },
        "id": "OOzueTQnbwi4",
        "outputId": "9147a380-2ed2-4b82-fe06-a2369fe049a7"
      },
      "execution_count": null,
      "outputs": [
        {
          "output_type": "execute_result",
          "data": {
            "text/plain": [
              "int"
            ]
          },
          "metadata": {},
          "execution_count": 10
        }
      ]
    },
    {
      "cell_type": "code",
      "source": [
        "novo_numero = input('Digite um número: ')"
      ],
      "metadata": {
        "colab": {
          "base_uri": "https://localhost:8080/"
        },
        "id": "NFQh3aK0byR-",
        "outputId": "62d7c260-5583-47d0-8184-7811ea162fa9"
      },
      "execution_count": null,
      "outputs": [
        {
          "name": "stdout",
          "output_type": "stream",
          "text": [
            "Digite um número: 55\n"
          ]
        }
      ]
    },
    {
      "cell_type": "code",
      "source": [
        "numero + 1000"
      ],
      "metadata": {
        "colab": {
          "base_uri": "https://localhost:8080/"
        },
        "id": "5PgyVZCgb8Nj",
        "outputId": "41c3eaee-0e32-40bc-99f0-58860009ae19"
      },
      "execution_count": null,
      "outputs": [
        {
          "output_type": "execute_result",
          "data": {
            "text/plain": [
              "1066"
            ]
          },
          "metadata": {},
          "execution_count": 6
        }
      ]
    },
    {
      "cell_type": "code",
      "source": [
        "numero + novo_numero"
      ],
      "metadata": {
        "id": "0hWUIB4scEQC"
      },
      "execution_count": null,
      "outputs": []
    },
    {
      "cell_type": "code",
      "source": [
        "novo_numero"
      ],
      "metadata": {
        "colab": {
          "base_uri": "https://localhost:8080/",
          "height": 35
        },
        "id": "PrW6wMFSV8CZ",
        "outputId": "16a65517-cda8-447f-f2de-c8d4e7485dd8"
      },
      "execution_count": null,
      "outputs": [
        {
          "output_type": "execute_result",
          "data": {
            "text/plain": [
              "'55'"
            ],
            "application/vnd.google.colaboratory.intrinsic+json": {
              "type": "string"
            }
          },
          "metadata": {},
          "execution_count": 42
        }
      ]
    },
    {
      "cell_type": "code",
      "source": [
        "novo_numero + nome"
      ],
      "metadata": {
        "id": "9UF695JiESZG"
      },
      "execution_count": null,
      "outputs": []
    },
    {
      "cell_type": "markdown",
      "source": [
        "## Casting (Conversão)"
      ],
      "metadata": {
        "id": "Y1Clw0Zbcasc"
      }
    },
    {
      "cell_type": "code",
      "source": [
        "numero"
      ],
      "metadata": {
        "colab": {
          "base_uri": "https://localhost:8080/"
        },
        "id": "Mo8D4V3FXH3x",
        "outputId": "af13e51b-b78b-462a-acf6-9521343801c3"
      },
      "execution_count": null,
      "outputs": [
        {
          "output_type": "execute_result",
          "data": {
            "text/plain": [
              "66"
            ]
          },
          "metadata": {},
          "execution_count": 8
        }
      ]
    },
    {
      "cell_type": "code",
      "source": [
        "novo_numero"
      ],
      "metadata": {
        "colab": {
          "base_uri": "https://localhost:8080/",
          "height": 36
        },
        "id": "42uWfDQtXJZJ",
        "outputId": "d6e48dad-7629-4c00-d7ca-67bcee6ad5e5"
      },
      "execution_count": null,
      "outputs": [
        {
          "output_type": "execute_result",
          "data": {
            "text/plain": [
              "'55'"
            ],
            "application/vnd.google.colaboratory.intrinsic+json": {
              "type": "string"
            }
          },
          "metadata": {},
          "execution_count": 9
        }
      ]
    },
    {
      "cell_type": "code",
      "source": [
        "numero + int(novo_numero)"
      ],
      "metadata": {
        "colab": {
          "base_uri": "https://localhost:8080/"
        },
        "id": "HqrT3qv2caCN",
        "outputId": "c76b8298-f862-4fa8-ec28-e0d28815a26b"
      },
      "execution_count": null,
      "outputs": [
        {
          "output_type": "execute_result",
          "data": {
            "text/plain": [
              "121"
            ]
          },
          "metadata": {},
          "execution_count": 10
        }
      ]
    },
    {
      "cell_type": "code",
      "source": [
        "numero + float(novo_numero)"
      ],
      "metadata": {
        "colab": {
          "base_uri": "https://localhost:8080/"
        },
        "id": "o8eIgnMNXF2a",
        "outputId": "494638ad-031f-4198-ba06-53352b45ce2a"
      },
      "execution_count": null,
      "outputs": [
        {
          "output_type": "execute_result",
          "data": {
            "text/plain": [
              "121.0"
            ]
          },
          "metadata": {},
          "execution_count": 11
        }
      ]
    },
    {
      "cell_type": "code",
      "source": [
        "str(numero) + novo_numero"
      ],
      "metadata": {
        "colab": {
          "base_uri": "https://localhost:8080/",
          "height": 36
        },
        "id": "LzbBYCcWXUfT",
        "outputId": "73f601b8-9440-497f-eb55-6fa7280eb53c"
      },
      "execution_count": null,
      "outputs": [
        {
          "output_type": "execute_result",
          "data": {
            "text/plain": [
              "'6655'"
            ],
            "application/vnd.google.colaboratory.intrinsic+json": {
              "type": "string"
            }
          },
          "metadata": {},
          "execution_count": 12
        }
      ]
    },
    {
      "cell_type": "markdown",
      "source": [
        "##Tipos Numéricos "
      ],
      "metadata": {
        "id": "9YoJkkqrI1ns"
      }
    },
    {
      "cell_type": "markdown",
      "source": [
        "Há três tipos numéricos distintos: integers, floating point numbers, e complex numbers. "
      ],
      "metadata": {
        "id": "EZfWp7R2QOlS"
      }
    },
    {
      "cell_type": "code",
      "source": [
        "# O número inteiro\n",
        "print(123)\n",
        "\n",
        "# O número real (ponto flutuante)\n",
        "print(3.14)\n",
        "\n",
        "# O número complexo\n",
        "1+5j"
      ],
      "metadata": {
        "colab": {
          "base_uri": "https://localhost:8080/"
        },
        "id": "f4yjoG-7SYOI",
        "outputId": "8b7cded6-d78e-4c03-bfbe-2dd82c8d9871"
      },
      "execution_count": null,
      "outputs": [
        {
          "output_type": "execute_result",
          "data": {
            "text/plain": [
              "(1+5j)"
            ]
          },
          "metadata": {},
          "execution_count": 14
        }
      ]
    },
    {
      "cell_type": "markdown",
      "source": [
        "Todos os tipos numéricos (exceto complexos) suportam as seguintes operações:\n",
        " \n",
        "| Operação        | Resultado                                                                       |\n",
        "| --------------- | ------------------------------------------------------------------------------- |\n",
        "| x + y           | soma de x e y                                                                   |\n",
        "| x - y           | diferença de \\* x \\* e \\* y \\*                                                  |\n",
        "| x \\* y          | produto de \\* x \\* e \\* y \\*                                                    |\n",
        "| x / y           | quociente de x e y                                                              |\n",
        "| x // y          | quociente flutuante of x and y                                                  |\n",
        "| x % y           | restante de x / y                                                               |\n",
        "| \\-x             | x negado                                                                        |\n",
        "| +x              | x inalterado                                                                    |\n",
        "| abs(x)          | valor absoluto ou magnitude de x                                                |\n",
        "| int(x)          | x convertido em inteiro                                                         |\n",
        "| float(x)        | x convertido em ponto flutuante                                                 |\n",
        "| complex(re, im) | um número complexo com parte real re, parte imaginária im. im acarreta em zero. |\n",
        "| c.conjugate()   | conjugado do número complexo c                                                  |\n",
        "| divmod(x, y)    | o par (x // y, x % y)                                                           |\n",
        "| pow(x, y)       | x elevado a y                                                                   |\n",
        "| x \\*\\* y        | x elevado a y                                                                   |\n",
        "\n",
        "[Referência](https://docs.python.org/pt-br/3.7/library/stdtypes.html#numeric-types-int-float-complex)"
      ],
      "metadata": {
        "id": "ekMTPGUoGWvA"
      }
    },
    {
      "cell_type": "code",
      "source": [
        "9 + 2"
      ],
      "metadata": {
        "colab": {
          "base_uri": "https://localhost:8080/"
        },
        "id": "8oyg-CYrUSew",
        "outputId": "7c9838a6-167a-47d5-dc05-ed34fa934529"
      },
      "execution_count": null,
      "outputs": [
        {
          "output_type": "execute_result",
          "data": {
            "text/plain": [
              "11"
            ]
          },
          "metadata": {},
          "execution_count": 15
        }
      ]
    },
    {
      "cell_type": "code",
      "source": [
        "9 - 2"
      ],
      "metadata": {
        "colab": {
          "base_uri": "https://localhost:8080/"
        },
        "id": "nwD1fWcEUVml",
        "outputId": "92880fdc-62ee-4018-df5e-7d0501e0e672"
      },
      "execution_count": null,
      "outputs": [
        {
          "output_type": "execute_result",
          "data": {
            "text/plain": [
              "7"
            ]
          },
          "metadata": {},
          "execution_count": 16
        }
      ]
    },
    {
      "cell_type": "code",
      "source": [
        "9 * 2"
      ],
      "metadata": {
        "colab": {
          "base_uri": "https://localhost:8080/"
        },
        "id": "p00QcZ-HUgpO",
        "outputId": "9f3c1852-2f94-4b87-a7b4-b74f4c0e2b2b"
      },
      "execution_count": null,
      "outputs": [
        {
          "output_type": "execute_result",
          "data": {
            "text/plain": [
              "18"
            ]
          },
          "metadata": {},
          "execution_count": 17
        }
      ]
    },
    {
      "cell_type": "code",
      "source": [
        "9 / 2"
      ],
      "metadata": {
        "colab": {
          "base_uri": "https://localhost:8080/"
        },
        "id": "D6mp_igaUqKj",
        "outputId": "0e97e2fc-d4a2-4c13-eda7-32fd09d931f4"
      },
      "execution_count": null,
      "outputs": [
        {
          "output_type": "execute_result",
          "data": {
            "text/plain": [
              "4.5"
            ]
          },
          "metadata": {},
          "execution_count": 18
        }
      ]
    },
    {
      "cell_type": "code",
      "source": [
        "type(9 / 2)"
      ],
      "metadata": {
        "colab": {
          "base_uri": "https://localhost:8080/"
        },
        "id": "ZzyxVf0SVTk_",
        "outputId": "f422b2a3-dfc5-42cb-a6ce-6438f1b0d973"
      },
      "execution_count": null,
      "outputs": [
        {
          "output_type": "execute_result",
          "data": {
            "text/plain": [
              "float"
            ]
          },
          "metadata": {},
          "execution_count": 44
        }
      ]
    },
    {
      "cell_type": "code",
      "source": [
        "9 // 2"
      ],
      "metadata": {
        "colab": {
          "base_uri": "https://localhost:8080/"
        },
        "id": "mBOgO0dSUvKB",
        "outputId": "0733b567-c912-436b-f2ab-b3ce4275fcdb"
      },
      "execution_count": null,
      "outputs": [
        {
          "output_type": "execute_result",
          "data": {
            "text/plain": [
              "4"
            ]
          },
          "metadata": {},
          "execution_count": 19
        }
      ]
    },
    {
      "cell_type": "code",
      "source": [
        "type( 9 // 2)"
      ],
      "metadata": {
        "colab": {
          "base_uri": "https://localhost:8080/"
        },
        "id": "67olXm8ZVYb4",
        "outputId": "3be78395-782b-4219-ef80-b5a2afff7cdc"
      },
      "execution_count": null,
      "outputs": [
        {
          "output_type": "execute_result",
          "data": {
            "text/plain": [
              "int"
            ]
          },
          "metadata": {},
          "execution_count": 45
        }
      ]
    },
    {
      "cell_type": "code",
      "source": [
        "9 % 2"
      ],
      "metadata": {
        "colab": {
          "base_uri": "https://localhost:8080/"
        },
        "id": "8-f4RtfbU0dH",
        "outputId": "5473768d-a453-4512-e1e2-c49cfa1ac745"
      },
      "execution_count": null,
      "outputs": [
        {
          "output_type": "execute_result",
          "data": {
            "text/plain": [
              "1"
            ]
          },
          "metadata": {},
          "execution_count": 20
        }
      ]
    },
    {
      "cell_type": "code",
      "source": [
        "9 ** 2"
      ],
      "metadata": {
        "colab": {
          "base_uri": "https://localhost:8080/"
        },
        "id": "utgtrcaRU7A4",
        "outputId": "e8a1fc9b-e0e1-40c6-e05d-010bb6efe109"
      },
      "execution_count": null,
      "outputs": [
        {
          "output_type": "execute_result",
          "data": {
            "text/plain": [
              "81"
            ]
          },
          "metadata": {},
          "execution_count": 21
        }
      ]
    },
    {
      "cell_type": "markdown",
      "source": [
        "**Observação**   \n",
        "\n",
        "Operações possíveis com strings"
      ],
      "metadata": {
        "id": "M5pSy9kClHp1"
      }
    },
    {
      "cell_type": "code",
      "source": [
        "'vinicius ' + 'gomes' "
      ],
      "metadata": {
        "colab": {
          "base_uri": "https://localhost:8080/",
          "height": 35
        },
        "id": "KEvGWj1blMZj",
        "outputId": "1abff135-1a2b-46d3-d6c2-03cead7ca9f8"
      },
      "execution_count": null,
      "outputs": [
        {
          "output_type": "execute_result",
          "data": {
            "text/plain": [
              "'vinicius gomes'"
            ],
            "application/vnd.google.colaboratory.intrinsic+json": {
              "type": "string"
            }
          },
          "metadata": {},
          "execution_count": 22
        }
      ]
    },
    {
      "cell_type": "code",
      "source": [
        "'vinicius ' * 3"
      ],
      "metadata": {
        "colab": {
          "base_uri": "https://localhost:8080/",
          "height": 35
        },
        "id": "eHATqSh4lUDK",
        "outputId": "4c329233-8046-48a5-cfa0-36441ce3fe52"
      },
      "execution_count": null,
      "outputs": [
        {
          "output_type": "execute_result",
          "data": {
            "text/plain": [
              "'vinicius vinicius vinicius '"
            ],
            "application/vnd.google.colaboratory.intrinsic+json": {
              "type": "string"
            }
          },
          "metadata": {},
          "execution_count": 23
        }
      ]
    },
    {
      "cell_type": "markdown",
      "source": [
        "# Operadores de comparação"
      ],
      "metadata": {
        "id": "atvEOTdBXNkf"
      }
    },
    {
      "cell_type": "markdown",
      "source": [
        "## Valores Booleanos\n",
        "Valores Booleanos são os dois objetos constantes False e True. Eles são usados para representar valores verdadeiros (apesar que outros valores também podem ser considerados falso ou verdadeiro). Em contextos numéricos (por exemplo quando usados como argumentos para um operator aritmético), eles se comportam como os inteiros 0 e 1, respectivamente. A função embutida bool() pode ser usada para converter qualquer valor para um Boolean, se o valor puder ser interpretado como um valor verdadeiro "
      ],
      "metadata": {
        "id": "qUBMvMpQOU55"
      }
    },
    {
      "cell_type": "code",
      "source": [
        "# O valor lógico verdadeiro\n",
        "True"
      ],
      "metadata": {
        "colab": {
          "base_uri": "https://localhost:8080/"
        },
        "id": "uUusfGFXSm0T",
        "outputId": "d70aff18-a539-428a-b47e-f1a0ae962f7d"
      },
      "execution_count": null,
      "outputs": [
        {
          "output_type": "execute_result",
          "data": {
            "text/plain": [
              "True"
            ]
          },
          "metadata": {},
          "execution_count": 24
        }
      ]
    },
    {
      "cell_type": "code",
      "source": [
        "# O valor lógico falso\n",
        "False"
      ],
      "metadata": {
        "colab": {
          "base_uri": "https://localhost:8080/"
        },
        "id": "LpRgO3_0Sps0",
        "outputId": "6c90b97f-28ce-40ed-a241-2e5f0e155f59"
      },
      "execution_count": null,
      "outputs": [
        {
          "output_type": "execute_result",
          "data": {
            "text/plain": [
              "False"
            ]
          },
          "metadata": {},
          "execution_count": 25
        }
      ]
    },
    {
      "cell_type": "markdown",
      "source": [
        "| Operação | Significado                 |\n",
        "| -------- | --------------------------- |\n",
        "| <        | estritamente menor que      |\n",
        "| <=       | menor que ou igual          |\n",
        "| \\>       | estritamente maior que      |\n",
        "| \\>=      | maior que ou igual          |\n",
        "| \\==      | igual                       |\n",
        "| !=       | não é igual                 |\n",
        "| is       | identidade do objeto        |\n",
        "| is not   | identidade de objeto negada |\n",
        "\n",
        "[Referência](https://docs.python.org/pt-br/3.7/library/stdtypes.html#comparisons)"
      ],
      "metadata": {
        "id": "c33USr6SJD_g"
      }
    },
    {
      "cell_type": "code",
      "source": [
        "numero == novo_numero"
      ],
      "metadata": {
        "colab": {
          "base_uri": "https://localhost:8080/"
        },
        "id": "Di7FIqs9R5ka",
        "outputId": "aaab8092-beff-4666-b454-46cbcb1c8514"
      },
      "execution_count": null,
      "outputs": [
        {
          "output_type": "execute_result",
          "data": {
            "text/plain": [
              "False"
            ]
          },
          "metadata": {},
          "execution_count": 26
        }
      ]
    },
    {
      "cell_type": "code",
      "source": [
        "numero == 66"
      ],
      "metadata": {
        "colab": {
          "base_uri": "https://localhost:8080/"
        },
        "id": "4RBHlgR7SEDT",
        "outputId": "83a36dbd-f23f-4f1c-e8b9-d05179222ca4"
      },
      "execution_count": null,
      "outputs": [
        {
          "output_type": "execute_result",
          "data": {
            "text/plain": [
              "True"
            ]
          },
          "metadata": {},
          "execution_count": 27
        }
      ]
    },
    {
      "cell_type": "code",
      "source": [
        "print(False and True)\n",
        "\n",
        "print(False or True)\n",
        "\n",
        "print(not True)\n",
        "\n",
        "print(not False)"
      ],
      "metadata": {
        "colab": {
          "base_uri": "https://localhost:8080/"
        },
        "id": "xo-tDMIFXgJT",
        "outputId": "312d9365-7fee-4e1f-ce7b-f021490a0f9b"
      },
      "execution_count": null,
      "outputs": [
        {
          "output_type": "stream",
          "name": "stdout",
          "text": [
            "False\n",
            "True\n",
            "False\n",
            "True\n"
          ]
        }
      ]
    },
    {
      "cell_type": "code",
      "source": [
        "2 = 2 # Atenção para o operador ==\n"
      ],
      "metadata": {
        "colab": {
          "base_uri": "https://localhost:8080/",
          "height": 130
        },
        "id": "Ja521oxGX2Em",
        "outputId": "800ec236-8842-475e-9ef6-170c802ac476"
      },
      "execution_count": null,
      "outputs": [
        {
          "output_type": "error",
          "ename": "SyntaxError",
          "evalue": "ignored",
          "traceback": [
            "\u001b[0;36m  File \u001b[0;32m\"<ipython-input-29-e5bc8ce5d5b1>\"\u001b[0;36m, line \u001b[0;32m1\u001b[0m\n\u001b[0;31m    2 = 2 # Atenção para o operador ==\u001b[0m\n\u001b[0m                                      ^\u001b[0m\n\u001b[0;31mSyntaxError\u001b[0m\u001b[0;31m:\u001b[0m can't assign to literal\n"
          ]
        }
      ]
    },
    {
      "cell_type": "code",
      "source": [
        "2 == 2"
      ],
      "metadata": {
        "colab": {
          "base_uri": "https://localhost:8080/"
        },
        "id": "j3Fa_7N1X170",
        "outputId": "7a245ffa-a5e9-4b66-8e7a-64ae89031e55"
      },
      "execution_count": null,
      "outputs": [
        {
          "output_type": "execute_result",
          "data": {
            "text/plain": [
              "True"
            ]
          },
          "metadata": {},
          "execution_count": 30
        }
      ]
    },
    {
      "cell_type": "code",
      "source": [
        "98 == 12"
      ],
      "metadata": {
        "colab": {
          "base_uri": "https://localhost:8080/"
        },
        "id": "IMOK6kBhXulg",
        "outputId": "6fb42fda-77f9-4b3e-eee9-7ac09441160f"
      },
      "execution_count": null,
      "outputs": [
        {
          "output_type": "execute_result",
          "data": {
            "text/plain": [
              "False"
            ]
          },
          "metadata": {},
          "execution_count": 31
        }
      ]
    },
    {
      "cell_type": "code",
      "source": [
        "98 != 12"
      ],
      "metadata": {
        "colab": {
          "base_uri": "https://localhost:8080/"
        },
        "id": "BjxoE9pDX2HF",
        "outputId": "72ae273d-761a-4531-8d96-ae200419422a"
      },
      "execution_count": null,
      "outputs": [
        {
          "output_type": "execute_result",
          "data": {
            "text/plain": [
              "True"
            ]
          },
          "metadata": {},
          "execution_count": 32
        }
      ]
    },
    {
      "cell_type": "code",
      "source": [
        "2 != 2"
      ],
      "metadata": {
        "colab": {
          "base_uri": "https://localhost:8080/"
        },
        "id": "ZUi4z3TMX2Ja",
        "outputId": "9a4b943e-9ac5-4757-e3ee-96cacb11a001"
      },
      "execution_count": null,
      "outputs": [
        {
          "output_type": "execute_result",
          "data": {
            "text/plain": [
              "False"
            ]
          },
          "metadata": {},
          "execution_count": 33
        }
      ]
    },
    {
      "cell_type": "code",
      "source": [
        "print(10 < 10)\n",
        "print(2 < 10)\n",
        "\n",
        "print(10 <= 10)\n",
        "print(999 <= 10)"
      ],
      "metadata": {
        "colab": {
          "base_uri": "https://localhost:8080/"
        },
        "id": "vkFpR9xyX2Mu",
        "outputId": "0d0f6fe3-82c3-4ee7-fdbd-7c6306d5bc27"
      },
      "execution_count": null,
      "outputs": [
        {
          "output_type": "stream",
          "name": "stdout",
          "text": [
            "False\n",
            "True\n",
            "True\n",
            "False\n"
          ]
        }
      ]
    },
    {
      "cell_type": "code",
      "source": [
        "print(5 > 4.1)\n",
        "print(5 != 4.1)"
      ],
      "metadata": {
        "colab": {
          "base_uri": "https://localhost:8080/"
        },
        "id": "4cTU24KyX2P2",
        "outputId": "ec420fdb-d33c-4adb-fc15-5794cf1ca109"
      },
      "execution_count": null,
      "outputs": [
        {
          "output_type": "stream",
          "name": "stdout",
          "text": [
            "True\n",
            "True\n"
          ]
        }
      ]
    },
    {
      "cell_type": "code",
      "source": [
        "print(\"palavrinha\" < \"Palavrão\")"
      ],
      "metadata": {
        "colab": {
          "base_uri": "https://localhost:8080/"
        },
        "id": "ZIkei0UkZOet",
        "outputId": "37a2b922-f758-485c-db04-e75ab6fde40e"
      },
      "execution_count": null,
      "outputs": [
        {
          "output_type": "stream",
          "name": "stdout",
          "text": [
            "False\n"
          ]
        }
      ]
    },
    {
      "cell_type": "markdown",
      "source": [
        "## Expressões lógicas"
      ],
      "metadata": {
        "id": "cKXwMmgVcLKM"
      }
    },
    {
      "cell_type": "code",
      "source": [
        "ano = 2020"
      ],
      "metadata": {
        "id": "t3UmA1_ZcQc6"
      },
      "execution_count": null,
      "outputs": []
    },
    {
      "cell_type": "markdown",
      "source": [
        "Verificar se ano é bissexto:"
      ],
      "metadata": {
        "id": "-_wTHmOdcSnD"
      }
    },
    {
      "cell_type": "code",
      "source": [
        "bissexto = (ano %   4 == 0 and \n",
        "            ano % 100 != 0) or \\\n",
        "            ano % 400 == 0\n",
        "            \n",
        "print(\"O ano\", ano, \"é bissexto?\", bissexto)"
      ],
      "metadata": {
        "colab": {
          "base_uri": "https://localhost:8080/"
        },
        "id": "TMnOBY5tbeqB",
        "outputId": "7ee20ac4-05d0-4772-808a-24d3de3c3445"
      },
      "execution_count": null,
      "outputs": [
        {
          "output_type": "stream",
          "name": "stdout",
          "text": [
            "O ano 2020 é bissexto? True\n"
          ]
        }
      ]
    },
    {
      "cell_type": "markdown",
      "source": [
        "**Observação - Junção de linhas**\n",
        "\n",
        "* Junção de linha explícita\n",
        "* Junção de linha implicita\n",
        "\n",
        "[Referência](https://docs.python.org/pt-br/3.7/reference/lexical_analysis.html#explicit-line-joining)\n",
        "\n"
      ],
      "metadata": {
        "id": "fwNWQAD2hsR1"
      }
    },
    {
      "cell_type": "markdown",
      "source": [
        "# Tipagem \n"
      ],
      "metadata": {
        "id": "ayzsPjfgeNss"
      }
    },
    {
      "cell_type": "markdown",
      "source": [
        "## Tipos de Sequências\n",
        "\n",
        "Existem três tipos básicos de seqüência: listas, tuplas e objetos range."
      ],
      "metadata": {
        "id": "6QIjxqloJuHW"
      }
    },
    {
      "cell_type": "markdown",
      "source": [
        "| Operação                 | Resultado                                                                 |\n",
        "| ------------------------ | ------------------------------------------------------------------------- |\n",
        "| x in s                   | True caso um item de s seja igual a x, senão False                        |\n",
        "| x not in s               | False caso um item de s for igual a x, senão True                         |\n",
        "| s + t                    | a concatenão de s e t                                                     |\n",
        "| s \\* n ou n \\* s         | equivalente a adicionar s a si mesmo n vezes                              |\n",
        "| s\\[i\\]                   | ienésimo item de s, origem 0                                              |\n",
        "| s\\[i:j\\]                 | fatia de s desde i para j                                                 |\n",
        "| s\\[i:j:k\\]               | fatia de s desde i para j com passo k                                     |\n",
        "| len(s)                   | comprimento de s                                                          |\n",
        "| min(s)                   | menor item de s                                                           |\n",
        "| max(s)                   | maior item de s                                                           |\n",
        "| s.index(x\\[, i\\[, j\\]\\]) | índice da primeira ocorrência de x em s (no índice i e antes do índice j) |\n",
        "| s.count(x)               | numero total de ocorrência de x em s                                      |\n",
        "\n",
        "[Referência](https://docs.python.org/pt-br/3.7/library/stdtypes.html#sequence-types-list-tuple-range)"
      ],
      "metadata": {
        "id": "DqTbq1rVJ5KD"
      }
    },
    {
      "cell_type": "code",
      "source": [
        "\"gg\" in \"eggs\""
      ],
      "metadata": {
        "colab": {
          "base_uri": "https://localhost:8080/"
        },
        "id": "psDuQs4uKcKd",
        "outputId": "8e220ba3-1173-4a45-c55a-6f5af62a2c51"
      },
      "execution_count": null,
      "outputs": [
        {
          "output_type": "execute_result",
          "data": {
            "text/plain": [
              "True"
            ]
          },
          "metadata": {},
          "execution_count": 51
        }
      ]
    },
    {
      "cell_type": "code",
      "source": [
        "lists = [[]] * 3\n",
        "lists\n",
        "\n"
      ],
      "metadata": {
        "colab": {
          "base_uri": "https://localhost:8080/"
        },
        "id": "kGgrD7vHKizW",
        "outputId": "b14279d8-11b8-4a51-b6b4-666f1fbea2c3"
      },
      "execution_count": null,
      "outputs": [
        {
          "output_type": "execute_result",
          "data": {
            "text/plain": [
              "[[], [], []]"
            ]
          },
          "metadata": {},
          "execution_count": 52
        }
      ]
    },
    {
      "cell_type": "code",
      "source": [
        "lists[0].append(3)\n",
        "lists\n"
      ],
      "metadata": {
        "colab": {
          "base_uri": "https://localhost:8080/"
        },
        "id": "MVdCgGmBKlOG",
        "outputId": "280cb6de-090d-46e9-e070-eee688563c74"
      },
      "execution_count": null,
      "outputs": [
        {
          "output_type": "execute_result",
          "data": {
            "text/plain": [
              "[[3], [3], [3]]"
            ]
          },
          "metadata": {},
          "execution_count": 53
        }
      ]
    },
    {
      "cell_type": "markdown",
      "source": [
        "## Listas\n",
        "\n",
        "As listas são sequências mutáveis, normalmente usadas para armazenar coleções de itens homogêneos\n",
        "\n",
        "[Referência](https://docs.python.org/pt-br/3.7/library/stdtypes.html#lists)"
      ],
      "metadata": {
        "id": "i9-ZZljzKYGh"
      }
    },
    {
      "cell_type": "markdown",
      "source": [
        "As listas podem ser construídas de várias maneiras:\n",
        "\n",
        "* Usando um par de colchetes para denotar uma lista vazia: []\n",
        "* Usando suportes a colchetes, separando itens por vírgulas: [a], [a, b, c]\n",
        "* Usando uma list comprehension: [x for x in iterable]\n",
        "* Usando o construtor de tipo: list() ou list(iterable)"
      ],
      "metadata": {
        "id": "hwVIY3MxLB-W"
      }
    },
    {
      "cell_type": "code",
      "source": [
        "lista = ['Vinícius', 'Gomes', 'Costa', \"Júnior\"]"
      ],
      "metadata": {
        "id": "QOroF7zzZjjx"
      },
      "execution_count": null,
      "outputs": []
    },
    {
      "cell_type": "code",
      "source": [
        "valores = [1,2,3,4,5,6,7,8]\n"
      ],
      "metadata": {
        "id": "cRYO9sRxXxaQ"
      },
      "execution_count": null,
      "outputs": []
    },
    {
      "cell_type": "code",
      "source": [
        "len(lista) #Comprimento da lista"
      ],
      "metadata": {
        "colab": {
          "base_uri": "https://localhost:8080/"
        },
        "id": "lXkTG4jCm6fX",
        "outputId": "00c26964-1372-41df-a41f-f50d481f54fe"
      },
      "execution_count": null,
      "outputs": [
        {
          "output_type": "execute_result",
          "data": {
            "text/plain": [
              "4"
            ]
          },
          "metadata": {},
          "execution_count": 55
        }
      ]
    },
    {
      "cell_type": "code",
      "source": [
        "max(valores)"
      ],
      "metadata": {
        "colab": {
          "base_uri": "https://localhost:8080/"
        },
        "id": "-9CfztT4X1bQ",
        "outputId": "66bd028d-9f74-4f4b-f759-ebb558c2d784"
      },
      "execution_count": null,
      "outputs": [
        {
          "output_type": "execute_result",
          "data": {
            "text/plain": [
              "8"
            ]
          },
          "metadata": {},
          "execution_count": 103
        }
      ]
    },
    {
      "cell_type": "code",
      "source": [
        "max(lista)"
      ],
      "metadata": {
        "colab": {
          "base_uri": "https://localhost:8080/",
          "height": 35
        },
        "id": "erezNI-EX-HL",
        "outputId": "af2821e2-04dc-4231-abf8-ea6bab6dee1c"
      },
      "execution_count": null,
      "outputs": [
        {
          "output_type": "execute_result",
          "data": {
            "text/plain": [
              "'Vinícius'"
            ],
            "application/vnd.google.colaboratory.intrinsic+json": {
              "type": "string"
            }
          },
          "metadata": {},
          "execution_count": 106
        }
      ]
    },
    {
      "cell_type": "code",
      "source": [
        "min(lista)"
      ],
      "metadata": {
        "colab": {
          "base_uri": "https://localhost:8080/",
          "height": 35
        },
        "id": "9gAFgtBtX56j",
        "outputId": "964eb625-84ee-414e-897b-6b198c71f0c4"
      },
      "execution_count": null,
      "outputs": [
        {
          "output_type": "execute_result",
          "data": {
            "text/plain": [
              "'Costa'"
            ],
            "application/vnd.google.colaboratory.intrinsic+json": {
              "type": "string"
            }
          },
          "metadata": {},
          "execution_count": 105
        }
      ]
    },
    {
      "cell_type": "code",
      "source": [
        "print('Vinícius Gomes Costa')\n",
        "print('Júnior')"
      ],
      "metadata": {
        "colab": {
          "base_uri": "https://localhost:8080/"
        },
        "id": "bwvAKNvhYuJo",
        "outputId": "2ca70247-c9b0-4578-b043-1761773402c9"
      },
      "execution_count": null,
      "outputs": [
        {
          "output_type": "stream",
          "name": "stdout",
          "text": [
            "Vinícius Gomes Costa\n",
            "Júnior\n"
          ]
        }
      ]
    },
    {
      "cell_type": "markdown",
      "source": [
        "### Desempacotar listas"
      ],
      "metadata": {
        "id": "dKqHtU0fwY4V"
      }
    },
    {
      "cell_type": "code",
      "metadata": {
        "id": "Yex2pxbi6ULN",
        "outputId": "f57a9d84-1c16-422e-a2ef-f1405602cb50",
        "colab": {
          "base_uri": "https://localhost:8080/",
          "height": 217
        }
      },
      "source": [
        "#Desempacotamento de listas\n",
        "lista = ['luiz', 'Joao', 'Maria', 1,2,3,4,5,6,67]\n",
        "\n",
        "n1, n2 = lista\n",
        "print(n1, n2)"
      ],
      "execution_count": null,
      "outputs": [
        {
          "output_type": "error",
          "ename": "ValueError",
          "evalue": "ignored",
          "traceback": [
            "\u001b[0;31m---------------------------------------------------------------------------\u001b[0m",
            "\u001b[0;31mValueError\u001b[0m                                Traceback (most recent call last)",
            "\u001b[0;32m<ipython-input-1-d1c8f87c4290>\u001b[0m in \u001b[0;36m<module>\u001b[0;34m\u001b[0m\n\u001b[1;32m      2\u001b[0m \u001b[0mlista\u001b[0m \u001b[0;34m=\u001b[0m \u001b[0;34m[\u001b[0m\u001b[0;34m'luiz'\u001b[0m\u001b[0;34m,\u001b[0m \u001b[0;34m'Joao'\u001b[0m\u001b[0;34m,\u001b[0m \u001b[0;34m'Maria'\u001b[0m\u001b[0;34m,\u001b[0m \u001b[0;36m1\u001b[0m\u001b[0;34m,\u001b[0m\u001b[0;36m2\u001b[0m\u001b[0;34m,\u001b[0m\u001b[0;36m3\u001b[0m\u001b[0;34m,\u001b[0m\u001b[0;36m4\u001b[0m\u001b[0;34m,\u001b[0m\u001b[0;36m5\u001b[0m\u001b[0;34m,\u001b[0m\u001b[0;36m6\u001b[0m\u001b[0;34m,\u001b[0m\u001b[0;36m67\u001b[0m\u001b[0;34m]\u001b[0m\u001b[0;34m\u001b[0m\u001b[0;34m\u001b[0m\u001b[0m\n\u001b[1;32m      3\u001b[0m \u001b[0;34m\u001b[0m\u001b[0m\n\u001b[0;32m----> 4\u001b[0;31m \u001b[0mn1\u001b[0m\u001b[0;34m,\u001b[0m \u001b[0mn2\u001b[0m \u001b[0;34m=\u001b[0m \u001b[0mlista\u001b[0m\u001b[0;34m\u001b[0m\u001b[0;34m\u001b[0m\u001b[0m\n\u001b[0m\u001b[1;32m      5\u001b[0m \u001b[0mprint\u001b[0m\u001b[0;34m(\u001b[0m\u001b[0mn1\u001b[0m\u001b[0;34m,\u001b[0m \u001b[0mn2\u001b[0m\u001b[0;34m)\u001b[0m\u001b[0;34m\u001b[0m\u001b[0;34m\u001b[0m\u001b[0m\n",
            "\u001b[0;31mValueError\u001b[0m: too many values to unpack (expected 2)"
          ]
        }
      ]
    },
    {
      "cell_type": "code",
      "metadata": {
        "id": "UfTxdv6p8zsY",
        "outputId": "181e8679-a88f-42ed-b8ed-9cb3a35a3788",
        "colab": {
          "base_uri": "https://localhost:8080/"
        }
      },
      "source": [
        "#Desempacotamento de listas\n",
        "lista = ['luiz', 'Joao', 'Maria', 1,2,3,4,5,6,67]\n",
        "\n",
        "n1, n2, *outra_lista = lista\n",
        "print(n1, n2)"
      ],
      "execution_count": null,
      "outputs": [
        {
          "output_type": "stream",
          "name": "stdout",
          "text": [
            "luiz Joao\n"
          ]
        }
      ]
    },
    {
      "cell_type": "code",
      "metadata": {
        "id": "9r-H-dsn86Z0",
        "outputId": "03a0d8fb-0fd8-4f92-aa73-a59cc4cb7d66",
        "colab": {
          "base_uri": "https://localhost:8080/"
        }
      },
      "source": [
        "#Desempacotamento de listas\n",
        "lista = ['luiz', 'Joao', 'Maria', 1,2,3,4,5,6,67]\n",
        "\n",
        "n1, n2, *outra_lista = lista\n",
        "print(n1, n2, outra_lista)"
      ],
      "execution_count": null,
      "outputs": [
        {
          "output_type": "stream",
          "name": "stdout",
          "text": [
            "luiz Joao ['Maria', 1, 2, 3, 4, 5, 6, 67]\n"
          ]
        }
      ]
    },
    {
      "cell_type": "code",
      "metadata": {
        "id": "yLC2sh599CwU",
        "outputId": "a5417bc6-e707-4d92-fd34-e3fc0faeade8",
        "colab": {
          "base_uri": "https://localhost:8080/"
        }
      },
      "source": [
        "#Desempacotamento de listas\n",
        "lista = ['luiz', 'Joao', 'Maria', 1,2,3,4,5,6,67]\n",
        "\n",
        "n1, n2, *outra_lista, ult_valor = lista\n",
        "print(n1, n2, ult_valor)"
      ],
      "execution_count": null,
      "outputs": [
        {
          "output_type": "stream",
          "name": "stdout",
          "text": [
            "luiz Joao 67\n"
          ]
        }
      ]
    },
    {
      "cell_type": "code",
      "metadata": {
        "id": "_dSXkvkX9T3V",
        "outputId": "dda752bc-3772-48eb-a401-522a48a62c9e",
        "colab": {
          "base_uri": "https://localhost:8080/"
        }
      },
      "source": [
        "#Desempacotamento de listas\n",
        "lista = ['luiz', 'Joao', 'Maria', 1,2,3,4,5,6,67]\n",
        "\n",
        "*outra_lista, n1, n2, n3 = lista\n",
        "print(outra_lista, n1, n2, n3)"
      ],
      "execution_count": null,
      "outputs": [
        {
          "output_type": "stream",
          "name": "stdout",
          "text": [
            "['luiz', 'Joao', 'Maria', 1, 2, 3, 4] 5 6 67\n"
          ]
        }
      ]
    },
    {
      "cell_type": "markdown",
      "source": [
        "## Tuplas\n",
        "As Tuples são sequências imutáveis, tipicamente usadas para armazenar coleções de dados heterogêneos\n",
        "\n",
        "[Referência](https://docs.python.org/pt-br/3.7/library/stdtypes.html#tuples)"
      ],
      "metadata": {
        "id": "pFow8X3yLYRL"
      }
    },
    {
      "cell_type": "markdown",
      "source": [
        "As Tuplas podem ser construídos de várias maneiras:\n",
        "\n",
        "* Usando um par de parênteses para denotar que a tupla está vazia: ()\n",
        "* Usando uma vírgula à direita para uma tupla contendo um único elemento: a, ou (a,)\n",
        "* Separando os itens por vírgula: a, b, c ou (a, b, c)\n",
        "* Usando a função built-in tuple(): tuple() ou tuple(iterable)"
      ],
      "metadata": {
        "id": "2UI4RwXRLa73"
      }
    },
    {
      "cell_type": "code",
      "source": [
        "t = 1,\n",
        "print(type(t))"
      ],
      "metadata": {
        "colab": {
          "base_uri": "https://localhost:8080/"
        },
        "id": "TlTJ6VVzxl6A",
        "outputId": "1b33f9b3-898b-4ddb-d1e2-9019677a3763"
      },
      "execution_count": null,
      "outputs": [
        {
          "output_type": "stream",
          "name": "stdout",
          "text": [
            "<class 'tuple'>\n"
          ]
        }
      ]
    },
    {
      "cell_type": "code",
      "source": [
        "tupla1 = (1,2,3,4, 'a1', 'Vinicius')\n",
        "tupla1[1]"
      ],
      "metadata": {
        "colab": {
          "base_uri": "https://localhost:8080/"
        },
        "id": "LLVVCBtNxfl_",
        "outputId": "24541bf2-8f83-4b72-ce37-3fad7aa6e373"
      },
      "execution_count": null,
      "outputs": [
        {
          "output_type": "execute_result",
          "data": {
            "text/plain": [
              "2"
            ]
          },
          "metadata": {},
          "execution_count": 9
        }
      ]
    },
    {
      "cell_type": "code",
      "source": [
        "tupla2 = 1, 2, 'a', 'b'\n",
        "print(tupla2)\n",
        "print(type(tupla2))"
      ],
      "metadata": {
        "colab": {
          "base_uri": "https://localhost:8080/"
        },
        "id": "Zb9i9GKXxhYX",
        "outputId": "f372cdf3-3d9f-4bf3-c2b7-dc476e7cbb75"
      },
      "execution_count": null,
      "outputs": [
        {
          "output_type": "stream",
          "name": "stdout",
          "text": [
            "(1, 2, 'a', 'b')\n",
            "<class 'tuple'>\n"
          ]
        }
      ]
    },
    {
      "cell_type": "markdown",
      "source": [
        "## Ranges\n",
        "O tipo da classe range representa uma sequência imutável de números e é comumente usada para fazer um looping um número determinado de vezes por for.\n",
        "\n",
        "[Referência](https://docs.python.org/pt-br/3.7/library/stdtypes.html#ranges)"
      ],
      "metadata": {
        "id": "ek5YcoeRLoIA"
      }
    },
    {
      "cell_type": "code",
      "source": [
        "list(range(10))"
      ],
      "metadata": {
        "colab": {
          "base_uri": "https://localhost:8080/"
        },
        "id": "MTorAnscLre7",
        "outputId": "b5d71cb0-d1af-4275-f034-b3691f0d6d77"
      },
      "execution_count": null,
      "outputs": [
        {
          "output_type": "execute_result",
          "data": {
            "text/plain": [
              "[0, 1, 2, 3, 4, 5, 6, 7, 8, 9]"
            ]
          },
          "metadata": {},
          "execution_count": 57
        }
      ]
    },
    {
      "cell_type": "code",
      "source": [
        "list(range(0,20,3))"
      ],
      "metadata": {
        "colab": {
          "base_uri": "https://localhost:8080/"
        },
        "id": "MxikOUxmLtOr",
        "outputId": "7bee9fad-a7a2-466e-883c-ef384f08d434"
      },
      "execution_count": null,
      "outputs": [
        {
          "output_type": "execute_result",
          "data": {
            "text/plain": [
              "[0, 3, 6, 9, 12, 15, 18]"
            ]
          },
          "metadata": {},
          "execution_count": 58
        }
      ]
    },
    {
      "cell_type": "markdown",
      "source": [
        "## Tipo de Sequência de Texto — str\n",
        "\n",
        "Os dados textuais em Python são tratados com objetos str, ou strings. \n",
        "\n",
        "[Referência](https://docs.python.org/pt-br/3.7/library/stdtypes.html#text-sequence-type-str)"
      ],
      "metadata": {
        "id": "OUrzquoWMdw4"
      }
    },
    {
      "cell_type": "markdown",
      "source": [
        "### Concatenação de strings"
      ],
      "metadata": {
        "id": "cFyh3_WejWsb"
      }
    },
    {
      "cell_type": "code",
      "source": [
        "\"Curso\" + \"de\" + \"python\""
      ],
      "metadata": {
        "colab": {
          "base_uri": "https://localhost:8080/",
          "height": 35
        },
        "id": "686NjSuTSvQx",
        "outputId": "8ea2566e-ba6d-4a18-e617-546e82e417df"
      },
      "execution_count": null,
      "outputs": [
        {
          "output_type": "execute_result",
          "data": {
            "text/plain": [
              "'Cursodepython'"
            ],
            "application/vnd.google.colaboratory.intrinsic+json": {
              "type": "string"
            }
          },
          "metadata": {},
          "execution_count": 59
        }
      ]
    },
    {
      "cell_type": "markdown",
      "source": [
        "**Observar os espaços**"
      ],
      "metadata": {
        "id": "WM2sZLdWkDB4"
      }
    },
    {
      "cell_type": "code",
      "source": [
        "\"Curso \" + \"de \" + \"python\""
      ],
      "metadata": {
        "colab": {
          "base_uri": "https://localhost:8080/",
          "height": 35
        },
        "id": "o1O0nrYahZva",
        "outputId": "56eb028d-aa96-4f70-d379-e6b679ab3647"
      },
      "execution_count": null,
      "outputs": [
        {
          "output_type": "execute_result",
          "data": {
            "text/plain": [
              "'Curso de python'"
            ],
            "application/vnd.google.colaboratory.intrinsic+json": {
              "type": "string"
            }
          },
          "metadata": {},
          "execution_count": 60
        }
      ]
    },
    {
      "cell_type": "code",
      "source": [
        "\"Curso \" \"python\""
      ],
      "metadata": {
        "colab": {
          "base_uri": "https://localhost:8080/",
          "height": 35
        },
        "id": "znyxEerCjplf",
        "outputId": "19869e2d-1060-478e-c8e4-c541e163b430"
      },
      "execution_count": null,
      "outputs": [
        {
          "output_type": "execute_result",
          "data": {
            "text/plain": [
              "'Curso python'"
            ],
            "application/vnd.google.colaboratory.intrinsic+json": {
              "type": "string"
            }
          },
          "metadata": {},
          "execution_count": 61
        }
      ]
    },
    {
      "cell_type": "code",
      "source": [
        "\"Curso \"  \"de \" + \"python\""
      ],
      "metadata": {
        "colab": {
          "base_uri": "https://localhost:8080/",
          "height": 35
        },
        "id": "kyWCdKanjsZN",
        "outputId": "c5518b6b-debf-4645-99c4-111751dc3a03"
      },
      "execution_count": null,
      "outputs": [
        {
          "output_type": "execute_result",
          "data": {
            "text/plain": [
              "'Curso de python'"
            ],
            "application/vnd.google.colaboratory.intrinsic+json": {
              "type": "string"
            }
          },
          "metadata": {},
          "execution_count": 62
        }
      ]
    },
    {
      "cell_type": "code",
      "source": [
        "print('Curso', 'de', 'python')"
      ],
      "metadata": {
        "colab": {
          "base_uri": "https://localhost:8080/"
        },
        "id": "zVNJiMHxkx3w",
        "outputId": "306fed94-5ba6-400f-aca1-010dfc48fdb0"
      },
      "execution_count": null,
      "outputs": [
        {
          "output_type": "stream",
          "name": "stdout",
          "text": [
            "Curso de python\n"
          ]
        }
      ]
    },
    {
      "cell_type": "code",
      "source": [
        "texto = ['Curso', 'de', 'python']\n",
        "str_concat = ' '.join(texto)\n",
        "print(str_concat)"
      ],
      "metadata": {
        "colab": {
          "base_uri": "https://localhost:8080/"
        },
        "id": "X55EZmdJj42x",
        "outputId": "60692d32-cdf4-472a-e222-1c44e0163579"
      },
      "execution_count": null,
      "outputs": [
        {
          "output_type": "stream",
          "name": "stdout",
          "text": [
            "Curso de python\n"
          ]
        }
      ]
    },
    {
      "cell_type": "code",
      "source": [
        "len(str_concat)"
      ],
      "metadata": {
        "colab": {
          "base_uri": "https://localhost:8080/"
        },
        "id": "qyoFDTh-nUi_",
        "outputId": "a93a7cf9-b73c-4575-eae3-0145136687b7"
      },
      "execution_count": null,
      "outputs": [
        {
          "output_type": "execute_result",
          "data": {
            "text/plain": [
              "15"
            ]
          },
          "metadata": {},
          "execution_count": 65
        }
      ]
    },
    {
      "cell_type": "code",
      "source": [
        "len(texto)"
      ],
      "metadata": {
        "colab": {
          "base_uri": "https://localhost:8080/"
        },
        "id": "TsXfXiS8nDcS",
        "outputId": "c2576c7a-cdbc-4fd4-c136-7e90fbc170e0"
      },
      "execution_count": null,
      "outputs": [
        {
          "output_type": "execute_result",
          "data": {
            "text/plain": [
              "3"
            ]
          },
          "metadata": {},
          "execution_count": 66
        }
      ]
    },
    {
      "cell_type": "markdown",
      "source": [
        "### Pertinência e Impertinência"
      ],
      "metadata": {
        "id": "y_qFaZgdk9XA"
      }
    },
    {
      "cell_type": "code",
      "source": [
        "'i' in 'vinicius'"
      ],
      "metadata": {
        "colab": {
          "base_uri": "https://localhost:8080/"
        },
        "id": "3l3uX6dnk_xo",
        "outputId": "bb5bf90f-f7a7-4eaa-a2b9-e6fd10dad31e"
      },
      "execution_count": null,
      "outputs": [
        {
          "output_type": "execute_result",
          "data": {
            "text/plain": [
              "True"
            ]
          },
          "metadata": {},
          "execution_count": 67
        }
      ]
    },
    {
      "cell_type": "code",
      "source": [
        "'a' in 'vinicius'"
      ],
      "metadata": {
        "colab": {
          "base_uri": "https://localhost:8080/"
        },
        "id": "_1VZy4usl0kq",
        "outputId": "a047999f-bde2-4e45-a8e7-968a51b597b7"
      },
      "execution_count": null,
      "outputs": [
        {
          "output_type": "execute_result",
          "data": {
            "text/plain": [
              "False"
            ]
          },
          "metadata": {},
          "execution_count": 68
        }
      ]
    },
    {
      "cell_type": "code",
      "source": [
        "'arquivo' in 'arquivo_qualquer.txt'"
      ],
      "metadata": {
        "colab": {
          "base_uri": "https://localhost:8080/"
        },
        "id": "K2i_SWqFl4m4",
        "outputId": "a9f56eb1-5633-41aa-9738-3f2d9a815c31"
      },
      "execution_count": null,
      "outputs": [
        {
          "output_type": "execute_result",
          "data": {
            "text/plain": [
              "True"
            ]
          },
          "metadata": {},
          "execution_count": 69
        }
      ]
    },
    {
      "cell_type": "code",
      "source": [
        "'txt' in 'arquivo_qualquer.txt'"
      ],
      "metadata": {
        "colab": {
          "base_uri": "https://localhost:8080/"
        },
        "id": "hQIOfTWmmOyk",
        "outputId": "f7b69ad3-bcd2-443a-abe8-04274bae7242"
      },
      "execution_count": null,
      "outputs": [
        {
          "output_type": "execute_result",
          "data": {
            "text/plain": [
              "True"
            ]
          },
          "metadata": {},
          "execution_count": 70
        }
      ]
    },
    {
      "cell_type": "code",
      "source": [
        "'i' not in 'vinicius'"
      ],
      "metadata": {
        "colab": {
          "base_uri": "https://localhost:8080/"
        },
        "id": "8pz6xo4WmGko",
        "outputId": "d6c74e99-d82e-4e41-aa90-25c7940b4c31"
      },
      "execution_count": null,
      "outputs": [
        {
          "output_type": "execute_result",
          "data": {
            "text/plain": [
              "False"
            ]
          },
          "metadata": {},
          "execution_count": 71
        }
      ]
    },
    {
      "cell_type": "code",
      "source": [
        "'.txt' not in 'arquivo_qualquer.txt'"
      ],
      "metadata": {
        "colab": {
          "base_uri": "https://localhost:8080/"
        },
        "id": "_e45IhGAmKUv",
        "outputId": "33b84224-921b-4cd0-898d-fc504826047d"
      },
      "execution_count": null,
      "outputs": [
        {
          "output_type": "execute_result",
          "data": {
            "text/plain": [
              "False"
            ]
          },
          "metadata": {},
          "execution_count": 72
        }
      ]
    },
    {
      "cell_type": "code",
      "source": [],
      "metadata": {
        "id": "sAnfp644ncah"
      },
      "execution_count": null,
      "outputs": []
    },
    {
      "cell_type": "markdown",
      "source": [],
      "metadata": {
        "id": "Ozd7b74Nnc0O"
      }
    },
    {
      "cell_type": "markdown",
      "source": [
        "##Indexing\n",
        "\n",
        "**s[i]**"
      ],
      "metadata": {
        "id": "ZOmmM5AbxS2X"
      }
    },
    {
      "cell_type": "code",
      "source": [
        "\"Vinícius Gomes Costa Júnior\"[0]\n"
      ],
      "metadata": {
        "colab": {
          "base_uri": "https://localhost:8080/",
          "height": 35
        },
        "id": "_ZQ0qDICxTVx",
        "outputId": "3ba34010-7941-4618-8ed4-a2fa1d071fb9"
      },
      "execution_count": null,
      "outputs": [
        {
          "output_type": "execute_result",
          "data": {
            "text/plain": [
              "'V'"
            ],
            "application/vnd.google.colaboratory.intrinsic+json": {
              "type": "string"
            }
          },
          "metadata": {},
          "execution_count": 73
        }
      ]
    },
    {
      "cell_type": "code",
      "source": [
        "\"Vinícius Gomes Costa Júnior\"[5]"
      ],
      "metadata": {
        "colab": {
          "base_uri": "https://localhost:8080/",
          "height": 35
        },
        "id": "vEiCWTy3xlQf",
        "outputId": "61665563-7a44-4c0a-f33a-6cc3567bb3db"
      },
      "execution_count": null,
      "outputs": [
        {
          "output_type": "execute_result",
          "data": {
            "text/plain": [
              "'i'"
            ],
            "application/vnd.google.colaboratory.intrinsic+json": {
              "type": "string"
            }
          },
          "metadata": {},
          "execution_count": 74
        }
      ]
    },
    {
      "cell_type": "code",
      "source": [
        "\"Vinícius Gomes Costa Júnior\"[-1]"
      ],
      "metadata": {
        "colab": {
          "base_uri": "https://localhost:8080/",
          "height": 35
        },
        "id": "puckZCNjxZ4x",
        "outputId": "d84cad61-3af5-4bd4-8d26-a680942cc5c3"
      },
      "execution_count": null,
      "outputs": [
        {
          "output_type": "execute_result",
          "data": {
            "text/plain": [
              "'r'"
            ],
            "application/vnd.google.colaboratory.intrinsic+json": {
              "type": "string"
            }
          },
          "metadata": {},
          "execution_count": 75
        }
      ]
    },
    {
      "cell_type": "code",
      "source": [
        "\"Vinícius Gomes Costa Júnior\"[50] #indexar valor maior que string"
      ],
      "metadata": {
        "colab": {
          "base_uri": "https://localhost:8080/",
          "height": 165
        },
        "id": "lOO7uqjVxhhw",
        "outputId": "6bde8216-01e0-435a-c31d-4d1e21b9c9d6"
      },
      "execution_count": null,
      "outputs": [
        {
          "output_type": "error",
          "ename": "IndexError",
          "evalue": "ignored",
          "traceback": [
            "\u001b[0;31m---------------------------------------------------------------------------\u001b[0m",
            "\u001b[0;31mIndexError\u001b[0m                                Traceback (most recent call last)",
            "\u001b[0;32m<ipython-input-76-4c5ae6315ef7>\u001b[0m in \u001b[0;36m<module>\u001b[0;34m\u001b[0m\n\u001b[0;32m----> 1\u001b[0;31m \u001b[0;34m\"Vinícius Gomes Costa Júnior\"\u001b[0m\u001b[0;34m[\u001b[0m\u001b[0;36m50\u001b[0m\u001b[0;34m]\u001b[0m\u001b[0;34m\u001b[0m\u001b[0;34m\u001b[0m\u001b[0m\n\u001b[0m",
            "\u001b[0;31mIndexError\u001b[0m: string index out of range"
          ]
        }
      ]
    },
    {
      "cell_type": "code",
      "source": [
        "\"Vinícius Gomes Costa Júnior\".index('G')"
      ],
      "metadata": {
        "colab": {
          "base_uri": "https://localhost:8080/"
        },
        "id": "HHFJpfSdXb2u",
        "outputId": "7474f304-d2cf-45d1-ff0d-4ddb25db3efb"
      },
      "execution_count": null,
      "outputs": [
        {
          "output_type": "execute_result",
          "data": {
            "text/plain": [
              "9"
            ]
          },
          "metadata": {},
          "execution_count": 99
        }
      ]
    },
    {
      "cell_type": "code",
      "source": [
        "\"Vinícius Gomes Costa Júnior\".find('Gom')"
      ],
      "metadata": {
        "colab": {
          "base_uri": "https://localhost:8080/"
        },
        "id": "r31QEjtVZvL8",
        "outputId": "d2e004d5-1874-423e-8734-9f396fdcdc2e"
      },
      "execution_count": null,
      "outputs": [
        {
          "output_type": "execute_result",
          "data": {
            "text/plain": [
              "9"
            ]
          },
          "metadata": {},
          "execution_count": 107
        }
      ]
    },
    {
      "cell_type": "code",
      "source": [
        "\"Vinícius Gomes Costa Júnior\"[9]"
      ],
      "metadata": {
        "colab": {
          "base_uri": "https://localhost:8080/",
          "height": 35
        },
        "id": "B3CO3nxOXpQD",
        "outputId": "85c85f61-0316-4575-ed80-bcbcbc62361f"
      },
      "execution_count": null,
      "outputs": [
        {
          "output_type": "execute_result",
          "data": {
            "text/plain": [
              "'G'"
            ],
            "application/vnd.google.colaboratory.intrinsic+json": {
              "type": "string"
            }
          },
          "metadata": {},
          "execution_count": 100
        }
      ]
    },
    {
      "cell_type": "code",
      "source": [
        "\"Vinícius Gomes\".find(\"xyz\")"
      ],
      "metadata": {
        "colab": {
          "base_uri": "https://localhost:8080/"
        },
        "id": "FlOAsScQXscA",
        "outputId": "90232445-d043-47a8-f17f-7cc18297205e"
      },
      "execution_count": null,
      "outputs": [
        {
          "output_type": "execute_result",
          "data": {
            "text/plain": [
              "-1"
            ]
          },
          "metadata": {},
          "execution_count": 108
        }
      ]
    },
    {
      "cell_type": "markdown",
      "source": [
        "## Slicing  \n",
        "\n",
        "**s[i:j]**"
      ],
      "metadata": {
        "id": "yKFi3AELuqHy"
      }
    },
    {
      "cell_type": "code",
      "source": [
        "'vinicius-gomes'[0:8]"
      ],
      "metadata": {
        "colab": {
          "base_uri": "https://localhost:8080/",
          "height": 35
        },
        "id": "bVVGzKXrw4-n",
        "outputId": "80e9e544-5194-4c7e-8d39-ca5307191f9b"
      },
      "execution_count": null,
      "outputs": [
        {
          "output_type": "execute_result",
          "data": {
            "text/plain": [
              "'vinicius'"
            ],
            "application/vnd.google.colaboratory.intrinsic+json": {
              "type": "string"
            }
          },
          "metadata": {},
          "execution_count": 77
        }
      ]
    },
    {
      "cell_type": "code",
      "source": [
        "'vinicius-gomes'[:8]"
      ],
      "metadata": {
        "colab": {
          "base_uri": "https://localhost:8080/",
          "height": 35
        },
        "id": "KRrih-TQw9J0",
        "outputId": "4aa8bbf5-956a-43e1-8d6b-8e4b7a833ce3"
      },
      "execution_count": null,
      "outputs": [
        {
          "output_type": "execute_result",
          "data": {
            "text/plain": [
              "'vinicius'"
            ],
            "application/vnd.google.colaboratory.intrinsic+json": {
              "type": "string"
            }
          },
          "metadata": {},
          "execution_count": 78
        }
      ]
    },
    {
      "cell_type": "code",
      "source": [
        "'vinicius-gomes'[8:9]"
      ],
      "metadata": {
        "colab": {
          "base_uri": "https://localhost:8080/",
          "height": 35
        },
        "id": "V6i1AYeS0txf",
        "outputId": "ec129779-72b9-4f4c-d188-19ca2859e4bc"
      },
      "execution_count": null,
      "outputs": [
        {
          "output_type": "execute_result",
          "data": {
            "text/plain": [
              "'-'"
            ],
            "application/vnd.google.colaboratory.intrinsic+json": {
              "type": "string"
            }
          },
          "metadata": {},
          "execution_count": 79
        }
      ]
    },
    {
      "cell_type": "code",
      "source": [
        "'vinicius-gomes'[9:]"
      ],
      "metadata": {
        "colab": {
          "base_uri": "https://localhost:8080/",
          "height": 35
        },
        "id": "onKF9ME007F7",
        "outputId": "9802f2bd-61b8-456a-d254-3367c54b6795"
      },
      "execution_count": null,
      "outputs": [
        {
          "output_type": "execute_result",
          "data": {
            "text/plain": [
              "'gomes'"
            ],
            "application/vnd.google.colaboratory.intrinsic+json": {
              "type": "string"
            }
          },
          "metadata": {},
          "execution_count": 80
        }
      ]
    }
  ]
}