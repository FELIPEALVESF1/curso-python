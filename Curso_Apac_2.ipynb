{
  "nbformat": 4,
  "nbformat_minor": 0,
  "metadata": {
    "colab": {
      "provenance": [],
      "toc_visible": true,
      "include_colab_link": true
    },
    "kernelspec": {
      "name": "python3",
      "display_name": "Python 3"
    },
    "language_info": {
      "name": "python"
    }
  },
  "cells": [
    {
      "cell_type": "markdown",
      "metadata": {
        "id": "view-in-github",
        "colab_type": "text"
      },
      "source": [
        "<a href=\"https://colab.research.google.com/github/viniciusgcjr/curso-python/blob/main/Curso_Apac_2.ipynb\" target=\"_parent\"><img src=\"https://colab.research.google.com/assets/colab-badge.svg\" alt=\"Open In Colab\"/></a>"
      ]
    },
    {
      "cell_type": "markdown",
      "source": [
        "# Variáveis"
      ],
      "metadata": {
        "id": "6AhZfSLPkRVx"
      }
    },
    {
      "cell_type": "markdown",
      "source": [
        "As variáveis podem ser entendidas como uma caixinha, onde os dados são armazenados temporariamente ou em definitivo e que são manipuladas durante a execução do programa"
      ],
      "metadata": {
        "id": "K6ishwrXbWrC"
      }
    },
    {
      "cell_type": "code",
      "source": [
        "x = 1\n",
        "print(x)"
      ],
      "metadata": {
        "id": "oJW4DbkmkUd4"
      },
      "execution_count": null,
      "outputs": []
    },
    {
      "cell_type": "code",
      "source": [
        "y = 3.14\n",
        "y"
      ],
      "metadata": {
        "id": "vnIKPPbGkrng"
      },
      "execution_count": null,
      "outputs": []
    },
    {
      "cell_type": "code",
      "source": [
        "nome = 'Vinícius Gomes Costa Júnior'"
      ],
      "metadata": {
        "id": "yi45xxYmZPcA"
      },
      "execution_count": null,
      "outputs": []
    },
    {
      "cell_type": "code",
      "source": [],
      "metadata": {
        "id": "GvxRWHEWlRHv"
      },
      "execution_count": null,
      "outputs": []
    },
    {
      "cell_type": "markdown",
      "source": [
        "### Trocando valor entre variáveis "
      ],
      "metadata": {
        "id": "NFjcvORhwz0d"
      }
    },
    {
      "cell_type": "code",
      "metadata": {
        "id": "Zkmn7mVN9gbN"
      },
      "source": [
        "#Tradicionalmente em outras linguagens\n",
        "x = 10\n",
        "y = 'Vinícius'\n",
        "\n",
        "z = x\n",
        "x = y \n",
        "y = z\n",
        "print('x: ', x)\n",
        "print('y: ', y)"
      ],
      "execution_count": null,
      "outputs": []
    },
    {
      "cell_type": "code",
      "metadata": {
        "id": "12c2ir3F-VRE"
      },
      "source": [
        "#Trocando valor entre variáveis em python\n",
        "x = 10\n",
        "y = 'Vinícius'\n",
        "x, y = y, x\n"
      ],
      "execution_count": null,
      "outputs": []
    },
    {
      "cell_type": "markdown",
      "source": [
        "# Tipos Internos"
      ],
      "metadata": {
        "id": "Aq2S-ng9RiTc"
      }
    },
    {
      "cell_type": "code",
      "source": [
        "type(nome)"
      ],
      "metadata": {
        "id": "majm87CvbCcu"
      },
      "execution_count": null,
      "outputs": []
    },
    {
      "cell_type": "code",
      "source": [
        "novo_nome = input('Digite seu nome: ')"
      ],
      "metadata": {
        "id": "OtowL8i2bF3j"
      },
      "execution_count": null,
      "outputs": []
    },
    {
      "cell_type": "code",
      "source": [
        "numero = 66\n",
        "print(numero)"
      ],
      "metadata": {
        "id": "6PLeEbU1bsA_"
      },
      "execution_count": null,
      "outputs": []
    },
    {
      "cell_type": "code",
      "source": [
        "type(numero)"
      ],
      "metadata": {
        "id": "OOzueTQnbwi4"
      },
      "execution_count": null,
      "outputs": []
    },
    {
      "cell_type": "code",
      "source": [
        "novo_numero = input('Digite um número: ')"
      ],
      "metadata": {
        "id": "NFQh3aK0byR-"
      },
      "execution_count": null,
      "outputs": []
    },
    {
      "cell_type": "code",
      "source": [
        "numero + 1000"
      ],
      "metadata": {
        "id": "5PgyVZCgb8Nj"
      },
      "execution_count": null,
      "outputs": []
    },
    {
      "cell_type": "code",
      "source": [
        "numero + novo_numero"
      ],
      "metadata": {
        "id": "0hWUIB4scEQC"
      },
      "execution_count": null,
      "outputs": []
    },
    {
      "cell_type": "code",
      "source": [
        "novo_numero"
      ],
      "metadata": {
        "id": "PrW6wMFSV8CZ"
      },
      "execution_count": null,
      "outputs": []
    },
    {
      "cell_type": "code",
      "source": [
        "novo_numero + nome"
      ],
      "metadata": {
        "id": "9UF695JiESZG"
      },
      "execution_count": null,
      "outputs": []
    },
    {
      "cell_type": "markdown",
      "source": [
        "## Casting (Conversão)"
      ],
      "metadata": {
        "id": "Y1Clw0Zbcasc"
      }
    },
    {
      "cell_type": "code",
      "source": [
        "numero"
      ],
      "metadata": {
        "id": "Mo8D4V3FXH3x"
      },
      "execution_count": null,
      "outputs": []
    },
    {
      "cell_type": "code",
      "source": [
        "novo_numero"
      ],
      "metadata": {
        "id": "42uWfDQtXJZJ"
      },
      "execution_count": null,
      "outputs": []
    },
    {
      "cell_type": "code",
      "source": [
        "numero + int(novo_numero)"
      ],
      "metadata": {
        "id": "HqrT3qv2caCN"
      },
      "execution_count": null,
      "outputs": []
    },
    {
      "cell_type": "code",
      "source": [
        "numero + float(novo_numero)"
      ],
      "metadata": {
        "id": "o8eIgnMNXF2a"
      },
      "execution_count": null,
      "outputs": []
    },
    {
      "cell_type": "code",
      "source": [
        "str(numero) + novo_numero"
      ],
      "metadata": {
        "id": "LzbBYCcWXUfT"
      },
      "execution_count": null,
      "outputs": []
    },
    {
      "cell_type": "markdown",
      "source": [
        "##Tipos Numéricos "
      ],
      "metadata": {
        "id": "9YoJkkqrI1ns"
      }
    },
    {
      "cell_type": "markdown",
      "source": [
        "Há três tipos numéricos distintos: integers, floating point numbers, e complex numbers. "
      ],
      "metadata": {
        "id": "EZfWp7R2QOlS"
      }
    },
    {
      "cell_type": "code",
      "source": [
        "# O número inteiro\n",
        "print(123)\n",
        "\n",
        "# O número real (ponto flutuante)\n",
        "print(3.14)\n",
        "\n",
        "# O número complexo\n",
        "1+5j"
      ],
      "metadata": {
        "id": "f4yjoG-7SYOI"
      },
      "execution_count": null,
      "outputs": []
    },
    {
      "cell_type": "markdown",
      "source": [
        "Todos os tipos numéricos (exceto complexos) suportam as seguintes operações:\n",
        " \n",
        "| Operação        | Resultado                                                                       |\n",
        "| --------------- | ------------------------------------------------------------------------------- |\n",
        "| x + y           | soma de x e y                                                                   |\n",
        "| x - y           | diferença de \\* x \\* e \\* y \\*                                                  |\n",
        "| x \\* y          | produto de \\* x \\* e \\* y \\*                                                    |\n",
        "| x / y           | quociente de x e y                                                              |\n",
        "| x // y          | quociente flutuante of x and y                                                  |\n",
        "| x % y           | restante de x / y                                                               |\n",
        "| \\-x             | x negado                                                                        |\n",
        "| +x              | x inalterado                                                                    |\n",
        "| abs(x)          | valor absoluto ou magnitude de x                                                |\n",
        "| int(x)          | x convertido em inteiro                                                         |\n",
        "| float(x)        | x convertido em ponto flutuante                                                 |\n",
        "| complex(re, im) | um número complexo com parte real re, parte imaginária im. im acarreta em zero. |\n",
        "| c.conjugate()   | conjugado do número complexo c                                                  |\n",
        "| divmod(x, y)    | o par (x // y, x % y)                                                           |\n",
        "| pow(x, y)       | x elevado a y                                                                   |\n",
        "| x \\*\\* y        | x elevado a y                                                                   |\n",
        "\n",
        "[Referência](https://docs.python.org/pt-br/3.7/library/stdtypes.html#numeric-types-int-float-complex)"
      ],
      "metadata": {
        "id": "ekMTPGUoGWvA"
      }
    },
    {
      "cell_type": "code",
      "source": [
        "9 + 2"
      ],
      "metadata": {
        "id": "8oyg-CYrUSew"
      },
      "execution_count": null,
      "outputs": []
    },
    {
      "cell_type": "code",
      "source": [
        "9 - 2"
      ],
      "metadata": {
        "id": "nwD1fWcEUVml"
      },
      "execution_count": null,
      "outputs": []
    },
    {
      "cell_type": "code",
      "source": [
        "9 * 2"
      ],
      "metadata": {
        "id": "p00QcZ-HUgpO"
      },
      "execution_count": null,
      "outputs": []
    },
    {
      "cell_type": "code",
      "source": [
        "9 / 2"
      ],
      "metadata": {
        "id": "D6mp_igaUqKj"
      },
      "execution_count": null,
      "outputs": []
    },
    {
      "cell_type": "code",
      "source": [
        "type(9 / 2)"
      ],
      "metadata": {
        "id": "ZzyxVf0SVTk_"
      },
      "execution_count": null,
      "outputs": []
    },
    {
      "cell_type": "code",
      "source": [
        "9 // 2"
      ],
      "metadata": {
        "id": "mBOgO0dSUvKB"
      },
      "execution_count": null,
      "outputs": []
    },
    {
      "cell_type": "code",
      "source": [
        "type( 9 // 2)"
      ],
      "metadata": {
        "id": "67olXm8ZVYb4"
      },
      "execution_count": null,
      "outputs": []
    },
    {
      "cell_type": "code",
      "source": [
        "9 % 2"
      ],
      "metadata": {
        "id": "8-f4RtfbU0dH"
      },
      "execution_count": null,
      "outputs": []
    },
    {
      "cell_type": "code",
      "source": [
        "9 ** 2"
      ],
      "metadata": {
        "id": "utgtrcaRU7A4"
      },
      "execution_count": null,
      "outputs": []
    },
    {
      "cell_type": "markdown",
      "source": [
        "**Observação**   \n",
        "\n",
        "Operações possíveis com strings"
      ],
      "metadata": {
        "id": "M5pSy9kClHp1"
      }
    },
    {
      "cell_type": "code",
      "source": [
        "'vinicius ' + 'gomes' "
      ],
      "metadata": {
        "id": "KEvGWj1blMZj"
      },
      "execution_count": null,
      "outputs": []
    },
    {
      "cell_type": "code",
      "source": [
        "'vinicius ' * 3"
      ],
      "metadata": {
        "id": "eHATqSh4lUDK"
      },
      "execution_count": null,
      "outputs": []
    },
    {
      "cell_type": "markdown",
      "source": [
        "# Operadores de comparação"
      ],
      "metadata": {
        "id": "atvEOTdBXNkf"
      }
    },
    {
      "cell_type": "markdown",
      "source": [
        "## Valores Booleanos\n",
        "Valores Booleanos são os dois objetos constantes False e True. Eles são usados para representar valores verdadeiros (apesar que outros valores também podem ser considerados falso ou verdadeiro). Em contextos numéricos (por exemplo quando usados como argumentos para um operator aritmético), eles se comportam como os inteiros 0 e 1, respectivamente. A função embutida bool() pode ser usada para converter qualquer valor para um Boolean, se o valor puder ser interpretado como um valor verdadeiro "
      ],
      "metadata": {
        "id": "qUBMvMpQOU55"
      }
    },
    {
      "cell_type": "code",
      "source": [
        "# O valor lógico verdadeiro\n",
        "True"
      ],
      "metadata": {
        "id": "uUusfGFXSm0T"
      },
      "execution_count": null,
      "outputs": []
    },
    {
      "cell_type": "code",
      "source": [
        "# O valor lógico falso\n",
        "False"
      ],
      "metadata": {
        "id": "LpRgO3_0Sps0"
      },
      "execution_count": null,
      "outputs": []
    },
    {
      "cell_type": "markdown",
      "source": [
        "| Operação | Significado                 |\n",
        "| -------- | --------------------------- |\n",
        "| <        | estritamente menor que      |\n",
        "| <=       | menor que ou igual          |\n",
        "| \\>       | estritamente maior que      |\n",
        "| \\>=      | maior que ou igual          |\n",
        "| \\==      | igual                       |\n",
        "| !=       | não é igual                 |\n",
        "| is       | identidade do objeto        |\n",
        "| is not   | identidade de objeto negada |\n",
        "\n",
        "[Referência](https://docs.python.org/pt-br/3.7/library/stdtypes.html#comparisons)"
      ],
      "metadata": {
        "id": "c33USr6SJD_g"
      }
    },
    {
      "cell_type": "code",
      "source": [
        "numero == novo_numero"
      ],
      "metadata": {
        "id": "Di7FIqs9R5ka"
      },
      "execution_count": null,
      "outputs": []
    },
    {
      "cell_type": "code",
      "source": [
        "numero == 66"
      ],
      "metadata": {
        "id": "4RBHlgR7SEDT"
      },
      "execution_count": null,
      "outputs": []
    },
    {
      "cell_type": "code",
      "source": [
        "print(False and True)\n",
        "\n",
        "print(False or True)\n",
        "\n",
        "print(not True)\n",
        "\n",
        "print(not False)"
      ],
      "metadata": {
        "id": "xo-tDMIFXgJT"
      },
      "execution_count": null,
      "outputs": []
    },
    {
      "cell_type": "code",
      "source": [
        "2 = 2 # Atenção para o operador ==\n"
      ],
      "metadata": {
        "id": "Ja521oxGX2Em"
      },
      "execution_count": null,
      "outputs": []
    },
    {
      "cell_type": "code",
      "source": [
        "2 == 2"
      ],
      "metadata": {
        "id": "j3Fa_7N1X170"
      },
      "execution_count": null,
      "outputs": []
    },
    {
      "cell_type": "code",
      "source": [
        "98 == 12"
      ],
      "metadata": {
        "id": "IMOK6kBhXulg"
      },
      "execution_count": null,
      "outputs": []
    },
    {
      "cell_type": "code",
      "source": [
        "98 != 12"
      ],
      "metadata": {
        "id": "BjxoE9pDX2HF"
      },
      "execution_count": null,
      "outputs": []
    },
    {
      "cell_type": "code",
      "source": [
        "2 != 2"
      ],
      "metadata": {
        "id": "ZUi4z3TMX2Ja"
      },
      "execution_count": null,
      "outputs": []
    },
    {
      "cell_type": "code",
      "source": [
        "print(10 < 10)\n",
        "print(2 < 10)\n",
        "\n",
        "print(10 <= 10)\n",
        "print(999 <= 10)"
      ],
      "metadata": {
        "id": "vkFpR9xyX2Mu"
      },
      "execution_count": null,
      "outputs": []
    },
    {
      "cell_type": "code",
      "source": [
        "print(5 > 4.1)\n",
        "print(5 != 4.1)"
      ],
      "metadata": {
        "id": "4cTU24KyX2P2"
      },
      "execution_count": null,
      "outputs": []
    },
    {
      "cell_type": "code",
      "source": [
        "print(\"palavrinha\" < \"Palavrão\")"
      ],
      "metadata": {
        "id": "ZIkei0UkZOet"
      },
      "execution_count": null,
      "outputs": []
    },
    {
      "cell_type": "markdown",
      "source": [
        "## Expressões lógicas"
      ],
      "metadata": {
        "id": "cKXwMmgVcLKM"
      }
    },
    {
      "cell_type": "code",
      "source": [
        "ano = 2020"
      ],
      "metadata": {
        "id": "t3UmA1_ZcQc6"
      },
      "execution_count": null,
      "outputs": []
    },
    {
      "cell_type": "markdown",
      "source": [
        "Verificar se ano é bissexto:"
      ],
      "metadata": {
        "id": "-_wTHmOdcSnD"
      }
    },
    {
      "cell_type": "code",
      "source": [
        "bissexto = (ano %   4 == 0 and \n",
        "            ano % 100 != 0) or \\\n",
        "            ano % 400 == 0\n",
        "            \n",
        "print(\"O ano\", ano, \"é bissexto?\", bissexto)"
      ],
      "metadata": {
        "id": "TMnOBY5tbeqB"
      },
      "execution_count": null,
      "outputs": []
    },
    {
      "cell_type": "markdown",
      "source": [
        "**Observação - Junção de linhas**\n",
        "\n",
        "* Junção de linha explícita\n",
        "* Junção de linha implicita\n",
        "\n",
        "[Referência](https://docs.python.org/pt-br/3.7/reference/lexical_analysis.html#explicit-line-joining)\n",
        "\n"
      ],
      "metadata": {
        "id": "fwNWQAD2hsR1"
      }
    },
    {
      "cell_type": "markdown",
      "source": [
        "# Tipagem \n"
      ],
      "metadata": {
        "id": "ayzsPjfgeNss"
      }
    },
    {
      "cell_type": "markdown",
      "source": [
        "## Tipos de Sequências\n",
        "\n",
        "Existem três tipos básicos de seqüência: listas, tuplas e objetos range."
      ],
      "metadata": {
        "id": "6QIjxqloJuHW"
      }
    },
    {
      "cell_type": "markdown",
      "source": [
        "| Operação                 | Resultado                                                                 |\n",
        "| ------------------------ | ------------------------------------------------------------------------- |\n",
        "| x in s                   | True caso um item de s seja igual a x, senão False                        |\n",
        "| x not in s               | False caso um item de s for igual a x, senão True                         |\n",
        "| s + t                    | a concatenão de s e t                                                     |\n",
        "| s \\* n ou n \\* s         | equivalente a adicionar s a si mesmo n vezes                              |\n",
        "| s\\[i\\]                   | ienésimo item de s, origem 0                                              |\n",
        "| s\\[i:j\\]                 | fatia de s desde i para j                                                 |\n",
        "| s\\[i:j:k\\]               | fatia de s desde i para j com passo k                                     |\n",
        "| len(s)                   | comprimento de s                                                          |\n",
        "| min(s)                   | menor item de s                                                           |\n",
        "| max(s)                   | maior item de s                                                           |\n",
        "| s.index(x\\[, i\\[, j\\]\\]) | índice da primeira ocorrência de x em s (no índice i e antes do índice j) |\n",
        "| s.count(x)               | numero total de ocorrência de x em s                                      |\n",
        "\n",
        "[Referência](https://docs.python.org/pt-br/3.7/library/stdtypes.html#sequence-types-list-tuple-range)"
      ],
      "metadata": {
        "id": "DqTbq1rVJ5KD"
      }
    },
    {
      "cell_type": "code",
      "source": [
        "\"gg\" in \"eggs\""
      ],
      "metadata": {
        "id": "psDuQs4uKcKd"
      },
      "execution_count": null,
      "outputs": []
    },
    {
      "cell_type": "code",
      "source": [
        "lists = [[]] * 3\n",
        "lists\n",
        "\n"
      ],
      "metadata": {
        "id": "kGgrD7vHKizW"
      },
      "execution_count": null,
      "outputs": []
    },
    {
      "cell_type": "code",
      "source": [
        "lists[0].append(3)\n",
        "lists\n"
      ],
      "metadata": {
        "id": "MVdCgGmBKlOG"
      },
      "execution_count": null,
      "outputs": []
    },
    {
      "cell_type": "markdown",
      "source": [
        "## Listas\n",
        "\n",
        "As listas são sequências mutáveis, normalmente usadas para armazenar coleções de itens homogêneos\n",
        "\n",
        "[Referência](https://docs.python.org/pt-br/3.7/library/stdtypes.html#lists)"
      ],
      "metadata": {
        "id": "i9-ZZljzKYGh"
      }
    },
    {
      "cell_type": "markdown",
      "source": [
        "As listas podem ser construídas de várias maneiras:\n",
        "\n",
        "* Usando um par de colchetes para denotar uma lista vazia: []\n",
        "* Usando suportes a colchetes, separando itens por vírgulas: [a], [a, b, c]\n",
        "* Usando uma list comprehension: [x for x in iterable]\n",
        "* Usando o construtor de tipo: list() ou list(iterable)"
      ],
      "metadata": {
        "id": "hwVIY3MxLB-W"
      }
    },
    {
      "cell_type": "code",
      "source": [
        "lista = ['Vinícius', 'Gomes', 'Costa', \"Júnior\"]"
      ],
      "metadata": {
        "id": "QOroF7zzZjjx"
      },
      "execution_count": null,
      "outputs": []
    },
    {
      "cell_type": "code",
      "source": [
        "valores = [1,2,3,4,5,6,7,8]\n"
      ],
      "metadata": {
        "id": "cRYO9sRxXxaQ"
      },
      "execution_count": null,
      "outputs": []
    },
    {
      "cell_type": "code",
      "source": [
        "len(lista) #Comprimento da lista"
      ],
      "metadata": {
        "id": "lXkTG4jCm6fX"
      },
      "execution_count": null,
      "outputs": []
    },
    {
      "cell_type": "code",
      "source": [
        "max(valores)"
      ],
      "metadata": {
        "id": "-9CfztT4X1bQ"
      },
      "execution_count": null,
      "outputs": []
    },
    {
      "cell_type": "code",
      "source": [
        "max(lista)"
      ],
      "metadata": {
        "id": "erezNI-EX-HL"
      },
      "execution_count": null,
      "outputs": []
    },
    {
      "cell_type": "code",
      "source": [
        "min(lista)"
      ],
      "metadata": {
        "id": "9gAFgtBtX56j"
      },
      "execution_count": null,
      "outputs": []
    },
    {
      "cell_type": "code",
      "source": [
        "print('Vinícius Gomes Costa')\n",
        "print('Júnior')"
      ],
      "metadata": {
        "id": "bwvAKNvhYuJo"
      },
      "execution_count": null,
      "outputs": []
    },
    {
      "cell_type": "markdown",
      "source": [
        "### Desempacotar listas"
      ],
      "metadata": {
        "id": "dKqHtU0fwY4V"
      }
    },
    {
      "cell_type": "code",
      "metadata": {
        "id": "Yex2pxbi6ULN"
      },
      "source": [
        "#Desempacotamento de listas\n",
        "lista = ['Vinícius', 'Joao', 'Maria', 1,2,3,4,5,6,67]\n",
        "\n",
        "n1, n2 = lista\n",
        "print(n1, n2)"
      ],
      "execution_count": null,
      "outputs": []
    },
    {
      "cell_type": "code",
      "metadata": {
        "id": "UfTxdv6p8zsY"
      },
      "source": [
        "#Desempacotamento de listas\n",
        "lista = ['Vinícius', 'Joao', 'Maria', 1,2,3,4,5,6,67]\n",
        "\n",
        "n1, n2, *outra_lista = lista\n",
        "print(n1, n2)"
      ],
      "execution_count": null,
      "outputs": []
    },
    {
      "cell_type": "code",
      "metadata": {
        "id": "9r-H-dsn86Z0"
      },
      "source": [
        "#Desempacotamento de listas\n",
        "lista = ['Vinícius', 'Joao', 'Maria', 1,2,3,4,5,6,67]\n",
        "\n",
        "n1, n2, *outra_lista = lista\n",
        "print(n1, n2, outra_lista)"
      ],
      "execution_count": null,
      "outputs": []
    },
    {
      "cell_type": "code",
      "metadata": {
        "id": "yLC2sh599CwU"
      },
      "source": [
        "#Desempacotamento de listas\n",
        "lista = ['Vinícius', 'Joao', 'Maria', 1,2,3,4,5,6,67]\n",
        "\n",
        "n1, n2, *outra_lista, ult_valor = lista\n",
        "print(n1, n2, ult_valor)"
      ],
      "execution_count": null,
      "outputs": []
    },
    {
      "cell_type": "code",
      "metadata": {
        "id": "_dSXkvkX9T3V"
      },
      "source": [
        "#Desempacotamento de listas\n",
        "lista = ['Vinícius', 'Joao', 'Maria', 1,2,3,4,5,6,67]\n",
        "\n",
        "*outra_lista, n1, n2, n3 = lista\n",
        "print(outra_lista, n1, n2, n3)"
      ],
      "execution_count": null,
      "outputs": []
    },
    {
      "cell_type": "markdown",
      "source": [
        "## Tuplas\n",
        "As Tuplas são sequências imutáveis, tipicamente usadas para armazenar coleções de dados heterogêneos\n",
        "\n",
        "[Referência](https://docs.python.org/pt-br/3.7/library/stdtypes.html#tuples)"
      ],
      "metadata": {
        "id": "pFow8X3yLYRL"
      }
    },
    {
      "cell_type": "markdown",
      "source": [
        "As Tuplas podem ser construídos de várias maneiras:\n",
        "\n",
        "* Usando um par de parênteses para denotar que a tupla está vazia: ()\n",
        "* Usando uma vírgula à direita para uma tupla contendo um único elemento: a, ou (a,)\n",
        "* Separando os itens por vírgula: a, b, c ou (a, b, c)\n",
        "* Usando a função built-in tuple(): tuple() ou tuple(iterable)"
      ],
      "metadata": {
        "id": "2UI4RwXRLa73"
      }
    },
    {
      "cell_type": "code",
      "source": [
        "t = 1,\n",
        "print(type(t))"
      ],
      "metadata": {
        "id": "TlTJ6VVzxl6A"
      },
      "execution_count": null,
      "outputs": []
    },
    {
      "cell_type": "code",
      "source": [
        "tupla1 = (1,2,3,4, 'a1', 'Vinicius')\n",
        "tupla1[1]"
      ],
      "metadata": {
        "id": "LLVVCBtNxfl_"
      },
      "execution_count": null,
      "outputs": []
    },
    {
      "cell_type": "code",
      "source": [
        "tupla2 = 1, 2, 'a', 'b'\n",
        "print(tupla2)\n",
        "print(type(tupla2))"
      ],
      "metadata": {
        "id": "Zb9i9GKXxhYX"
      },
      "execution_count": null,
      "outputs": []
    },
    {
      "cell_type": "markdown",
      "source": [
        "## Ranges\n",
        "O tipo da classe range representa uma sequência imutável de números e é comumente usada para fazer um looping um número determinado de vezes por for.\n",
        "\n",
        "[Referência](https://docs.python.org/pt-br/3.7/library/stdtypes.html#ranges)"
      ],
      "metadata": {
        "id": "ek5YcoeRLoIA"
      }
    },
    {
      "cell_type": "code",
      "source": [
        "list(range(10))"
      ],
      "metadata": {
        "id": "MTorAnscLre7"
      },
      "execution_count": null,
      "outputs": []
    },
    {
      "cell_type": "code",
      "source": [
        "list(range(0,20,3))"
      ],
      "metadata": {
        "id": "MxikOUxmLtOr"
      },
      "execution_count": null,
      "outputs": []
    },
    {
      "cell_type": "markdown",
      "source": [
        "## Tipo de Sequência de Texto — str\n",
        "\n",
        "Os dados textuais em Python são tratados com objetos str, ou strings. \n",
        "\n",
        "[Referência](https://docs.python.org/pt-br/3.7/library/stdtypes.html#text-sequence-type-str)"
      ],
      "metadata": {
        "id": "OUrzquoWMdw4"
      }
    },
    {
      "cell_type": "markdown",
      "source": [
        "### Concatenação de strings"
      ],
      "metadata": {
        "id": "cFyh3_WejWsb"
      }
    },
    {
      "cell_type": "code",
      "source": [
        "\"Curso\" + \"de\" + \"python\""
      ],
      "metadata": {
        "id": "686NjSuTSvQx"
      },
      "execution_count": null,
      "outputs": []
    },
    {
      "cell_type": "markdown",
      "source": [
        "**Observar os espaços**"
      ],
      "metadata": {
        "id": "WM2sZLdWkDB4"
      }
    },
    {
      "cell_type": "code",
      "source": [
        "\"Curso \" + \"de \" + \"python\""
      ],
      "metadata": {
        "id": "o1O0nrYahZva"
      },
      "execution_count": null,
      "outputs": []
    },
    {
      "cell_type": "code",
      "source": [
        "\"Curso \" \"python\""
      ],
      "metadata": {
        "id": "znyxEerCjplf"
      },
      "execution_count": null,
      "outputs": []
    },
    {
      "cell_type": "code",
      "source": [
        "\"Curso \"  \"de \" + \"python\""
      ],
      "metadata": {
        "id": "kyWCdKanjsZN"
      },
      "execution_count": null,
      "outputs": []
    },
    {
      "cell_type": "code",
      "source": [
        "print('Curso', 'de', 'python')"
      ],
      "metadata": {
        "id": "zVNJiMHxkx3w"
      },
      "execution_count": null,
      "outputs": []
    },
    {
      "cell_type": "code",
      "source": [
        "texto = ['Curso', 'de', 'python']\n",
        "str_concat = ' '.join(texto)\n",
        "print(str_concat)"
      ],
      "metadata": {
        "id": "X55EZmdJj42x"
      },
      "execution_count": null,
      "outputs": []
    },
    {
      "cell_type": "code",
      "source": [
        "len(str_concat)"
      ],
      "metadata": {
        "id": "qyoFDTh-nUi_"
      },
      "execution_count": null,
      "outputs": []
    },
    {
      "cell_type": "code",
      "source": [
        "len(texto)"
      ],
      "metadata": {
        "id": "TsXfXiS8nDcS"
      },
      "execution_count": null,
      "outputs": []
    },
    {
      "cell_type": "markdown",
      "source": [
        "### Pertinência e Impertinência"
      ],
      "metadata": {
        "id": "y_qFaZgdk9XA"
      }
    },
    {
      "cell_type": "code",
      "source": [
        "'i' in 'vinicius'"
      ],
      "metadata": {
        "id": "3l3uX6dnk_xo"
      },
      "execution_count": null,
      "outputs": []
    },
    {
      "cell_type": "code",
      "source": [
        "'a' in 'vinicius'"
      ],
      "metadata": {
        "id": "_1VZy4usl0kq"
      },
      "execution_count": null,
      "outputs": []
    },
    {
      "cell_type": "code",
      "source": [
        "'arquivo' in 'arquivo_qualquer.txt'"
      ],
      "metadata": {
        "id": "K2i_SWqFl4m4"
      },
      "execution_count": null,
      "outputs": []
    },
    {
      "cell_type": "code",
      "source": [
        "'txt' in 'arquivo_qualquer.txt'"
      ],
      "metadata": {
        "id": "hQIOfTWmmOyk"
      },
      "execution_count": null,
      "outputs": []
    },
    {
      "cell_type": "code",
      "source": [
        "'i' not in 'vinicius'"
      ],
      "metadata": {
        "id": "8pz6xo4WmGko"
      },
      "execution_count": null,
      "outputs": []
    },
    {
      "cell_type": "code",
      "source": [
        "'.txt' not in 'arquivo_qualquer.txt'"
      ],
      "metadata": {
        "id": "_e45IhGAmKUv"
      },
      "execution_count": null,
      "outputs": []
    },
    {
      "cell_type": "code",
      "source": [],
      "metadata": {
        "id": "sAnfp644ncah"
      },
      "execution_count": null,
      "outputs": []
    },
    {
      "cell_type": "markdown",
      "source": [],
      "metadata": {
        "id": "Ozd7b74Nnc0O"
      }
    },
    {
      "cell_type": "markdown",
      "source": [
        "##Indexing\n",
        "\n",
        "**s[i]**"
      ],
      "metadata": {
        "id": "ZOmmM5AbxS2X"
      }
    },
    {
      "cell_type": "code",
      "source": [
        "\"Vinícius Gomes Costa Júnior\"[0]\n"
      ],
      "metadata": {
        "id": "_ZQ0qDICxTVx"
      },
      "execution_count": null,
      "outputs": []
    },
    {
      "cell_type": "code",
      "source": [
        "\"Vinícius Gomes Costa Júnior\"[5]"
      ],
      "metadata": {
        "id": "vEiCWTy3xlQf"
      },
      "execution_count": null,
      "outputs": []
    },
    {
      "cell_type": "code",
      "source": [
        "\"Vinícius Gomes Costa Júnior\"[-1]"
      ],
      "metadata": {
        "id": "puckZCNjxZ4x"
      },
      "execution_count": null,
      "outputs": []
    },
    {
      "cell_type": "code",
      "source": [
        "\"Vinícius Gomes Costa Júnior\"[50] #indexar valor maior que string"
      ],
      "metadata": {
        "id": "lOO7uqjVxhhw"
      },
      "execution_count": null,
      "outputs": []
    },
    {
      "cell_type": "code",
      "source": [
        "\"Vinícius Gomes Costa Júnior\".index('G')"
      ],
      "metadata": {
        "id": "HHFJpfSdXb2u"
      },
      "execution_count": null,
      "outputs": []
    },
    {
      "cell_type": "code",
      "source": [
        "\"Vinícius Gomes Costa Júnior\".find('Gom')"
      ],
      "metadata": {
        "id": "r31QEjtVZvL8"
      },
      "execution_count": null,
      "outputs": []
    },
    {
      "cell_type": "code",
      "source": [
        "\"Vinícius Gomes Costa Júnior\"[9]"
      ],
      "metadata": {
        "id": "B3CO3nxOXpQD"
      },
      "execution_count": null,
      "outputs": []
    },
    {
      "cell_type": "code",
      "source": [
        "\"Vinícius Gomes\".find(\"xyz\")"
      ],
      "metadata": {
        "id": "FlOAsScQXscA"
      },
      "execution_count": null,
      "outputs": []
    },
    {
      "cell_type": "markdown",
      "source": [
        "## Slicing  \n",
        "\n",
        "**s[i:j]**"
      ],
      "metadata": {
        "id": "yKFi3AELuqHy"
      }
    },
    {
      "cell_type": "code",
      "source": [
        "'vinicius-gomes'[0:8]"
      ],
      "metadata": {
        "id": "bVVGzKXrw4-n"
      },
      "execution_count": null,
      "outputs": []
    },
    {
      "cell_type": "code",
      "source": [
        "'vinicius-gomes'[:8]"
      ],
      "metadata": {
        "id": "KRrih-TQw9J0"
      },
      "execution_count": null,
      "outputs": []
    },
    {
      "cell_type": "code",
      "source": [
        "'vinicius-gomes'[8:9]"
      ],
      "metadata": {
        "id": "V6i1AYeS0txf"
      },
      "execution_count": null,
      "outputs": []
    },
    {
      "cell_type": "code",
      "source": [
        "'vinicius-gomes'[9:]"
      ],
      "metadata": {
        "id": "onKF9ME007F7"
      },
      "execution_count": null,
      "outputs": []
    }
  ]
}