{
  "nbformat": 4,
  "nbformat_minor": 0,
  "metadata": {
    "colab": {
      "provenance": [],
      "authorship_tag": "ABX9TyPQeC7s9QSGE0cI4lLpkRej",
      "include_colab_link": true
    },
    "kernelspec": {
      "name": "python3",
      "display_name": "Python 3"
    },
    "language_info": {
      "name": "python"
    }
  },
  "cells": [
    {
      "cell_type": "markdown",
      "metadata": {
        "id": "view-in-github",
        "colab_type": "text"
      },
      "source": [
        "<a href=\"https://colab.research.google.com/github/viniciusgcjr/curso-python/blob/main/Curso_5.ipynb\" target=\"_parent\"><img src=\"https://colab.research.google.com/assets/colab-badge.svg\" alt=\"Open In Colab\"/></a>"
      ]
    },
    {
      "cell_type": "markdown",
      "metadata": {
        "id": "3_N452ETrABp"
      },
      "source": [
        "# Try, expect"
      ]
    },
    {
      "cell_type": "code",
      "metadata": {
        "id": "grKArnKJrCmc"
      },
      "source": [
        "try:\n",
        "  a = {}\n",
        "  print(a[1])\n",
        "except NameError as erro:\n",
        "  print('Erro do desenvolvedor')\n",
        "\n",
        "#para saber todos os erros built-in do python basta escrever error e a ide irá mostrar as opções  \n",
        "except (IndexError, KeyError) as erro:\n",
        "  print(\"Erro de indice ou chave\")\n",
        "\n",
        "#except Exception irá pegar todos os erros que não foram especificados acima\n",
        "except Exception as erro:\n",
        "  print(\"ocorreu um erro inesperado\")\n",
        "\n",
        "else:\n",
        "  pass\n",
        "\n",
        "#Finalmente é executado sempre\n",
        "finally:\n",
        "  print(\"Finalmente\")\n",
        "\n",
        "print(\"Continuando\")\n"
      ],
      "execution_count": null,
      "outputs": []
    },
    {
      "cell_type": "code",
      "metadata": {
        "id": "1Pz1EvWhtUuD"
      },
      "source": [
        "try:\n",
        "  b = 1/0\n",
        "\n",
        "except Exception as erro:\n",
        "  print(\"ocorreu um erro inesperado\")\n",
        "\n",
        "#Finalmente é executado sempre\n",
        "finally:\n",
        "  pass\n",
        "\n",
        "print(b)"
      ],
      "execution_count": null,
      "outputs": []
    },
    {
      "cell_type": "code",
      "metadata": {
        "id": "mityEBhlt7pZ"
      },
      "source": [
        "try:\n",
        "  b = 1/0\n",
        "\n",
        "except Exception as erro:\n",
        "  print(\"ocorreu um erro inesperado\")\n",
        "\n",
        "#Uma maneira de tratar esta exceção seria setar b no finalmente\n",
        "finally:\n",
        "  b = None\n",
        "\n",
        "print(b)"
      ],
      "execution_count": null,
      "outputs": []
    },
    {
      "cell_type": "markdown",
      "metadata": {
        "id": "C6NWPLA_u62a"
      },
      "source": [
        "# Raise"
      ]
    },
    {
      "cell_type": "markdown",
      "metadata": {
        "id": "P_utOUKCA-_B"
      },
      "source": [
        "Built-in Excepctions: https://docs.python.org/3/library/exceptions.html"
      ]
    },
    {
      "cell_type": "code",
      "metadata": {
        "id": "KvY2BFeAu8mn"
      },
      "source": [
        "def divide(n1, n2):\n",
        "  try:\n",
        "    return n1/n2\n",
        "  except ZeroDivisionError as error:\n",
        "    print(\"log: \", error)\n",
        "    \n",
        "    #Retorno a exceção para ser capturada posteriormente\n",
        "    raise\n",
        "\n",
        "try:\n",
        "  print(divide(2,0))\n",
        "except ZeroDivisionError as erro:\n",
        "  print(erro)"
      ],
      "execution_count": null,
      "outputs": []
    },
    {
      "cell_type": "code",
      "metadata": {
        "id": "O23k_3VtvMtg"
      },
      "source": [
        "def divide (n1, n2):\n",
        "  if n2 == 0:\n",
        "    raise ValueError (\"n2 não pode ser dividido por 0\")\n",
        "  return n1/n2\n",
        "\n",
        "print(divide(2,0))"
      ],
      "execution_count": null,
      "outputs": []
    },
    {
      "cell_type": "markdown",
      "source": [
        "## Chapter 8"
      ],
      "metadata": {
        "id": "AfkF6HnjITQc"
      }
    },
    {
      "cell_type": "code",
      "source": [
        "import os"
      ],
      "metadata": {
        "id": "cagMQCuLLo-w"
      },
      "execution_count": null,
      "outputs": []
    },
    {
      "cell_type": "code",
      "execution_count": null,
      "metadata": {
        "id": "3QNUSR3MGyYF"
      },
      "outputs": [],
      "source": [
        "os.path.join('usr', 'bin', 'spam')"
      ]
    },
    {
      "cell_type": "code",
      "source": [
        "myFiles = ['accounts.txt', 'details.csv', 'invite.docx']\n",
        "for filename in myFiles:\n",
        "  print(os.path.join('Users/vinicius', filename))\n"
      ],
      "metadata": {
        "id": "ETL1i5eYIShe"
      },
      "execution_count": null,
      "outputs": []
    },
    {
      "cell_type": "code",
      "source": [
        "os.getcwd() #pwd"
      ],
      "metadata": {
        "id": "LaBgL-BAIYQ-"
      },
      "execution_count": null,
      "outputs": []
    },
    {
      "cell_type": "code",
      "source": [
        "os.chdir('sample_data')"
      ],
      "metadata": {
        "id": "-gnqUS7lI-0q"
      },
      "execution_count": null,
      "outputs": []
    },
    {
      "cell_type": "code",
      "source": [
        "os.getcwd() #pwd"
      ],
      "metadata": {
        "id": "wBnVFsocJJOR"
      },
      "execution_count": null,
      "outputs": []
    },
    {
      "cell_type": "code",
      "source": [
        "os.chdir('../') #relative path\n",
        "os.getcwd()"
      ],
      "metadata": {
        "id": "8lx3FaANJPnC"
      },
      "execution_count": null,
      "outputs": []
    },
    {
      "cell_type": "code",
      "source": [
        "os.chdir('/content/sample_data') #absolute path\n",
        "os.getcwd()"
      ],
      "metadata": {
        "id": "uhVrkBelJzLk"
      },
      "execution_count": null,
      "outputs": []
    },
    {
      "cell_type": "code",
      "source": [
        "os.path.splitext(\"sample.txt\")[0]"
      ],
      "metadata": {
        "id": "F8L2dGv9e6mC"
      },
      "execution_count": null,
      "outputs": []
    },
    {
      "cell_type": "markdown",
      "source": [
        "### New Folders"
      ],
      "metadata": {
        "id": "ucTYSTMmJpXO"
      }
    },
    {
      "cell_type": "code",
      "source": [
        "os.makedirs('Output')"
      ],
      "metadata": {
        "id": "IVFUax4-JUax"
      },
      "execution_count": null,
      "outputs": []
    },
    {
      "cell_type": "markdown",
      "source": [
        "#os.path"
      ],
      "metadata": {
        "id": "36lD8Zl5KToT"
      }
    },
    {
      "cell_type": "code",
      "source": [
        "os.path.abspath('.')"
      ],
      "metadata": {
        "id": "jPIkvQ-GKX_q"
      },
      "execution_count": null,
      "outputs": []
    },
    {
      "cell_type": "code",
      "source": [
        "os.path.abspath('./Output') #retorna caminho absoluto"
      ],
      "metadata": {
        "id": "zEPrbh9mKa2E"
      },
      "execution_count": null,
      "outputs": []
    },
    {
      "cell_type": "code",
      "source": [
        "os.path.relpath('/content/sample_data/Output') #retorna caminho relativo\n"
      ],
      "metadata": {
        "id": "RE912NuJKrH0"
      },
      "execution_count": null,
      "outputs": []
    },
    {
      "cell_type": "code",
      "source": [
        "path = '/content/sample_data/Output' #path é dado pelo dir name + base name\n",
        "os.path.basename(path)"
      ],
      "metadata": {
        "id": "5JlccP32K057"
      },
      "execution_count": null,
      "outputs": []
    },
    {
      "cell_type": "code",
      "source": [
        "os.path.dirname(path)"
      ],
      "metadata": {
        "id": "6P8O5XMWQs4Z"
      },
      "execution_count": null,
      "outputs": []
    },
    {
      "cell_type": "code",
      "source": [
        "os.path.split(path) #retorna o dir name e o base name separados"
      ],
      "metadata": {
        "id": "28cmEdBQQ5_c"
      },
      "execution_count": null,
      "outputs": []
    },
    {
      "cell_type": "markdown",
      "source": [
        "### Finding file and folder contents"
      ],
      "metadata": {
        "id": "44WhTMivRcEK"
      }
    },
    {
      "cell_type": "code",
      "source": [
        "os.path.getsize('/content/sample_data') #retorna o tamanho em bytes"
      ],
      "metadata": {
        "id": "_Qs4zn1VRd4i"
      },
      "execution_count": null,
      "outputs": []
    },
    {
      "cell_type": "code",
      "source": [
        "os.listdir('/content/')"
      ],
      "metadata": {
        "id": "hivGomJJRjDj"
      },
      "execution_count": null,
      "outputs": []
    },
    {
      "cell_type": "code",
      "source": [
        "os.listdir('../../')"
      ],
      "metadata": {
        "id": "xXPqlOEGRpQU"
      },
      "execution_count": null,
      "outputs": []
    },
    {
      "cell_type": "markdown",
      "source": [
        "### checking path validity"
      ],
      "metadata": {
        "id": "1erAoXxiSA4P"
      }
    },
    {
      "cell_type": "code",
      "source": [
        "os.path.exists('/content/')"
      ],
      "metadata": {
        "id": "82ONo0UYRtRS"
      },
      "execution_count": null,
      "outputs": []
    },
    {
      "cell_type": "code",
      "source": [
        "os.path.exists('/content/naoexiste')"
      ],
      "metadata": {
        "id": "PNPEiB_9SI0A"
      },
      "execution_count": null,
      "outputs": []
    },
    {
      "cell_type": "code",
      "source": [
        "os.path.isdir('/content')"
      ],
      "metadata": {
        "id": "FpGiLhz2SL7Z"
      },
      "execution_count": null,
      "outputs": []
    },
    {
      "cell_type": "code",
      "source": [
        "os.path.isfile('/content/')"
      ],
      "metadata": {
        "id": "Z6j1DKPUSQtQ"
      },
      "execution_count": null,
      "outputs": []
    },
    {
      "cell_type": "code",
      "source": [
        "os.path.isfile('/content/sample_data/california_housing_test.csv')"
      ],
      "metadata": {
        "id": "cPsy--btSVEA"
      },
      "execution_count": null,
      "outputs": []
    },
    {
      "cell_type": "markdown",
      "source": [
        "### File readind/writing process"
      ],
      "metadata": {
        "id": "PzXLXzFKSjPG"
      }
    },
    {
      "cell_type": "code",
      "source": [
        "new_file = open('/content/sample_data/california_housing_test.csv')\n"
      ],
      "metadata": {
        "id": "Rtb5HQFbSaLn"
      },
      "execution_count": null,
      "outputs": []
    },
    {
      "cell_type": "code",
      "source": [
        "new_file.read()"
      ],
      "metadata": {
        "id": "jE8ENmegS5Ne"
      },
      "execution_count": null,
      "outputs": []
    },
    {
      "cell_type": "code",
      "source": [
        "new_file.readlines() #observação: o arquivo foi fechado, logo a lista vai voltar vazia"
      ],
      "metadata": {
        "id": "EY5AoLOSTGp3"
      },
      "execution_count": null,
      "outputs": []
    },
    {
      "cell_type": "code",
      "source": [
        "new_file = open('/content/sample_data/california_housing_test.csv')\n",
        "new_file.readlines()"
      ],
      "metadata": {
        "id": "8nT3qwYRTM2l"
      },
      "execution_count": null,
      "outputs": []
    },
    {
      "cell_type": "code",
      "source": [],
      "metadata": {
        "id": "pZb1oCeTTgI8"
      },
      "execution_count": null,
      "outputs": []
    },
    {
      "cell_type": "markdown",
      "source": [
        "### Writing to files"
      ],
      "metadata": {
        "id": "HwAUbjV2Tka9"
      }
    },
    {
      "cell_type": "code",
      "source": [
        "ola = open('hello.txt', 'w')\n",
        "ola.write('hello world')\n",
        "ola.close()"
      ],
      "metadata": {
        "id": "aZc99W7rTmBi"
      },
      "execution_count": null,
      "outputs": []
    },
    {
      "cell_type": "code",
      "source": [
        "ola"
      ],
      "metadata": {
        "id": "5eH2ndMrTw0y"
      },
      "execution_count": null,
      "outputs": []
    },
    {
      "cell_type": "code",
      "source": [
        "ola = open('/content/sample_data/hello.txt')\n",
        "ola.read()"
      ],
      "metadata": {
        "id": "y5WGt4SYTyFa"
      },
      "execution_count": null,
      "outputs": []
    },
    {
      "cell_type": "code",
      "source": [
        "ola = open('/content/sample_data/hello.txt', 'a') #append no arquivo\n",
        "ola.write('texto adicionado')\n"
      ],
      "metadata": {
        "id": "A6YW0pyqT1XU"
      },
      "execution_count": null,
      "outputs": []
    },
    {
      "cell_type": "code",
      "source": [
        "ola = open('/content/sample_data/hello.txt')\n",
        "ola.read()"
      ],
      "metadata": {
        "id": "mGWwMq2dUKIZ"
      },
      "execution_count": null,
      "outputs": []
    },
    {
      "cell_type": "markdown",
      "source": [
        "# Organizing files"
      ],
      "metadata": {
        "id": "Lr3FFNSbaZzi"
      }
    },
    {
      "cell_type": "markdown",
      "source": [
        "## Copying"
      ],
      "metadata": {
        "id": "tMMGIYlSakUV"
      }
    },
    {
      "cell_type": "code",
      "source": [
        "import shutil, os"
      ],
      "metadata": {
        "id": "o-ZUGbm_afj6"
      },
      "execution_count": null,
      "outputs": []
    },
    {
      "cell_type": "code",
      "source": [
        "os.getcwd()"
      ],
      "metadata": {
        "id": "PZptTcUcaqSK"
      },
      "execution_count": null,
      "outputs": []
    },
    {
      "cell_type": "code",
      "source": [
        "shutil.copy('/content/sample_data/mnist_train_small.csv', 'copia_mnist.csv') #copia arquivo"
      ],
      "metadata": {
        "id": "YehMIswmatrR"
      },
      "execution_count": null,
      "outputs": []
    },
    {
      "cell_type": "code",
      "source": [
        "shutil.copytree('/content/sample_data', '/content/sample_data/backup') #copia diretório com todos os arquivos"
      ],
      "metadata": {
        "id": "qfSkQMwpa5cp"
      },
      "execution_count": null,
      "outputs": []
    },
    {
      "cell_type": "markdown",
      "source": [
        "## Moving and renaming"
      ],
      "metadata": {
        "id": "GvFUqAHubhAe"
      }
    },
    {
      "cell_type": "code",
      "source": [
        "os.makedirs('Output/pasta_txt')\n",
        "os.makedirs('Output/pasta_csv')\n",
        "os.makedirs('Output/pasta_txt/novapasta_txt/')"
      ],
      "metadata": {
        "id": "V7oEYeQq13jN"
      },
      "execution_count": null,
      "outputs": []
    },
    {
      "cell_type": "code",
      "source": [
        "shutil.move('/content/sample_data/backup/hello.txt', './Output/hello_moved.txt')"
      ],
      "metadata": {
        "id": "HhAyvWS6bSXv"
      },
      "execution_count": null,
      "outputs": []
    },
    {
      "cell_type": "code",
      "source": [
        "shutil.move('/content/sample_data/backup/california_housing_test.csv', './Output/pasta_csv/california_housing_test.csv')\n"
      ],
      "metadata": {
        "id": "x6ASDopZTC8G"
      },
      "execution_count": null,
      "outputs": []
    },
    {
      "cell_type": "code",
      "source": [
        "shutil.move('/content/sample_data/backup/california_housing_train.csv', './Output/pasta_csv/california_train.csv') #note que o nome foi alterado"
      ],
      "metadata": {
        "id": "vbnGBtI9UP8F"
      },
      "execution_count": null,
      "outputs": []
    },
    {
      "cell_type": "code",
      "source": [
        "shutil.move('/content/sample_data/backup/anscombe.json', 'Output/pasta_txt/novapasta_txt/anscombe.json')"
      ],
      "metadata": {
        "id": "24D2AzyLUxWN"
      },
      "execution_count": null,
      "outputs": []
    },
    {
      "cell_type": "code",
      "source": [
        "shutil.move('/content/sample_data/backup/hello.txt', './dir_not_exist/hello_moved.txt') #Erro caso o dir não exista"
      ],
      "metadata": {
        "id": "XmETUqeD1kqe"
      },
      "execution_count": null,
      "outputs": []
    },
    {
      "cell_type": "markdown",
      "source": [
        "## os.walk"
      ],
      "metadata": {
        "id": "Fhrgb0Gc6h11"
      }
    },
    {
      "cell_type": "code",
      "source": [
        "shutil.copytree('/content/sample_data/Output', '/content/sample_data/outputbackup') #copia diretório com todos os arquivos"
      ],
      "metadata": {
        "id": "pQUYePpKd87i"
      },
      "execution_count": null,
      "outputs": []
    },
    {
      "cell_type": "markdown",
      "source": [
        "## Deleting"
      ],
      "metadata": {
        "id": "fDKks-Ke17Vz"
      }
    },
    {
      "cell_type": "code",
      "source": [
        "os.unlink('/content/sample_data/backup/README.md') #Deleta arquivo"
      ],
      "metadata": {
        "id": "QT3faEck1-d9"
      },
      "execution_count": null,
      "outputs": []
    },
    {
      "cell_type": "code",
      "source": [
        "os.makedirs('/content/sample_data/backup/nova_pasta') #cria pasta"
      ],
      "metadata": {
        "id": "MU0kiZgf2WIa"
      },
      "execution_count": null,
      "outputs": []
    },
    {
      "cell_type": "code",
      "source": [
        "os.makedirs('/content/sample_data/backup/nova_pasta/subpasta') "
      ],
      "metadata": {
        "id": "q1i9oE_12nhZ"
      },
      "execution_count": null,
      "outputs": []
    },
    {
      "cell_type": "code",
      "source": [
        "os.rmdir('/content/sample_data/backup/nova_pasta') #deleta a pasta se estiver vazia"
      ],
      "metadata": {
        "id": "UOuoq2BU2KBs"
      },
      "execution_count": null,
      "outputs": []
    },
    {
      "cell_type": "code",
      "source": [
        "os.rmdir('/content/sample_data/backup/nova_pasta/subpasta') #deleta pasta vazia"
      ],
      "metadata": {
        "id": "karNjy1i2hgK"
      },
      "execution_count": null,
      "outputs": []
    },
    {
      "cell_type": "code",
      "source": [
        "import shutil\n",
        "shutil.rmtree('/content/sample_data/backup/') #deleta pasta e tudo que estiver dentro"
      ],
      "metadata": {
        "id": "3bNS3xMF2yqJ"
      },
      "execution_count": null,
      "outputs": []
    },
    {
      "cell_type": "markdown",
      "source": [
        "### recuperando da lixeira\n"
      ],
      "metadata": {
        "id": "rj63Stvm520x"
      }
    },
    {
      "cell_type": "code",
      "source": [
        "import send2trash\n",
        "send2trash.send2trash('./hello_moved.txt')\n"
      ],
      "metadata": {
        "id": "IU_9PgsF25AJ"
      },
      "execution_count": null,
      "outputs": []
    },
    {
      "cell_type": "markdown",
      "source": [
        "No colab não temos acesso ao root, logo para manipular arquivos o ideal é montar o google drive e la podemos utilizar o pydrive para recuperar ou limpar a lixeira: \n",
        "\n",
        "---\n",
        "https://stackoverflow.com/a/61135467\n",
        "\n",
        "\n"
      ],
      "metadata": {
        "id": "Jqk2r_r357D-"
      }
    },
    {
      "cell_type": "code",
      "source": [
        "!ls ~/local/share/Trash/"
      ],
      "metadata": {
        "id": "gwZGIh8E3YJP"
      },
      "execution_count": null,
      "outputs": []
    },
    {
      "cell_type": "markdown",
      "source": [
        "## Compressing files"
      ],
      "metadata": {
        "id": "1ZI5KUl7A5yv"
      }
    },
    {
      "cell_type": "code",
      "source": [
        "import zipfile, os"
      ],
      "metadata": {
        "id": "uzWgfGD8A8Ei"
      },
      "execution_count": null,
      "outputs": []
    },
    {
      "cell_type": "markdown",
      "source": [
        "### Creating"
      ],
      "metadata": {
        "id": "39BiX2xQCNSI"
      }
    },
    {
      "cell_type": "code",
      "source": [
        "novo_arquivo_compactado = zipfile.ZipFile('./california.zip', 'w')\n",
        "novo_arquivo_compactado.write('/content/sample_data/california_housing_test.csv')\n",
        "novo_arquivo_compactado.write('/content/sample_data/california_housing_train.csv')\n",
        "novo_arquivo_compactado.close()\n"
      ],
      "metadata": {
        "id": "QaVOX4AdBEWh"
      },
      "execution_count": null,
      "outputs": []
    },
    {
      "cell_type": "markdown",
      "source": [
        "### reading"
      ],
      "metadata": {
        "id": "1mqe1AxBChF8"
      }
    },
    {
      "cell_type": "code",
      "source": [
        "zip_para_leitura = zipfile.ZipFile('california.zip')\n",
        "zip_para_leitura.namelist()"
      ],
      "metadata": {
        "id": "49VesXXWCift"
      },
      "execution_count": null,
      "outputs": []
    },
    {
      "cell_type": "markdown",
      "source": [
        "### Extracting"
      ],
      "metadata": {
        "id": "Ym9fZbscC8F0"
      }
    },
    {
      "cell_type": "code",
      "source": [
        "extracao = zipfile.ZipFile('california.zip') \n",
        "extracao.extractall()\n",
        "extracao.close()"
      ],
      "metadata": {
        "id": "F5jcWtpmC1Pe"
      },
      "execution_count": null,
      "outputs": []
    },
    {
      "cell_type": "markdown",
      "source": [
        "# CAP 15"
      ],
      "metadata": {
        "id": "cvgjaoIBVvNZ"
      }
    },
    {
      "cell_type": "markdown",
      "source": [
        "The Unix epoch is a time reference commonly used in programming: 12 Amon January 1, 1970, Coordinated Universal Time (UTC). The time.time()function returns the number of seconds since that moment as a float value. (Recall that a float is just a number with a decimal point.) This number is called an epoch timestamp. For example, enter the following into the interac-tive shell"
      ],
      "metadata": {
        "id": "ZvmASwrIXbZb"
      }
    },
    {
      "cell_type": "code",
      "source": [
        "import time"
      ],
      "metadata": {
        "id": "bf6JSAr1VzpK"
      },
      "execution_count": null,
      "outputs": []
    },
    {
      "cell_type": "code",
      "source": [
        "time.time()"
      ],
      "metadata": {
        "id": "Bq6VGcGuV1h2"
      },
      "execution_count": null,
      "outputs": []
    },
    {
      "cell_type": "markdown",
      "source": [
        "Here I’m calling time.time() on February 27, 2015, at 11:05 Pacific Standard Time, or 7:05 pm UTC. The return value is how many seconds have passed between the Unix epoch and the moment time.time() was called."
      ],
      "metadata": {
        "id": "gibqfu20XeQp"
      }
    },
    {
      "cell_type": "markdown",
      "source": [
        "## the time.sleep() Function"
      ],
      "metadata": {
        "id": "esM4SJQiXyfc"
      }
    },
    {
      "cell_type": "code",
      "source": [
        "for i in range(3):\n",
        "  print(1)\n",
        "  time.sleep(1)\n",
        "  print('b')\n",
        "  time.sleep(1)\n",
        "  "
      ],
      "metadata": {
        "id": "_z0DXHxeV2b0"
      },
      "execution_count": null,
      "outputs": []
    },
    {
      "cell_type": "markdown",
      "source": [
        "The time.sleep() function will block—that is, it will not return and release your program to execute other code"
      ],
      "metadata": {
        "id": "vy24rWkrYJIB"
      }
    },
    {
      "cell_type": "code",
      "source": [],
      "metadata": {
        "id": "ia5-g5OLYCLx"
      },
      "execution_count": null,
      "outputs": []
    },
    {
      "cell_type": "markdown",
      "source": [
        "#The datetime module \n",
        "\n",
        "has its own datetime data type. datetimevalues represent a specific moment in time. Enter the following into the inter- activeshell:"
      ],
      "metadata": {
        "id": "Ri2AKVbbYbOZ"
      }
    },
    {
      "cell_type": "code",
      "source": [
        "import datetime\n"
      ],
      "metadata": {
        "id": "QdacDPuFYefb"
      },
      "execution_count": null,
      "outputs": []
    },
    {
      "cell_type": "code",
      "source": [
        "datetime.datetime.now()"
      ],
      "metadata": {
        "id": "qDbv87b8ZBTw"
      },
      "execution_count": null,
      "outputs": []
    },
    {
      "cell_type": "code",
      "source": [
        "dt = datetime.datetime(2015, 10, 21, 16, 29, 0)"
      ],
      "metadata": {
        "id": "8e1t6EiqZEpy"
      },
      "execution_count": null,
      "outputs": []
    },
    {
      "cell_type": "code",
      "source": [
        "dt.year"
      ],
      "metadata": {
        "id": "91HGVGBxZyDK"
      },
      "execution_count": null,
      "outputs": []
    },
    {
      "cell_type": "code",
      "source": [
        "dt.month"
      ],
      "metadata": {
        "id": "IBLufXZSaEmh"
      },
      "execution_count": null,
      "outputs": []
    },
    {
      "cell_type": "code",
      "source": [
        "dt.day"
      ],
      "metadata": {
        "id": "s6pGshcJaGdb"
      },
      "execution_count": null,
      "outputs": []
    },
    {
      "cell_type": "code",
      "source": [
        "dt.hour, dt.minute, dt.second"
      ],
      "metadata": {
        "id": "NjLPseVhaH1K"
      },
      "execution_count": null,
      "outputs": []
    },
    {
      "cell_type": "code",
      "source": [
        "halloween2015 = datetime.datetime(2015, 10, 31, 0, 0, 0)\n",
        "newyears2016 = datetime.datetime(2016, 1, 1, 0, 0, 0)\n",
        "oct31_2015 = datetime.datetime(2015, 10, 31, 0, 0, 0)"
      ],
      "metadata": {
        "id": "WOvTi9uWaMlN"
      },
      "execution_count": null,
      "outputs": []
    },
    {
      "cell_type": "code",
      "source": [
        "halloween2015 == oct31_2015"
      ],
      "metadata": {
        "id": "C8La4EGUeb6b"
      },
      "execution_count": null,
      "outputs": []
    },
    {
      "cell_type": "code",
      "source": [
        "newyears2016 > halloween2015"
      ],
      "metadata": {
        "id": "S6fzAT6vezJQ"
      },
      "execution_count": null,
      "outputs": []
    },
    {
      "cell_type": "code",
      "source": [],
      "metadata": {
        "id": "nR9GtKFGe6f3"
      },
      "execution_count": null,
      "outputs": []
    },
    {
      "cell_type": "markdown",
      "source": [
        "# The timedelta Data \n",
        "TypeThe datetime module also provides a timedelta data type, which represents a duration of time rather than a moment in time."
      ],
      "metadata": {
        "id": "zCHzxAYGe-S1"
      }
    },
    {
      "cell_type": "code",
      "source": [
        "delta = datetime.timedelta(days=11, hours=10, minutes=9, seconds=8)\n",
        "delta.days, delta.seconds, delta.microseconds"
      ],
      "metadata": {
        "id": "xq7T8BpLe_1l"
      },
      "execution_count": null,
      "outputs": []
    },
    {
      "cell_type": "code",
      "source": [
        "delta.total_seconds()"
      ],
      "metadata": {
        "id": "_CHqHOftfDlh"
      },
      "execution_count": null,
      "outputs": []
    },
    {
      "cell_type": "code",
      "source": [
        "str(delta)"
      ],
      "metadata": {
        "id": "eGW4n8GYfGUg"
      },
      "execution_count": null,
      "outputs": []
    },
    {
      "cell_type": "markdown",
      "source": [
        "The datetime.timedelta() function takes keyword arguments weeks, days, hours, minutes, seconds, milliseconds, and microseconds. There is no month or year key-word argument because “a month” or “a year” is a variable amount of time depending on the particular month or year. A timedelta object has the total duration represented in days, seconds, and microseconds. These numbers are stored in the days, seconds, and microseconds attributes, respectively. The total_seconds() method will return the duration in number of seconds alone. Passing a timedelta object to str() will return a nicely formatted, human-readable string representation of the object."
      ],
      "metadata": {
        "id": "EPHvoM9qfQ0k"
      }
    },
    {
      "cell_type": "code",
      "source": [
        "dt = datetime.datetime.now()\n",
        "dt + datetime.timedelta(days=1000)"
      ],
      "metadata": {
        "id": "zP-pRwu0fHwo"
      },
      "execution_count": null,
      "outputs": []
    },
    {
      "cell_type": "code",
      "source": [
        "dt - datetime.timedelta(days=1000)"
      ],
      "metadata": {
        "id": "FAxBazH3fegc"
      },
      "execution_count": null,
      "outputs": []
    },
    {
      "cell_type": "markdown",
      "source": [
        "### Converting datetime Objects into Strings\n",
        "\n",
        "Epoch timestamps and datetime objects aren’t very friendly to the human eye. Use the strftime() method to display a datetime object as a string. (The fin the name of the strftime() function stands for format.)The strftime() method uses directives similar to Python’s string format-ting. Table 15-1 has a full list of strftime() directives.\n"
      ],
      "metadata": {
        "id": "EjExiNSGfw9p"
      }
    },
    {
      "cell_type": "markdown",
      "source": [
        "## Tabela com diretivas \n",
        "\n"
      ],
      "metadata": {
        "id": "vyoA3uedf8Rx"
      }
    },
    {
      "cell_type": "code",
      "source": [
        "oct21st = datetime.datetime(2015, 10, 21, 16, 29, 0)\n"
      ],
      "metadata": {
        "id": "0zf1zrHLfrAD"
      },
      "execution_count": null,
      "outputs": []
    },
    {
      "cell_type": "code",
      "source": [
        "oct21st.strftime('%Y/%m/%d %H:%M:%S')"
      ],
      "metadata": {
        "id": "joK6c3-XgMwk"
      },
      "execution_count": null,
      "outputs": []
    },
    {
      "cell_type": "code",
      "source": [
        "oct21st.strftime('%I:%M %p')"
      ],
      "metadata": {
        "id": "nCm8y8xogNND"
      },
      "execution_count": null,
      "outputs": []
    },
    {
      "cell_type": "code",
      "source": [
        "oct21st.strftime(\"%B of '%y\")"
      ],
      "metadata": {
        "id": "v2QyK6pvgO6G"
      },
      "execution_count": null,
      "outputs": []
    },
    {
      "cell_type": "markdown",
      "source": [
        "Note that strftime() doesn’t begin with datetime.datetime"
      ],
      "metadata": {
        "id": "IlFFdn8hgVik"
      }
    },
    {
      "cell_type": "markdown",
      "source": [
        "## Converting Strings into datetime Objects\n",
        "\n",
        "If you have a string of date information, such as '2015/10/21 16:29:00'or'October 21, 2015', and need to convert it to a datetime object, use the datetime.datetime.strptime() function. The strptime() function is the inverse of the strftime() method. A custom format string using the same direc-tives as strftime() must be passed so that strptime() knows how to parse and understand the string. (The p in the name of the strptime() function stands for parse.)"
      ],
      "metadata": {
        "id": "fGb7nBUsgY8D"
      }
    },
    {
      "cell_type": "code",
      "source": [
        "datetime.datetime.strptime('October 21, 2015', '%B %d, %Y')"
      ],
      "metadata": {
        "id": "rimcF9mWgQBz"
      },
      "execution_count": null,
      "outputs": []
    },
    {
      "cell_type": "code",
      "source": [
        "datetime.datetime.strptime('2015/10/21 16:29:00', '%Y/%m/%d %H:%M:%S')"
      ],
      "metadata": {
        "id": "hTs0_YJBgdmw"
      },
      "execution_count": null,
      "outputs": []
    },
    {
      "cell_type": "code",
      "source": [],
      "metadata": {
        "id": "rupXAe-VggXl"
      },
      "execution_count": null,
      "outputs": []
    }
  ]
}