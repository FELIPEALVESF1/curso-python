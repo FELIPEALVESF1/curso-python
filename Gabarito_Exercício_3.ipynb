{
  "nbformat": 4,
  "nbformat_minor": 0,
  "metadata": {
    "colab": {
      "provenance": [],
      "authorship_tag": "ABX9TyMrElNnS8c0Ve0Ly3Pd3c8v",
      "include_colab_link": true
    },
    "kernelspec": {
      "name": "python3",
      "display_name": "Python 3"
    },
    "language_info": {
      "name": "python"
    }
  },
  "cells": [
    {
      "cell_type": "markdown",
      "metadata": {
        "id": "view-in-github",
        "colab_type": "text"
      },
      "source": [
        "<a href=\"https://colab.research.google.com/github/viniciusgcjr/curso-python/blob/main/Gabarito_Exerc%C3%ADcio_3.ipynb\" target=\"_parent\"><img src=\"https://colab.research.google.com/assets/colab-badge.svg\" alt=\"Open In Colab\"/></a>"
      ]
    },
    {
      "cell_type": "code",
      "execution_count": 1,
      "metadata": {
        "id": "ur4gLnWZa0pS"
      },
      "outputs": [],
      "source": [
        "url = 'www.apac.pe.gov.br/uploads/Boletim-Pluviometrico-29-09-2022.pdf'"
      ]
    },
    {
      "cell_type": "code",
      "source": [
        "lista_numeros = [1,2,2,2,2,2,2,2,2,3,4,1,11,11,1,12,13,13]"
      ],
      "metadata": {
        "id": "eBrRdfrbf7Q0"
      },
      "execution_count": 2,
      "outputs": []
    },
    {
      "cell_type": "code",
      "source": [
        "url_github = 'github.com' \n",
        "usuario = 'viniciusgcjr'"
      ],
      "metadata": {
        "id": "iA1zLsuHhDJK"
      },
      "execution_count": 3,
      "outputs": []
    },
    {
      "cell_type": "code",
      "source": [
        "alunos = (\"Vinícius\", \"Thiago\", \"Roni\", \"hailton\", \"Victor\", \"Alessandro\")"
      ],
      "metadata": {
        "id": "psUZfYWvk18I"
      },
      "execution_count": 4,
      "outputs": []
    },
    {
      "cell_type": "markdown",
      "source": [
        "# E1 \n",
        "\n",
        "Separe a url pelo delimitador '/' e a lista em uma variável chamada url_split\n"
      ],
      "metadata": {
        "id": "tuWKANj7bPzk"
      }
    },
    {
      "cell_type": "code",
      "source": [
        "url_split = url.split('/')"
      ],
      "metadata": {
        "id": "gnJuNz1hboeU"
      },
      "execution_count": 5,
      "outputs": []
    },
    {
      "cell_type": "code",
      "source": [
        "url_split"
      ],
      "metadata": {
        "id": "fYXcgn4Ib5Tl",
        "colab": {
          "base_uri": "https://localhost:8080/"
        },
        "outputId": "42555745-feeb-4fd3-ecb7-2d92c37eca2c"
      },
      "execution_count": 6,
      "outputs": [
        {
          "output_type": "execute_result",
          "data": {
            "text/plain": [
              "['www.apac.pe.gov.br', 'uploads', 'Boletim-Pluviometrico-29-09-2022.pdf']"
            ]
          },
          "metadata": {},
          "execution_count": 6
        }
      ]
    },
    {
      "cell_type": "markdown",
      "source": [
        "#E2\n",
        "\n",
        "Forme uma string com a lista url_slipt e compare se a sua string é igual a variável url"
      ],
      "metadata": {
        "id": "HJ-OcJ9Mdem1"
      }
    },
    {
      "cell_type": "code",
      "source": [
        "'/'.join(url_split)"
      ],
      "metadata": {
        "id": "bdRr3yQy3_aK",
        "colab": {
          "base_uri": "https://localhost:8080/",
          "height": 35
        },
        "outputId": "031766bd-4815-460d-e31b-78ffe793e703"
      },
      "execution_count": 7,
      "outputs": [
        {
          "output_type": "execute_result",
          "data": {
            "text/plain": [
              "'www.apac.pe.gov.br/uploads/Boletim-Pluviometrico-29-09-2022.pdf'"
            ],
            "application/vnd.google.colaboratory.intrinsic+json": {
              "type": "string"
            }
          },
          "metadata": {},
          "execution_count": 7
        }
      ]
    },
    {
      "cell_type": "code",
      "source": [
        "'/'.join(url_split) == url"
      ],
      "metadata": {
        "id": "PJdqBfIu3_gB",
        "colab": {
          "base_uri": "https://localhost:8080/"
        },
        "outputId": "f7687014-7ba5-4b37-fc3c-3841e8610295"
      },
      "execution_count": 8,
      "outputs": [
        {
          "output_type": "execute_result",
          "data": {
            "text/plain": [
              "True"
            ]
          },
          "metadata": {},
          "execution_count": 8
        }
      ]
    },
    {
      "cell_type": "code",
      "source": [
        "url_split[0] + '/' + url_split[1] + '/' + url_split[2]"
      ],
      "metadata": {
        "colab": {
          "base_uri": "https://localhost:8080/",
          "height": 35
        },
        "id": "df8x9PY7kHNG",
        "outputId": "f97c6b13-7662-4e6c-e35c-db2d6ac028d8"
      },
      "execution_count": 9,
      "outputs": [
        {
          "output_type": "execute_result",
          "data": {
            "text/plain": [
              "'www.apac.pe.gov.br/uploads/Boletim-Pluviometrico-29-09-2022.pdf'"
            ],
            "application/vnd.google.colaboratory.intrinsic+json": {
              "type": "string"
            }
          },
          "metadata": {},
          "execution_count": 9
        }
      ]
    },
    {
      "cell_type": "code",
      "source": [
        "print(f'{url_split[0]}/{url_split[1]}/{url_split[2]}')"
      ],
      "metadata": {
        "colab": {
          "base_uri": "https://localhost:8080/"
        },
        "id": "qL3_sN6fkXrl",
        "outputId": "b6a38c5d-9edc-4ab5-e595-c122bd756308"
      },
      "execution_count": 11,
      "outputs": [
        {
          "output_type": "stream",
          "name": "stdout",
          "text": [
            "www.apac.pe.gov.br/uploads/Boletim-Pluviometrico-29-09-2022.pdf\n"
          ]
        }
      ]
    },
    {
      "cell_type": "code",
      "source": [
        "fvar = f'{url_split[0]}/{url_split[1]}/{url_split[2]}'\n",
        "print(fvar)"
      ],
      "metadata": {
        "colab": {
          "base_uri": "https://localhost:8080/"
        },
        "id": "DFlSHeJ2kpG3",
        "outputId": "7edfd463-0717-4235-e6c0-8f57d968669f"
      },
      "execution_count": 13,
      "outputs": [
        {
          "output_type": "stream",
          "name": "stdout",
          "text": [
            "www.apac.pe.gov.br/uploads/Boletim-Pluviometrico-29-09-2022.pdf\n"
          ]
        }
      ]
    },
    {
      "cell_type": "markdown",
      "source": [
        "#E3\n",
        "\n",
        "Crie um dicionário contendo as chaves Aluno, Professor e Coordenador. Atribua valores quaisquer para cada uma das chaves. "
      ],
      "metadata": {
        "id": "FKVo7iNKeX7s"
      }
    },
    {
      "cell_type": "markdown",
      "source": [],
      "metadata": {
        "id": "aQhVFeDgkoN8"
      }
    },
    {
      "cell_type": "code",
      "source": [
        "dic_escola = {'Aluno': 'vinicius', 'Professor': 'gomes', 'Coordenador': 'Eliete' }\n",
        "dic_escola"
      ],
      "metadata": {
        "id": "5W34w8nge8s4",
        "colab": {
          "base_uri": "https://localhost:8080/"
        },
        "outputId": "84b717c9-5c6a-4c1b-8275-e7bdd58d0a68"
      },
      "execution_count": 24,
      "outputs": [
        {
          "output_type": "execute_result",
          "data": {
            "text/plain": [
              "{'Aluno': 'vinicius', 'Professor': 'gomes', 'Coordenador': 'Eliete'}"
            ]
          },
          "metadata": {},
          "execution_count": 24
        }
      ]
    },
    {
      "cell_type": "markdown",
      "source": [
        "#E4\n",
        "\n",
        "Imprima as chaves, valores e items presentes no dicionário criado na tarefa anterior."
      ],
      "metadata": {
        "id": "aTydjUbce9Fc"
      }
    },
    {
      "cell_type": "code",
      "source": [
        "dic_escola.keys()"
      ],
      "metadata": {
        "id": "XexOagiZfDJZ",
        "colab": {
          "base_uri": "https://localhost:8080/"
        },
        "outputId": "b42fee99-7146-4b1e-e348-8362b664676c"
      },
      "execution_count": 18,
      "outputs": [
        {
          "output_type": "execute_result",
          "data": {
            "text/plain": [
              "dict_keys(['Aluno', 'Professor', 'Coordenador'])"
            ]
          },
          "metadata": {},
          "execution_count": 18
        }
      ]
    },
    {
      "cell_type": "code",
      "source": [
        "dic_escola.values()"
      ],
      "metadata": {
        "colab": {
          "base_uri": "https://localhost:8080/"
        },
        "id": "jfR9W04NnZgP",
        "outputId": "395a6c8c-43b9-4c5c-d1ad-ea30c1afd581"
      },
      "execution_count": 20,
      "outputs": [
        {
          "output_type": "execute_result",
          "data": {
            "text/plain": [
              "dict_values(['vinicius', 'gomes', 'Eliete'])"
            ]
          },
          "metadata": {},
          "execution_count": 20
        }
      ]
    },
    {
      "cell_type": "code",
      "source": [
        "dic_escola.items()"
      ],
      "metadata": {
        "colab": {
          "base_uri": "https://localhost:8080/"
        },
        "id": "Z6HEknZXncZa",
        "outputId": "6ba7d686-6eba-4540-a32c-c2e658d177d0"
      },
      "execution_count": 21,
      "outputs": [
        {
          "output_type": "execute_result",
          "data": {
            "text/plain": [
              "dict_items([('Aluno', 'vinicius'), ('Professor', 'gomes'), ('Coordenador', 'Eliete')])"
            ]
          },
          "metadata": {},
          "execution_count": 21
        }
      ]
    },
    {
      "cell_type": "markdown",
      "source": [
        "#E5\n",
        "\n",
        "Crie uma lista chamada **lista_num_nao_rep** a partir da lista **lista_numeros** apenas com valores não repetidos"
      ],
      "metadata": {
        "id": "Ba9GDIIZfD0D"
      }
    },
    {
      "cell_type": "code",
      "source": [
        "lista_num_nao_rep = list(set(lista_numeros))"
      ],
      "metadata": {
        "id": "Nu7yNRxvgN6l"
      },
      "execution_count": 25,
      "outputs": []
    },
    {
      "cell_type": "code",
      "source": [
        "lista_num_nao_rep"
      ],
      "metadata": {
        "colab": {
          "base_uri": "https://localhost:8080/"
        },
        "id": "2LykNAvLoXIc",
        "outputId": "d7df3804-03f9-4471-8c4b-72ee35c63965"
      },
      "execution_count": 26,
      "outputs": [
        {
          "output_type": "execute_result",
          "data": {
            "text/plain": [
              "[1, 2, 3, 4, 11, 12, 13]"
            ]
          },
          "metadata": {},
          "execution_count": 26
        }
      ]
    },
    {
      "cell_type": "markdown",
      "source": [
        "#E6 \n",
        "\n",
        "Imprima a url 'https://github.com/viniciusgcjr' utilizando f-strings a partir das variáveis url_github e usuario."
      ],
      "metadata": {
        "id": "6n9A97AGg0hc"
      }
    },
    {
      "cell_type": "code",
      "source": [
        "url_github"
      ],
      "metadata": {
        "id": "V8LEQZeuhcHo",
        "colab": {
          "base_uri": "https://localhost:8080/",
          "height": 35
        },
        "outputId": "ec82afa2-11bb-452f-8f71-e7f9c5d1674e"
      },
      "execution_count": 27,
      "outputs": [
        {
          "output_type": "execute_result",
          "data": {
            "text/plain": [
              "'github.com'"
            ],
            "application/vnd.google.colaboratory.intrinsic+json": {
              "type": "string"
            }
          },
          "metadata": {},
          "execution_count": 27
        }
      ]
    },
    {
      "cell_type": "code",
      "source": [
        "usuario"
      ],
      "metadata": {
        "id": "5evOp-tbkyqg",
        "colab": {
          "base_uri": "https://localhost:8080/",
          "height": 35
        },
        "outputId": "8a861a80-1b64-4a02-e632-d6187b536cdc"
      },
      "execution_count": 28,
      "outputs": [
        {
          "output_type": "execute_result",
          "data": {
            "text/plain": [
              "'viniciusgcjr'"
            ],
            "application/vnd.google.colaboratory.intrinsic+json": {
              "type": "string"
            }
          },
          "metadata": {},
          "execution_count": 28
        }
      ]
    },
    {
      "cell_type": "code",
      "source": [
        "print(f'https://{url_github}/{usuario}')"
      ],
      "metadata": {
        "colab": {
          "base_uri": "https://localhost:8080/"
        },
        "id": "6m2-u6rmohWG",
        "outputId": "03299990-8c13-41f8-8b09-a26345ec1cac"
      },
      "execution_count": 30,
      "outputs": [
        {
          "output_type": "stream",
          "name": "stdout",
          "text": [
            "https://github.com/viniciusgcjr\n"
          ]
        }
      ]
    },
    {
      "cell_type": "code",
      "source": [],
      "metadata": {
        "id": "xtVwCC_Io53u"
      },
      "execution_count": null,
      "outputs": []
    }
  ]
}