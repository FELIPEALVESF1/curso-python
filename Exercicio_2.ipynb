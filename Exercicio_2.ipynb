{
  "nbformat": 4,
  "nbformat_minor": 0,
  "metadata": {
    "colab": {
      "provenance": [],
      "authorship_tag": "ABX9TyMX637atT2geAyc+vUUAXx5",
      "include_colab_link": true
    },
    "kernelspec": {
      "name": "python3",
      "display_name": "Python 3"
    },
    "language_info": {
      "name": "python"
    }
  },
  "cells": [
    {
      "cell_type": "markdown",
      "metadata": {
        "id": "view-in-github",
        "colab_type": "text"
      },
      "source": [
        "<a href=\"https://colab.research.google.com/github/viniciusgcjr/curso-python/blob/main/Exercicio_2.ipynb\" target=\"_parent\"><img src=\"https://colab.research.google.com/assets/colab-badge.svg\" alt=\"Open In Colab\"/></a>"
      ]
    },
    {
      "cell_type": "markdown",
      "source": [
        "As Variáveis a seguir serão utilizadas ao longo do exercício 2"
      ],
      "metadata": {
        "id": "ONEyBWlyYSg6"
      }
    },
    {
      "cell_type": "code",
      "source": [
        "nome = 'Vinicius'"
      ],
      "metadata": {
        "id": "lXtKzGrjX_lT"
      },
      "execution_count": 16,
      "outputs": []
    },
    {
      "cell_type": "code",
      "execution_count": 1,
      "metadata": {
        "id": "NIEOw4q2VvUu"
      },
      "outputs": [],
      "source": [
        "idade_vinicius = 34"
      ]
    },
    {
      "cell_type": "code",
      "source": [
        "idade_junior = 50"
      ],
      "metadata": {
        "id": "UW9dpMfoWI7E"
      },
      "execution_count": 2,
      "outputs": []
    },
    {
      "cell_type": "code",
      "source": [
        "lista_num = [1,10,100,1000,2,2,2,2,2,2,2,3,4,5,6,7,8,9]"
      ],
      "metadata": {
        "id": "NxXEAgPiWR5V"
      },
      "execution_count": 7,
      "outputs": []
    },
    {
      "cell_type": "code",
      "source": [
        "lista_nomes = ['Vinícius', 'Gomes', 'Costa', 'Junior']"
      ],
      "metadata": {
        "id": "LLFMZW3gWX7a"
      },
      "execution_count": 8,
      "outputs": []
    },
    {
      "cell_type": "markdown",
      "source": [
        "# E1\n",
        "\n",
        "Compare as idades de vinicius e junior e imprima o resultado. Deve retornar um valor booleano (True ou False)"
      ],
      "metadata": {
        "id": "_tWaUFMFV9AK"
      }
    },
    {
      "cell_type": "code",
      "source": [],
      "metadata": {
        "id": "R8VP4RwAWN_K"
      },
      "execution_count": null,
      "outputs": []
    },
    {
      "cell_type": "markdown",
      "source": [
        "# E2 \n",
        "\n",
        "Pergunte ao usuário a idade dele e compare com a idade de Vinícius para saber se Vinícius é mais velho ou tem idade igual ao usuário"
      ],
      "metadata": {
        "id": "yVqkPZjNXUep"
      }
    },
    {
      "cell_type": "code",
      "source": [],
      "metadata": {
        "id": "ScOa6vYEXqnz"
      },
      "execution_count": null,
      "outputs": []
    },
    {
      "cell_type": "code",
      "source": [],
      "metadata": {
        "id": "OxhYKvsLniWq"
      },
      "execution_count": null,
      "outputs": []
    },
    {
      "cell_type": "markdown",
      "source": [
        "#E3\n",
        "\n",
        "\n",
        "Pergunte ao usuário o nome dele e verifique se o tamanho do nome dele é maior que o de Vinícius"
      ],
      "metadata": {
        "id": "snDJq3uin7QZ"
      }
    },
    {
      "cell_type": "code",
      "source": [],
      "metadata": {
        "id": "39OOwq7tq9Th"
      },
      "execution_count": null,
      "outputs": []
    },
    {
      "cell_type": "markdown",
      "source": [
        "#E4\n",
        "\n",
        "Qual o maior valor da lista lista_num?"
      ],
      "metadata": {
        "id": "v3J9nTrbYmhZ"
      }
    },
    {
      "cell_type": "code",
      "source": [],
      "metadata": {
        "id": "eFf2wTwBYouf"
      },
      "execution_count": null,
      "outputs": []
    },
    {
      "cell_type": "markdown",
      "source": [
        "# E5\n",
        "\n",
        "Quantos elementos existem na lista lista_num e na lista_nomes?"
      ],
      "metadata": {
        "id": "N5KQgzO2ZgIg"
      }
    },
    {
      "cell_type": "code",
      "source": [],
      "metadata": {
        "id": "A2r8hN0IZhW3"
      },
      "execution_count": null,
      "outputs": []
    },
    {
      "cell_type": "code",
      "source": [],
      "metadata": {
        "id": "027YQvUbZ_o7"
      },
      "execution_count": null,
      "outputs": []
    },
    {
      "cell_type": "markdown",
      "source": [
        "#E6 \n",
        "\n",
        "Crie uma variavel copia_nome e atribua o nome presente na lista_nomes. Imprima copia_nome"
      ],
      "metadata": {
        "id": "WIvn4qataA1L"
      }
    },
    {
      "cell_type": "code",
      "source": [],
      "metadata": {
        "id": "SsavNft5agEe"
      },
      "execution_count": null,
      "outputs": []
    },
    {
      "cell_type": "markdown",
      "source": [
        "# E7\n",
        "\n",
        "Cria uma variavel chamada de n1 e n2 e atribua o nome e sobrenome presente na lista_nomes e imprima n1 e n2"
      ],
      "metadata": {
        "id": "LQY5fsS9aguj"
      }
    },
    {
      "cell_type": "code",
      "source": [],
      "metadata": {
        "id": "i-MJ-hOyag_p"
      },
      "execution_count": null,
      "outputs": []
    },
    {
      "cell_type": "markdown",
      "source": [
        "# E8\n",
        "\n",
        "imprima o primeiro elemento da lista_num"
      ],
      "metadata": {
        "id": "u5ag3mlimw0g"
      }
    },
    {
      "cell_type": "code",
      "source": [],
      "metadata": {
        "id": "TsfkPb-im4Rh"
      },
      "execution_count": null,
      "outputs": []
    },
    {
      "cell_type": "markdown",
      "source": [
        "#E9 \n",
        "\n",
        "Adicione um elemento númerico qualquer a lista de números (lista_num)"
      ],
      "metadata": {
        "id": "bPkpY3v5m8yC"
      }
    },
    {
      "cell_type": "code",
      "source": [],
      "metadata": {
        "id": "ltC7ZU6nnEJg"
      },
      "execution_count": 32,
      "outputs": []
    },
    {
      "cell_type": "code",
      "source": [
        "print(lista_num)"
      ],
      "metadata": {
        "colab": {
          "base_uri": "https://localhost:8080/"
        },
        "id": "35khOXi-r2GX",
        "outputId": "707d3170-e122-446b-e9ea-beb9176f4e13"
      },
      "execution_count": 37,
      "outputs": [
        {
          "output_type": "stream",
          "name": "stdout",
          "text": [
            "[1, 10, 100, 1000, 2, 2, 2, 2, 2, 2, 2, 3, 4, 5, 6, 7, 8, 9, '50000']\n"
          ]
        }
      ]
    },
    {
      "cell_type": "markdown",
      "source": [
        "# E10\n",
        "\n",
        "Remova o último elemento da lista de nomes e a salve numa variável. Imprima a lista de nomes e a variável criada "
      ],
      "metadata": {
        "id": "4Iy_Ok8mnE1R"
      }
    },
    {
      "cell_type": "code",
      "source": [],
      "metadata": {
        "id": "tc1SBV5rnGLo"
      },
      "execution_count": null,
      "outputs": []
    },
    {
      "cell_type": "markdown",
      "source": [
        "#E11 \n",
        "\n",
        "Calcule a soma de todos os elementos da lista de números"
      ],
      "metadata": {
        "id": "7pycsbYvnP9j"
      }
    },
    {
      "cell_type": "code",
      "source": [],
      "metadata": {
        "colab": {
          "base_uri": "https://localhost:8080/"
        },
        "id": "t_X7t99fnV6Z",
        "outputId": "17fef772-b40e-4561-b920-e48734d0c3c0"
      },
      "execution_count": 40,
      "outputs": [
        {
          "output_type": "execute_result",
          "data": {
            "text/plain": [
              "1167"
            ]
          },
          "metadata": {},
          "execution_count": 40
        }
      ]
    },
    {
      "cell_type": "markdown",
      "source": [
        "#E12 \n",
        "\n",
        "Acesse o primeiro elemento da lista de nomes e imprima a últma letra deste elemento"
      ],
      "metadata": {
        "id": "dyv003muo19j"
      }
    },
    {
      "cell_type": "code",
      "source": [],
      "metadata": {
        "id": "COd1aG7NpOca"
      },
      "execution_count": null,
      "outputs": []
    },
    {
      "cell_type": "markdown",
      "source": [
        "#E13\n",
        "\n",
        "Crie uma tupla chamada registros com os valores: 1, 2, 3, a, b e c. Imprima a tupla"
      ],
      "metadata": {
        "id": "hP7wJ7I1pW1a"
      }
    },
    {
      "cell_type": "code",
      "source": [],
      "metadata": {
        "id": "zj9uhAWFpo78"
      },
      "execution_count": null,
      "outputs": []
    },
    {
      "cell_type": "markdown",
      "source": [
        "#E14\n",
        "\n",
        "Crie uma lista com valores de 0 a 21 com incrementos de 3 passos"
      ],
      "metadata": {
        "id": "7MtFfadJpr2R"
      }
    },
    {
      "cell_type": "code",
      "source": [],
      "metadata": {
        "id": "OaC6vpgop5d6"
      },
      "execution_count": null,
      "outputs": []
    },
    {
      "cell_type": "markdown",
      "source": [
        "#E16\n",
        "\n",
        "Verifique se a string 'us' está contida na variável nome"
      ],
      "metadata": {
        "id": "E2GXDR1eqWoC"
      }
    },
    {
      "cell_type": "code",
      "source": [],
      "metadata": {
        "id": "-srNkh88tn_f"
      },
      "execution_count": null,
      "outputs": []
    },
    {
      "cell_type": "markdown",
      "source": [
        "#E15\n",
        "\n",
        "Forme a string 'www.apac.pe.gov.br' a partir de uma lista que contêm os valores:\n",
        "['www', 'apac','pe','gov','br']"
      ],
      "metadata": {
        "id": "7QyYLjgip7m5"
      }
    },
    {
      "cell_type": "code",
      "source": [],
      "metadata": {
        "id": "lZR_zgoDtmmw"
      },
      "execution_count": null,
      "outputs": []
    }
  ]
}