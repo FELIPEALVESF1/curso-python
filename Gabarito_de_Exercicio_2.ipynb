{
  "nbformat": 4,
  "nbformat_minor": 0,
  "metadata": {
    "colab": {
      "provenance": [],
      "authorship_tag": "ABX9TyPye+mj0vyxJvMAQIIrMlDl",
      "include_colab_link": true
    },
    "kernelspec": {
      "name": "python3",
      "display_name": "Python 3"
    },
    "language_info": {
      "name": "python"
    }
  },
  "cells": [
    {
      "cell_type": "markdown",
      "metadata": {
        "id": "view-in-github",
        "colab_type": "text"
      },
      "source": [
        "<a href=\"https://colab.research.google.com/github/viniciusgcjr/curso-python/blob/main/Gabarito_de_Exercicio_2.ipynb\" target=\"_parent\"><img src=\"https://colab.research.google.com/assets/colab-badge.svg\" alt=\"Open In Colab\"/></a>"
      ]
    },
    {
      "cell_type": "markdown",
      "source": [
        "As Variáveis a seguir serão utilizadas ao longo do exercício 2"
      ],
      "metadata": {
        "id": "ONEyBWlyYSg6"
      }
    },
    {
      "cell_type": "code",
      "source": [
        "nome = 'Vinicius'"
      ],
      "metadata": {
        "id": "lXtKzGrjX_lT"
      },
      "execution_count": 18,
      "outputs": []
    },
    {
      "cell_type": "code",
      "execution_count": 2,
      "metadata": {
        "id": "NIEOw4q2VvUu"
      },
      "outputs": [],
      "source": [
        "idade_vinicius = 34"
      ]
    },
    {
      "cell_type": "code",
      "source": [
        "idade_junior = 50"
      ],
      "metadata": {
        "id": "UW9dpMfoWI7E"
      },
      "execution_count": 3,
      "outputs": []
    },
    {
      "cell_type": "code",
      "source": [
        "lista_num = [1,10,100,1000,2,2,2,2,2,2,2,3,4,5,6,7,8,9]"
      ],
      "metadata": {
        "id": "NxXEAgPiWR5V"
      },
      "execution_count": 4,
      "outputs": []
    },
    {
      "cell_type": "code",
      "source": [
        "lista_nomes = ['Vinícius', 'Gomes', 'Costa', 'Junior']"
      ],
      "metadata": {
        "id": "LLFMZW3gWX7a"
      },
      "execution_count": 5,
      "outputs": []
    },
    {
      "cell_type": "markdown",
      "source": [
        "# E1\n",
        "\n",
        "Compare as idades de vinicius e junior e imprima o resultado. Deve retornar um valor booleano (True ou False)"
      ],
      "metadata": {
        "id": "_tWaUFMFV9AK"
      }
    },
    {
      "cell_type": "code",
      "source": [
        "idade_vinicius == idade_junior"
      ],
      "metadata": {
        "id": "R8VP4RwAWN_K",
        "colab": {
          "base_uri": "https://localhost:8080/"
        },
        "outputId": "562306cd-a17b-415b-cb8d-7d2b78fab5c4"
      },
      "execution_count": 6,
      "outputs": [
        {
          "output_type": "execute_result",
          "data": {
            "text/plain": [
              "False"
            ]
          },
          "metadata": {},
          "execution_count": 6
        }
      ]
    },
    {
      "cell_type": "markdown",
      "source": [
        "# E2 \n",
        "\n",
        "Pergunte ao usuário a idade dele e compare com a idade de Vinícius para saber se Vinícius é mais velho ou tem idade igual ao usuário"
      ],
      "metadata": {
        "id": "yVqkPZjNXUep"
      }
    },
    {
      "cell_type": "code",
      "source": [
        "idade_usr = input('Qual a sua idade? ')\n",
        "idade_usr"
      ],
      "metadata": {
        "id": "ScOa6vYEXqnz",
        "colab": {
          "base_uri": "https://localhost:8080/",
          "height": 53
        },
        "outputId": "b64dc459-1a5b-42f2-8d03-2a2210e37afb"
      },
      "execution_count": 11,
      "outputs": [
        {
          "name": "stdout",
          "output_type": "stream",
          "text": [
            "Qual a sua idade? 34\n"
          ]
        },
        {
          "output_type": "execute_result",
          "data": {
            "text/plain": [
              "'34'"
            ],
            "application/vnd.google.colaboratory.intrinsic+json": {
              "type": "string"
            }
          },
          "metadata": {},
          "execution_count": 11
        }
      ]
    },
    {
      "cell_type": "code",
      "source": [
        "idade_vinicius >= int(idade_usr) "
      ],
      "metadata": {
        "id": "OxhYKvsLniWq",
        "colab": {
          "base_uri": "https://localhost:8080/"
        },
        "outputId": "fbc294e8-390d-4585-d3e6-f26ef5585011"
      },
      "execution_count": 13,
      "outputs": [
        {
          "output_type": "execute_result",
          "data": {
            "text/plain": [
              "True"
            ]
          },
          "metadata": {},
          "execution_count": 13
        }
      ]
    },
    {
      "cell_type": "markdown",
      "source": [
        "#E3\n",
        "\n",
        "\n",
        "Pergunte ao usuário o nome dele e verifique se o tamanho do nome dele é maior que o de Vinícius"
      ],
      "metadata": {
        "id": "snDJq3uin7QZ"
      }
    },
    {
      "cell_type": "code",
      "source": [
        "nome_usr = input('nomeusr')"
      ],
      "metadata": {
        "id": "39OOwq7tq9Th",
        "colab": {
          "base_uri": "https://localhost:8080/"
        },
        "outputId": "4b43637e-ac1d-4ef4-8339-87172893ce98"
      },
      "execution_count": 16,
      "outputs": [
        {
          "name": "stdout",
          "output_type": "stream",
          "text": [
            "nomeusr ingfodsngfngdgfd\n"
          ]
        }
      ]
    },
    {
      "cell_type": "code",
      "source": [
        "nome"
      ],
      "metadata": {
        "colab": {
          "base_uri": "https://localhost:8080/",
          "height": 35
        },
        "id": "ILGAPA0PHPwJ",
        "outputId": "e1e2966d-5c63-4fb8-95a9-108db21792a4"
      },
      "execution_count": 19,
      "outputs": [
        {
          "output_type": "execute_result",
          "data": {
            "text/plain": [
              "'Vinicius'"
            ],
            "application/vnd.google.colaboratory.intrinsic+json": {
              "type": "string"
            }
          },
          "metadata": {},
          "execution_count": 19
        }
      ]
    },
    {
      "cell_type": "code",
      "source": [
        "nome_usr"
      ],
      "metadata": {
        "colab": {
          "base_uri": "https://localhost:8080/",
          "height": 35
        },
        "id": "UwVMz9yZHRg3",
        "outputId": "f6eabd91-179d-412e-ac1e-6708952a2252"
      },
      "execution_count": 20,
      "outputs": [
        {
          "output_type": "execute_result",
          "data": {
            "text/plain": [
              "' ingfodsngfngdgfd'"
            ],
            "application/vnd.google.colaboratory.intrinsic+json": {
              "type": "string"
            }
          },
          "metadata": {},
          "execution_count": 20
        }
      ]
    },
    {
      "cell_type": "code",
      "source": [
        "len(nome_usr) > len(nome) "
      ],
      "metadata": {
        "colab": {
          "base_uri": "https://localhost:8080/"
        },
        "id": "6SIBDET3G9EE",
        "outputId": "e7d55f7a-ba93-4c29-c29f-3d21d2b76dd2"
      },
      "execution_count": 17,
      "outputs": [
        {
          "output_type": "execute_result",
          "data": {
            "text/plain": [
              "True"
            ]
          },
          "metadata": {},
          "execution_count": 17
        }
      ]
    },
    {
      "cell_type": "markdown",
      "source": [
        "#E4\n",
        "\n",
        "Qual o maior valor da lista lista_num?"
      ],
      "metadata": {
        "id": "v3J9nTrbYmhZ"
      }
    },
    {
      "cell_type": "code",
      "source": [
        "max(lista_num)"
      ],
      "metadata": {
        "id": "eFf2wTwBYouf",
        "colab": {
          "base_uri": "https://localhost:8080/"
        },
        "outputId": "b89249fa-636c-424b-8660-5c388878e863"
      },
      "execution_count": 21,
      "outputs": [
        {
          "output_type": "execute_result",
          "data": {
            "text/plain": [
              "1000"
            ]
          },
          "metadata": {},
          "execution_count": 21
        }
      ]
    },
    {
      "cell_type": "markdown",
      "source": [
        "# E5\n",
        "\n",
        "Quantos elementos existem na lista lista_num e na lista_nomes?"
      ],
      "metadata": {
        "id": "N5KQgzO2ZgIg"
      }
    },
    {
      "cell_type": "code",
      "source": [
        "len(lista_num)"
      ],
      "metadata": {
        "id": "A2r8hN0IZhW3",
        "colab": {
          "base_uri": "https://localhost:8080/"
        },
        "outputId": "07629970-b57a-4e14-c226-48a7b6d23396"
      },
      "execution_count": 22,
      "outputs": [
        {
          "output_type": "execute_result",
          "data": {
            "text/plain": [
              "18"
            ]
          },
          "metadata": {},
          "execution_count": 22
        }
      ]
    },
    {
      "cell_type": "code",
      "source": [
        "len(lista_nomes)"
      ],
      "metadata": {
        "id": "027YQvUbZ_o7",
        "colab": {
          "base_uri": "https://localhost:8080/"
        },
        "outputId": "605e1df8-b4b4-4b1a-d320-d50818765769"
      },
      "execution_count": 23,
      "outputs": [
        {
          "output_type": "execute_result",
          "data": {
            "text/plain": [
              "4"
            ]
          },
          "metadata": {},
          "execution_count": 23
        }
      ]
    },
    {
      "cell_type": "markdown",
      "source": [
        "#E6 \n",
        "\n",
        "Crie uma variavel copia_nome e atribua o nome presente na lista_nomes. Imprima copia_nome"
      ],
      "metadata": {
        "id": "WIvn4qataA1L"
      }
    },
    {
      "cell_type": "code",
      "source": [
        "copia_nome = lista_nomes.copy()\n",
        "nome = copia_nome[0]\n",
        "nome"
      ],
      "metadata": {
        "id": "SsavNft5agEe",
        "colab": {
          "base_uri": "https://localhost:8080/",
          "height": 35
        },
        "outputId": "f9cdb51f-b3b6-4a24-cfc1-42da48580864"
      },
      "execution_count": 26,
      "outputs": [
        {
          "output_type": "execute_result",
          "data": {
            "text/plain": [
              "'Vinícius'"
            ],
            "application/vnd.google.colaboratory.intrinsic+json": {
              "type": "string"
            }
          },
          "metadata": {},
          "execution_count": 26
        }
      ]
    },
    {
      "cell_type": "markdown",
      "source": [
        "# E7\n",
        "\n",
        "Cria uma variavel chamada de n1 e n2 e atribua o nome e sobrenome presente na lista_nomes e imprima n1 e n2"
      ],
      "metadata": {
        "id": "LQY5fsS9aguj"
      }
    },
    {
      "cell_type": "code",
      "source": [
        "n1, n2, *resto = lista_nomes\n",
        "print(n1, n2)"
      ],
      "metadata": {
        "id": "i-MJ-hOyag_p",
        "colab": {
          "base_uri": "https://localhost:8080/"
        },
        "outputId": "d57ecde8-03fe-47c0-8292-b8df369a937d"
      },
      "execution_count": 27,
      "outputs": [
        {
          "output_type": "stream",
          "name": "stdout",
          "text": [
            "Vinícius Gomes\n"
          ]
        }
      ]
    },
    {
      "cell_type": "markdown",
      "source": [
        "# E8\n",
        "\n",
        "imprima o primeiro elemento da lista_num"
      ],
      "metadata": {
        "id": "u5ag3mlimw0g"
      }
    },
    {
      "cell_type": "code",
      "source": [
        "lista_num[0]"
      ],
      "metadata": {
        "id": "TsfkPb-im4Rh",
        "colab": {
          "base_uri": "https://localhost:8080/"
        },
        "outputId": "4d365d1a-1dbd-4d84-ad1c-210b93411ded"
      },
      "execution_count": 28,
      "outputs": [
        {
          "output_type": "execute_result",
          "data": {
            "text/plain": [
              "1"
            ]
          },
          "metadata": {},
          "execution_count": 28
        }
      ]
    },
    {
      "cell_type": "markdown",
      "source": [
        "#E9 \n",
        "\n",
        "Adicione um elemento númerico qualquer a lista de números (lista_num)"
      ],
      "metadata": {
        "id": "bPkpY3v5m8yC"
      }
    },
    {
      "cell_type": "code",
      "source": [
        "lista_num.append(232084354)"
      ],
      "metadata": {
        "id": "ltC7ZU6nnEJg"
      },
      "execution_count": 29,
      "outputs": []
    },
    {
      "cell_type": "code",
      "source": [
        "print(lista_num)"
      ],
      "metadata": {
        "colab": {
          "base_uri": "https://localhost:8080/"
        },
        "id": "35khOXi-r2GX",
        "outputId": "8e51b961-9b72-4630-ffcb-1d1ab485592c"
      },
      "execution_count": 30,
      "outputs": [
        {
          "output_type": "stream",
          "name": "stdout",
          "text": [
            "[1, 10, 100, 1000, 2, 2, 2, 2, 2, 2, 2, 3, 4, 5, 6, 7, 8, 9, 232084354]\n"
          ]
        }
      ]
    },
    {
      "cell_type": "markdown",
      "source": [
        "# E10\n",
        "\n",
        "Remova o último elemento da lista de nomes e a salve numa variável. Imprima a lista de nomes e a variável criada "
      ],
      "metadata": {
        "id": "4Iy_Ok8mnE1R"
      }
    },
    {
      "cell_type": "code",
      "source": [
        "pop_nomes = lista_nomes.pop()\n",
        "print(pop_nomes)\n",
        "print(lista_nomes)"
      ],
      "metadata": {
        "id": "tc1SBV5rnGLo",
        "colab": {
          "base_uri": "https://localhost:8080/"
        },
        "outputId": "90fa5596-5c0f-4da5-9b92-c8768b75de72"
      },
      "execution_count": 31,
      "outputs": [
        {
          "output_type": "stream",
          "name": "stdout",
          "text": [
            "Junior\n",
            "['Vinícius', 'Gomes', 'Costa']\n"
          ]
        }
      ]
    },
    {
      "cell_type": "markdown",
      "source": [
        "#E11 \n",
        "\n",
        "Calcule a soma de todos os elementos da lista de números"
      ],
      "metadata": {
        "id": "7pycsbYvnP9j"
      }
    },
    {
      "cell_type": "code",
      "source": [
        "sum(lista_num)"
      ],
      "metadata": {
        "colab": {
          "base_uri": "https://localhost:8080/"
        },
        "id": "t_X7t99fnV6Z",
        "outputId": "43fde456-3d21-45bc-d8ce-fb6890aa4bde"
      },
      "execution_count": 32,
      "outputs": [
        {
          "output_type": "execute_result",
          "data": {
            "text/plain": [
              "232085521"
            ]
          },
          "metadata": {},
          "execution_count": 32
        }
      ]
    },
    {
      "cell_type": "markdown",
      "source": [
        "#E12 \n",
        "\n",
        "Acesse o primeiro elemento da lista de nomes e imprima a últma letra deste elemento"
      ],
      "metadata": {
        "id": "dyv003muo19j"
      }
    },
    {
      "cell_type": "code",
      "source": [
        "lista_nomes[0][-1]"
      ],
      "metadata": {
        "id": "COd1aG7NpOca",
        "colab": {
          "base_uri": "https://localhost:8080/",
          "height": 35
        },
        "outputId": "3cab0867-3a25-4fed-d909-ce5467b55d30"
      },
      "execution_count": 33,
      "outputs": [
        {
          "output_type": "execute_result",
          "data": {
            "text/plain": [
              "'s'"
            ],
            "application/vnd.google.colaboratory.intrinsic+json": {
              "type": "string"
            }
          },
          "metadata": {},
          "execution_count": 33
        }
      ]
    },
    {
      "cell_type": "markdown",
      "source": [
        "#E13\n",
        "\n",
        "Crie uma tupla chamada registros com os valores: 1, 2, 3, a, b e c. Imprima a tupla"
      ],
      "metadata": {
        "id": "hP7wJ7I1pW1a"
      }
    },
    {
      "cell_type": "code",
      "source": [
        "registros = (1,2,3,'a','b','c')\n",
        "registros"
      ],
      "metadata": {
        "id": "zj9uhAWFpo78",
        "colab": {
          "base_uri": "https://localhost:8080/"
        },
        "outputId": "bc451f6a-7089-4d29-e834-57240236072e"
      },
      "execution_count": 35,
      "outputs": [
        {
          "output_type": "execute_result",
          "data": {
            "text/plain": [
              "(1, 2, 3, 'a', 'b', 'c')"
            ]
          },
          "metadata": {},
          "execution_count": 35
        }
      ]
    },
    {
      "cell_type": "markdown",
      "source": [
        "#E14\n",
        "\n",
        "Crie uma lista com valores de 0 a 21 com incrementos de 3 passos"
      ],
      "metadata": {
        "id": "7MtFfadJpr2R"
      }
    },
    {
      "cell_type": "code",
      "source": [
        "list(range(0,21,3))"
      ],
      "metadata": {
        "id": "OaC6vpgop5d6",
        "colab": {
          "base_uri": "https://localhost:8080/"
        },
        "outputId": "4b850482-9db9-4965-acfd-f22dda419e68"
      },
      "execution_count": 36,
      "outputs": [
        {
          "output_type": "execute_result",
          "data": {
            "text/plain": [
              "[0, 3, 6, 9, 12, 15, 18]"
            ]
          },
          "metadata": {},
          "execution_count": 36
        }
      ]
    },
    {
      "cell_type": "markdown",
      "source": [
        "#E16\n",
        "\n",
        "Verifique se a string 'us' está contida na variável nome"
      ],
      "metadata": {
        "id": "E2GXDR1eqWoC"
      }
    },
    {
      "cell_type": "code",
      "source": [
        "'us' in nome"
      ],
      "metadata": {
        "id": "-srNkh88tn_f",
        "colab": {
          "base_uri": "https://localhost:8080/"
        },
        "outputId": "95b09806-b469-4b58-a2d0-24e3de456ef6"
      },
      "execution_count": 37,
      "outputs": [
        {
          "output_type": "execute_result",
          "data": {
            "text/plain": [
              "True"
            ]
          },
          "metadata": {},
          "execution_count": 37
        }
      ]
    },
    {
      "cell_type": "markdown",
      "source": [
        "#E15\n",
        "\n",
        "Forme a string 'www.apac.pe.gov.br' a partir de uma lista que contêm os valores:\n",
        "['www', 'apac','pe','gov','br']"
      ],
      "metadata": {
        "id": "7QyYLjgip7m5"
      }
    },
    {
      "cell_type": "code",
      "source": [
        "'.'.join(['www', 'apac','pe','gov','br'])"
      ],
      "metadata": {
        "id": "lZR_zgoDtmmw",
        "colab": {
          "base_uri": "https://localhost:8080/",
          "height": 35
        },
        "outputId": "9ffa6f51-dd5f-4846-97b0-dd329e5de4d3"
      },
      "execution_count": 40,
      "outputs": [
        {
          "output_type": "execute_result",
          "data": {
            "text/plain": [
              "'www.apac.pe.gov.br'"
            ],
            "application/vnd.google.colaboratory.intrinsic+json": {
              "type": "string"
            }
          },
          "metadata": {},
          "execution_count": 40
        }
      ]
    },
    {
      "cell_type": "code",
      "source": [],
      "metadata": {
        "id": "UmPPXgY1Jthl"
      },
      "execution_count": null,
      "outputs": []
    }
  ]
}