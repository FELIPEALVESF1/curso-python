{
  "nbformat": 4,
  "nbformat_minor": 0,
  "metadata": {
    "colab": {
      "provenance": []
    },
    "kernelspec": {
      "name": "python3",
      "display_name": "Python 3"
    },
    "language_info": {
      "name": "python"
    }
  },
  "cells": [
    {
      "cell_type": "markdown",
      "source": [
        "# E1\n",
        "Utilize as células abaixo para **declarar** uma variável **x** com um valor númerico int e outra variável y do tipo float. "
      ],
      "metadata": {
        "id": "S6DheouzLyT6"
      }
    },
    {
      "cell_type": "code",
      "execution_count": null,
      "metadata": {
        "id": "AhBS9BGPLnEK"
      },
      "outputs": [],
      "source": []
    },
    {
      "cell_type": "code",
      "source": [],
      "metadata": {
        "id": "AznWOzFzRp7Y"
      },
      "execution_count": null,
      "outputs": []
    },
    {
      "cell_type": "markdown",
      "source": [
        "#E2  \n",
        "Faça a **troca** dos valores entre as variáveis x e y"
      ],
      "metadata": {
        "id": "F0K7WgPnRv4n"
      }
    },
    {
      "cell_type": "code",
      "source": [],
      "metadata": {
        "id": "K3InmkoYSGEu"
      },
      "execution_count": null,
      "outputs": []
    },
    {
      "cell_type": "markdown",
      "source": [
        "# E3 \n",
        "\n",
        "Declare uma variavel **num_usuario** recebendo os dados fornecidos pelo usuário"
      ],
      "metadata": {
        "id": "RgzHhSsxSHBH"
      }
    },
    {
      "cell_type": "code",
      "source": [],
      "metadata": {
        "id": "WuCRKWEsSZP9"
      },
      "execution_count": null,
      "outputs": []
    },
    {
      "cell_type": "markdown",
      "source": [
        "# E4 \n",
        "\n",
        "Inspecione o **tipo** das váriaveis x, y, e num_usuario"
      ],
      "metadata": {
        "id": "Kf7KQOIpSZxK"
      }
    },
    {
      "cell_type": "code",
      "source": [],
      "metadata": {
        "id": "uNgP_gkaSi3q"
      },
      "execution_count": null,
      "outputs": []
    },
    {
      "cell_type": "markdown",
      "source": [
        "# E5 \n",
        "\n",
        "Declare uma variavel **novo_num_usuario** recebendo um valor fornecido pelo usuário e converta o valor para um valor númerico"
      ],
      "metadata": {
        "id": "VnD_gSJzSqXd"
      }
    },
    {
      "cell_type": "code",
      "source": [],
      "metadata": {
        "id": "A3dQFz0_S7JC"
      },
      "execution_count": null,
      "outputs": []
    },
    {
      "cell_type": "markdown",
      "source": [
        "# E6\n",
        "\n",
        "Quanto é 2 elevado a 3? "
      ],
      "metadata": {
        "id": "X9V_GcfWTKBl"
      }
    },
    {
      "cell_type": "code",
      "source": [],
      "metadata": {
        "id": "vH0-vBfWTYyQ"
      },
      "execution_count": null,
      "outputs": []
    },
    {
      "cell_type": "markdown",
      "source": [
        "# E7\n",
        "\n",
        "Qual o resto da divisão de 10 por 3?"
      ],
      "metadata": {
        "id": "v2eAwskITZl3"
      }
    },
    {
      "cell_type": "code",
      "source": [],
      "metadata": {
        "id": "uaMDKT7jT27w"
      },
      "execution_count": null,
      "outputs": []
    },
    {
      "cell_type": "markdown",
      "source": [
        "# E8\n",
        "\n",
        "Declare uma variável chamada **nome** e outra chamada **sobrenome** e as concatene "
      ],
      "metadata": {
        "id": "bIRF8Ib0Tw-y"
      }
    },
    {
      "cell_type": "code",
      "source": [],
      "metadata": {
        "id": "hQjyvOH-T5NI"
      },
      "execution_count": null,
      "outputs": []
    },
    {
      "cell_type": "code",
      "source": [],
      "metadata": {
        "id": "e93CeAsEUHhB"
      },
      "execution_count": null,
      "outputs": []
    },
    {
      "cell_type": "code",
      "source": [],
      "metadata": {
        "id": "JulPjgFNUHyb"
      },
      "execution_count": null,
      "outputs": []
    },
    {
      "cell_type": "markdown",
      "source": [
        "# E9 \n",
        "\n",
        "Imprima a variável nome 10 vezes"
      ],
      "metadata": {
        "id": "AYuoWMNjUKGr"
      }
    },
    {
      "cell_type": "code",
      "source": [],
      "metadata": {
        "id": "DjY0407aUSOt"
      },
      "execution_count": null,
      "outputs": []
    }
  ]
}