{
  "nbformat": 4,
  "nbformat_minor": 0,
  "metadata": {
    "colab": {
      "provenance": [],
      "authorship_tag": "ABX9TyP8sJgyk/a4RWuRdWKulept",
      "include_colab_link": true
    },
    "kernelspec": {
      "name": "python3",
      "display_name": "Python 3"
    },
    "language_info": {
      "name": "python"
    }
  },
  "cells": [
    {
      "cell_type": "markdown",
      "metadata": {
        "id": "view-in-github",
        "colab_type": "text"
      },
      "source": [
        "<a href=\"https://colab.research.google.com/github/viniciusgcjr/curso-python/blob/main/Exercicio_4.ipynb\" target=\"_parent\"><img src=\"https://colab.research.google.com/assets/colab-badge.svg\" alt=\"Open In Colab\"/></a>"
      ]
    },
    {
      "cell_type": "code",
      "source": [
        "alunos = [\"Vinícius\", \"Thiago\", \"Roni\", \"hailton\", \"Victor\", \"Alessandro\"]"
      ],
      "metadata": {
        "id": "KuteS3-QzPtu"
      },
      "execution_count": null,
      "outputs": []
    },
    {
      "cell_type": "markdown",
      "source": [
        "#E7\n",
        "\n",
        "Receba um valor booleano (True ou False) e o atribua a uma variável chamada download. Caso o valor seja verdadeiro imprima **baixando dados...**, caso contrário imprima **dados já foram baixados!**\n"
      ],
      "metadata": {
        "id": "BXXijC77mtUQ"
      }
    },
    {
      "cell_type": "code",
      "source": [
        "download = int(input('Valor booleano: '))\n",
        "# download = True\n",
        "if download == True:\n",
        "  print('baixando')\n",
        "if download == False:\n",
        "  print('Falso')"
      ],
      "metadata": {
        "id": "D7cmSDDOmuiE"
      },
      "execution_count": null,
      "outputs": []
    },
    {
      "cell_type": "markdown",
      "source": [
        "#E\n",
        "\n",
        "Imprima os valores da lista de alunos e seus respectivos índices utilizando um loop for.\n"
      ],
      "metadata": {
        "id": "mqCg--2LzD_-"
      }
    },
    {
      "cell_type": "code",
      "source": [
        "for aluno in alunos:\n",
        "  print(aluno)"
      ],
      "metadata": {
        "id": "YIiqIJcezaHu"
      },
      "execution_count": null,
      "outputs": []
    },
    {
      "cell_type": "code",
      "source": [],
      "metadata": {
        "id": "3-KosOJjms8w"
      },
      "execution_count": null,
      "outputs": []
    },
    {
      "cell_type": "markdown",
      "source": [
        "#E10\n",
        "\n",
        "Crie uma função que recebe como argumentos a lista de alunos e retorne o elemento que está na última posição"
      ],
      "metadata": {
        "id": "CowTbAvczap9"
      }
    },
    {
      "cell_type": "code",
      "source": [
        "def imprimir_ultimo_valor(lista):\n",
        "  print(lista[-1])"
      ],
      "metadata": {
        "id": "4P3uQ_ld1EOG"
      },
      "execution_count": null,
      "outputs": []
    },
    {
      "cell_type": "code",
      "source": [
        "imprimir_ultimo_valor(alunos)"
      ],
      "metadata": {
        "id": "DR3KL0GVeO8V"
      },
      "execution_count": null,
      "outputs": []
    }
  ]
}