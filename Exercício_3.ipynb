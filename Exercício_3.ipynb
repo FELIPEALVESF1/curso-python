{
  "nbformat": 4,
  "nbformat_minor": 0,
  "metadata": {
    "colab": {
      "provenance": [],
      "authorship_tag": "ABX9TyMIWNVBRjZFJJZlMqslZ/FG",
      "include_colab_link": true
    },
    "kernelspec": {
      "name": "python3",
      "display_name": "Python 3"
    },
    "language_info": {
      "name": "python"
    }
  },
  "cells": [
    {
      "cell_type": "markdown",
      "metadata": {
        "id": "view-in-github",
        "colab_type": "text"
      },
      "source": [
        "<a href=\"https://colab.research.google.com/github/viniciusgcjr/curso-python/blob/main/Exerc%C3%ADcio_3.ipynb\" target=\"_parent\"><img src=\"https://colab.research.google.com/assets/colab-badge.svg\" alt=\"Open In Colab\"/></a>"
      ]
    },
    {
      "cell_type": "code",
      "execution_count": 11,
      "metadata": {
        "id": "ur4gLnWZa0pS"
      },
      "outputs": [],
      "source": [
        "url = 'www.apac.pe.gov.br/uploads/Boletim-Pluviometrico-29-09-2022.pdf'"
      ]
    },
    {
      "cell_type": "code",
      "source": [
        "lista_numeros = [1,2,2,2,2,2,2,2,2,3,4,1,11,11,1,12,13,13]"
      ],
      "metadata": {
        "id": "eBrRdfrbf7Q0"
      },
      "execution_count": 15,
      "outputs": []
    },
    {
      "cell_type": "code",
      "source": [
        "url_github = 'github.com' \n",
        "usuario = 'viniciusgcjr'"
      ],
      "metadata": {
        "id": "iA1zLsuHhDJK"
      },
      "execution_count": 20,
      "outputs": []
    },
    {
      "cell_type": "code",
      "source": [
        "alunos = (\"Vinícius\", \"Thiago\", \"Roni\", \"hailton\", \"Victor\", \"Alessandro\")"
      ],
      "metadata": {
        "id": "psUZfYWvk18I"
      },
      "execution_count": 24,
      "outputs": []
    },
    {
      "cell_type": "markdown",
      "source": [
        "# E1 \n",
        "\n",
        "Separe a url pelo delimitador '/' e a lista em uma variável chamada url_split\n"
      ],
      "metadata": {
        "id": "tuWKANj7bPzk"
      }
    },
    {
      "cell_type": "code",
      "source": [],
      "metadata": {
        "id": "gnJuNz1hboeU"
      },
      "execution_count": 24,
      "outputs": []
    },
    {
      "cell_type": "code",
      "source": [],
      "metadata": {
        "id": "fYXcgn4Ib5Tl"
      },
      "execution_count": null,
      "outputs": []
    },
    {
      "cell_type": "markdown",
      "source": [
        "#E2\n",
        "\n",
        "Forme uma string com a lista url_slipt e compare se a sua string é igual a variável url"
      ],
      "metadata": {
        "id": "HJ-OcJ9Mdem1"
      }
    },
    {
      "cell_type": "code",
      "source": [],
      "metadata": {
        "id": "bdRr3yQy3_aK"
      },
      "execution_count": null,
      "outputs": []
    },
    {
      "cell_type": "code",
      "source": [],
      "metadata": {
        "id": "PJdqBfIu3_gB"
      },
      "execution_count": null,
      "outputs": []
    },
    {
      "cell_type": "markdown",
      "source": [
        "#E3\n",
        "\n",
        "Crie um dicionário contendo as chaves Aluno, Professor e Coordenador. Atribua valores quaisquer para cada uma das chaves. "
      ],
      "metadata": {
        "id": "FKVo7iNKeX7s"
      }
    },
    {
      "cell_type": "code",
      "source": [],
      "metadata": {
        "id": "5W34w8nge8s4"
      },
      "execution_count": null,
      "outputs": []
    },
    {
      "cell_type": "markdown",
      "source": [
        "#E4\n",
        "\n",
        "Imprima as chaves, valores e items presentes no dicionário criado na tarefa anterior."
      ],
      "metadata": {
        "id": "aTydjUbce9Fc"
      }
    },
    {
      "cell_type": "code",
      "source": [],
      "metadata": {
        "id": "XexOagiZfDJZ"
      },
      "execution_count": null,
      "outputs": []
    },
    {
      "cell_type": "markdown",
      "source": [
        "#E5\n",
        "\n",
        "Crie uma lista chamada **lista_num_nao_rep** a partir da lista **lista_numeros** apenas com valores não repetidos"
      ],
      "metadata": {
        "id": "Ba9GDIIZfD0D"
      }
    },
    {
      "cell_type": "code",
      "source": [],
      "metadata": {
        "id": "Nu7yNRxvgN6l"
      },
      "execution_count": null,
      "outputs": []
    },
    {
      "cell_type": "markdown",
      "source": [
        "#E6 \n",
        "\n",
        "Imprima a url 'https://github.com/viniciusgcjr' utilizando f-strings a partir das variáveis url_github e usuario."
      ],
      "metadata": {
        "id": "6n9A97AGg0hc"
      }
    },
    {
      "cell_type": "code",
      "source": [],
      "metadata": {
        "id": "V8LEQZeuhcHo"
      },
      "execution_count": null,
      "outputs": []
    },
    {
      "cell_type": "code",
      "source": [],
      "metadata": {
        "id": "5evOp-tbkyqg"
      },
      "execution_count": null,
      "outputs": []
    }
  ]
}