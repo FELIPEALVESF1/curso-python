{
  "nbformat": 4,
  "nbformat_minor": 0,
  "metadata": {
    "colab": {
      "provenance": [],
      "include_colab_link": true
    },
    "kernelspec": {
      "name": "python3",
      "display_name": "Python 3"
    },
    "language_info": {
      "name": "python"
    }
  },
  "cells": [
    {
      "cell_type": "markdown",
      "metadata": {
        "id": "view-in-github",
        "colab_type": "text"
      },
      "source": [
        "<a href=\"https://colab.research.google.com/github/viniciusgcjr/curso-python/blob/main/Gabarito_Exerc%C3%ADcio_1.ipynb\" target=\"_parent\"><img src=\"https://colab.research.google.com/assets/colab-badge.svg\" alt=\"Open In Colab\"/></a>"
      ]
    },
    {
      "cell_type": "markdown",
      "source": [
        "# E1\n",
        "Utilize as células abaixo para **declarar** uma variável **x** com um valor númerico int e outra variável y do tipo float. "
      ],
      "metadata": {
        "id": "S6DheouzLyT6"
      }
    },
    {
      "cell_type": "code",
      "execution_count": 4,
      "metadata": {
        "id": "AhBS9BGPLnEK"
      },
      "outputs": [],
      "source": [
        "x = 1"
      ]
    },
    {
      "cell_type": "code",
      "source": [
        "y = float(1)\n",
        "y"
      ],
      "metadata": {
        "id": "AznWOzFzRp7Y",
        "outputId": "7f41323f-9f8d-4e51-eba2-b095ccfc97b1",
        "colab": {
          "base_uri": "https://localhost:8080/"
        }
      },
      "execution_count": 3,
      "outputs": [
        {
          "output_type": "execute_result",
          "data": {
            "text/plain": [
              "1.0"
            ]
          },
          "metadata": {},
          "execution_count": 3
        }
      ]
    },
    {
      "cell_type": "markdown",
      "source": [
        "#E2  \n",
        "Faça a **troca** dos valores entre as variáveis x e y"
      ],
      "metadata": {
        "id": "F0K7WgPnRv4n"
      }
    },
    {
      "cell_type": "code",
      "source": [
        "x, y = y, x"
      ],
      "metadata": {
        "id": "K3InmkoYSGEu"
      },
      "execution_count": 5,
      "outputs": []
    },
    {
      "cell_type": "markdown",
      "source": [
        "# E3 \n",
        "\n",
        "Declare uma variavel **num_usuario** recebendo os dados fornecidos pelo usuário"
      ],
      "metadata": {
        "id": "RgzHhSsxSHBH"
      }
    },
    {
      "cell_type": "code",
      "source": [
        "num_usuario = input('num qlq: ')"
      ],
      "metadata": {
        "id": "WuCRKWEsSZP9",
        "outputId": "5a07cbf4-517a-4fd6-b471-b26307be4a25",
        "colab": {
          "base_uri": "https://localhost:8080/"
        }
      },
      "execution_count": 6,
      "outputs": [
        {
          "name": "stdout",
          "output_type": "stream",
          "text": [
            "num qlq: 123\n"
          ]
        }
      ]
    },
    {
      "cell_type": "markdown",
      "source": [
        "# E4 \n",
        "\n",
        "Inspecione o **tipo** das váriaveis x, y, e num_usuario"
      ],
      "metadata": {
        "id": "Kf7KQOIpSZxK"
      }
    },
    {
      "cell_type": "code",
      "source": [
        "print(type(x))\n",
        "print(type(y))\n",
        "type(num_usuario)"
      ],
      "metadata": {
        "id": "uNgP_gkaSi3q",
        "outputId": "0b792e95-72be-499c-d299-e51208ecb7ca",
        "colab": {
          "base_uri": "https://localhost:8080/"
        }
      },
      "execution_count": 10,
      "outputs": [
        {
          "output_type": "stream",
          "name": "stdout",
          "text": [
            "<class 'float'>\n",
            "<class 'int'>\n"
          ]
        },
        {
          "output_type": "execute_result",
          "data": {
            "text/plain": [
              "str"
            ]
          },
          "metadata": {},
          "execution_count": 10
        }
      ]
    },
    {
      "cell_type": "markdown",
      "source": [
        "# E5 \n",
        "\n",
        "Declare uma variavel **novo_num_usuario** recebendo um valor fornecido pelo usuário e converta o valor para um valor númerico"
      ],
      "metadata": {
        "id": "VnD_gSJzSqXd"
      }
    },
    {
      "cell_type": "code",
      "source": [
        "novo_num_usuario = int(input('novo num'))\n"
      ],
      "metadata": {
        "id": "A3dQFz0_S7JC",
        "outputId": "003c26d5-e708-4964-a5e3-b7d59911eab3",
        "colab": {
          "base_uri": "https://localhost:8080/"
        }
      },
      "execution_count": 11,
      "outputs": [
        {
          "name": "stdout",
          "output_type": "stream",
          "text": [
            "novo num55\n"
          ]
        }
      ]
    },
    {
      "cell_type": "code",
      "source": [
        "novo_num_usuario"
      ],
      "metadata": {
        "id": "xi591e1vgGPW",
        "outputId": "cabc97cc-287a-4add-b2fd-cf73f7f48504",
        "colab": {
          "base_uri": "https://localhost:8080/"
        }
      },
      "execution_count": 12,
      "outputs": [
        {
          "output_type": "execute_result",
          "data": {
            "text/plain": [
              "55"
            ]
          },
          "metadata": {},
          "execution_count": 12
        }
      ]
    },
    {
      "cell_type": "markdown",
      "source": [
        "# E6\n",
        "\n",
        "Quanto é 2 elevado a 3? "
      ],
      "metadata": {
        "id": "X9V_GcfWTKBl"
      }
    },
    {
      "cell_type": "code",
      "source": [
        "2 ** 3"
      ],
      "metadata": {
        "id": "vH0-vBfWTYyQ",
        "outputId": "45e5583d-1664-4aac-cc57-ec937f7a7bf8",
        "colab": {
          "base_uri": "https://localhost:8080/"
        }
      },
      "execution_count": 13,
      "outputs": [
        {
          "output_type": "execute_result",
          "data": {
            "text/plain": [
              "8"
            ]
          },
          "metadata": {},
          "execution_count": 13
        }
      ]
    },
    {
      "cell_type": "markdown",
      "source": [
        "# E7\n",
        "\n",
        "Qual o resto da divisão de 10 por 3?"
      ],
      "metadata": {
        "id": "v2eAwskITZl3"
      }
    },
    {
      "cell_type": "code",
      "source": [
        "10 % 3"
      ],
      "metadata": {
        "id": "uaMDKT7jT27w",
        "outputId": "a14eaf44-b450-4ba0-8e2d-e6235fbf570a",
        "colab": {
          "base_uri": "https://localhost:8080/"
        }
      },
      "execution_count": 14,
      "outputs": [
        {
          "output_type": "execute_result",
          "data": {
            "text/plain": [
              "1"
            ]
          },
          "metadata": {},
          "execution_count": 14
        }
      ]
    },
    {
      "cell_type": "markdown",
      "source": [
        "# E8\n",
        "\n",
        "Declare uma variável chamada **nome** e outra chamada **sobrenome** e as concatene "
      ],
      "metadata": {
        "id": "bIRF8Ib0Tw-y"
      }
    },
    {
      "cell_type": "code",
      "source": [
        "nome = 'Vinicius'"
      ],
      "metadata": {
        "id": "hQjyvOH-T5NI"
      },
      "execution_count": 18,
      "outputs": []
    },
    {
      "cell_type": "code",
      "source": [
        "sobrenome = 'gomes'"
      ],
      "metadata": {
        "id": "e93CeAsEUHhB"
      },
      "execution_count": 19,
      "outputs": []
    },
    {
      "cell_type": "code",
      "source": [
        "nome + sobrenome"
      ],
      "metadata": {
        "id": "JulPjgFNUHyb",
        "outputId": "0ff6599b-c7b5-49ee-d02f-cd339f8e10eb",
        "colab": {
          "base_uri": "https://localhost:8080/",
          "height": 36
        }
      },
      "execution_count": 20,
      "outputs": [
        {
          "output_type": "execute_result",
          "data": {
            "text/plain": [
              "'Viniciusgomes'"
            ],
            "application/vnd.google.colaboratory.intrinsic+json": {
              "type": "string"
            }
          },
          "metadata": {},
          "execution_count": 20
        }
      ]
    },
    {
      "cell_type": "code",
      "source": [
        "nome + ' ' + sobrenome"
      ],
      "metadata": {
        "id": "GBi_Wvu6gbeh",
        "outputId": "e51c8567-237c-49df-ccff-b5328fde3468",
        "colab": {
          "base_uri": "https://localhost:8080/",
          "height": 36
        }
      },
      "execution_count": 21,
      "outputs": [
        {
          "output_type": "execute_result",
          "data": {
            "text/plain": [
              "'Vinicius gomes'"
            ],
            "application/vnd.google.colaboratory.intrinsic+json": {
              "type": "string"
            }
          },
          "metadata": {},
          "execution_count": 21
        }
      ]
    },
    {
      "cell_type": "code",
      "source": [
        "print(nome, sobrenome)"
      ],
      "metadata": {
        "id": "6bEMSYM-ggYp",
        "outputId": "87173317-820f-4ff4-85a0-6ae2becb6558",
        "colab": {
          "base_uri": "https://localhost:8080/"
        }
      },
      "execution_count": 22,
      "outputs": [
        {
          "output_type": "stream",
          "name": "stdout",
          "text": [
            "Vinicius gomes\n"
          ]
        }
      ]
    },
    {
      "cell_type": "code",
      "source": [
        "print(f'{nome} invfndlgfdngdf {sobrenome}')"
      ],
      "metadata": {
        "id": "YT34QeM-glLr",
        "outputId": "ae6192a9-0481-4bef-a51a-7cd080dd8010",
        "colab": {
          "base_uri": "https://localhost:8080/"
        }
      },
      "execution_count": 24,
      "outputs": [
        {
          "output_type": "stream",
          "name": "stdout",
          "text": [
            "Vinicius invfndlgfdngdf gomes\n"
          ]
        }
      ]
    },
    {
      "cell_type": "markdown",
      "source": [
        "# E9 \n",
        "\n",
        "Imprima a variável nome 10 vezes"
      ],
      "metadata": {
        "id": "AYuoWMNjUKGr"
      }
    },
    {
      "cell_type": "code",
      "source": [
        "(nome +' ') * 10"
      ],
      "metadata": {
        "id": "DjY0407aUSOt",
        "outputId": "55f521c4-5d9b-476b-eef2-336a55ae9140",
        "colab": {
          "base_uri": "https://localhost:8080/",
          "height": 36
        }
      },
      "execution_count": 26,
      "outputs": [
        {
          "output_type": "execute_result",
          "data": {
            "text/plain": [
              "'Vinicius Vinicius Vinicius Vinicius Vinicius Vinicius Vinicius Vinicius Vinicius Vinicius '"
            ],
            "application/vnd.google.colaboratory.intrinsic+json": {
              "type": "string"
            }
          },
          "metadata": {},
          "execution_count": 26
        }
      ]
    },
    {
      "cell_type": "code",
      "source": [],
      "metadata": {
        "id": "DRkSY7kzg0c3"
      },
      "execution_count": null,
      "outputs": []
    }
  ]
}