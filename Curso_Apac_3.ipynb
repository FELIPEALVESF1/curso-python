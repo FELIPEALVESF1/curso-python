{
  "nbformat": 4,
  "nbformat_minor": 0,
  "metadata": {
    "colab": {
      "provenance": [],
      "toc_visible": true,
      "authorship_tag": "ABX9TyP5zqkIdHi+ozRdMYDqKC9g",
      "include_colab_link": true
    },
    "kernelspec": {
      "name": "python3",
      "display_name": "Python 3"
    },
    "language_info": {
      "name": "python"
    }
  },
  "cells": [
    {
      "cell_type": "markdown",
      "metadata": {
        "id": "view-in-github",
        "colab_type": "text"
      },
      "source": [
        "<a href=\"https://colab.research.google.com/github/viniciusgcjr/curso-python/blob/main/Curso_Apac_3.ipynb\" target=\"_parent\"><img src=\"https://colab.research.google.com/assets/colab-badge.svg\" alt=\"Open In Colab\"/></a>"
      ]
    },
    {
      "cell_type": "markdown",
      "source": [
        "# Métodos de String\n",
        "\n",
        "[Referência](https://docs.python.org/pt-br/3.7/library/string.html)"
      ],
      "metadata": {
        "id": "Ky-hUDMeyaar"
      }
    },
    {
      "cell_type": "code",
      "source": [
        "'   vinicius   '.lstrip()"
      ],
      "metadata": {
        "colab": {
          "base_uri": "https://localhost:8080/",
          "height": 35
        },
        "id": "JVWha4j9pQwq",
        "outputId": "8b123012-beb2-4d47-a35e-ec7a4a9fe2c5"
      },
      "execution_count": null,
      "outputs": [
        {
          "output_type": "execute_result",
          "data": {
            "text/plain": [
              "'vinicius   '"
            ],
            "application/vnd.google.colaboratory.intrinsic+json": {
              "type": "string"
            }
          },
          "metadata": {},
          "execution_count": 2
        }
      ]
    },
    {
      "cell_type": "code",
      "source": [
        "'   vinicius   '.rstrip()"
      ],
      "metadata": {
        "colab": {
          "base_uri": "https://localhost:8080/",
          "height": 35
        },
        "id": "ltCEnf_KpXob",
        "outputId": "62d10fce-ca34-47a1-c012-b11c89e0d79d"
      },
      "execution_count": null,
      "outputs": [
        {
          "output_type": "execute_result",
          "data": {
            "text/plain": [
              "'   vinicius'"
            ],
            "application/vnd.google.colaboratory.intrinsic+json": {
              "type": "string"
            }
          },
          "metadata": {},
          "execution_count": 3
        }
      ]
    },
    {
      "cell_type": "code",
      "source": [
        "'VINICIUS'.lower()"
      ],
      "metadata": {
        "colab": {
          "base_uri": "https://localhost:8080/",
          "height": 35
        },
        "id": "h8Gs7zi3pdeZ",
        "outputId": "8fa5eea4-aefa-4e01-e322-1c87ab5d5fd1"
      },
      "execution_count": null,
      "outputs": [
        {
          "output_type": "execute_result",
          "data": {
            "text/plain": [
              "'vinicius'"
            ],
            "application/vnd.google.colaboratory.intrinsic+json": {
              "type": "string"
            }
          },
          "metadata": {},
          "execution_count": 4
        }
      ]
    },
    {
      "cell_type": "code",
      "source": [
        "'BaseTestCase'.replace('Test', 'Gome')"
      ],
      "metadata": {
        "colab": {
          "base_uri": "https://localhost:8080/",
          "height": 35
        },
        "id": "RzapV9Fppm7B",
        "outputId": "07a02cab-040b-4a3b-f095-11882944d318"
      },
      "execution_count": null,
      "outputs": [
        {
          "output_type": "execute_result",
          "data": {
            "text/plain": [
              "'BaseGomeCase'"
            ],
            "application/vnd.google.colaboratory.intrinsic+json": {
              "type": "string"
            }
          },
          "metadata": {},
          "execution_count": 5
        }
      ]
    },
    {
      "cell_type": "code",
      "source": [
        "'Base-Test-Case'.rsplit(sep='-')"
      ],
      "metadata": {
        "colab": {
          "base_uri": "https://localhost:8080/"
        },
        "id": "dLtjO1qspoTB",
        "outputId": "0e528e9f-1f97-4a89-b41f-f9a03a324eca"
      },
      "execution_count": null,
      "outputs": [
        {
          "output_type": "execute_result",
          "data": {
            "text/plain": [
              "['Base', 'Test', 'Case']"
            ]
          },
          "metadata": {},
          "execution_count": 6
        }
      ]
    },
    {
      "cell_type": "code",
      "source": [
        "'1,2,3'.split(',')\n",
        "\n"
      ],
      "metadata": {
        "colab": {
          "base_uri": "https://localhost:8080/"
        },
        "id": "YebOjAgbp5Kz",
        "outputId": "9dbc38e8-e6c7-4818-ac10-d729d5e947fb"
      },
      "execution_count": null,
      "outputs": [
        {
          "output_type": "execute_result",
          "data": {
            "text/plain": [
              "['1', '2', '3']"
            ]
          },
          "metadata": {},
          "execution_count": 7
        }
      ]
    },
    {
      "cell_type": "code",
      "source": [
        "'1,2,3'.split(',', maxsplit=1)\n"
      ],
      "metadata": {
        "colab": {
          "base_uri": "https://localhost:8080/"
        },
        "id": "gQIve3mwqAjv",
        "outputId": "3c88be76-b77d-40a9-ba50-73901886dc1a"
      },
      "execution_count": null,
      "outputs": [
        {
          "output_type": "execute_result",
          "data": {
            "text/plain": [
              "['1', '2,3']"
            ]
          },
          "metadata": {},
          "execution_count": 8
        }
      ]
    },
    {
      "cell_type": "code",
      "source": [
        "\n",
        "'1,2,,3,'.split(',')"
      ],
      "metadata": {
        "colab": {
          "base_uri": "https://localhost:8080/"
        },
        "id": "rzQnmFkWqXat",
        "outputId": "e89b8f9f-46cb-48ad-a338-5a68c740699f"
      },
      "execution_count": null,
      "outputs": [
        {
          "output_type": "execute_result",
          "data": {
            "text/plain": [
              "['1', '2', '', '3', '']"
            ]
          },
          "metadata": {},
          "execution_count": 9
        }
      ]
    },
    {
      "cell_type": "code",
      "source": [
        "'1 2 3'.split()"
      ],
      "metadata": {
        "colab": {
          "base_uri": "https://localhost:8080/"
        },
        "id": "6BOXBJ5QqZqW",
        "outputId": "fbf71d82-8531-490f-98dd-8d52de878881"
      },
      "execution_count": null,
      "outputs": [
        {
          "output_type": "execute_result",
          "data": {
            "text/plain": [
              "['1', '2', '3']"
            ]
          },
          "metadata": {},
          "execution_count": 10
        }
      ]
    },
    {
      "cell_type": "code",
      "source": [
        "'1 2 3'.split(maxsplit=1)"
      ],
      "metadata": {
        "colab": {
          "base_uri": "https://localhost:8080/"
        },
        "id": "lJvjLusgqaBm",
        "outputId": "5533126a-d6cb-48af-a720-f49654f5aa38"
      },
      "execution_count": null,
      "outputs": [
        {
          "output_type": "execute_result",
          "data": {
            "text/plain": [
              "['1', '2 3']"
            ]
          },
          "metadata": {},
          "execution_count": 11
        }
      ]
    },
    {
      "cell_type": "code",
      "source": [
        "'   1   2   3   '.split()"
      ],
      "metadata": {
        "colab": {
          "base_uri": "https://localhost:8080/"
        },
        "id": "mdeutaFfqbaF",
        "outputId": "5552e4ee-0cba-4334-b3da-82f5918d2841"
      },
      "execution_count": null,
      "outputs": [
        {
          "output_type": "execute_result",
          "data": {
            "text/plain": [
              "['1', '2', '3']"
            ]
          },
          "metadata": {},
          "execution_count": 12
        }
      ]
    },
    {
      "cell_type": "code",
      "source": [
        "'https://docs.python.org/pt-br/3.7/library/stdtypes.html'.split(sep='/')"
      ],
      "metadata": {
        "colab": {
          "base_uri": "https://localhost:8080/"
        },
        "id": "zRkR0bTfcy1G",
        "outputId": "2e42a53c-a478-4ae3-b9ab-492fec7c9ffd"
      },
      "execution_count": null,
      "outputs": [
        {
          "output_type": "execute_result",
          "data": {
            "text/plain": [
              "['https:', '', 'docs.python.org', 'pt-br', '3.7', 'library', 'stdtypes.html']"
            ]
          },
          "metadata": {},
          "execution_count": 13
        }
      ]
    },
    {
      "cell_type": "code",
      "source": [
        "'Vinicius'.startswith('Vin')"
      ],
      "metadata": {
        "colab": {
          "base_uri": "https://localhost:8080/"
        },
        "id": "m14tz7hhqlPN",
        "outputId": "7afa57e5-b835-4ef8-aad7-51b9069ea3b6"
      },
      "execution_count": null,
      "outputs": [
        {
          "output_type": "execute_result",
          "data": {
            "text/plain": [
              "True"
            ]
          },
          "metadata": {},
          "execution_count": 14
        }
      ]
    },
    {
      "cell_type": "code",
      "source": [
        "'Vinicius'.startswith('Vin', 1, 5) #não tem Vin em [1:5]"
      ],
      "metadata": {
        "colab": {
          "base_uri": "https://localhost:8080/"
        },
        "id": "4FeZuu2Jqx_7",
        "outputId": "5766ad03-f46d-4f96-aa54-302f0deef10b"
      },
      "execution_count": null,
      "outputs": [
        {
          "output_type": "execute_result",
          "data": {
            "text/plain": [
              "False"
            ]
          },
          "metadata": {},
          "execution_count": 15
        }
      ]
    },
    {
      "cell_type": "code",
      "source": [
        "str(12).zfill(5)"
      ],
      "metadata": {
        "colab": {
          "base_uri": "https://localhost:8080/",
          "height": 35
        },
        "id": "GDLWIU2AhRW_",
        "outputId": "8993d1cc-f237-4c2b-fee6-6ad4cf372cb7"
      },
      "execution_count": null,
      "outputs": [
        {
          "output_type": "execute_result",
          "data": {
            "text/plain": [
              "'00012'"
            ],
            "application/vnd.google.colaboratory.intrinsic+json": {
              "type": "string"
            }
          },
          "metadata": {},
          "execution_count": 16
        }
      ]
    },
    {
      "cell_type": "code",
      "source": [
        "'vinicius-gomes'.count('i')"
      ],
      "metadata": {
        "colab": {
          "base_uri": "https://localhost:8080/"
        },
        "id": "C4-2f_HhXV7k",
        "outputId": "85044a1a-ba89-4cf5-cbbb-6286da65e089"
      },
      "execution_count": null,
      "outputs": [
        {
          "output_type": "execute_result",
          "data": {
            "text/plain": [
              "3"
            ]
          },
          "metadata": {},
          "execution_count": 17
        }
      ]
    },
    {
      "cell_type": "markdown",
      "source": [
        "# Tipo de Mapeamento — dict\n",
        "\n",
        "Um objeto de mapeamento mapeia valores hasheáveis para objetos arbitrários. Mapeamentos são objetos mutáveis. Existe no momento apenas um tipo de mapeamento padrão, o dicionário. \n",
        "\n",
        "Similar ao Map do Java e objeto em Javascript. \n",
        "\n",
        "[Referência](https://docs.python.org/pt-br/3.7/library/stdtypes.html#mapping-types-dict)"
      ],
      "metadata": {
        "id": "8epFM-5GNgUn"
      }
    },
    {
      "cell_type": "code",
      "source": [
        "dict_coordenadas = {\"estado\": \"PE\", \"latitude\" : -9.1223227, \"longitude\" : -36.43874}"
      ],
      "metadata": {
        "id": "R8Od3p64S5Lx"
      },
      "execution_count": null,
      "outputs": []
    },
    {
      "cell_type": "code",
      "source": [
        "dict_coordenadas['estado']"
      ],
      "metadata": {
        "colab": {
          "base_uri": "https://localhost:8080/",
          "height": 35
        },
        "id": "XRMl8SaikUQp",
        "outputId": "98d30813-1f8a-47c3-9eb4-87cf4dbba4da"
      },
      "execution_count": null,
      "outputs": [
        {
          "output_type": "execute_result",
          "data": {
            "text/plain": [
              "'PE'"
            ],
            "application/vnd.google.colaboratory.intrinsic+json": {
              "type": "string"
            }
          },
          "metadata": {},
          "execution_count": 19
        }
      ]
    },
    {
      "cell_type": "markdown",
      "source": [
        "### Objetos de visão de dicionário\n",
        "Os objetos retornados por **dict.keys(), dict.values() e dict.items()** são objetos de visão. Eles fornecem uma visão dinâmica das entradas do dicionário, o que significa que quando o dicionário muda, a visão reflete essas mudanças.\n",
        "\n",
        "[Referência](https://docs.python.org/pt-br/3.7/library/stdtypes.html#dictionary-view-objects)"
      ],
      "metadata": {
        "id": "7YpcckPvNzk4"
      }
    },
    {
      "cell_type": "code",
      "source": [
        "dict_coordenadas.keys()"
      ],
      "metadata": {
        "colab": {
          "base_uri": "https://localhost:8080/"
        },
        "id": "rln-fNvETFnK",
        "outputId": "85988546-d971-4ad4-b7a0-4d9bba7e96f9"
      },
      "execution_count": null,
      "outputs": [
        {
          "output_type": "execute_result",
          "data": {
            "text/plain": [
              "dict_keys(['estado', 'latitude', 'longitude'])"
            ]
          },
          "metadata": {},
          "execution_count": 20
        }
      ]
    },
    {
      "cell_type": "code",
      "source": [
        "dict_coordenadas.values()"
      ],
      "metadata": {
        "colab": {
          "base_uri": "https://localhost:8080/"
        },
        "id": "sM6nEv5MTIIk",
        "outputId": "680ad736-28c1-46ee-92f2-6c32d917b3f5"
      },
      "execution_count": null,
      "outputs": [
        {
          "output_type": "execute_result",
          "data": {
            "text/plain": [
              "dict_values(['PE', -9.1223227, -36.43874])"
            ]
          },
          "metadata": {},
          "execution_count": 21
        }
      ]
    },
    {
      "cell_type": "code",
      "source": [
        "dict_coordenadas.items()"
      ],
      "metadata": {
        "colab": {
          "base_uri": "https://localhost:8080/"
        },
        "id": "N7j99yv9TKqB",
        "outputId": "e79d6083-a8b7-4ccf-a195-f5b4f146535f"
      },
      "execution_count": null,
      "outputs": [
        {
          "output_type": "execute_result",
          "data": {
            "text/plain": [
              "dict_items([('estado', 'PE'), ('latitude', -9.1223227), ('longitude', -36.43874)])"
            ]
          },
          "metadata": {},
          "execution_count": 22
        }
      ]
    },
    {
      "cell_type": "markdown",
      "source": [
        "# Tipo Set \n",
        "Um objeto set é uma coleção não ordenada de objetos hasheáveis distintos. Usos comuns incluem testes de associação, remover duplicatas de uma sequência, e computar operações matemáticas tais como interseção, união, diferença, e diferença simétrica\n",
        "\n",
        "[Referência](https://docs.python.org/pt-br/3.7/library/stdtypes.html#set)"
      ],
      "metadata": {
        "id": "wDlnW6AeNUiy"
      }
    },
    {
      "cell_type": "code",
      "source": [
        "{1,2,3,4,3,3,3,3,3,3,3,5}"
      ],
      "metadata": {
        "colab": {
          "base_uri": "https://localhost:8080/"
        },
        "id": "cu4YTZPtTT0y",
        "outputId": "5ed9ac4a-f141-4853-bdad-8a2385bbff7d"
      },
      "execution_count": null,
      "outputs": [
        {
          "output_type": "execute_result",
          "data": {
            "text/plain": [
              "{1, 2, 3, 4, 5}"
            ]
          },
          "metadata": {},
          "execution_count": 23
        }
      ]
    },
    {
      "cell_type": "code",
      "source": [
        "s1 = {1,2,3,4,5}\n",
        "\n",
        "\n",
        "s2 = set()\n",
        "s2.add(1)\n",
        "s2.add(3)\n",
        "s2.add(4)\n",
        "s2.discard(3)\n",
        "s2.update('a')\n",
        "print(s2)"
      ],
      "metadata": {
        "colab": {
          "base_uri": "https://localhost:8080/"
        },
        "id": "q4w8AVfvyBLm",
        "outputId": "824fde2a-8ff1-418f-d007-591f7f9286b8"
      },
      "execution_count": null,
      "outputs": [
        {
          "output_type": "stream",
          "name": "stdout",
          "text": [
            "{1, 4, 'a'}\n"
          ]
        }
      ]
    },
    {
      "cell_type": "code",
      "source": [
        "#union\n",
        "s1 = {1,2,3,4,5}\n",
        "s2 = {1,3,5,6,7,7,8}\n",
        "s3 = s1 | s2\n",
        "s4 = s1 & s2\n",
        "s5 = s1 - s2\n",
        "s6 = s1 ^ s2\n",
        "print('union: ', s3)\n",
        "print('intersection: ', s4)\n",
        "print('differrence: ',s5) \n",
        "print('symmetric difference: ', s6)"
      ],
      "metadata": {
        "colab": {
          "base_uri": "https://localhost:8080/"
        },
        "id": "dtuvxZR2yJpQ",
        "outputId": "6e68449e-e191-49a7-a195-9f6fc5417d2b"
      },
      "execution_count": null,
      "outputs": [
        {
          "output_type": "stream",
          "name": "stdout",
          "text": [
            "union:  {1, 2, 3, 4, 5, 6, 7, 8}\n",
            "intersection:  {1, 3, 5}\n",
            "differrence:  {2, 4}\n",
            "symmetric difference:  {2, 4, 6, 7, 8}\n"
          ]
        }
      ]
    },
    {
      "cell_type": "code",
      "source": [
        "#Neste caso as listas são diferentes, mas os sets são iguais\n",
        "l1 = ['a', 'b', 'c']\n",
        "l2 = ['b', 'a', 'c', 'c','c','c','c']\n",
        "print(l1 != l2)\n",
        "\n",
        "s1 = set(l1)\n",
        "s2 = set(l2)\n",
        "print(s1 != s2)"
      ],
      "metadata": {
        "id": "G7A41i_4ycV0",
        "outputId": "1c2491af-6429-4ecf-acfb-5eae1f4e250f",
        "colab": {
          "base_uri": "https://localhost:8080/"
        }
      },
      "execution_count": null,
      "outputs": [
        {
          "output_type": "stream",
          "name": "stdout",
          "text": [
            "True\n",
            "False\n"
          ]
        }
      ]
    },
    {
      "cell_type": "markdown",
      "source": [
        "#Caracteres de escape \n",
        "\n",
        "| Caracteres de Escapes (Escapes Sequence) | Significado                                      |\n",
        "| ---------------------------------------- | ------------------------------------------------ |\n",
        "| \\\\newline                                | A barra invertida e a nova linha foram ignoradas |\n",
        "| \\\\\\\\                                     | Backslash (\\\\)                                   |\n",
        "| \\\\'                                      | Aspas Simples (')                                |\n",
        "| \\\\\"                                      | Aspas Dupla (\")                                  |\n",
        "| \\\\a                                      | ASCII Bell (BEL)                                 |\n",
        "| \\\\b                                      | ASCII Backspace (BS)                             |\n",
        "| \\\\f                                      | ASCII Formfeed (FF)                              |\n",
        "| \\\\n                                      | ASCII Linefeed (LF)                              |\n",
        "| \\\\r                                      | ASCII Carriage Return (CR)                       |\n",
        "| \\\\t                                      | ASCII Horizontal Tab (TAB)                       |\n",
        "\n",
        "[Referência](https://docs.python.org/pt-br/3.7/reference/lexical_analysis.html#string-and-bytes-literals)"
      ],
      "metadata": {
        "id": "7N4SH_Lka7fS"
      }
    },
    {
      "cell_type": "code",
      "source": [
        "print('vinicius gomes costa') \n",
        "print('Jr')"
      ],
      "metadata": {
        "colab": {
          "base_uri": "https://localhost:8080/"
        },
        "id": "ft5Cv2czfI7s",
        "outputId": "7dcdd82a-0dab-4d1b-cde8-4302487192b2"
      },
      "execution_count": null,
      "outputs": [
        {
          "output_type": "stream",
          "name": "stdout",
          "text": [
            "vinicius gomes costa\n",
            "Jr\n"
          ]
        }
      ]
    },
    {
      "cell_type": "code",
      "source": [
        "help(print)"
      ],
      "metadata": {
        "colab": {
          "base_uri": "https://localhost:8080/"
        },
        "id": "flsO3ZU5WzwM",
        "outputId": "d7e3cc04-5978-49dd-de23-7e3fc1e7b274"
      },
      "execution_count": null,
      "outputs": [
        {
          "output_type": "stream",
          "name": "stdout",
          "text": [
            "Help on built-in function print in module builtins:\n",
            "\n",
            "print(...)\n",
            "    print(value, ..., sep=' ', end='\\n', file=sys.stdout, flush=False)\n",
            "    \n",
            "    Prints the values to a stream, or to sys.stdout by default.\n",
            "    Optional keyword arguments:\n",
            "    file:  a file-like object (stream); defaults to the current sys.stdout.\n",
            "    sep:   string inserted between values, default a space.\n",
            "    end:   string appended after the last value, default a newline.\n",
            "    flush: whether to forcibly flush the stream.\n",
            "\n"
          ]
        }
      ]
    },
    {
      "cell_type": "code",
      "source": [
        "print('vinicius gomes costa', sep='_', end='\\t') \n",
        "print('Jr')"
      ],
      "metadata": {
        "colab": {
          "base_uri": "https://localhost:8080/"
        },
        "id": "5QVbJG6VXECZ",
        "outputId": "85f3da36-6ed0-474e-c29e-05d557161a24"
      },
      "execution_count": null,
      "outputs": [
        {
          "output_type": "stream",
          "name": "stdout",
          "text": [
            "vinicius gomes costa\tJr\n"
          ]
        }
      ]
    },
    {
      "cell_type": "markdown",
      "source": [
        "## UNPACKING  \n",
        "operador splat"
      ],
      "metadata": {
        "id": "IDHIJ-C_clxo"
      }
    },
    {
      "cell_type": "markdown",
      "source": [
        "The thing that sep separates is multiple arguments to print, not the elements of any list you're trying to print. But, there's an easy way in a function call to unpack the elements of a list and treat them as multiple individual arguments, the * operator (the splat):\n",
        "\n",
        "print(*list_of, end='', sep='-')"
      ],
      "metadata": {
        "id": "LeWk5DtsZ8V5"
      }
    },
    {
      "cell_type": "code",
      "source": [
        "print(*nome, sep='_')"
      ],
      "metadata": {
        "colab": {
          "base_uri": "https://localhost:8080/"
        },
        "id": "84Uf9CDUYO40",
        "outputId": "1b44cc67-1857-4937-a50f-d40fe5e2ca95"
      },
      "execution_count": null,
      "outputs": [
        {
          "output_type": "stream",
          "name": "stdout",
          "text": [
            "V_i_n_í_c_i_u_s_ _G_o_m_e_s_ _C_o_s_t_a_ _J_ú_n_i_o_r\n"
          ]
        }
      ]
    },
    {
      "cell_type": "code",
      "source": [
        "print(*lista, sep='_')"
      ],
      "metadata": {
        "colab": {
          "base_uri": "https://localhost:8080/"
        },
        "id": "aXnL24gVZZSv",
        "outputId": "7548baec-047c-407f-d883-90b8ea6330f8"
      },
      "execution_count": null,
      "outputs": [
        {
          "output_type": "stream",
          "name": "stdout",
          "text": [
            "Vinícius_Gomes_Costa_Júnior\n"
          ]
        }
      ]
    },
    {
      "cell_type": "markdown",
      "source": [
        "# F-String"
      ],
      "metadata": {
        "id": "FTuO2VJrSRL4"
      }
    },
    {
      "cell_type": "code",
      "source": [
        "lat = dict_coordenadas['latitude']\n",
        "lat"
      ],
      "metadata": {
        "colab": {
          "base_uri": "https://localhost:8080/"
        },
        "id": "mw2dhwlTaZph",
        "outputId": "2b88caf4-760f-47a3-ec2f-51238e78df66"
      },
      "execution_count": null,
      "outputs": [
        {
          "output_type": "execute_result",
          "data": {
            "text/plain": [
              "-9.1223227"
            ]
          },
          "metadata": {},
          "execution_count": 123
        }
      ]
    },
    {
      "cell_type": "code",
      "source": [
        "long = dict_coordenadas['longitude']\n",
        "long"
      ],
      "metadata": {
        "colab": {
          "base_uri": "https://localhost:8080/"
        },
        "id": "H-3SGnhqiHLt",
        "outputId": "5102a943-bc46-4905-9141-bceaddfb9829"
      },
      "execution_count": null,
      "outputs": [
        {
          "output_type": "execute_result",
          "data": {
            "text/plain": [
              "-36.43874"
            ]
          },
          "metadata": {},
          "execution_count": 127
        }
      ]
    },
    {
      "cell_type": "code",
      "source": [
        "uf = dict_coordenadas['estado']\n",
        "uf"
      ],
      "metadata": {
        "colab": {
          "base_uri": "https://localhost:8080/",
          "height": 35
        },
        "id": "w5jDrEF0aiMW",
        "outputId": "822446f9-bfa0-4e29-8f19-1f8ccd122238"
      },
      "execution_count": null,
      "outputs": [
        {
          "output_type": "execute_result",
          "data": {
            "text/plain": [
              "'PE'"
            ],
            "application/vnd.google.colaboratory.intrinsic+json": {
              "type": "string"
            }
          },
          "metadata": {},
          "execution_count": 124
        }
      ]
    },
    {
      "cell_type": "code",
      "source": [
        "print(f'Estado: {uf}, latitude: {lat}, longitude: {long}')"
      ],
      "metadata": {
        "colab": {
          "base_uri": "https://localhost:8080/"
        },
        "id": "8BFo2ZEIbDIe",
        "outputId": "a61920c2-f4ef-4b1b-8f6d-fa405ed9ed53"
      },
      "execution_count": null,
      "outputs": [
        {
          "output_type": "stream",
          "name": "stdout",
          "text": [
            "Estado: PE, latitude: -9.1223227, longitude: -36.43874\n"
          ]
        }
      ]
    },
    {
      "cell_type": "code",
      "source": [
        "print(f'Estado: {uf}, latitude: {lat:.2f}, longitude: {long:.2f}')"
      ],
      "metadata": {
        "colab": {
          "base_uri": "https://localhost:8080/"
        },
        "id": "WeWES4HdiTnM",
        "outputId": "affadfd4-c834-4667-d99c-831252841829"
      },
      "execution_count": null,
      "outputs": [
        {
          "output_type": "stream",
          "name": "stdout",
          "text": [
            "Estado: PE, latitude: -9.12, longitude: -36.44\n"
          ]
        }
      ]
    },
    {
      "cell_type": "code",
      "source": [
        "site_principal = 'https://www.apac.pe.gov.br/'\n",
        "meteorologia = 'previsoes-do-tempo'\n"
      ],
      "metadata": {
        "id": "l_8AKKYgZtxK"
      },
      "execution_count": null,
      "outputs": []
    },
    {
      "cell_type": "code",
      "source": [
        "URL = site_principal + meteorologia\n",
        "URL # Na última linha pode-se omitir o print"
      ],
      "metadata": {
        "colab": {
          "base_uri": "https://localhost:8080/",
          "height": 35
        },
        "id": "J2Nb9tCDSoDv",
        "outputId": "d0e07351-42c0-4e78-c5c6-05c9ec1343d9"
      },
      "execution_count": null,
      "outputs": [
        {
          "output_type": "execute_result",
          "data": {
            "text/plain": [
              "'https://www.apac.pe.gov.br/previsoes-do-tempo'"
            ],
            "application/vnd.google.colaboratory.intrinsic+json": {
              "type": "string"
            }
          },
          "metadata": {},
          "execution_count": 95
        }
      ]
    },
    {
      "cell_type": "code",
      "source": [
        "site_previsao = f'{site_principal}{meteorologia}'\n",
        "site_previsao"
      ],
      "metadata": {
        "id": "Xn12ccIahmb5",
        "colab": {
          "base_uri": "https://localhost:8080/",
          "height": 35
        },
        "outputId": "b041b39e-a5fe-4ba2-d784-27ba4fe1efa3"
      },
      "execution_count": null,
      "outputs": [
        {
          "output_type": "execute_result",
          "data": {
            "text/plain": [
              "'https://www.apac.pe.gov.br/previsoes-do-tempo'"
            ],
            "application/vnd.google.colaboratory.intrinsic+json": {
              "type": "string"
            }
          },
          "metadata": {},
          "execution_count": 96
        }
      ]
    },
    {
      "cell_type": "code",
      "source": [
        "import requests\n",
        "r = requests.get(site_previsao)\n",
        "r.status_code"
      ],
      "metadata": {
        "colab": {
          "base_uri": "https://localhost:8080/"
        },
        "id": "avPj93sWGPL9",
        "outputId": "d03dcf4d-114d-4988-8391-212e23ec272d"
      },
      "execution_count": null,
      "outputs": [
        {
          "output_type": "execute_result",
          "data": {
            "text/plain": [
              "403"
            ]
          },
          "metadata": {},
          "execution_count": 97
        }
      ]
    },
    {
      "cell_type": "markdown",
      "source": [
        "# Controle de fluxo\n",
        "\n",
        "[Referência](https://docs.python.org/pt-br/3.7/tutorial/controlflow.html#more-control-flow-tools)"
      ],
      "metadata": {
        "id": "7yqcXPMiThVI"
      }
    },
    {
      "cell_type": "markdown",
      "source": [
        "## IF"
      ],
      "metadata": {
        "id": "36ZZVO-6L983"
      }
    },
    {
      "cell_type": "markdown",
      "source": [
        "| Operação | Resultado                                      |\n",
        "| -------- | ---------------------------------------------- |\n",
        "| x or y   | se x é falso, então y, do contrário x          |\n",
        "| x and y  | se x é falso, então x, do contrário y          |\n",
        "| not x    | se x é falso, então True, caso contrário False |"
      ],
      "metadata": {
        "id": "QJHuBOuoOSQr"
      }
    },
    {
      "cell_type": "code",
      "source": [
        "x = int(input(\"Entre com um número inteiro \"))\n",
        "\n",
        "if x < 0:\n",
        "  print('Negativo')"
      ],
      "metadata": {
        "colab": {
          "base_uri": "https://localhost:8080/"
        },
        "id": "wbVAxQ6YNFOs",
        "outputId": "58579559-a6e2-4f92-eb76-7c9b319fc13b"
      },
      "execution_count": null,
      "outputs": [
        {
          "output_type": "stream",
          "name": "stdout",
          "text": [
            "Entre com um número inteiro -1\n",
            "Negativo\n"
          ]
        }
      ]
    },
    {
      "cell_type": "code",
      "source": [
        "x = int(input(\"Entre com um número inteiro \"))\n",
        "\n",
        "if x < 0:\n",
        "    print('Negativo')\n",
        "else:\n",
        "    print('Zero ou Positivo')"
      ],
      "metadata": {
        "colab": {
          "base_uri": "https://localhost:8080/"
        },
        "id": "zkJ30p3NNQZW",
        "outputId": "d1c35f66-f0c1-4661-a640-1cd37155f93b"
      },
      "execution_count": null,
      "outputs": [
        {
          "output_type": "stream",
          "name": "stdout",
          "text": [
            "Entre com um número inteiro 0\n",
            "Negativo\n"
          ]
        }
      ]
    },
    {
      "cell_type": "code",
      "source": [
        "x = int(input(\"Entre com um número inteiro \"))\n",
        "\n",
        "if x < 0:\n",
        "    x = 0\n",
        "    print('Valor negativo convertido para zero')\n",
        "elif x == 0:\n",
        "    print('Zero')\n",
        "else:\n",
        "    print('Positivo')"
      ],
      "metadata": {
        "colab": {
          "base_uri": "https://localhost:8080/"
        },
        "id": "Jgls65ZuL8ra",
        "outputId": "c9bbb214-d8a6-4744-a768-d6b6c92dc2b2"
      },
      "execution_count": null,
      "outputs": [
        {
          "output_type": "stream",
          "name": "stdout",
          "text": [
            "Entre com um número inteiro 1\n",
            "Positivo\n"
          ]
        }
      ]
    },
    {
      "cell_type": "code",
      "source": [
        "x = int(input(\"Entre com um número inteiro \"))\n",
        "\n",
        "if x < 0:\n",
        "    x = 0\n",
        "    print('Valor negativo convertido para zero')\n",
        "elif x == 0:\n",
        "    print('Zero')\n",
        "elif x >= 10 and x <= 20:\n",
        "  print('Positivo entre 10 e 20')\n",
        "else:\n",
        "    print('Positivo')"
      ],
      "metadata": {
        "colab": {
          "base_uri": "https://localhost:8080/"
        },
        "id": "YUMMCp1LMDkN",
        "outputId": "5600b970-5e3a-4455-ad26-92eaacfb9669"
      },
      "execution_count": null,
      "outputs": [
        {
          "output_type": "stream",
          "name": "stdout",
          "text": [
            "Entre com um número inteiro 21\n",
            "Positivo\n"
          ]
        }
      ]
    },
    {
      "cell_type": "markdown",
      "source": [
        "## Estruturas de Repetição"
      ],
      "metadata": {
        "id": "VnIAKBJXPXy1"
      }
    },
    {
      "cell_type": "markdown",
      "source": [
        "![image.png](data:image/png;base64,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)"
      ],
      "metadata": {
        "id": "DTmoHBWtU225"
      }
    },
    {
      "cell_type": "markdown",
      "source": [
        "### FOR"
      ],
      "metadata": {
        "id": "SfmT-QRCPUda"
      }
    },
    {
      "cell_type": "markdown",
      "source": [
        "Programa para imprimir 5 números sequenciais"
      ],
      "metadata": {
        "id": "KAN3iaX5PnHO"
      }
    },
    {
      "cell_type": "code",
      "source": [
        "print(0)\n",
        "print(1)\n",
        "print(2)\n",
        "print(3)\n",
        "print(4)\n",
        "print(5)\n"
      ],
      "metadata": {
        "colab": {
          "base_uri": "https://localhost:8080/"
        },
        "id": "99b1oEa0PCsN",
        "outputId": "23b08a1a-6335-4c89-8601-59a43e502b7e"
      },
      "execution_count": null,
      "outputs": [
        {
          "output_type": "stream",
          "name": "stdout",
          "text": [
            "0\n",
            "1\n",
            "2\n",
            "3\n",
            "4\n",
            "5\n"
          ]
        }
      ]
    },
    {
      "cell_type": "markdown",
      "source": [
        "De maneira mais prática, se você precisar iterar sobre sequências numéricas, a função embutida range() é a resposta. Ela gera progressões aritméticas:"
      ],
      "metadata": {
        "id": "AhIUJFSsQmWJ"
      }
    },
    {
      "cell_type": "code",
      "source": [
        "for i in range(5):\n",
        "  print(i)"
      ],
      "metadata": {
        "colab": {
          "base_uri": "https://localhost:8080/"
        },
        "id": "PIixyB_eQo--",
        "outputId": "a701511c-93a8-41e2-b508-1376b8b96c65"
      },
      "execution_count": null,
      "outputs": [
        {
          "output_type": "stream",
          "name": "stdout",
          "text": [
            "0\n",
            "1\n",
            "2\n",
            "3\n",
            "4\n"
          ]
        }
      ]
    },
    {
      "cell_type": "code",
      "source": [
        "soma = 0\n",
        "\n",
        "for i in range(5):\n",
        "    soma = soma + i\n",
        "\n",
        "print(f\"soma: {soma}\")"
      ],
      "metadata": {
        "colab": {
          "base_uri": "https://localhost:8080/"
        },
        "id": "el5VDszMQbCn",
        "outputId": "aad7f7f5-c593-4db9-ae4a-fbd201732147"
      },
      "execution_count": null,
      "outputs": [
        {
          "output_type": "stream",
          "name": "stdout",
          "text": [
            "soma: 10\n"
          ]
        }
      ]
    },
    {
      "cell_type": "markdown",
      "source": [
        "O comando for do Python itera sobre os itens de qualquer sequência (seja uma lista ou uma string), na ordem que aparecem na sequência"
      ],
      "metadata": {
        "id": "Dirx_SuYQIOq"
      }
    },
    {
      "cell_type": "code",
      "source": [
        "lista_num = list(range(5))\n",
        "lista_num"
      ],
      "metadata": {
        "colab": {
          "base_uri": "https://localhost:8080/"
        },
        "id": "oMujj3ELRdtR",
        "outputId": "e00fba3a-5aaa-445c-9f95-158075d7791a"
      },
      "execution_count": null,
      "outputs": [
        {
          "output_type": "execute_result",
          "data": {
            "text/plain": [
              "[0, 1, 2, 3, 4]"
            ]
          },
          "metadata": {},
          "execution_count": 28
        }
      ]
    },
    {
      "cell_type": "markdown",
      "source": [
        "**observação**"
      ],
      "metadata": {
        "id": "gpFdNpS0R_LU"
      }
    },
    {
      "cell_type": "code",
      "source": [
        "sum(lista_num)"
      ],
      "metadata": {
        "colab": {
          "base_uri": "https://localhost:8080/"
        },
        "id": "ZKOixAp3RjnI",
        "outputId": "fda3dd7d-551d-4393-d302-793af4eabd32"
      },
      "execution_count": null,
      "outputs": [
        {
          "output_type": "execute_result",
          "data": {
            "text/plain": [
              "10"
            ]
          },
          "metadata": {},
          "execution_count": 30
        }
      ]
    },
    {
      "cell_type": "code",
      "source": [
        "palavras = ['Apac', 'Agência', 'Pernambucana', 'Águas', 'Clima']\n",
        "for p in palavras:\n",
        "    print(f'{p}: {len(p)} letras')"
      ],
      "metadata": {
        "colab": {
          "base_uri": "https://localhost:8080/"
        },
        "id": "nkcCeMaRSBdX",
        "outputId": "7cdda0f8-027b-45b6-f846-50ea4258a593"
      },
      "execution_count": null,
      "outputs": [
        {
          "output_type": "stream",
          "name": "stdout",
          "text": [
            "Apac: 4 letras\n",
            "Agência: 7 letras\n",
            "Pernambucana: 12 letras\n",
            "Águas: 5 letras\n",
            "Clima: 5 letras\n"
          ]
        }
      ]
    },
    {
      "cell_type": "code",
      "source": [
        "alunos = (\"Vinícius\", \"Thiago\", \"Roni\", \"hailton\", \"Victor\", \"Alessandro\") # tupla\n",
        "notas = {} # dicionário\n",
        "\n",
        "for aluno in alunos:\n",
        "\tnota1 = int(input(f\"Qual a nota 1 do(a) {aluno}: \"))\n",
        "\tnota2 = int(input(f\"Qual a nota 2 do(a) {aluno}: \"))\n",
        "\tmedia = (nota1 + nota2) / 2\n",
        "\taprovado = \"Não\" if media < 6 else \"Sim\"\n",
        "\tnotas[aluno] = {\"n1\": nota1, \"n2\": nota2, \"media\": media, \"aprovado\": aprovado}\n",
        "\n",
        "print(notas)"
      ],
      "metadata": {
        "colab": {
          "base_uri": "https://localhost:8080/"
        },
        "id": "1PfaVNXM72bm",
        "outputId": "f18d9d92-e0bf-41b6-f5ec-fda4ff90351a"
      },
      "execution_count": null,
      "outputs": [
        {
          "output_type": "stream",
          "name": "stdout",
          "text": [
            "Qual a nota 1 do(a) Felipe: 10\n",
            "Qual a nota 2 do(a) Felipe: 53\n",
            "Qual a nota 1 do(a) Renata: 12\n",
            "Qual a nota 2 do(a) Renata: 5\n",
            "Qual a nota 1 do(a) Guga: 0\n",
            "Qual a nota 2 do(a) Guga: 9\n",
            "Qual a nota 1 do(a) Thais: 4\n",
            "Qual a nota 2 do(a) Thais: 56\n",
            "Qual a nota 1 do(a) Victor: 55\n",
            "Qual a nota 2 do(a) Victor: 5\n",
            "Qual a nota 1 do(a) Max: 10\n",
            "Qual a nota 2 do(a) Max: 4\n",
            "{'Felipe': {'n1': 10, 'n2': 53, 'media': 31.5, 'aprovado': 'Sim'}, 'Renata': {'n1': 12, 'n2': 5, 'media': 8.5, 'aprovado': 'Sim'}, 'Guga': {'n1': 0, 'n2': 9, 'media': 4.5, 'aprovado': 'Não'}, 'Thais': {'n1': 4, 'n2': 56, 'media': 30.0, 'aprovado': 'Sim'}, 'Victor': {'n1': 55, 'n2': 5, 'media': 30.0, 'aprovado': 'Sim'}, 'Max': {'n1': 10, 'n2': 4, 'media': 7.0, 'aprovado': 'Sim'}}\n"
          ]
        }
      ]
    },
    {
      "cell_type": "markdown",
      "source": [
        "#### Enumerate"
      ],
      "metadata": {
        "id": "AcOF7zTMnFWp"
      }
    },
    {
      "cell_type": "code",
      "source": [
        "for i, palavra in enumerate(palavras):\n",
        "  print(f'{palavra} na posição {i}')"
      ],
      "metadata": {
        "colab": {
          "base_uri": "https://localhost:8080/"
        },
        "id": "MuRXL6f1SJUf",
        "outputId": "916fb43e-7920-48b7-dabb-29339bb83790"
      },
      "execution_count": null,
      "outputs": [
        {
          "output_type": "stream",
          "name": "stdout",
          "text": [
            "Apac na posição 0\n",
            "Agência na posição 1\n",
            "Pernambucana na posição 2\n",
            "Águas na posição 3\n",
            "Clima na posição 4\n"
          ]
        }
      ]
    },
    {
      "cell_type": "markdown",
      "source": [
        "### While"
      ],
      "metadata": {
        "id": "i7aYEvUUS_Kw"
      }
    },
    {
      "cell_type": "code",
      "source": [
        "i = int(input(\"Insira o valor inicial de i (menor ou igual a 5): \")) # Para comparação com o exemplo for utilize 0\n",
        "soma = 0\n",
        "\n",
        "while i < 5:\n",
        "    soma = soma + i\n",
        "    i = i + 1\n",
        "\n",
        "print(f'Último valor de i: {i}. Soma Final: {soma}')\n"
      ],
      "metadata": {
        "colab": {
          "base_uri": "https://localhost:8080/"
        },
        "id": "kv_yfFN2TAjv",
        "outputId": "7687aa4d-5695-45d8-a517-7138d686a05e"
      },
      "execution_count": null,
      "outputs": [
        {
          "output_type": "stream",
          "name": "stdout",
          "text": [
            "Insira o valor inicial de i (menor ou igual a 5): 0\n",
            "Último valor de i: 5. Soma Final: 10\n"
          ]
        }
      ]
    },
    {
      "cell_type": "markdown",
      "source": [
        "# Funções"
      ],
      "metadata": {
        "id": "MHwUp8sOVaUA"
      }
    },
    {
      "cell_type": "markdown",
      "source": [
        "![image.png](data:image/png;base64,iVBORw0KGgoAAAANSUhEUgAABJIAAAOQCAYAAABigluaAAAgAElEQVR4nOzdeXxU5b0/8M/nOZMNxAUFXAGtS0Wr9uIGwUrFAkNrN42tKEnsr+VaLZE1IcNtm9YLkYAsSa33Wm0JqL2a6u3tQoBqm94SUFuqtkLba1VQWwUVFBXIMuf7+4PFAHPOTCaTTT/v16u+ZM5zvs93coanzjfPAoiIiIiIiIiIiIiIiIiIiIiIiIiIiIiIiIiIiIiIiIiIiIiIiIiIiIiIiIiIiIiIiIiIiIiIiIiIiIiIiIiIiIiIiIiIiIiIiIiIiIiIiIiIiIiIiIiIiIiIiIiIiIiIiIiIiIiIiIiIiIiIiIiIiIiIiIiIiIiIiIiIiIiIiIiIiIiIiIiIiIiIiIiIiIiIiIiIiIiIiIiIiIiIiIiIiIiIiIiIiIiIiIiIiIiIiIiIiIiIiIiIiIiIiIiIiIiIiIiIiIiIiIiIiIiIiIiIiIiIiIiIiIiIiIiIiIiIiIiIiIiIiIiIiIiIiIiIiIiIiIiIiIiIiIiIiIiIiIiIiIiIiIiIiIiIiIiIiIiIiIiIiIiIiIiIiIiIiIiIiIiIiIiIiIiIiIiIiIiI9GLs7gREPihm1oy8wcF9NLCB2R+rShof6Ugfs5aOGE/njQq6Hm/yf3DHzHVbOtKHiHSvG8bFTjAvflzQdWvx9zzwqwXPdUUuRePnlIA2MOg6d+9auKxhyVtdkYuIiIiI9AyR7k5A5IPCgQUEPhvYgNg1dfGlf1wy7fHN6XfixhCYGXg5m6sBqJAk0otFyJlAZHrQdYtgI4BzuyQZh5sInh10OR7JuRtArywkTRwz+7TsCM5ctvr2Vd2di4iIiEhvokKSSJdhnxzPq0ZYsUlERDrVpLEz+3peTgywGQYsBKBCkoiIiEg7uO5OQORDhbxq5tKRn+vuNEREPoRYOD52g+dl/x+IGMic7k5IREREpDdSIUmki3lk9cwF5/Xt7jxERD4sJk2Yc2FRNNboHFeAPLG78xERERHpzbS0TaSrkYOZfeS3AJR1dyoiIh9kk8bOHOh52ZVmdiNJHTAiIiIikgGakSTSDehsWtmi/HO6Ow8RkQ8yetk3gvyKikgiIiIimaMZSSLdgGAWsuz7AC7v7lxERILQ8CJCfunUQmvtwnREREREpAdQIUmk2/ATpUvzi6pubazt7kxERBJZVj/3092dg4iIiIj0LFraJtKNSC6YtmhE/+7OQ0RERERERCQVKiSJdCdiQFaWV9ndaYiIiIiIiIikQkvbRLqdfa20Ov9HVSWNj3d3JvuVLsq/0CIcBmAwgcEATiGsxQzbCLxuxLO7sWtNTclTr6fbR3HF0Ny+2QP7JrrmM9u/q3ztjkNfn7r4gqOzvCO+SOAcEqcYcCTNXjXDywB+U3VrYwMAS9Z32ZL8wb6Hq+nzdDgMppmZ8WXAXvF9a1g4bd36dN9XkGmLRpwU8bxPO9hHjTyewADQ3jFgK3xuNfrr9mDbb2tK/t6U6b5F0lU8eurRvpfnBV1f/ljlDgB+e2JeN3rGcTk5WRea5z4O8CMEjoTZkXuv8jXAXgP4mll8q+/zhRVrKp9ECn+v93GFY8qPafPnhGPMfjTmFY4pP7bta7sje6xu9eLtqb6fSVeWDXYRdwGdO9E3O5HkiTA7EXs3+N4B37bDcYcZttJv/U3t6vkbU40tIiIi0hOpkCTSzQjSaHcVFODCujrEuyuPmQtGDvSyWWiOXyFw9uFHHBH7zz0igDz0sdKa/A00u/uJ7et+1FCBdm26O7D/iZNJtzTRNQNeA3DCgdxqLj7VWVYlwM+TyHk/IwA8kNc3y2pGvWCweVVTGu9NFHfGkpEXec5VGu0KB/LAnMwDMQjPEaXV+c+aYemCWxvvac97SmTm0lFfcM5iAIYTIEC8/7Pd9+8OIBzy7Pj3SquPr2dr/Lvzp6//c0f7Fuko69N3nQPODro+6cqyISsenf9SKrEKx8/5AmlfAzEWoHfQGHPQoWrc95IHzwHFE+Y8B99+EPeba1esWbgtrI+JE2ac4uA2p5IPAMBhustx09u+1Mfy3gNwRLJbi8bHxtBhigGfIegBgDswSLZ5P47vv+RFUDQh9hIMK1vYdPsDK+/YknKuIiIiIj2ElraJ9AAELzj1svwp3dF3QcWw7NLq/MUul6/AcQFDvjS2RZAELwTd3Zccm/+XWTWjCjohPc5aOuoWZ9l/JvmltkWkAKcRvKesOr922qIReftfLKgYll1WnT/X89x6EmOI8KPASZ7rHH9QWpO/bEr16cn6TGj6HRefWVo9qsFzeITghcn63Nsv+pK4xrK8p0qrR9399cpRxyS7R6Snuz5aenJxNLbKOTxCMrq/6NIOZ8CxyvOyXymOzpnbKUm2Q/HY8o8WR2Mb6fgowM+19/0QHEzypizLfbY4GpsCIOnYICIiItKTqJAk0nN8t3R+/old2eHUxZcOPbV//9+RnEowK/1IPN0BD5VWj1paUID2fkkMVFY96k7n8D0yfHnK4emwMDvL3QPsLSKd1r//IyBjRPtyI1jUB4Pq2tU3gJmLR47Iys5aR+Ly9t67t194JL7W7wj73bRFI05KJ4ZIT3B9dMqRWcz6NchxHQ5GZoGIFUXLF2cgtbRMGjvzVIvwUZDDOhqLxBEgqwsnzJmXidxEREREuooKSSJdxMzuD7tOsh/7cElX5TOzZuQVOZHIH0lcnKmYJEpOuyx/5eSK4X06GqusJr8axNc7kM3EWUtHTT61f/8HQaR/hDl5VdnS/GtTbT6zZuQVzuNjAI9N3jpJ1+A52RG3bmbNxad2NJZIN2AE/WoBnJHRoHRTi6OxLhsr9yu8Ys5JLpLzGMGMFncdMLswWn5NJmOKiIiIdCYVkkS6iMG+bcDLSZoVlC0Z0fHf3CcxdfHwE5y5BwFkfukUOfbo/rk/6lAI4HiAHV7q5xz+k8TnOxoH5JLRFcn3lJtVddHxDvwxybxkbdvR92Bn2StQofFaepeiaPkskin//TNY6nvEkbfeMK7s/LQSSxNzbCmBTinqkvx2Z8QVERER6Qz6YiLSRZr9+LtAvCRpQ899r7hiaG4npsIcL285ieNSaWywFpg9BeCFlDsgry1dml+edoaJ8jD7jW/4pvn+V8xQbWbPphcIm8y323zzbzRgrsGSn9BGnHDh0ZcOT9bM5easIDgwSf+vG/Bf8G0WzL/ZzO6BWejmwCTyS/uPmpY0T5EehOCtgRfN3vbNauJ+62X+Hpy81Xbm1q6cl41dzSfEzR9tsPvMwjfwjzivNONJB5g4YcYQJClKm9mbvlkNzErM4jfAMA1m883wVLL4BM8tvGKOlrGKiIhIr6BT20S6UNWU9T8tq87/Ocirglvx9IHHnDwb2FzRGTmUVufPBHFlsnZm9ojvx6ua3BtP7z+S/pZ5Fx/bt09WPj0uBnBaaADH22bUjPjvO6as/2tH8jXYNsZxddXUxrWHXiurHnkv6L6SWhzEzcfNC3asvQcVBx1XztLqUQtJTA+6FwA8z10O4Img67OqR45N9nM1s/rd2FVUM+Wp19u+PrlieJ+j+ucucuS/htx929TFF9y7ZNrTb4X1IdITXB8tPRlk4J5vcfLKFSvn/uHQ15c1LHgNe09t/O2k8eX/7eAeJBP/t4qB106cMCPW9uSz7F1vbvVzjv/U/j/T875M4P8FJmr2gO/7h8ygdIfNjMqy3G+QwXusGeyXu97aXVC3fvHuBJdnF0bLryH4EBm86b7l4F8A/CMwVxEREZEeQoUkkS7W2mxTIjkYAzB4HyFi9qyll9y/4NYnnstk33tPMmMstJFZs8FmVZWsqz700p2xJ98E8LOy24f/1vrk/pDkF4PCEPA8cxUAvpxuvmb2Dnx8Yv7Uxr8lvL6bU5lnV4AcmjSY79+44NZ1KxKFqSpZO6O0ZlQ09MQ6Y+hpdg6cEZ6APVxV0lgAwA69cnfFhl0Abiqtzt9Jclaiu0nm5Xh9rgNwV3g/It0vwqxLAi+avb1p2xvPJIuxYlXlI0XR8u8Bbur792K70Z6B2TNmeDp7t2tqe8+yhmV7ADy6/8+F0djwkNoNDHhx+erbHw1sAKAABR5onwk6XM0Mz4cUkQAAy+srf1I0IXY/gBuC2tBwSlgeIiIiIj2FlraJdLE7Zq7bAth3wtqQyKGL3Jnpvr0sXk3i6LA2vuGWREWktubP3vB2VUnj1QasDu2QuLZsUf45aaS673ZbWhVQRAKAqrLGdwz4RbI4BltflbiI1LbNL8Ov48iga9PvuPhMkGNDbt/T2mQzkKCI1Na723d8F4ZXg1vwxrD7RXoK8+3cwIvkUecMOu7mVOL4Lf5iM/s3H/5Ve1p3D15WP/fY2pXzrqitr5y2fFVl7b4ZTJ2qDnXx2pXzzo63Ng3y4/FP+fBnwFBrhqdg1kT488OKSPvR7H/Drjtn4ctiRURERHoIzUgS6QZPvLlu0cX98yeRDPyyRfBTs2ryv7RgSuODmerXA4OXeAAws2c3r21MeaNsP95S6rnIp0AmLEoTpB+xqwFsbGeqAIDmVvuPZG3M+NeQCQd78/AttDAGAM7H78NK6wQDC0lZWZExYbHNxw/3FhDDfb9i07tlS/MXgVyQOAleNGPhyCGpxBLpVuSboZcNi4snxD5p4Aq/tWnVijUL30vUbsWj818CMLdTcmynFWsWbsPe2U4HZjCNHj06MqBhQGiBeD8zvhA2VpllcJN+ERERkU6kGUki3aChAq3G+E0GC/0CQmDRlOpLAgsY7TFj4cghBlwe1sYMZXV1SPnkpIVTn/gTgOVhbQimdQqdwbYtnr4+6X4hDvZ6sjbNvnsyWRsf/s7wfIJnJIEcleTepMt4DrS18LZejn081Vgi3ceeD7u6d68gfo7AT1wkZ3vRhNivC6PlsRvGlV8WjU7J6aosO6qhoaG1DnVJx8wbxpWdD8frwtoQ1mvet4iIiHy4aUaSSDdZMOXxxtLq/HtBfDWoDcET85B1G4Dg049S5CL2McKFbBZiOxfc2riyvXF98x909IoDGxCXlM7P71dV1vhOe+LS8HQq7eKwJi9g75K97O3F0xpfTBbHfL4dWloP2PAXAMw4InSmgfP/nqz//Vp8f1O2F7inLwCeD+CnqcYT6Q67tzz3WN8hZ24H0T9ZWwLZAD9J8pPOAwZZv6biaOxxg/0awGNbdq9/oqGhIfQEtx7GFY0rO5vOjQRcvtGuJJj0RDajJZlbKSIiItIzqJAk0o1aWv2y7Ij3ORADAhsRt0yvHrFsUcn6pEdIh6FzoRtSG/FCepH95xF8mBEIeJYdPxnAX9oT1RC+NGY/z2xPkkCvIsneRHvjMHRGUhjCTgraiBcAnPGWsuqR16cSyxhS7Nvb4Lz2ZSfS9eo21TUXDond6cBvtvtmMgfA5QQvB/CdoXkjXy+KjnwYsPtq6ysbM55sB103esZxWTm5+XR2GYBLAVxAsu/+6wwtdLdhB50mKSIiItJjqZAk0o0WT1+/fVb1qJkOqA1qQ8DLoncXKjCyY73Z0LBiB4HQpShBNu94Z8tp/Y/xg/ZJAoA43QC0s5AEWMI9Uw6LbV5T2PwdgCnFMYfWdKYDTK4Y3gdkdmgG5BfDfvYHtU3e4uTUMhPpXhu3vXHbuQOPi5K8sEOByAEEbgJ4U1E09jh9/zvLVt++KkNppmXihBlDsvzsSaD7Mol9Bwp0dEIRU15WLCIiItKdtEeSSDdbULJ2OWANSZpdUtY//2sd6YfkCWHXzdKbkVRXsakZwCthbRxCZlwFIFMrJNGLh882SjFOuo7uH0m6dCezrE/X9ieSng0b7m6xZhtvhrWZiknyUnhefVE0VlswrCC0gNsZikfPOr4oGvtJluW8SOdue7+I1HFGzUgSERGR3kGFJJEeoBX+12HWHNqIrHSG9I+HNuwIb8DwiT3h92aFdk20f38Tn0mP006FGTq1kNTa4nfpviYkVUiSXmP5Y5VvbsPOK2H2LZi9nam4JAv7DjmjKlPxUlE0PjYGedkbSV69d7Pw9rCtBvtNWAunpW0iIiLSS6iQJNID3DFl/V8t6Mj39x1jZEr77CTiA/9M0uS0dOJOWzQiD0TobCf42NbeuOaS72uUEmYoToBF7/z+HwZr6cw+2jJAhSTpVerra5qW1c+7Dbt3DTXzbzaz9RkJTN46KTrnqozESqJ4bPlHSTycyubhAGCwlwx2n5l/s+/b+ctWzjshHrdvh9+lpW0iIiLSO2iPJJEeYtubr/z7wP4nfZnkR4LaMGxX66Tsn0n28EirkOQi/qnJ0qLX/kJSr1EBnzXYAuD0oCZ+PH4V6TIyM4qGLitaiWTSsoYlbwG4C8BdxeNnDzUySjBqwBVtN6duD0csBfDzjCaagEX4Y4JHhbYxaySs1tD669r6BYftORehhQ6UWtomIiIivYUKSSI9xLKKzXvKlpxwCzyvszaRDZ2RRKZZSPLdaeF1JNu1eftbL6cTu7cw4EWGFJLou9eqpjf+oStzEunJlq26fTP2FZUKhhVk5w4+7WLnvMtguIzASDC8aLMfgVMnjpp9zANrb0+ydDfo/uRL1IrHzx4N8ILABmYtZnZN7arKn4XF8enyQqeBa2mbiIiI9BJa2ibSg8yfun61mT3UGbHjLS1/MVjYMq8jSqtHXtPeuHTuxrDrBjTs25D7A4wvhl21CId1VSYivU3dprrmFavmr61dOa+ytn7ehGX18/rHgYt83yrM7NVk92cfgfPT7z18lhAAmHNFodeB8mRFpH0tQ2ddmZkKSSIiItIraEaSSA/THN8zNcfLHQ/yyEzGXTTj9y+XVuevBXFZUBuSlZMnD/+fu+/ekNLyqdLq/Ev3Hm0fwmx1O1PtfQwvhK0apNknACxPJVRZ9chPGzHEb3Wbmrz3NtaUPPV6hrIU6XIFV5YdledFznLwzzLHswCcBbNVtasq7w25zV+xcu4fAPzh+uiUxVnW76WwGUpGng0g8cmXtJawJb2WwiEDBM8Mux73/f9JFgMAnOH0sHHCufC1xyIiIiI9hQpJIj3MkmkbXi2tzp9DoCbTsc2wnCGFJICnH/Wx3G8AWJwsVkEBPAKhG4Sb2e7meFNduxPtZVpa4w9nZXlzA/ewciyeXj2qZlHJ2meShCLIJQRP9yJAH/RFWfWo10HbCMNGwDbG2bpq4ZQnQ2dAiXSnoglzrgZQQthZAAftffWgKskwAGGFpAPur6/ZWRSN/Q+BwqA2RgaeBkfftYbPvfZzk+VgZoPDDmmjtaa2Sbbj50MzAXNSiiMiIiLSzbS0TaQHqtre+H2DZXxPHbd7Tx2APaFtDAtLl+Z/FxXB48OsqouOP/Wy/F+BHBXeI+9aMm1D0qUpvd3i6ev/DkPgkkQCXhbse5MnD88Ki1NanT8R4MF7LREDAI4GeQvgqulTvwCQHo2t/kaYXfZ+EenQBhxWFJ2d8gmUBBLH2cdvjW8OvtkPnV1J8pTkCXBr2GXnsq5IFqJo/OzrAF4S2g1MhSQRERHpFfSFRKQnqoAfX8qbIrQnQWas4Dt/9oa3y2ryfwBwSmAj0pH4Zmn//FG2FAv3cNfv9y2v4vQ7Lj4jEonkw7l5BI4P68vM3tmNXbdnKveejq3xSstyXw7cvJccdcy5eetLl+RfXzW18W+HXp5VPeJyAD8I78VfvuDWJ57LRL7Se5E4pygay/R+Og/X1s8ryESgZWsq/1o0IbYSwKeD2hDu3sJobPvy+nn1YbEKx8duMGBsyOK0rU1rXngi+LK9FbZgzAyfLRwfu+F1vlM3aPc7bM054SKPjNaumhc70Mi3p+A4PDAIOb/wijmrlv967j8SXS4eVz4JZPIZWIa8pG1EREREegAVkkR6qDtuXbuhrCb/TgDBRZ807LKts/pg0CiQHw9rR/KTJD65d3lV/ksGHkni6FT6MJiZbzfWTP3w7O8zf/r6P5fW5P8cwGcDGxHD4bihtDr/lwD/6Jv/V4840cArk+01ZbCW5rh/W6bzlt6JYWut0mBmmY0Xxx30ggtJIHMcsLIoOqcBiN9jxhfQ7F5q9Zr7eJHIic7cWXCYTCC4gAPAfPywDnWBS8t8YmvYJkgkSWLFIOt3j+X1y47s+7leH51y+/31NTsBwMCnwn44JI9FLp4uHh+b1dSC+h8/Nm/rlz9VemK2y7rIeVaebCbSgTjASam0ExEREeluKiSJ9GC7rPXf8hi5muCJmYpZU/L3plnVAwuc4Y8pb+hNDm7Pt0yaza2auu7h9DLsvVrNr4jAG0cicIkKib4ArwVwrbdvsllKP1uz6iXTHg9ewiPSgyxfPe83xdHYAyAnhrUjMRrwRpMAcoFsZO+7kFI3W3y/eW5oi3jrs4gk3U8bIHMO7vKIkwFs2nupebUhazfBwBlDBI6D449ycoDiaKwJ3L/fUeojpwFDUm4sIiIi0o20R5JID1ZT8sROA6dmOu6CknXPAzbRzN7JdGzAauZvX/ftzMft+RaVrH/KBwpgaM1kXPPt3qrt60ozGVOks71X/1yhGe7vnOj2TrzV/9KKNQvfC2u1Ys3CbWbY2N7oEdjJ+/+9tn7B82ZM/e8fQzbNNgvcGBzgsOtGzzgu5X5EREREuokKSSI93IIpa+vMsCrTceeXrPulz5bzYbY2IwENrTD/5vlTGktQgUzv39JrLCxZ+3OfdgPMmjMRz2D/UXVr49c+zD9T6Z3qUBevrZ9b6AMrMhnXgLda4/bpFWsqg/dGatuetqT9nRy8Cffy+rnfM6Q/DhssDsM0o00LakMikpWbe226fYiIiIh0FRWSRHqBljhuMbPdmY67cMqTL87f3ni5+RYzQ+hv9sNZQ6vvj5xfsu6uzGXXey2Y0vig+TgPhkfTjWGwbfBtVtWUxpsBWAbTE+lK/vKVc4vN979qsGc7GszM6m0Pzr1vdeXvUr1n98rnfmRmP2lXP+DJh77WsjM+0YB7zay9fx+fg49xy+rnLrEm/MxCZiw6h5RPsxMRERHpLiokifQCi6etfcGAf++U4BXwq25trPSbdg6Kw59ksF/BLOnsFzO8B7Of+348On9K4yfvmLru952SXy9VNbXxb/NL1n7KEP+CGX6S6jJCMzwHs5u2vfmPIfNvbVwIFZGk9/NrV1XeW7ty3sdaYWMNWNWeYoyZvQdDbWtra35t/bwJQaejBalDXXzL7nXXwTDNzN5M3iH+TMNfDn35gbW376hdOfer5vNSM/tDCnn/n2+Y8uetr59Tu2reYwCw/LHKN0E0hNw2ctLYmacmzVFERESkG2X0lBYR+WCYunj4CVku9+OOOAXAYANPISzuG7c5+Ft94tk92PbbmpK/N3V3rr1FQcWw7KH9jx5N8EwYBsJxEAz9jPYP+Nzs6G9GKzfP39n4Fy1jkw+6wjHlx/oRDvFoJ8PxFBpOMfBk0Aw+3ib5tg97HoY/vLRn3aaGhoZM7Tvmbhhfeoaju4DmzofjUDN7g2bb4PAP+vabZatuT2VTexZFZ53mW+QsB54F4kwj+wL2mjO8jLj9atmayr9mKGcREREREREREREREREREREREREREREREREREREREREREREREREREREREREREREREREREREREREREREREREREREREREREREREREREREREREREREREREREREREREREREREREREREREREREREREREREREREREREREREREREREREREREREREREREREREREREREREREREREREREREREREREREREREREREREREREREREREREREREREREREREREREREREREREREREREREREREREREREREREREREREREREREREREREREREREREREREREREREREREZEMYXcnICIiIu0z6cqywYy4kxJdc3S2rH7u412dk4iIiIh8OKiQJB9KpUvzi+B4Rpd16PvPV9267kdd1p90mul3XHRKlhcZ1gpu37Xb/f2u8rU7wtqXLh0xxoiBAAA6f8GUxge7JNEMKRxf/q8kT2nvfQb4MMQJi4NoNrhdpP8eDTt8w9bmeHzLf/2q6p+dkfMHXeGY8mNdNv8E8sSgNgb7Ru3KeXd2ZV4iIiIi8uEQ6e4ERLoDiYkAxnZVf0b3GAAVknqxmUsuvcS5yAoSZwB7B89+RyBeWjPqUd/379qydt0v6uoQb3vP1ytHHQPazx2ZBwAwvAqgVxWSSBaTvLTd9x38j33/dAABRyDXORRFY68C/IEfb7pzxZqF2zKX9Qcbs/mDsCLSPguKx5Y/tmxN5V+7JClJ28Qxs0/LjuDMZatvX9XduYiIiIikQoUkEZEkSpeOGEN6q8CDx0wCHoBxnnPjTrss/6Wyy2y5xf0Hqt5+/G9T+n/82D7Ad7C/iATAgJe7PPkejOQJAL7lvJzSomhseSvemXV/fc3O7s6rJyuOln8N5BeStSOYZxHeN3z45BEbNtzd0hW5SftMGjuzr+flxACbYcBCACokiYiISK/gujsBEZEerQKOzlt8aBHpMORg0P0bI5FNpf3z381jn3+A+PrBTUyFpARI5JKcHEG/xwrGTevf3fn0VIUTys80cHGia2Zmh75GYPjHBg6o6PzMpJ1YOD52g+dl/x+IGMic7k5IREREpD1USBIRCTGz/6grAHysPfeQzCOYdejrvvkPZyyxDyCSF/Z1fRquGxMb1N259DTDh0/OItwDJPsedtHwIGClCW8kZk8aXzaqs/OT1EyaMOfComis0TmuSGF5ooiIiEiPpEKSiEgID/6hm7K/a2b3GOxbAOpgltJSLDM8t/l36x/KfIYfMMTHcnL4SHen0dOcM2jAdwkMP/R1M9v8Xkvrv9bWVy40s0SFSuforbg+OuXILkhTAkwaO3NgcTR2rzN7kuSI7s5HREREpCNUSBIRCWHARw76s/k3VpU0fq1qSuNt86esvXYXtg6MGz5rZg8C2JMwhuHFVsS/dOhm3BJoZGE0Fu3uJHqK4vGzRzvgsBlHZmg1s4l1j85/G6++H3wAACAASURBVAB27Gy9EYa/HdqO5NAsHFndFblKYvSybwT5FZI6LVdERER6PW22LZKAwTbSkLllSIYXMhZLupZxF2CbD/xxT8vatpdrSv7eBPz95wB+PnXxBUdneX0+TzAfwEkA3zLa7999j8vuKl+/o6tT7xJmfzTwF21fIhDxaVkEIjDkkhgE4CQDLiTopRKWRAWA+s5IuTeZOGr2MaC3HAl/8WMVy1dVrt//p581Vr1zfbT8ixHjk4ctgSOKCqPlv1heX/mTzs5ZRERERD7YVEgSScTw7PySxm93dxrS/apubfwWgG+l0nbJtKffArBs3/8+FHxww/L6uSn9XZk0duZA52UVg+42AtlhbQleXDxu9vgP+5HoXp/W5ni89fJE11asWbjl0Nfur6/cNGnszNMAHLaXUms8e1cnpCgiIiIiHzIqJImISJdYsWbhNgBVk8aW/9bzuBrkUaE3OO8yfMiPRF+xZuF7AF5s5z3bOikdERERERHtkSQiIl1rxZrKJ3zw35K1M9hpXZGPiIiIiIikTjOSRLrZLfMuPjboWnauZ4unr9+eaqyZC87ru7slNzfo+rbmd9+pq9jUHHT965WjjnHWnLDAnJ3r7Vo8ff3uQ1+/Zd7Fx/bpm/UFOJxF8GTAjgX4Jn171Xd4Yo+11teUPJHSyWbtMat65Edo/BTIMwAMADAAtGYYXqJhC4CX4hbf8oe3Ht/QUIHWTPVbtiR/sAEXgDgR2Pc/4kSABLCDsO2A7TBwK1vxm/nTGzdmqu9DlS7Kv9AiHAZgMIHBAE4hrMUM2wi8bsSzu7FrTU3JU693Vg7p2l3/f3f1mXDmtwkcF9iISKuQNOnKssEu4i6gcyf6ZieSPBFmJ2LvRsc74Nt2OO4ww1b6rb+pXT2/3c+oAAVe3pjTjw66/lJ8/dsNDQ0HPnc3jCs733ne9TScDsAD8bz59reWPc0P/7jhjjd60nsrHl2c63snHLY0DgBam8x/YO3th+33VTx66tF+Xp8vOuM5cDgFZkca8aoZXoaP3yxfPa8BgKX2/ryr6XC6GQcTZiBeNuAV862h7Z5QmVJ4xZyTmI1Pw9lHAR4PYADM3gGwlcRWM3/dNrz32/r6mqZ2hHWFY8qPafPnhD/P/WjMKxxTftD/F+yO7LG61YsPGv+763PX1qQJcy50ZsNgNtjoBpM4hWYtRm4z4HVa/Nld4Jq6+sqMjzvXjZ5xXE5O1oXmuY8D/AiBI2G270RCvgbYawBfM4tv9X2+sGJN5ZNI4XMnIiIi7aNCkkj34hH9ssP+Y/5dAP1SDeZy+i05IpdfDbrex46aCODHQdePPML+DGSflOiawa8A8J39f561+NJ/oRf5JmETQLbZ72bfoUSOcAD6INJcVpP/k9Ymi90xc91he7q0x+SK4X2OOTa3xAxfJfkRHHb+Efd2v+91DxFcfGz+lourbdFb25vuubtiQ9p7xJQuHTGGdFOM/AyBkA2j9yZAAMgCyqrzXzJiZbzJbu/o+weAmQtGDvSyWWiOXyFw9uFHQBH7z4UigDz0sdKa/A00u/uJ7et+lMmiWkfUoS5ehDmbAHwisJEdfGJeMkXjY2PoMMWAz+zf1Nsd+GG0+Uk5vv+SF0HRhNhLMKxsYdPtD6y8I6VnlD3htGEO7k9B1wfH8y8BGp4sGFaQ3WfImT8kcf3eTt9vQ0dk5+UuKRofu8/3m+eELUnryvdmuSdNdg5LE13LysFrAE7Y/+dJY2ee6nk5lYB93pE5B94f9/4d2JsHvlk8IfaC+TavdlXlvYniXj9+9kURukoAV+w/2WzfP7H/n3RE0YTYswYsXb5y3j2pvJcwhePnfIG0GGDD9/bZ9uGwzb96GGj93iuKxupbGf/u/Svn/zlZ7IkTZpzi4DYna3eAw3SX46a3famP5b0H4Ii2r3X1526/ffubFYLuKwTOBnngGe8NyveHXnroY2ZF0dgGwu7evHv9j9oWt9Kx71l9DcRYgN5B495BB+Ht//x78BxQPGHOc/DtB3G/uVZLPkVERDJHS9tEpF0mTx6eVbp0VIXzIk+Q+PzBRaQEyGyAEyM57q+lS0femG6/s5bmf/WY/rkvAKwkmXKBgeAQ0i095tjcl0qX5pcDh5efwsyoGfHRsupRG+m8R0F+LryIlCgBDiZ4UyTHPTtr6cgp7e1/v4KKYdml1fmLXS5fgeMCAmen1D1IgheC7u5Ljs3/y6yaUQXp9N8pzP4Zep04Gin8vIrHln+0OBrbSMdHAX4u1ZPh3u+Gg0nelGW5zxZHY2k/o0NFo1Ny+gw985cHvswn6pvIhWOh19yacKZgT31vAFg0IXaL87L/DOJLIHOSND+Nzt1TFI3VFoyYlrf/1YJhBdnF0TlzI86tJzlmfxEpMAp4rgN/UBydsywanZKkz8QKJ5SfWRyNNTiHR0hemKxPACDZl+Q1EXhPFUbn3D1x1Oxjkt3TXTLxuduvYFhBdlG0fLHnZb9CutTHnb0uBN3dQ/JG/qV4/Jy0xp3ro6UnF0djq/Y9q2h7P/8AzoBjledlv1IcnTM3nRxERETkcCokiUjKplSfnnP0uXn1dPg22O4ZjblwvHdW9ajC9tw0ugKRsupR33eOPwA5qJ19tsFj6TivtDp/Uap3zKy5+NQI3KMghqXf7wFHOOeqy5bmz2vvjVMXXzr01P79f0dyKsGs9FPg6Q54qLR61NKCgnYWxDoBycGhDQzbkGRZyqSxM0+1CB8F2eFnROIIkNWFE+a0+xklMpBHVBG4MmlDs5XLGpa8dejLPfm9FUVjdxL8HsnQJVuH58HCvkfn3QPsLVL0GXrGIyBi7S4QEEWD0K+uXfcAKBxfPoLGdSATnoSXvFt6jvhaVj/vd4VXzEk4e7O7dfRzt1/x+NlD+ww943ekmwqmP+6QPB0ODxVNKF9agIKUn/P10SlHZjHr1yDHpdt3mySyQMSKouWLOxxLREREVEgSkdTQEMnjoIdIjEk7BkgS86dUn57aTIIKuEv65z8C4uvp9nlYDuTUWdX530rWbtqiESc5y34MYGa/LDrOLq0eeU2qzWfWjLwiJxL5I4mLM5UCiZLTLstfOblieJ9MxWyvgmj5AIN9PKwNgVfDrhdeMeckF8l5jBl+Rg6YXRgtT/kZJYzh2QTClaTS1mD3H/paT35vhdFYNcn0/06SE4vGz5ncZ8gZDxL8dAfiXFU0LnZtqs0nRWdfQcfHSAbuS5d61ziHubZu0tiZp3Y0ViZ19HO336To7CvMuT8SzNy4A1fSJ3rmyquGT05l3GEE/WoBnJGp/gGAdFOLo7ElmYwpIiLyYaRCkoikiCUEP9vhKMDxfTCoOJW2s/rn/xvIqzra56Ec+Z3Smvz/F9YmO8stJdFJXxL57VRaTV08/ARn7kEAmV9GQ449un/ujzIeN0V9jN8mmJek2T/CLjLHlhKd84zI1J5REAOSnkoHAGbY6Xa/+ovD+u+h743A8Y6c0uEcHP6T5Oc7GgcOS0aPHp10dmTx6FnHO3g/TuEzlzKCg52XvQI96L+lOvq5A4AbxsVOcPQeJJjxcYfE2P6Djks67hRFy2e15/NhsHg7krj1hnFl56fcXkRERA6jzbZFEiFHltWMeqgjIczMqkoav5SplLodeeShL5lhFeg/Dh8vkRxu4ISUii/ETFTgB6iAH9RkxpKRn3BA0i+8BmsBsBHgU4S/08AzYBzJvfvrhPnu5MnDl99994aWw/peOHKIgZ8P3zjF3gTwgO/bcyS3AxgA8HjCxoIMn2lDnjtt0YiTFk9fH1YoYY6XtxwMOdWsbTawFhqeBXkUkNppZySvLV2a/3TVrY2VqbTPhM/ml/Y75sjID0kmnRXjG1cFXZs4YcYQAKFfNM3sTQMecMBzBn874Q0A7HgDx5JIMhuK5xZeMeek5b+eG1rMCrk/1SU8Dy9rWLan7Qs9/b0dlgvsN/Dt13D4B4ALAF5B8Nz2B7JNPvCwM7xgxOnYu/H2iLBbSJ5wSvaI4UDDE6Gh+2SvIDAwSf+vG/AYYBsAvAfjv4C4kuTQkP7zi6KxabX18+4Ijd1FOvK52x/C87g89DTFtsxaDHyWtKMApjbugNcWTYg9XbtyXuC4Q/DWkD7f9oHlZvGH2Bx58fWcnW/U19e0FI+eNTCeFznLkV+F8csMWX4dcV4pELyHlIiIiIRTIUkkAQKnYO//OhIjsEjS65k95cftKwumrXu6zas/AoBZ1SOuc/QeCA/A00uPuvSsKjz+l6AWEY+3AQz/Tb/hl++921J0Z+zJN9u+PG3RiP7ZEfddkLcEZgCeeOTHcr4E4L5Dr7kcfiN0U23DL5tb/YLF09fvTnB179I18qH3z087nBfx/gUhM25Kq/Nngsn3OTGzR3w/XtXk3ni6puTvTQBwy7yLj+3bJyufHhcjWVHJ8bYZNSP++44p6/+arK+OmDR2Zl962Z8gsYjgR5PeYNbSsqcpsJibZbnfIIOfkcF+ueut3QV16xcnfEaF0fJrCD4UttGy5SD0GaXKzAzAT2n2pBGtRneeM/ssyKNghy8v6i3vzQzbfGu9esWq+WsPvVYcjd0L8ispxYHF4fPm2lXz7sHB4yaLx89ZCIfpQfcCgPNwOYDAQlJRdPbYZHsGmVn9LljRoUfWXzV8cp9jBx23COC/Bt5M3FY8euq9bfcbyt715lY/5/hPHWjieV8mEDwL0uwB3/cPmanjUp9lkzBk+z53AFA8PjYTqeyvBHsk3mpVb3jvPl1fX9MEAIVjyo9lFvLpuDiFotJtxWPL/3vZmsrDxp3ro6Ungzwx6MY4eeWKlXP/cOjryxoWvAbgNQC/nTS+/L8d3INBxSQDr504YUYs1ZMMRURE5GAqJIlIu5jhyeb4e+OWTHs64SatC0rW/7isOj8/rIgDAKB3BoCEhaTS6hEXAww+Fh6AAXOrStZ+Ewk2Y148ff12AN8orck/gmBRUAwHNw2HFJIKCuA5w2eCzrYys+dbgotIAICqknU/KVuafz8cbgjsm35goXLaohF5AGNB1/cl0mywWVUl66oPvbSvsPazstuH/9b65P6Q5BeDwhDwPHMVAL4c2l8AB4wvisZWHhyUhFkWiWwYjzZiAIHj2xPXgF/+uOGONxJdK0CBB9pngg4gM8PzIYUWAMDy+sqfFE2I3Q8EPyNax4rJ+7J5x3xeuXz13Cfbvlo8eurRyM27qXZV5W/avt573pu9E7fWT9y3qupvia5u39k69ZgjI1eEzeY5kEvcbly2et6KRJ0sWzV3RtGEOdHQ08LIJCeJeTPCrprZw7X18wqQYCz5+Ya7dwG4qXBCbKcDZyXsHsyzvLzrANy1/7V9s30e3f/nwmhseNjhcAa8uHz17Y8GNmi39n3uAKBgxLQ8c4yFzcQ0oBk+ZtWumnfYuLP8sco3Afys4Mqy3/bN9n4IhI079OAx4bgTYdYlwQnY25u2vfFMSIoAgBWrKh8pipZ/D3BT2yS/3WjPwOwZMzydvds1JYsjIiIiiamQJCIpM5ix1f/qkumJi0j77cLWGXkYVEAweCmJZycHXqO7OTwRe+mtZ/d8B0lO9Hr3zR3fOKL/MdeSAfuimJ09c8kl5y2c+sSf9r9UV4c46hrPnrlg5EDkuPM8888zx/NoOM/AYYTNDysivf8e7H8BBn6Rh+8CfzZeFq8mwpfm+YZbFty67p6wNvNnb3gbwNWlNaNWEQg++Yi4tmxR/m3zpzduDIsXcO8pBA8vSuz/0sz2nzdvhnf9eHPgLJQ61MWxEmdPGjtzIBk5Dx7Pc+bOM+A8woYRNj+s0HIgRbP/BYOfkXMWvhQqFT4mH/plHgD2zV65/dDXe8t7M3BpUBEJAH7WWPVOUbT8FwC/ERrHbH3t6spERaS2nf0SDC4kEThs2e1+hRPKzyQwNrh/7Glh0wwkGUt273rru33yjr6B5AmJc+CNaFNI6nbt/NwBQN5ReUnHHYPdsnzvzLFAdY/OfxvA1cXR2KqwE9cMdm3RuLLbalfPP2jcMd/OpQsYNcijzhl03M0bgKVhOQCA3+Ivdll8w2jPNLc2PfNfaxa9nOweERERSY0KSSKSMhpXzp++/s/J2tWU/L2ptOb4JwF8JjCWz7CTe0aHxfeNVYn2NjrU9ys2vVtWnb8GwOdg9hKAZ4z8E337U6vz//TS79Y/V1eHhMtHFs5atw17ZxQcmCUwugKRARvDv3DuZ2YvhExAgAGBm/56YOhG4Gb27Oa1jSlvlO3HW0o9F/kUmHipIEH6EbsaQPsLSZ3AzJ+5Ys3CF5O1W7Fm4eHPaPToyICGASk+I4Y/I+vwxsxblq2al9Zeaz39vdke/EfSRmTS5ZI0HDaz5TC+/R5e2Gyew/dvaxN/TFglk7QfprK8qa7h++8WRcsXAVwQEOiiiRNmDOkhS6XS+tyRScYd2LO7Vz6X+rhjKHXEpxCwGTlJmnOHjzvkm4naH7hsWFw8IfZJA1f4rU2rVqxZ+F6idisenf8SgLmp5isiIiKpUyFJRFLmww77DXdI45fCzjIyl7iQMv2Oi04hOCT4RvNb4/4PU05jT/NNLVktxUFL8dqjoQKtqbSbXj3qfJhdF9bGOT8n0et7N/rG5aHLSwxlQQWwRBZOfeJPZdX5ywEEnpZHcByA76Yas7OY2dzlqyr/M937GxoaUnpGN4wrOx+Ooc+IsITPKFW+2XJkcK+0nvLezLAtpY2643g9ZKcxAEBzi590TCH8nWFblgEWXEgCR4XFNp9Jl0ntFyefCfuPpmzL/jiAbi8kpfO5mzhhxhCYXR42f9D3rawOdSmPO8tXzftT0YTYcoLB4w5dgnHHng/LY9/eX58j8DkXyWkumhBrNLNHfR+/e9O9++T+PZtERESk86iQJCKp8y31GSsOO8IbMOEX2UhWyP4YAIzcltLSsn0WlP7+tVTbpqUCruzI/LMRsZFG5u/b1PekkH22AQBmidduuIh9jAha1wHAbOeCWxtXBl4P4Jv/oKMX+IUOxCWl8/P7VZU1vtPe2Blh1mLEtNr6eXd2QnRXNK7sbDo3EnD5RruS4ElJU6K1d1XewfcbGjtyf4q64709nbwJYGBTaCdmbz/w2O1JZ5755Nthu+7Tgv9bxsgRYTn4jP89Wf/7uT3chNyQWMbzAfw01XidJZ3PXQTZHwvdnN2wc8WqynaPO4z7D8ILHncMdsln80v7/ayx6sC4s3vLc4/1HXLmdhD9k8YHsgF+kuQnnQcMsn5NxdHY4wb7NYDHtuxe/0SqBVgRERFJnQpJIgmY2eMAvteRGDSmtASlN6HPlH/bTti7ob9VtsRfZM3coLAaDK3jp2h1xIyFw49jVk6+Iy4D3KUALgDRF2A79wKyhDMG6Fzo5sRGvNCubg7wnw+b1UHAs+z4yQjYAL1Tmf28ubVlxgO/WvBcJsJdN3rGcVk5ufl0dhmASwFcQLLv/uspPynr2GyiuGvK+El4PeK9EaFLjw50QdsTNgYY8SqS7E0EADR/Z8DqqFSEFtU8uluKo7GUjoG3JNt9OYfz2pNYZ0nrc2duaOi7o6U17jT78eezvbBxh95ReTho3KnbVNdcOCR2pwO/2e4OyRwAlxO8HMB3huaNfL0oOvJhwO6rra/sisKuiIjIh4IKSSKJbakqaUx4PHKPRiZZSNIx8UjrrpQb+2hN57sfnfUP/75mr7Q/asfMWDhyiMt2k0j7MsFzMhPVApaI2NDQAhzwfDq9bd7xzpbT+h/jB+2TBABxugHo5EKSmRmBV0Fu9n1bY62tD614tKrDfU6cMGNIlp89CXRfJrHvGXVoQhEAduj49R3WnJHZcD3uvfmWcE+aQ3nwm8KXpDGlOHFaazr/sXLV8Ml99s5YCcMvpvqjTNbMgOADBLpQOp87Jhl3YOmNOy3/2Lwle+iZPkIqgc7xsHFn47Y3bjt34HFRkhem0+8B5AACNwG8qSgae5y+/51lq29f1aGYIiIiokKSSM9m7SrF0MxLtqSqI0hLeUmZEa3pZEIfx4TurURuTyNsWmZVXXS8y8v+ngFfZFrnj4Vh4hlJAadC7WeW3oykuopNzWXV+a8AGBzUxgED2hvXzB6Dj7sPu+AxjrjtMfhNRtvjg00Rxrfv2rL55bpNdc3t7SdI8ehZx1te1vdg+CJdZj/8xvRn7ZhhZ0f3aump741EigUgWpLKdkpx0nXkwKOTLo3KsLADBLpEup87AuHjTpozIes21TUXDY29QjBw3EEkcti4s2HD3S3njCkfj2z+lEToPlepInkpPK++KBpbvmvLc1/L5DgkIiLyYaNCkkiPFjx7JHHzzv07zd3tKCQZrTNqWjQ7LvNRD1e6dMQY0D0EsH+734bZVgM2kfxkcKPEhSQYdoTXqzoy64xZYVeNqW0mftA94AvLV89N62SyjioaHxsD8iGmsJfK4fY9IwQ/I9eB5V97l3amrye/N59MeRwIZanNbEpXPN7KrEjoRz6j2AMKSel+7sywI2y8dn4Hxh1DVuhkp3jicWf5Y5VvRqNTrhxk/UoBzAB5VNo5tEGysO+QM3ZgE6ZmIp6IiMiHUdqbDohI5zMk+4X+YTf0Td4ofe/Gczr9NBw/yYwjY/hvzjNhRs2Ij9K5h0mm9iXe7CX4dh/Mvzkebzl/fknjCQZ8O+wWBixt84F/JunttJRyOsS0RSPykOxn52NbOrG7Q/HY8o+SeDiVDXkBwGAvGew+M/9m37fzl62cd0I8bqHPqEPLv5jasq1Eevp7o28Z2f+N6Nx95P5rzaJ/wKylM/toy8BuLySl+7kzWui4Y7S0xp2CEdPyks2yBP3Acae+vqZpWf2827B711Az/2YzW59OHof3yVsnRedclZFYIiIiH0KakSTSgxHMKiiA146j3vt1Zj45ue92+gbipL89SY37xM7OwYP7MRD+228zNBJ+rQ/8ekHJusP2D7E4vfARNvFm24D9M8kSurS+0LmIf2r4fjUAvd5TSLIIf8ykz8gaCas1tP66tn7BYc8okmTlVceWtqU+e++we3v4e+tFfAO2EDg9sAH8qxBPv+jXljHeZUWrwBzS/Nw54z+TrNxNa9zJPjr31GRtyNak486yhiVvAbgLwF3F42cPNTJKMGrAFW03m28PRywF8PN07hUREfmwUyFJpIcbcM6wPNRtSm25AtnuPW56HONrYV9oaByICjhUpPZFeEr1JUfmWtaNRPxZa2rduKD096Eb0c5cPGo0gQsC04O1II5rqqY2/iwsjhexvPCCUMDStiQzksg0C0m+Oy28jmS7Nm9/6+V0Yne14vGzRwMMfEYwazGza2pXVYY+I58uL7Rk2aFT29Kb8dM73lvvQeBFhBSSDO61Favn/qELU0qIGdvcLr3PndH/J8M3Rk9r3PGSj1e7dm3Z3K5xZ9mq2zdjX1GpYFhBdu7g0y52zrsMhssIjEx1CRyBUyeOmn3MA2tv39Ge/kVERESFJJHuZgD2AMgNapDbr+8xAFLc98IGZ3ZD6G6wG4+H7jRCREqPzh9ThcZfpRIul5GoI5YAHpjnoawm/00AG83ns3D+Rmv1H18w7fE/7m/veVYUfnoRy6umrg39Eg8AZtaXId8NjYlnJMVbWv7C7GwL+WJ5RGn1yGuqStb9JFkObdG5G8OuG9BQV7GpV2w+a84VhZ7rB5QnK7Tsa9k39Hh6C5o1loqgU/mS3NUr3lvvYcCLYT9PZzYMQLcXktDeZczBcdL63DXFm/+S4+UaAwYtEkcURsuvWV5f2a5xx4Gh4w4MDR3Z9LpuU10zNmEtgLUAKgG4SRPm/At9+zSJf022rC77CJwPoCHd/kVERD6stEeSSDczWOieQJGsSEp7ApUuvvTsZMuxeoOqssZ/AklOCPI4I9V4NByyDwaPBfgJOtxMuDud513d9qqBZ4bFa2mN/09K/ZKBsyAAAL5L+IVt0YzfvwzD2iSxKydPHp7yLsKl1fmXkvxiaCOz1anG625M8ozivp/SM3IWPFMFAJxLvypLprwc9eD7esF7600s2VhCfiLVWEXjYp8uHD/n5uLxs0cXRMvbN/uT4Xs1WYc20W/TTZqfu/9as+hlMsm4A1YOHz455XGnODrnUiB83DFD4LhTcGXZUYXj5lxcPK58UlE09u9F0Vhd0fjy/5ekW3/Fyrl/WL5q3nda8c5HYfZ2aP/k2UniiYiISAKakSTS3QzbweB9f2gcBeDJpHG8SHkm0+pOZngsbAkXgXEzl448d+Gt654NizNt8ajTAHw+rE1LS0vtIS8FH1MNwMuKp/hFjaH9EpYTdM0My0lcFnL36Ud9LPcbABYny6KgAB6BBWFtzGx3c7ypLlmsnsLMBofN9qK1pvaMXPgz8sHAZ5SMGdLaT6w3vLfexPf9h+m5uQws1FjxDePKau5bPf+ZJKEIhyWOOB3w0BdAcTT2uoEbYbYRtI1+vGXVijULX0x4s+9aw3915wfOSm2PdD93AOADyx2Cxx2Sp5874LhvbEhl3EGBZ8CC8Nl1tjtuOGjcKZow52oAJYSdBXDQ3lcPqnoOA3Bvsv4B4P76mp1F0dj/ECgMzIEMLTSJiIhIYpqRJNLNSLwRdt3Iin0FkUCzqkdcB9oNmc2s+/h+y/eStXHkT2cuueS8oOujKxDJ8rCCDD7JzgzrFs148v/avkZg6/9n787j5Kjq/f+/TnX3bNl3CCFhXxUEZA0quEFw9wcqiCzq9d6LXwKCRECvol52EAEVvYgaNlGuV0QlLKKsQVBE2XcCJIEEQvbM2nV+f5zpmZ6equpluruqe97Px6Mek3Sdqjo9tUyfT5/zOZHHJfPeYnU77bL9jwT2LVIstCHvdXbdiBvyGF4Py0ULLp37Hc4Kf46fdsHem239rrl3YMyB0VUxV3z/Kw+/VqS+yWFM9Dnyip+jYw89/UgwkecoKthXM8383mJw7W3nPQ/m12HrDSaV8tI/KNbT5th5px81rJehMdOMRS1nKwAAIABJREFU4SDjmS+Dd1nWmvAv54wf2SPJGLNl1Pp66OzJ3mht9HPHeOaiY+ad+R0iPj8ed9Bpm3Uctv0dxhD53DG+ueLa284Z8twxff4TWPuuwSBS4UZml2Pnnf7ZqP0OKQ7B++nn92WXlLovERERGaRAkkjMLEROZ2yMGZdJ22tPOGuXsYXrvnrhbmNOu2zuN43xrqtestb4XXTyg49i7e1RZYwx26ZS6QdOu/SAExd8f+6O9CeE+dKX9sqcdtkBH9xn8txHjOGAqH1Ya38+7DXsI5HHhfO/8r39twhbv+DSAz5njFfYy2n4sT3aw9adf/rDa8FeGbkDYzzjmf9aMHnun067dO5hJ162R26ojTnl4n12WHDpAceb9tZHjDEHR9bD2vWdbDyvWH0TxY8+Rxhz/jHv/XroOTrukDNKOkfY8HNUM8383mLSR9+51trQnjrGcODbZkx74OhDF+wYtP5z8854D8aLvB8N9urr77jwudAC1q6J2t5aPnrMoWcePW/eia3HHXRc29GHnPGuYw8985yobartxj+dv9YWe+6A5xnzX8ceduafPnfoGYflDfEzxxx2xg7HHnbG8baj5RFD9HMH7PqNxh/23PnF7ec+jeGWqC0N3lXHzDtzXpF6csyhZx5t4YMRdVjRffuLDxbbj4iIiAynoW0iMctm7a3plIkclmYw+4+dPOnlr10295cWnjfGtljf7GA8Pu5y/jSfPmvOTGMPwpiW8FKmw/PMZQBfu2zuOgwrsWYrTAnPNmtXdJm+4T0VjH2kyGxrUzLp1D9Pu+yA03r87KJLT35wxYLz58702+zeKc87g+I9kfoPQ2gwAGCTXXFaBzMOxJg9IvdjzMHGcHAHY/jaZXNfsZjxxjCxlDpYrLW+Pf7ykx95o5TySWExj0SeIWOm0MY/jzv0zNO6e1n0yzvPWfGZDyyY2eJl9vZS9oxivXUG9kP0OaqFZn5vcbnulvMfO3bemb8HPhpWxsBeKZN++NjDzvyjtfwD3zxtPH+mMeb9xfL8YG0v1v9uVBHfsCJyTjRjjDFcM8OO+6ltH9eS7h/f+Nl5J5533aLL10Uev4reYP1p0+34A40h+rmDOTjlmYPHAMceduYrYMYbSnzuWGsx5vgbF50T+NyxWS42KT4UfnDT6sEtx877+l2Q/am15kV6vFf6Uj0dqXR6pme9HfH4koG9Iuvh87MbubGinFIiIiKjnXokicTs4TWLF2Mp2pA3xkzGmC8bYy4B73zjmS8UBpGsZWntalpfF59038O+NQtK3sCY8WC2KyWIZK3tzPrZj10+/8FhDTRruc1a2xl9KKZ6xvt5Wyrz+oLLDuwyHWZZyvNuosQgEoDFzIlaf/n857t97BFYW3oj0pjZpQaRAIy1Z1948uLflLz/hDCm5zZLkXMEU/HMz1tbzevHzTuzqy2TWealuKnUQAuAhchzVAvN/N7iZPHPwtruqDLGmDEG8ynPmPO8FDcZ4/2oaBAJsHBZ/5T04bJ9kfnc8irROnTmtLGzStquShYturwbeo6wlpKfOwYzu9QgktvAnL3wlrNDnztX33bOX7D2+uK74SBjUtd6nrfYa2NpS6bl2ZTx7jIePykWRAJe9v2es0uus4iIiAyhQJJIzO46iz6sP3/ke7KrbNb/SPFyjePCk+67FGuvruY+LdZaY4696OS/Bg5puHD+4heAkgNYxoTnOoLwGYMM7HLqRXtNjdq3q4s9ylq7vtT6lM5efv5bi79V/f3W3sJFF75gywsyhp+jyFmdzC5HHnRq5DmqtmZ+b3G6etF5j2QxR1hLXzX3a+GqhYvOKXq+rrn9opXW8kS5+09j6xpIAncN4tujoPrPHd/ayxfecnbR587GRc8dYy3XVfv4jl2f7fM/fc3tF22szf5FRESanwJJIglw/kmLbwAqnjXLWvtWts9+ZO3a7meLl24s58+//zgLVfvm2Fq+ceGJ90X+ri+Yf/8PrOXWio8BWWvtV6xvvxJayJBOtbZ+qti+zp+/+I++6d0dayOn5i6jcn1Y/4TzT7x/PmfhV2WfMbh60dk/sIzkHNkslq9YE36OjCGdaWsreo6qrZnfW5yuWXT27y3Zoy30VGN/1tofL7zl7H+D0u4ja+z3yz9IPEm4F952zh+zfT27W0tVnjvW0metf8LVi86ZTwm/rxu5Mbtw0dnH+HBNNY4/UA9Y05e1H7rm9nOVG0lERGQEFEgSSYgX77nvSN/nAkt4UthAlj/2ZLvedtFXFkcm7W5g9oIT7/uGn/UPB16seCeWu/uy/nsunH9/SQls12/kKOvbq8o9H9byHH72kAvm3//9jRv7biaqB4T1Spp96KITH3rp/Lfuf4/17ZnWMoJv0e1dfb5/wPnzF19R+T6So3dd9igLV0UlUg7xHD6H/GLR2d+33dwc1UvF8yh5hqhqaub3FqerF533q6zfu5uFP1W6D2tZaa1/2sJF55wAlHx+Om957ufW2v8t61iYuvdIyrnm9oteWrjo7PdY7JnW2oqfO9ZyV5/NHrBw0bnlPnf8q285+zjr+1+02NKGBkbWwy6yXbzt2tvOvXek+xIRERntFEgSSYgbbyR74Un3fc1ae6i13Iq14d/aWutj7e1+1j/8/Pn3fbihpm6v0IUnL/7N6sc6d7L4X8bycKkBHmtZbP3s+y+Yf99BF5+8+J5Sj3fFGfetvuCk+7+I9fez2L+XsMmz1toT1zzeuesFJz1wJ8APz3xoFXBX2AbGcMBXL99n65IqdBb+BSfdf67fvW5GFv9zFntH5DXSz1o2Yu3vfT877/wT7z/44pMX/62k4zWA6+87b/XCW87+ovXNftYWP0fW2md9y4mPrXhj14W3nnMnwNV3nrsKE36OgAM+98GvlnaOqqiZ31vcrr31gmcW3nL2B7D+J1xgp+QhXM/5vv8fpnPZnIWLzr2IMoJI4HrZvNy5+EgsX7HWriq6geUxY3mqnGPUgL/wlnPO9bM9M3zffg5r76CEHkXW2o1Y+3uy2XkLF5198HW3nlfpc8dfeOu5Vy285Zy392E/aOHWcoKrrh4s7Ovrm7tw0TmHXf3ns5dVWA8RERHJ0zTThYs0m1Mu3nvLdEvLB41lNjDbGmPBf9laXjZk/3TB/AebJrF2JU68bI9p7XR8GsyHjLHvBtMB/YETw1+szV6/YWPq1ivOuG91FQ5nTrvsgG2wZkc8djSwA9aMAfu6tfZV37N3XHziA09X4ThlOfmSvTbPeG17eIYtgdkWs6XBZn1rVnr4K3zD412svPvy+c9HJhluEubYeadt49v0jh5mRww7WOPOkWd5lay94xe3n1v3c1QlzfzeYnfELke0dMzZ9iBLagew0w3MwJhxWJZh7BKyLIHskoW3nf8UJQ5jK4F39KELtveM9w5jvd3xzFbW2jeNtSvxWGZ8+5eiCbxjcvQhZ25ujN3DwJae8Wb7hi0NNos1K63xVxhrH1/Jxrtd4u7qO+Z9Z0zx02ZOythZeGZLY9nSYmZhrMVnrTFmrY99AcvfX+la/ORdd91V1bxYIiIiokCSiDSor11+4K+BI0ILWOtjub7HN9+65Cv3VTwkTkRERERERAZpaJuINJyDziJtrT00spAxHp45OpO2Dyy4bN/Y8oyIiIiIiIg0k3TcFRARKdeekw/cFewTFvsMPs8AyzFmM+AjxjA3v6zBTMdk/hfYL5bKioiIiIiINBENbRORpvK1S+eei2dOH7Yia+ecf/L9r8RQJRERERERkaahoW0i0lS6/a7Lgl7PGrNXvesiIiIiIiLSbBRIEpGmkkm1bRf0ugX1RhIRERERERkhBZJEpFmYr10+d54xXDN8ld308Or7/lX/KomIiIiIiDQXJdsWkYZwwlm7jB07ZdIzYNZi7VqMWWtgHdheLJsB24GZHZj4zXLKXWfRV+cqi4iIiIiINB0FkkSkYRjMTGAmxgx5NXTaAGt9a8y5F8y//yd1qJ6IiIiIiEjTUyBJRJqOxfaCuRaf8y84+b5n4q6PiIiIiIhIs1AgSUQaQt/y9m5/sv2WZ9kej9kWOoB2LGlgOYZX8HnFwiue5fbzT75PybVFREREREREREREREREREREREREREREREREREREREREREREREREREREREREREREREREREREREREREREREREREREREREREREREREREREREREREREREREREREREREREREREREREREREREREREREREREREREREREREREREREREREREREREREREREREREREREREREREREREREREEszEXQERERGpmfy/8za2WoiIiIhI01AgSUREpLmYgp/5bMFPEREREZGypOOugIiIiFSNyS1HvX/BxzKZ9LeBra3lXz09Xafd8OfvPYiCSSIiIiIyAuqRJCJxKXz+qFErMjK5IJJ3+Hvn7zO2bdy9gDe42q5/c/XSnf/wwNUrAB93z+m+ExEREZGyeMWLiIhUlcE9e0zBkntNRMqXfx+lW1Otn2TY33gzbuyYyYcAKYbegyIiIiIiJdPQNhGpl4Gg0fFn7DF52mYdF2L4iMF0+1n/mvsWv3LWAzcu7c4rr54SIuUxuCBRxuJPCSrg+3YakGGwN5LuMxEREREpi3okiUg95Pc8Sk3drOMXxjPHGmMmY9jcS3sL5h4w5zsM7SkhIqXL9UZKAS3W2tagQr6fbccFklKoR5KIiIiIVECBJBGpFwOk9nnfFuM8w6GFKz2PT+IauBpyI1KeIYFaIONjW4IKWt9vZTCQ5OVtLyIiIiJSEgWSRKTWhuRuGTe1dQrGDH/2GCYCLbghtwokiZQv1yMpgyW4R5LxW3H3mIJIIiIiIlIRBZJEpB4GAknZbr8jsIQlw2AgSb2SRCrTf6/ZTOBKO6Q3kj4DiIiIiEjZ9CFSROphIJDk99rgQJIhDbQydMiNiJQmv+dfrmfSMBajHn8iIiIiMiJqrIlIreU3cFN4tIWUS/cvSrgtUpmBe8YYEzi0zRjThu4tERERERkBBZJEpF4MkPLSJjAJsHEBpPwgknpNiJTPAMYY0x600lMgSURERERGSIEkEamHgcCQ55nA3C0Y49E6MCW5iFTOeMYL7PlnTCoXYFKgVkREREQqokCSiNTSsIZqpiUV2FMCYIvNx7SjBq7IyBlvbNDLnueNqXdVRERERKS5KJAkIvViANPalg4NJI2b3poLJIlI6UzBv41nTEggKTWOocFa3W8iIiIiUhYFkkSknkxLiwntETFpcnvwjG4iUoqBoJBnUsGBJMy4oPIiIiIiIqVSIElE6qqtLRMaSBo3vi3XyFUDV6Q8Az2MJo+d3No/O9swXio9Ac2KKCIiIiIjoECSiNRa/gxsJtVmxocV7Bg3MOwG1NAVqciMadtOCVvnGTOx/5+Fw+FEREREREqiQJKI1IsBTCblTQgr0NqRnoCSbYtUygBm4pgZoYEkY7wxk8dObssvX5eaiYiIiEjTUCBJROphoLGaaklNCivU0pKZzPCGrRq6IqUxgBnbNm56VKEtZ+w8Hd1XIiIiIlIhBZJEpF5cj6SMFx5Iak3lAkn5i4gUNzAktL21PTKQNH7MlBno/hIRERGRCimQJCL1ZFIZb2rYykxraipq4IqUozDXkZdKtc6M2mBMx4TN0X0mIiIiIhVSIElE6sHgnjdeKu1NCyuUznj5Q27UyBUpzZBefJlM6xZRhdsyHbMY3utP95uIiIiIlESBJBGptSGN1VTKzAgrmM4YDbkRqcxAsDbtpWdFFWzJtG7ZX1b3mYiIiIiUTYEkEaml/Iaqt/NeUyd6nhkTVjidSc2kvzGMGrki5TKAl0ll5kQVSqdatmLwHlPgVkRERETKokCSiNTaQGN1q50nz44q6KWYstnsse2ogStSjlxvJLPVFrtMNJ43OapwKp3emqGBJBERERGRkimQJCL1YAAzdVr7ttGFjNntXZtvg3K3iJQq/17xttts112KbZAyqanbzt5zKgomiYiIiEgFFEgSkVrJDwQZwGsfl44MJAFMm9G+HYPPJjVwRUrjAd7YjslvK6XwNjN2ejtDh5DqXhMRERGRkiiQJCK1lN9I9do70jsW22DchJadyBuqU7AfERk0PFjbOmaPUjYc1zFpT5SPTEREREQqoECSiNRarrHqpVtTuxYr3NqR3hVIoSCSSCkGgkhAKpNu3buUjdpaO/ZleCBJ95qIiIiIFJWOuwIi0vQM4M2dt8UW6bQ3o1jhlpbUbrSRomugkZuteQ1FhgsLqiQt2OLhAq+pg3b/xDs8z5tSykaZVGaP2ZvtOumV15/oZDCg5JOs92fLfF1ERERE6kA9kqRRGC0NueQaqKntdpt24PDTOpznmfEf+8xOu+Max4VTlGtprKUR5a7bIddv3uIlZEkVLOnpU7f8RMlv0pjMHtsd8BEgg/tSKWnvL+z3nn9+RERERCQG6pEkSWUKfkrjyD93A43BCZNaP1DqDjbbauwhwIMMNh7B9UJQT4TGkrsWbMHPJBoSAP3cIafP91LeF8FsY6Al5rqNiLU2a4xJFb4+afz084477OvnxVGnCmyy1j7Z5/dcct1tF/0a13sKkn1NiYiIiDQlNdIlaQYac//x9d0365g85jDPYwsw6j3XQKy1xlqMtZhsn5/O9mVbxoxrOcF4pqQGuZ/1V2za0HddOuP1eikv63mu0WiMUaOxofi9vs/LG1b2/O5/zn94A4PBwKSdx/wgUuqYQ06/2kulPh1znapm+Zsv3TRz6tYfj7se1dLX13vWtbdfcA4umJTUa0pERESkaSmQJEkyMGThlIv3/0KmJfV9oC3mOkkNWaw1GD2Hmt/qro09R156+kN3MrTxnxS5oVKpz3zg1M+3ZdquiLtC1bKxa92T/3f3jy/4zPtP/l4m1TI57vpUib9u4+r3/9/dP7ofl0PNMthDSURERERqTL08JCkG8pHMP2/fD2VaUj9GQaSmt3pl59+7NvYti7seUnOTWjsyv/3CmbvtxOCMfEkJIA70RJo0aVJ7S7rlm3FXqIr8J1966IZstrf75defvTHuylSRN6Z9/Ldx+Z2Sdj2JiIiIND0FkiQJBnLpTN2Rtrb29GVxV0jq45F7X7/lhSffWhR3PaT2jDHtE6eP/T6DiZ2T0PgfyIkEpN+322c/6Rlv85jrVDWvvbnkhideevBxoOu+f/3utrUbVt0bd52qJeWl3nXoPkfuxtCk/CIiIiJSBwokSdyGNOSOOGrvw41nZsdcJ6mDN5Zv+Mvf71r+1B+ue/bODet6no27PlJ76ZT3vs+eslvhjHxxM7j6ZNpa20ue9SyprPW7u3o2Pf/c0n9edNtD110PdAKbgM7f3vPjC5eufOFnPX3dS621vTFXdcTGj53xSVyvpPzZHUVERESkxjRrmyRBriGXbh+b/kzclZHaW/1G1wO/vPyxK4BesvCbK5849/Av7XrGmHEtO8RdN6mtKdM7jgKeYDBXkiGefEn5QezUmDFj2lOpzMFBBV9a/sSP7v7nTXeSzNnnCoMnFugDeoHu/p8+7n22/OnvN9wI3MRgr7D87ZIkVzfvw3OPP3bqhJkfKSzQ0tJ6CHAe7v0mMfeWiIiISFNSIEniNKQht+3bJk9IZ1LvCSr41spNd29c1/NaXWsn1TLQWO3uzG585fm1T/3tz8ufxjVws4B5fcnGrh+c+dCp7/7oVntN32LM1i0tJj8/lhqGDWji1Padxk1sfUfh6y2t3jzgLNy594kvkAR5z58Ddv7YnsaYsYUFrLW9jzx37wMM1jfJ085bXD1zQaRuoIfBQFJr//9bGTrEMGmGzKL34tLH7wkKJKW99K7bztp10gtLn+jBBZNy2ybx3IiIiIg0DQWSJG4DDbn9PzBzf2NoLSzg+7b7Vz94/Mp1q3s2oameG1GuYZebWakX15jtwTV6wT2LWu65eclfgb8ztIGrc904BoLDu+83Y86hn91+WCAplfa2e9dHZ8269+alL+Hu/TiDSQPDaseNmbhfUIHO7o3PrNu4ajXuuu1jcJawpF2XuTrl90bK75GUArpwkxi0kOxE1QN/F4D0ky//7em9djp4TSqVmVhQztth1h77vrD0iVtw71NBJBEREZE6UCBJ4pTfIykzblLb/kGFNqzpfnzd6p4NDDbiNISh8eSCSFkGg0jdDAaSMrjGbW7J5dCRxjGkh+G//rrixfcevs2KltbUjMKC2+08Zf97b176KvE2/ofkZ2tND+89BbB+05p/4XIMdTEY/Mw9g5IiP8CexT0rc/dZbtiXh7vPuvt/FuYWSlIwaeC84HpPtXV2b3x8bMfEAwsLdrSNfwdwG0PfS5LOjYiIiEjTUSBJ4pbLj5RqbU8HNuRWrex8BJcwNvftelJ7BEiw3HnyGewtkd8jKXcN5IJIuZ4SSUnGLKXJ70WSAVrXvdX16NTNx3ygsGD72Ja9gP/rL+9R//vZ5P1MAelUumWnoIKr1698FBdI2ogLJuUC2pCsZ1B+r79cMCm/robBnkq5YW1JTFI95AsGoB3w129a+1hQIKkl07YL7v3oeSEiIiJSJwokSVzyG3IekM5kvJ2DCr62ZP2jwAZcMCn/G3ZIVkNOwgU1cHNDbvJ7H2QYbBSqYdg4BhIj0x9EAvrWrOp+LCiQ1NKW2pn+ADKDuW3qLXfdeRMmTG9PeemtgwotWfHMEwwGkjoZDGZDsp4/+YnAc/dafu/NgffL0PsrafdYfiCphf5nxNoNK5/afOqcYYXTXiZ3LRX2rkrSuRERERFpKgokSZwGejC8bd/pU72UN2wIjIXso39d+QSuEbeRoTk/1FBoHIW9JXI/c+cw17BNkexGroTL9e7J4PLw+MtfWv/Edm+bPKxgJpPaifgb/wPJnHfa8p3bGDP872HW73vr9TdfXIHridTJYCApic8fW/DvoGB7LnCbf28l8R7LXUu5+mZefP3pp3faau9hBT0vvWVbW1tLV1dX7nrKDiskIiIiIlWlQJLEaeAb8h3eMSlw2vferuyytau61uMacLk8JbmGHCSvMSfh8vO4FOa5yl0L+b0RpHEUDkfygdQ/H3jtmXd9eE7WGFL5hb2UmbrTXpMmP/3w6k3EE8jIr683eey07YIK9fb1vox73uQv+cPFkqYwmJT/7/xAXf7vPKmBpNwzPg30rHzrlVV+tm+Nl0oPSbhtDOndtn331g89cfu/UPBZREREpC4USJK4DJneefzEjsCGXHdX9mWGJmfuRkPbGpkN+ZlrOCa5l4SEy52vXC8SD2jpXN/X2duTfa2lNTWrcIMdd5+23dMPr36NeIcwGsBrzbRuFbSyp7fzVQaHYeYCSEnP0RZWr6DAUlT5OOXqlj8Utq832/tqa0EgCWDi2GlbAY+hhNsiIiIidaFAksRpoEdAa3tqePILoLuz72WCG3J+UHlJrKBGXVSPCVAwqRHlzl/unu3t6c6+EhRIGj+pdSvgfuo/tK0wP5uXSbcNqx9Ad2/3UoY+c2zB0siSXv/8obBZINub7V3WSvvbCwu2Zdq3RDnVREREROpGgSSJQ+GwilSmxQtsyHVu7F3GYADJz1uaoSEnQxWeT53fxpILBA1t/HdnlwUVbmvP5Br/cQxjHNIjMp1KzQwq1NWzYRlDnz2FPemkNgoDdlkg29PbtZz28cMKt6RbZ6G8aiIiIiJ1ozwkEpchOUrSGW/zoELrV3flGnL5PQJADTmRpCnMgZUFsl0be5cHFc60pWYyvPFfzyDAwPMn5aWHJfoH2LBp7WsE90aS+skF8bK9fZ2vBxXwUpkZDE/Sr4CSiIiISI0okCRxGggmpVLe9KACa97oVkNOpPEMBJM2behbEVQgnfGmE+8MfQPPH89LTQ0qsG7jqhWoF2Sc8gOTfmdX58qgQikvlbuWFEASERERqQMFkiQuQ3okpdImsCG35IX1+Q25JE65LSKDCnsl+RvW9gQ2/tMpbxrxB5EM4BnPmxxU6OU3nss9fxREqr/C4W3+hq51YYGkKShHkoiIiEjdKJAkccgfxmK23HbsGGNMe2Eh69ueV59dvRYFkEQayZDG/6qVmwIb/17aTCaeQFL+sbzZm+80yWBShYWs9Tdt2rS2BwWx4zYQlFyzceWqoALG8yYSb+82ERERkVFFgSSJy0BvgFnbTJwSVMD3bS6IpKElIo1lIJC08uX1gY1/zxsWSKp3MMkAZvrELQJ7I2V9fw3NN1NbIxq4lt5YteStoAIeqVwgSUEkERERkTpQIEniZiZM7whuyPUNNOQURBJpLAO9SF5+Yf16a21fYQFjTNvkzVraGPp3qO7BpLb0mIlBK62fzQ9k5z979ByqPwvYtZvWdllruwpXGkN6+sStx1LQ27WeFRQREREZTRRIkjgZwHR0eBOCVvq+XU/wTG1qyIkk17DcNtZnfVDBOdtMnEB8s2wZwLS2dgyfTx7IWn8D6o0Ut2E5t3yb3RBUcOqkaeNRAElERESkLhRIkrgMNB5b29Pjggpk+2xhQ05Ekq2w544P+NmsDWz8T5jRkQsk1Ysp/JnxMoGBJN/P5gey9fypv8JryQLWt8HX0ti28QokiYiIiNSJAklSb6bg3yaV8QIDSX7WV0NOpDHl9x601rcbgwq1d6Rzw5HiaPwbwPPS6TFBK63vb0TPniQY0ivM+tlNQYXaWsbkD20TERERkRpSIEnikD+UxaRSXkdQoWyWTtSQE2lUg71IfBvY+G9pzXRQ/6FtQ54/aRP8/PFtNv/5o+dQ/NwwSWxn0EovlWonvmGSIiIiIqOKAkkSJ9eQSxPSkPNzDTlQY06k0eQHkgIb/62tJujer2tAyfNS7UErfZfUufCZo+dPPAbOg/X9wGsplWrND0rmKKAkIiIiUgMKJElcBnOVGK81qICfJaghJyKNxVpru4NWGM/kZm2LI9F2/79MS1AB3/rd6PmTNNa3tidoRdrzWlDgSERERKQuFEgdHdhnAAAgAElEQVSSuBnPkApc46YMV08kkcZTkNfGZoMKeWlTeO/XO/G2MQyrQ//KgecP6PkTp8LhhYHXEgz8HdHwNhEREZEaUyBJ4uQ+6HsmHbTSWvrqWhsRqQWLNb2BazyTId6GvzGEPH9cIEmSxYINvJYMXu5aEhEREZEaUyBJ4mYMBDbkfNeLIb83knoFiCTfsJxC1gb3SAq79+vJesF1sHr+JMHwa4mQ3m3GS6NAkoiIiEhdKJAksTMhDTksvagRJ9LI3NC20Ma/SRHzMKSwHkkw8PzR0NpkcOchZJgknskf2iYiIiIiNaRAksTNGmMCr0ML+TmSRKSxDAaBTfDQNs81/uO8x61nvMDnjz80R5LEa+Basobga8l4cV9LIiIiIqOGvrmTejO4AGYGaAPGAROA8UAHbqhLH7ARWAesBTYAXbgeAj5qKIgkWf493o67xyf2/+zAJUXuxd3jaxm8x7tx934t73E9fxpLkq8lERERkVEr9vwUMmpZ3If8PlxDoBvXYEjhZuXp7n891xjw46mmiFQod49ngR4G73EPd1/nGvv5uYjq1ejX86exJPlaEhERERl1FEiSOOQ+5Ocacl24BoHf/zPb/1oXwxsHIpJ8+VO19zB4j2cZeo8XBgCg+vf5OGB9QN30/GkMQdfSOFzPo3pfSyIiIiKC+/ZVpN5Mwb9zDYU+Br9tzjUMCocoqGEgSdUKzMINiRrtTMFPGAzc5IIBuaWHwQAAVPce3w34G/AG8K+AOun5k3yF19KewE3Aa8A/qd+1JCIiIiL9RkmPJJubGSiA6atrVerGGmAzYCtg6/6fY4HV/cubwFPAc2DqPWwj/xvm3rx/585TrlGXG3aSRbkuJLm2A64A3oPL5bIeuBr4Gi53S6OLeH6GyuW28Rm8x/sYfo/nho/VotfPHsAdwBTgZ/2vLUTPn0aTf752A27A5bQ6D/c37XJqfy2JiIiIyOhjl4O1IUuTzVxndwT7a7CdEe85f9kI9qo6VzLXyEwxmPS2A9coGNf/swPXwyNDZQ1ZkXrYDhc4sgHLgzRHr8/lBL+/UpaPE889vhfwVkFdssCx6PnTaHLnax/clyCF19jl6HyJiIiISPWNhkCSnQP2Z2D7Sgwg5S/3xlDhXOMgv0GXAVry/p3qX29Qw0CS6VaiAynz46ta1YwkkPQx6n+P701wwCEXTDoMPX8azR6En1OL652k8yUiIiIi1dTsgSS7P9juCgJIcQaScvIbdIWLYWjvgWovzcDD9b5YgAtqnBxvdUaVDC6HTlQg5Q+x1a56RhJI+iil3ePVsh+wJqI+f8X1OMqpZ92kctOBZ4i+1k5B50tEREREqqeZA0l2LNgXRhBEijuQlM8Q3Hh7kMobslHL5Jq+m9rZCvgy8H8MH77z9RjrNdrMovg19q/QrRvHSANJ+cLu8WrYCZfoPKwujxJ9z9eybjJyWwIvE35+feDo2GonIiIiIs2mqQNJV5UYLPLBrgabTXAgKYwCSUP9mPD3pEBSfUUNt7HA9fFVrWqqGUiqlTRudrawejyPm3xAGtsOwArCz3MnsHtstRMREREZJUbJrG3Nyn4E+HxEgR7gMuAXwAtguvoDZ5OBqbgZcPbHDdERkfL9gujhhD+vV0VqaD7QHrH+m7ik43H6FvDOkHXLgPcDr9evOlIjzwIfBO4CJgasbwN+hbsWNtSxXiIiIiLSfJq1R5K9OeJ9rQe7S9w1rBL1SBpKPZKSowO4n+BzcU6M9aqnxcTbI2l/3LTvQcd/E9i5DnWQ+joA2Ej4dXdNfFUTERERkSbRjIEkm+kPFoW9r/+Iu4ZVpEDSUAokJYsH/CfwW+BhYCGuB8xoEWcgaSxu2FrY8T9d4+NLfL5I9PP9Q/FVTURERKS5aWhb49qZobMP5dsA/KSOdYnTSlxejEr41ayIjFo+cEX/IvV1CbBtyLpbccOcpDldhRvavX/I+kuAO3BDvEVERESkihRIalzTItY9CcbWrSbxOh64Je5KiEjdHYbrlRKkEzihjnWR+rO4noAPA6mA9dvj8pddUM9KiYiIiIwGTRJIsh4wHZjSvxhgDbAUzKo6HH8zYDZuVqBJuJmc3gCWgHmtRgedGrHu6RodU4bycOdhc9y5nwFkgfXAWlxi2Fqd/6RI4xItz8Ddg+3AW7jcNEuIJ8FxG7AV7p6chjsPjwFdMdSllkb79fffEeu+A7xUr4rkmYS79ubgJjF4FHiO5uv9aHAzqG2Lu96exc2mFmZLXGDHBx7BXZ/V8C/gB8BJIeu/geudW63jRfEYHFYnIiIi0tQaOJBkZwNHAu8GDgTGh5RbSnTQpdLjbwkcB3wC2COi3GPAIuAiMG9UsQIdEes2VvE4Mmg2MK9/2RsXOCl2D70B3AtcC/yR0oZZHAycHbF+m4h1X6L03CB/xjW0ypXB5Z75CG4GpaDZk3KeAv4E/Az4ZwXHAriZ4Hv4bNzvNGdPXA+FI4ExBWX7gCeB3wNn9f9/pMcvxQLgvgq3LVSv668RHEL4c/dx4OIqHGMscHvA62tx5yDH4O65E/rrVZh3byMukPl9yhtqNwOXdyvIk4T3xip0J8Gz7m0iOJdX0PPnGVzvT3CJri/H3W/5fgecCLya99r2wPeAD+e9Zvv393nggeLVL+qbwKdwAdVC4/qPc0kVjhPms7hzvzsukPsP4CKGPptEREREJF52Z7DXgO2NSDRdzlJmsm3bDvYssJvKPM5KsP9fFX8Px0cc60fVO04iRCXbPqwOx/8S8EREHUpdXsAFXoo5vArHKmW5sczfgwE+Q3Ry47DFB36D68VQruUh+5zfvz6Na7iVWpd7cD14Rnr8UpZqJJuu9/VXrjiSbd8VccxqJTqfGLL/TXllpgG3RdSlcPkJwUGdILMj9vNQGe8jbHaz9SHlg54/j/ev2w/3/sPq9TSuRyC43kqvRZTt7D9WNRwVcZwXGR7cq5ZrIo6rIXUiIiIiyWD/DWwn1Qkg5ZYyPmDaLcA+McLj/RLslCr8LhRIcks9Akn/G3H8SpZiAcUkBpLagf+rwjHX4HptlCMskPPN/nrdXUE9lgM7jfD4pSzVCKTU+/orV70DSbtGHO8VXMCzGsICSX7/MXYDlkXUJWz5O6X1Bk5SIOk53LC9lSW8vwW4YNIzJZRdw/Deg5VIF6lbLa7Dz0ccL7eU+6wTERERaQi1+pauBuyPgf9h8NvOeh9/G9wQkV1GuKPPAP8AO27kdZIGdSUuZ0ijmILrAfKJKuxrAm7IxxFV2NdE4Ke44a3l2hz4VhXq0Iga7forFHXt3IBrwNeSwQWzbgVmVrD9Xrhh0Y2kFXe/RE3ykPM+4AxK6304AdebaKT6cAHXMNV43hRaUEKZr9bguCIiIiKxa5AcSfZ04N9jPH4LcBOwdZGCr+ESju5I9PCF2bjeFKdFHPN0XGMlTNiU1wDvA3tNxPp8q8CcXGJZCZbFnftuXAO9pUj5SbicNQeT/CS8BlfXfaq4zxRu6u5HcMPkKnUMLshVqSNwDd4lI9hHEjTz9RckKihwXZ3qcCvBOXlK9U3csKju6lSn5qYBXy6x7FzgPWXs+wu44OZI3YDLkRZkHu65k63CccDlXiolULZXlY4nIiIikigNEEiyHyQ68TC4Lu134IZY/A33vqbhAjoH4/KCBE0PXKrvAm8PWdcDfBu4cjCZtvWAdwJXMDwhac5JYK8CEzbD2vuoPNfHDpSei+ZV3BTJUpq3cEO8/oIbRvMKbuhTLnmzh+ulcDwuUBjW8+zduMbWXwLWvYTraRPmQMKHZf2d0pNa/72EMl8FDi2h3Ju4+68Pd81vVaT8OFwwY78S9h0mKIhkcQm1F+MS0n+I8MZcCjiFwVxLYa7H9ZwI81Fc4ut6qMf1l2Q7E94r9EncLF71sEXAa9245NGP42Ztey/hw7a2xAVCqxFAqYfCnsDfxCWhvxj3typf4XteiEu4fSzufiu0YzUqiEtqv5zgXmJTgP2pXuL7FKUNocyVq3UvOREREREZZA3Yx4jOObQYbJFGnF0esX2R4X12e7DZkG3fBLt7xLZpsNdFHPuOiG3vKPK+q7W8Ev3+EyHuHEk/BX6OC6hkythuG1wekrC6/78K6/PjiH1+vcJ9BplKdGJdi5uFKqghOJnoRLS55b0l1KPUHEWPM7znVAtu5quwbVaXcPxiap0jKGnXX6F65kj694hjVfPah/AcSUHLPQwP3u9KdA6lHxY5fpJyJOUvF+aVPbBI2TsYDLhkgK6QctUasn5JRF2qPZT1hYhj5Za7q3xMERERESnOHkF0EOTXYFtL2M9IAkmXRWx7bAnHngr2rYh9HBCynQJJg+IOJI3EKYTXvdKk6PUKJJ0VcRzbX49iedZOLbKPP5RQj1ICSQ8TPsxtK9wQrrBtO0qoQ5Q4Zi0rVS2uv0L1fP9R135EUL8ipQaSfkV4j9f/F7HdoiLHT2Ig6VWG9jiaElG2D3hbwb7DZh8sNmy8VPtF1Ccqh1IlvhpxrNzymSofU0RERESKs4sJD4CsAzupxP1UGEiy48GuD9mujC7y9hsRx/+vkG0USBoUFUh6HTcUrNylkgTNlXhHRN0r/ba6HoGkNPBGxHFuLWNft0fsJwuML7J9sUDSs7hGf5SoYMdIG7FJDiTV4vorVM/3/1DEsaKGH1ailEDSTUQPEZ8Rse0zRY6fxEBS4TDo1oiyvw3Y919Dyu5dxvuJ0hZRn7Bh5JXygNsijnd1lY8nIiIikhgJzpFkJxKd4PcKMNUYlhLlYGBsyLrfl7GfqJw1YQGNfxLd22Mm4XlyllG8kZLzRonlkmpGhdtFJUOvpuci1lXrW/ha2As3tC3MpWXs6yLgAyHrPFwvgtvL2F++Llzy5TVFyi3B5UgJMgMXXGxGjXr9BUkRnqtuPbC2jnUBN5TyaAbzUwVZicujF5QAvVgesaTZAPys4LWoZOFBQ/d6QspWawbZLly+tqBn13a4QFNXlY7l45J4n4RL8r1d/2tP43JH/bxKxxERERFJnAQHkjiI8OEC3bjknbX2roh195exn6jG3Jzgl03EjG4A9niGf6jPuRnMCSXUS2ovqtEykgTwtXZQxLoXKL9H0jOEJ9U9kMoDSadQWoLlqCDDZhUeuxE06vUXZDLhuXSW1rMiuKDKJ/p/RrG4BOlB11gLLoDSKDPn3QqsK7HsGuBPAa/b6lUn1FKCA0kpXND45Soey8flZboE17OyD5dXTkRERKSpJTmQFBXEeRbMijrU4cCIdZ8He1SJ+4lKkBvV60OSrR3XQ2J3XA+x8bhZsvJz7lTrm/Z6C8ndBcAtlN8gfJzwQNL2Ze4rX6lDTK8BHg1Z99QIjh+nZr7+gkQNX3y1brVwlgHPl1i2HsGTegjrTRSkt2a1KG4pbkhnkGLDaEei1CCbiIiISMNLciApqpfAkjrVYZuIdcdX6RjVzushtTUV+BQuiepcmquhnm/ziHWV9P6I2qbEXGcjsrh/aXSj5foLEvWsrHePJEmuqGuhloEkERERkVEjyYGkqJ46dQgkWYMbSlFrUfk1pLhluGSy5Sp3+EEHbpaeBQydtahZhc2ABpU12pdFrKvHfdboRtv1FySqR9LKutVCki6qd9q4utVCREREpIklOZAU1ZCtR4+k8dQnh0hnHY7RzL6EG2pVS3NwU3XvXOPjJElUcOf1CvYX1dDviFgno/P6K9e0uCsgiRE1rE5/b0VERESqIMmBJBOxrh7DOVrrcAyo/0xDUp6ZwANED/VqRlH5UKKCvJVsU2zGtdFstF5/QaJy0MyqWy0k6aKuBf29FREREamCJAeSXgX2DFlXj2+fV0es6wW+WKXj6INtsv2U4o34+3GN/Vdww77yv/VOAX+oTdVqajUwPWTdlhXsL6pxt6qC/Y0Wo/X6CxL1rFQgSXKink8KWouIiIhUQZIDSa9ErKvDTGemF+x6gnMqZIA7wUTlfZHGNxeYF7H+ceA/cA35MI02xXpOVCB1dgX7i2rcKb9NsNF8/QVRIElKoUCSiIiISI0lecaflyPWldEjyU6h8gSbUblg3l7hPqVxHBWx7k3gw0Q34htZVMLaHcrclwfsHbH+b2Xub7QYzddfkBXAhpB1E4CxdaxLo5iJ++JjNAkLKr6JAkkiIiIiVZHkQFJUj6T9wZbQm8p6wC+pvIHxQMS6sGF30jz2iFh3PdHBzlryI9ZVqzG9OGLdIcD2ZezrUFzC6DB3l7Gv0SSp119cLK4XVphKhlwmWTZiXSnT2LcAv2F0BZJagBkh6/5Rw2MejJtV8STgQJL92UpERERkxJL8YafY0Lb3l7CPc4EPjKAOd0WsOxWsEuA2t5kR6x4tcR9fqEZFCiyNWLd1lY4R1dPFA04vY1//GbFuGfBMGfsaTZJ6/cXpsYh1I3nWJ9HrhM9AtkUJ2/8I2K961WkIOxM+UccjNTjensDfgT8DFwLfB+4F7qP8npsiIiIiDSPJgaQnga6I9UUaSPYMYMEI63AH4d8KTwauHOH+JdneiFhXSu+Hk4CfVKku+Z6LWLcv1cl99gjRQzs/B7y3hP2cAHwoYv0V5VRqlEnq9RenhyPWfaZutaiPLOFfqIwF9onY9ns0XxCxFJ+OWFftHkmzcAGkoGHu+wN34oZcioiIiDSdBAeSzHqiZxs6HOw5w1+2bWAvAgLWlV2HpcANEQU+BPZXYCsYUmEngg3rgi/J8FTEuiMJH0bWAvwY9+10LTwfsW4rXALmkeoDfhCxPgPcDnwloszXgR8S3kNgE+73JMGSev3F6ZaIdfsRPYSyEb0Qse7buHOdbxxwFdH3ZbMyuPsiSC/wpyof71KiA0WzgO9U+ZgiIiIiiZDkWdsArgEOj1h/Bti9cd8KPoP7ZvAoqtul/Lz+fYY1hj8FfBjsxcBfgKfBvDa42o4DpuDyNuyF6zGyD7AjcCpwSRXrKtUV1ZDfAdeoPZXBZNEp4KPAd4Fda1ivqEASuAbOTrhr62VcUAhc4GEG8A5co3sdrq5hfgycCXSErE/hej58CXgQ11skhZttbC7Fp62/EFhVpEzcPk34+8+ZHrHufbj7P8wzhOejSsL1F+f7D/Iq8E/cNVzI4J7HF5axv6R7FvhgyLpDgXuA64DluN/JsTRfrqhS7Y8LpAf5C/BWFY9lKG14fbMNtxQRERFpBNaA/StYO8KlK2JdCb2y7HfLPN5asK+D7SlSbgTfGtvjI/b7o8r3m0gP4hLtBi2H1fC4B0QcN39Zj2vwdZZYPrcsG0Hdbi/xGL39x9kUsO7GEo7zb2W+p1KX+yl9avrlEfup9eyJSyOOXY3lfyKOnYTrL873H+bbEfuLGvpWrokRx3m6jP1EXb/F/v7shAsEj+R33BXy+vqQYx4eUv66kPJBZVeGlL07pPy+Eb+DUv0gZN8W+GIV9p9vZsSx8pdeEt3zW0RERKQyCf+AYywuz0fU7DXFbCB6Gu1SfAu4rYzy43E9P0bTbDnNaDFu1r9ixuJmMWsLWf+/VavRoP/ABYeKSeMaPe0VHudKSvsdlGMJbgjKSO7r0SDJ11+criZ85sI9aa4kx08D145g+7XAcVWqS5Klcb3RgnQDN1X5eK/jPlsU8yLRs2yKiIiINKSEB5IAzINUnvNlE/AJXLf2kdTBBz5J9RvUknyn4IaAVeqrwNeqVJd8L+ICnPVwHPCLKu3rEdwQlKhZGWVQUq+/OL0A3Byxvtny0nwbFwwp10bgI8AD1a1OIh0JTAtZdzXwZpWP5+NmZyvm7iofV0RERCQRGiCQBGB+CnyZ6FncCj0J7APmT7gP1COtwyYwRwHzqW6uBUm214GPAS+Vud1LuPwYF1OV6y/QJcBZhA9RqZYe4HjgZGBNhfvoxuWueTfRs8HJUEm+/uIUlVvu0zRXbpqXgANxweNSPQnsjQt2lNJzsZFNAi4KWedHrBupk3HDScO8CXyjRscWERERkdLZncEuAttHeH6gV8F+HWxBgtjQbSoIptmxYL8K9vGIeoQtS8H+DuxpYMMSg5ZSB+VIckstcyTl68Alls5G1MXiEiSfwdAExWNCyo4kR1K+abgZurqL1C1/WQWcXcGxJuB6Qj1f4nFexeUumV3RO3NGa46kfHFdf0l5/0Huj9jvs0DrCPYNyciRlG8C8CtccCTqfvsv3DnPCTv/zZIj6cqQfVrgNyPYbynej/udFx73GdykGiIiIiJNKWwmsoSzmwEfxs3Qsjlu6MdLuA/3fwbTF7FxtesyHXgPsA0wFTdDUQr3TeVGXI+CpbjZs54EU2mPDkmG8cAuuFmxdsXlp1nWvzyMG7oVl/G463BO3jIFlydlFa4n3QvAo1QniDUHd+1vibv2J+HyhqwEVuCG1DxahePIoCRff/X2TlyQOSwY802iZyVsVOOB3XCztL0dd88twQUv/szgLI2jwVxcr6ugzzKbcL+j52pchwm42RL3xCXX/gfwO6J7K4mIiIiIiIhIDKJ6o3TiAqvSnDLA44Sf/y/HVzURERERERERSaJpuN52YcGE23E9RKX5nEn0eW/QHtciIiIiIiIiUksfIToP0y9QUKHZHIEbwhd0vlcDs+KrmoiIiIiIiIgk3feIDiZdGl/VpMoOxc0kGXauPxtf1URERERERESkEWSInt3RAt+OrXZSLe/CJdEOO8e/jq9qIiIiIiIiItJINsPNShgVTDolttrJSO2Fm4Ey7Nw+hZulUkRERERERESkJNsBKwgPNvi4nErSWHYG3iD8vD4OzIitdiIiIiIiIiLSsPYE1hEccLgL6IivalKhWcBzBJ/TR3Gz94mIiIiIiIiIVGRv4E2GBhzuBcbEWSkZkS2AZxl6Th9Bw9lEREREREREpAp2Bl7FBRweAMbFWx2pgpnAM7hz+ndgcrzVEREREREREZFmMhu4HpgQd0WkajYHrgMmxl0RERERERERERERERERERERERERERERERERERERERERERERERERERERERERERERERERERERERERERERERERERERERERERERERERERERERERERERERERERERERERERERERERERERERERERERERERERERERERERERERERERERERERERERERERERERERERERERERERERERERERERERERERERGpExN3BURkVEgx/HnTF0dFREREREREREQk2e4EbMGyb6w1EhERERERkbJ5cVdAREREREREREQaQzruCoiINLA08E5gCvDHmOsio9tMYFre/33gsZjqIiIiIiIiIjIizTS0bTJwCvAHYB3uvdwYa41kNJsF/A/Qy9D7qzPOSomIiIhI81KPJBGR8uwOXBx3JWTUmwqcDnwZaIu5LiIiIiIyiiiQJCIi0jjG4XrEndr/b5GcaszEa6uwDxEREWlyCiSJiIgkXxvwn8CZuN5IIjmGwSBS4c98UUGi3LrC7cK2UcBJRERkFFMgSUREJLnSwHHAt3D5kETy5YJIpg9+kIIv4RKt+0AW6AG6gR7rfm4CNvru53pgrQ9rDazJwioLb2bhzU2w8g147cvw5l3uOLnAUWHAKT+gpOCSiIjIKKFAkoiISPIY4Ajgu8AOEeWWAy8CB9ajUpIouSCSB6T6wEu5f3t5ZdrzC+ekAv6d/4FwDG4KwL+4ANRrwMs+vGLhpT54vgeeeRGe2QM2MDzIpOCSiIhIk1MgSUREJHnagCtwswQGWQdcAFwCnIYCSaNRLpCUAjJ9kGqt/jFaDMwB5uQHnNqAdwA+vOLDY1l4pBv+9hL8dXdY1V/U9tcvN5OgiIiINAkFkkRERJKnE/gpsKDg9R7gx7ieSm/Wu1KSGLkORh79gaRuSI+pfyVmp9zyoRZgN7A+PNYHd3TBb8fDgwwGkoJ6LImIiEgDUiBJku6dwNy8/3cBPwkoNx74JHAYMBuXS8QHlgL/BH4BPFRhHbYBPlLw2i+BlQFlNwe+AOwHbAuMBR4D/tW/3AqsqbAehXYEPorribAZMAPowDUu3wSeBm4D7qziMQttARwC7IYbCTEd17BZA7yFe+9/A1oq3H/h+Qe4F/hHmfs5ENir4LU7gCcDys4APhOxr+1DXjupzDrdAzxS5jb5knD+pbZ+iJudLYVrfP8K+DpuKJtIfo+klr6hI9biYgzslnHLqT680AM/vBmu/JQLjiqYJCIiIiI19zWGfpvZU7C+A7icwQ+oUcsduEBPuT4asK/9CsrMAK7vr19UHZYAe1dQh3zzcEGpYu83t3QDP6Cy9x7EAz5bZh2Cln1LOFbh+be4YTzluiBgP58PKbvvCN5TOctXKngfEP/5l/q6ERcMLAyE5vsWw897Z+2rJjHKBZBagQnAzOVwnQWbxMWHJW/C+3BfYHoEzyonIiIiDUI9kqTRZHC9fDYA+wDXEtxDJMj7cQ3wgwjuiVKO/FQU83A9nqaXsN0c4D7gFFxvg3JMA67B9QAqRwvwZeB44N9wAa9K7QtcBew6gn1IZZJw/qX+jsc970SC5AIyZib8dztc3gJjM9DeCq2ToWU8ZMZBejK0TIHWCW5pmwQdE6FjLIwZD2PGwvixMKEDxo2BSe0wOZWXrHuElZwzBRa9AYdPg0UMzixnq7F/ERERqS8FkqQRTcQN6/kzbnKZckwD/oALiLwxgjrkAkmnAhdS3rerLbgeIg8Dfy1xm61xw5RKDZoF6QCu69/X2RVs/2lcwKxtBHWQyiTh/Es8FESSKLkeaD6Q7YTeTtcLEaB32fDeP0H/zv855G/ZDtD2Hpj2Npi2NUzfAmZOh5mTYNYY9+VJOX/7MlPgytNhp/OCZ3sTERGRBqFAkjSivXB5kgqDSCuAm4CngCm4nkJ7MfyD7tbANyg/p02+VuAE4KKAdbcB9wMv4AJeH2T4UDiA04GPl3Csqbi8QFsErFsP/BqX/2kZLsi2B7AnLr/QuIBt/ht4rn+7Un0alxcqqNHwCoM5oJ7EnZeZuN5Xh/b/u0M1XIQAACAASURBVJGsxgUbw0xl+Pl8DRcYLEepeW6ScP5FJHnyg0h9uKHVuSGNfbihb6ZggeGBo9DlWeh91gV9luRt54ELMn0K5uwP2+8IO86CXVthUlSFDUz/EnzgPPh9Xt0VSBIRERGRqgrKkbO+4P8bcEPFOgK23wEXYCrcxxpK780UlCPptwx+AM4tDzE8MTS4D92XBuzDB3Yp4fg3B2xrgd/hhvmF2QzXayto29W4pOSl2B431XjQeTi2yLYGF3R5JmD7pOZIKubggH3dWOG+ShH3+ZfkU46k0cnDfSHYjsuTNAMXwN8e2Bl4G/B23GQIu/cv78AFm/fAfdGyFy7ovA/umbwfcADub9mBwLtxw8Hfi8tx9AHc8Np5wIeAD+P+Rn4M+Ph/wsn3wA0b4LWwfEmvumf4eNwXMrlgl4iIiDQQ9UiSRpTfeF6K+xAbNvvVs7gZ1/7C0EDTBOBogmeAK0VhT6JfAscxPBk4uIDRSbgP47vlvW6A/wROjDjO0QyfMQ7gf3A9orIR276O+9B/Fq4HVr6JwBn9xy/maob3bPkHbmaz54psa3HD95bignpSniSc/7hsARxV42P8BBckFWlEuaBhH+7vSe7fGVyQKTesLWoIm5f3M/e6l/czaEnl/RyyXAHPXwEvtcCvn4RTt3VBqSG63fDudH9ds3l1FxERkQahQJI0sqdw35C+VqTcQ8A5uCE9+U6g8kBSvotx37AW+yD8U+Cygte2LrLN1wJeuwr499KqRhb4L9y30h8rWHcMbirxtyK2fy/Dh3F19+9raYl1kMrFff7jtBWuJ1kt/RoFkqSx5Xq39vb/zOK+0AgbzkbA64WBpaiAUlAQKZ23ZIBMD2Q2wtqgCncPlsvVM1cPBZNEREQahFe8iEgirQQOo3gQKScoH0yuu/9I/BT4KqV9AF4U8NqMiPIfxA1NyJdleECsFGcxvI4dwJFFtlsQ8NqVKIhUD0k4/yKSXPlDGbMM5knq7l+6cEMccz/zl015PzfmLRvylvX9y7q8ZU3Asrp/WYMLHm0AOj0X2BomOzQgpWFtIiIiDUiBJGlEnbjhbEvK2OY54PGA17cdQT1up7yhQW8GvBYVSDo84LWbKO995/yzf9tC747YZhIumJGvCzi3guNL+eI+/yKSfPkJq3M9kvoKlt6CpSdiyQ9C5ZaggFNhgGlt/7Kuf92mdMjQ277hw+4UTBIREWkwGtomjehC4MEKtruV4T08gmbCKsVzwBG4D+mlWov7YJ3Ke216RPn3BLxWODSuHD8HPlHw2rD8FXnexfAP+H8Elo+gDlK6uM9/3FbjrrdaUkJqaRa5nklQ/jCxsEBO4XC43M/CYXC5HkZpXKAqC5hUSCDJDh02pyCSiIhIA1IgSRrRhgq3CxoGV2kg6THKz61icbltWgpeTzH8A/d0gpNTP1TmMfO9FPDaLGAywXlyggIZQfuQ6kvC+Y/bk7gZoUSkPOXmGgoqHxSMKgz65Pco8nBfrNj+/7ekQoa2iYiISONTIElGk6ChZbPqXIerSiy3VcBrK3HDDCoVNiRqCsGBhB0DXntlBMeX0iXh/IvI6BUUXMp/LT/QZBgcXufhEmn3hQWS/OAE4CIiItJAlCNJRpOgQFKlPZJqbUrAayMN4mwg+HcwqY51kNIk4fyLiISxIYuft4iIiEiTUiBJRpOgoWgT6l6L0gQFEqoxU9rLAa+NCyk7OeA1BZLqIwnnX0SkFPmBpIH/m/KH2ImIiEiDUCBJRpPNAl5bXfdalCboA3g1GvxjAl5bH1K2I+C17irUQYpLwvkXESmXgkciIiKjgHIkyWgyJ+C1oKE+SRAU4ArKm1OuLQNeWxVS9jWG55CaVoU6SHFJOP9x2w5YUONjnI7yQ4mIiIiIlEWBJBlNZge8ltRGdFAgYTauF2GluScmE9wjJSyYtgzYu+C16RUeW8qThPMftxnAv9X4GGejQJKIiIiISFk0tE1Gk6BA0sN1r0VpgvLhZBhZcvCgHlkvAmvLqEOlPZKCAhiVGg0z/STh/IuIiIiIiAyjQJKMFhngnQGv/7neFSnRq7geQYX2GME+jwh47Z6I8kHHLxzqVoovAvtWsB3AxoDXplawn+0qPH6QvoDXxldx/5CM8y8iIiIiIjKMhrbJaPF5hgdBXupfkmoxwxv/ZwA3V7CvduBLAa9HBdKCesV8HDizjOPuBfygjPKFgmYZK7dXzmnAJ0ZQh0JB18yOVdx/TtznP27Lge/X+BhBMzmKiIiIiEgEBZJkNGghOPhxZb0rUqY/MjyQsB9wKHBrmfv6HMOnlF8F/G/ENg/iZuDJH0q2M7An8I8Sjrl5//5bS6/mMEsCXtumjO0/CZw/guMHWQZsYuisdrNxw/eCelBVKu7zH7eXgK/EXQkRERERERlKQ9tkNDiJ4fmRVgM/jKEu5bgBWBnw+ncoLzizK3BWwOv/P3v3HS9XWeB//HPSIEBCIIQikFCUooJYEFTWhoK97GLXVVfs4rpiwd9asKNiXRVd1rWgq0GxoVJEEBRQQVR6h1BCCCRAQuq9uc/vj2eGDJM55zxnyp2Zez/v1+u8ksw5T5lz7r0w3/uUbwBrCspdB/yuxeuvTWhzF+BcOt9prNWIpIOBRyaUfRbwfbq/plIArm16LSOOFuqmfj9/SZIkSdqEQZImss2ArwOfbXHuOAZ/Wss6WoddBxKnPaWMzHky8Efi6KBGS0ibNtSq/aOAfy0o83Di2jsPa3it3QWdVwB3tXj9QxQHRP8GnEqc0tUL17R47X3AE7rYxiA8f0mSJEl6EKe2aRgdRdyG/hfED9TN26FvR5x+dRytFyf+FfC5Xnawiz5DnJ71qKbXH0Pcce5o4qih5pE72xFHDn2STUevBOB1pG37fipx4eddG17LgP8lLjC9kI1Bz9bA+4H3EBc3r7uaGFp8I6G9Vr4KfLTptZcCmxO3h28ctfPw2rVHNF1/GbBfm+238mXitLPGMH46MbT5FjG8vJFNvza3IX5NPpY4PbDViK9G/X7+6q8ppK0xdmCL16YTg/QinwduqNopSZIkSRpk7yd+8M07VhFHh5xFXFPm1pLr/0EMPKp4QYt6TungPVW1L3FkTtH7WkYMFH5DfI/rC66tslg2xLAir64x4FLgitrfm88vJ45MelGLc6k7uc0ihh55fbgZ+D0xTGnVh18Sg5jm1/+t4n1o9pWCPgXiiKJrgIuIH9bvbTqfuv5Pv5+/+mcqxc+90+OQ8XsrmuAy4i8nZxLXY9t9ESwMEJqPi2LAPZ8YrG9O/Drv9hRkSZIkTWJlQVKV48fEBZGr6neQBHAAcRe1Tt7/KPDmNtrOgJ+20d5i4npGAIe3OJ8aJEEc5dTOe/4VcbH1BS3OdRokbUUMr9p9HlUWku7n81f/GCRpWBgkSZI0ibhGkiaD64HXE6cidXNXrfH0d2Io87M2y/+FuF7ON9soG4BXE6expbqAOH3rT7V/r22j3UafB95doZ71wDHEEHA9vVlU+n7g8cQpe6M9qL9RP5+/JEmSJElDo9WIpJuIo12KftO+BPgB8HLibzs7MQgjkhodSHxvS1v0q/FYBfycGKB167e9ryaGGnltXgi8gk3XXzuoxbVVRiTVPaLWxoac9lcD/wfs31RuVotrOx2R1Ghv4GTgdlpPr2s87gPOJ+4q145+Pn+NL0ckaVg4IkmSpEnExbY1jL5OXCx7LrAncdHnWcQ1ae4ifsButW18u37JYP1P7kXAq4h9OgB4KDAP2BZYCdxJDNr+QucjgZp9v3bsTwx1diGO+LmRuB7QtTnl/kx37uEVxJ3RZgL7EBfXXkBcQ+l24A+03o1vZZfaz3MNcQFwiB+MFgC7AzsSw62VteNWOv/a7Ofz1/jawGD97JEkSZIMkjTUltWOySoAf6sd4+3S2tEva+jfey+zlhgsXdPjdvr5/CVJkiRNUq6RJEmSJEmSpCQGSZIkSZIkSUpikCRJkiRJkqQkBkmSJEmSJElKYpAkSZIkSZKkJAZJkiRJkiRJSmKQJEmSJEmSpCQGSZIkSZIkSUpikCRJkiRJkqQk0/rdAanEpcC3WrwmSZIkSZLGmUGSBt1ptUOSJEmSJPWZU9skSZIkSZKUxCBJkiRJkiRJSQySJEmSJEmSlMQgSZIkSZIkSUkMkiRJkiRJkpTEIEmSJEmSJElJDJIkSZIkSZKUxCBJkiRJkiRJSQySJEmSJEmSlMQgSZIkSZIkSUkMkiRJkiRJkpTEIEmSJEmSJElJDJIkSZIkSZKUxCBJkiRJkiRJSQySJEmSJEmSlMQgSZIkSZIkSUkMkiRJkiRJkpTEIEmSJEmSJElJDJIkSZIkSZKUxCBJkiRJkiRJSQySJEmSJEmSlMQgSZIkSZIkSUkMkiRJkiRJkpTEIEmSJEmSJElJDJIkSZIkSZKUxCBJkiRJkiRJSQySJEmSJEmSlMQgSZIkSZIkSUkMkiRJkiRJkpTEIEmSJEmSJElJDJIkSZIkSZKUxCBJkiRJkiRJSQySJEmSJEmSlMQgSZIkSZIkSUkMkiRJkiRJkpTEIEmSJEmSJElJDJIkSZIkSZKUxCBJkiRJkiRJSQySJEmSJEmSlMQgSZIkSZIkSUkMkiRJkiRJkpTEIEmSJEmSJElJDJIkSZIkSZKUxCBJkiRJkiRJSQySJEmSJEmSlMQgSZIkSZIkSUkMkiRJkiRJkpTEIEmSJEmSJElJDJIkSZIkSZKUxCBJkiRJkiRJSQySJEmSJEmSlMQgSZIkSZIkSUkMkiRJkiRJkpTEIEmSJEmSJElJDJIkSZIkSZKUxCBJkiRJkiRJSQySJEmSJEmSlMQgSZIkSZIkSUkMkiRJkiRJkpTEIEmSJEmSJElJDJIkSZIkSZKUxCBJkiRJkiRJSQySJEmSJEmSlMQgSZIkSZIkSUkMkiRJkiRJkpTEIEmSJEmSJElJDJIkSZIkSZKUxCBJkiRJkiRJSQySJEmSJEmSlMQgSZIkSZIkSUkMkiRJkiRJkpTEIEmSJEmSJElJDJIkSZIkSZKUxCBJkiRJkiRJSQySJEmSJEmSlMQgSZIkSZIkSUkMkiRJkiRJkpTEIEmSJEmSJElJDJIkSZIkSZKUxCBJkiRJkiRJSQySJEmSJEmSlMQgSZIkSZIkSUkMkiRJkiRJkpTEIEmSJEmSJElJDJIkSZIkSZKUxCBJkiRJkiRJSab1uwOSJEnSZBbiL3e3BbYHNgeWAXdnsKqvHZMkqQWDJEmSJGkcBdgTeE7teDSwHTC1xXVrgL8CZ9eOCzIYGceuSj0XYGfgrQWX3JjB/45XfyRJkiRJvZURfzk5E5gL7L4IFgYIzcdF8ElgPrANceTN1Fr5CS9AFuDVAa5qdW8Sj5sDvDXAZv1+P1K3BDiw5Ov+nH73UdKDuUaSJEmS1EMBDgcuAU4C9umgqgXA14GbArygG32TJKkqgyRJkiSpBwJMCfBfwOnAAV2seifg5wGOCy2mxEmS1EsGSZIkSVKXBdgS+Dnwjh41kQHvB34aJsn0QEnSYDBIkiRJkroowFbA74Hnj0NzLwD+cxzakSQJMEiSJEmSuu3rwOPaKLeuzfY+GuDpbZaVJKkSgyRJkiSpSwK8DnhN4uWXA/+PuH7S1lncyW42cGCtjj8m1jMF+GGArSt2V5KkygySJEmSpC4I8DDgawmX3gO8CXhUBp/O4B8ZrADIYGUGF2fw/Qz+CXghcF1CnduTHmBJktQ2gyRJkiSpO44Btii5ZjFwSAYnZjBWVmEGvyQGSjcntP+mhGskSeqIQZIkSZLUoQA7AK8quWw18LQMrqxSdwZ3As8mjmQqsl+AJ1SpW5Kkqqb1uwOSJEnSBPB2YLOSa/4zg2vbqTyDqwN8Avh8yaVHAhe200ZdiAuFPxyYXzt2BUaApcBdxLWdzszi39ttYyowp+CS+zIYbbj+UcSg7qHEsjcA1wCnZHB3U90ZsG1B3SszWN+iT08FngjsRnzPq4kjyK4Afp7BkoS31pbxuOfjoXbvDwQOJ76PHYmDF24Hrifex7a+B9roy3zi+mMPaToyYii7vPbnncA5WXzOkiRJkqQey4i/nJwJzAV2XwQLA4Tm4yL4JPHD3TbEhaWn1soPtQBZgKWt3nPDcVPocDZAgO0CrGuq994AvwnwgQCHhPIwK6/u7QO8J8CVJe+jfowFuCjAG0Mbv5wOcfRUUf2Pr103I8D3C65bE+DEENeIqtc9p6TuVzVcOzXAOwJcVVJmQ4Aza4FWV4z3Pe+lANMDvDvA7Qnv46JaaFcve2DJ9edU7MuhAX4eYDTxvtaPRQFOCLCg+3dIkiRJklRnkASPSPiQ+rEutfW1ACcHOCrAAaHzcGpGgC8GWF/xQ3fjcV2Al1RstzRICrBZgN8mtL8uNIxuColBUoBdAvyh4nsdDXB8iF+7Q3XPeyXA40IcMVf1PXw7wMzQpSApwD4BrujgntaPlSF+fw39zyZJkiRJGkQGSfDmhA+ne/e7n80C7Bbgz1344F0/vpwasIS0IOnLie3+rKnu0iApwCMD3N3Be/1paGP0Vz/veS8EOKwWvLTb/3NDHEHUUZAUYPcAt3XxvoYAnx6PeyhJkiRJk03VIGkBDw6Shn7zlwDfK/lAWrZI9rgL8PQAy7v8wTsEOCOU71yXEiQdW6HNI5rqLguS/j3AjV14r6eGCkFov+95twV4UuhsVFX9WFxyvjBICrBzl55n6deWJEmSJKlzyUHSNfBN4kLGc4kffKcRg6ShHpUU4PqSD6O/73cfGwXYKcBdPfrgHQIsTOhDWZCUur7NfSGGko11lwVJnYygaT7eNSz3vJsCzA5x3a9evZ/GoyxI+kkP275svO6pNEwGapE2SZIkDb8xCK1e3wvetBaedA8svBp+9jS4rnYqsLFMc9mWdQ2YXUrOD8xuUCGGdt8DtkssMkLcMWxrYI/EMi8N8Pess6lBqdO1TslgbcW6t2rx2irgEuJ73Yu42PeshLqOC3BaFneQa2mI7nkVnyWGwmWWA38E/gTcS9zR7QnAPt3oRIgjHF9Uctky4P+IP2+WA/OIu8kdBjy6pOwjA+ycxV3nJEmSJEld0DgiaVtg93/Al1J+2z8GN6yH766Ft94Njz85fsCfRgwR6tPeGo+s4OiLAFskvNeP96t/zQK8N3EkxikBDgoN6wAFmBvgBQFuSCg/GgrCglA+IqnxGAtxTaJjQtzl7Hsh7lYXAhzaou6yEUmNx7oAbw1NwVWAKQGODLA2oY7/HoZ73i21Pq1J6M/pIf5MaFXH0SF91FnuiKQAnysp+6sQfzbllT+i9vVVVMfzu3HfJEmSJElRRvwQXg+Sdns3PGcMRip8mK8fI2Nw1Sj8Yj0cvxbecj88azHs2xAyNQZNeYFT2dG1ICrE9VnK3tf72q2/m0LcIeuehGDlnSX1bF0LPcre948K6kgNklaEODqoufycEIOlTdbYCulB0h2t6m6q6+AAd5bUs7ogMBmYe94tAd6X0I+vtno2TfU8I6T9nGgZJAWYGuCqgnLXh4IQqaGek0raf1u790qSJEmStKl6kLQ5cRHt+cD+5yaOSqp4LB+DK0fhnFE4eRS+vg4+vhaOXgNvWA1H3A+HrYAn3QWPuR32vhEWXAk7XQrbnAFbfhs2PxZmPHXTkU9tBUqJgchbune72xfg1Ql9PbJCfaeX1DUW4BE5ZVODpJe38T5Tg6TXJNb3hnaf8SDd824J8NeSPiwJiYt/J4Q4uUFSQx3bhxhKvTvAdwJcEuJIsjcm9uGNJe0fm1KPJEmSJClNPUjajLimy87Aw4EnLoTj1nd3YeNuHyNjcMlKeAoPDpSShbhz1bAESeeU9POyUGEr+QD7B9hQUueHc8qmBEk3hzZ29QtpQdKVqXUHmF7rS1F9J+WUHZh73g0hjrAqG0WUtAB5rb6Ur4PCICmn3mmp9zXAoSXtf6Zq+9JEN/TbrUqSJKnvQu3YAIwSFwte/zI444nwxvPh5HVxod1BMy2DR28Fp5wVF0JuZ2TSqoRrUhZt7qkQFyV+Ssll78/iM0ySwaXERaSLHJ5aXwvfy2Csg/JFPp1adxa/no8vuewJzS8M6T0v8xiKN2xaC3wjtbIs7op2VqedalHvaMp9DfAo4BUll21Wcl6adAySJEmS1IlQ+3OsdowA64A1wJqL4e5D4KTt4MjPwsf/AaffD3f0q7M55u4Hz6S9aW7LE65ptUvYeNuP4ve0IoPftFFv2bbzB4X2g7Tz2yyX4m8Vr/9zyfk9W7zPYbznZfYrOX9LG7voXdZuZ6oIcQH1R4Q4le07AW4D/g68oaRo3xbzlwZVUZosSZIkpaiPSKqPRlrLxvWHMiBkkE2pjQAJA/jBbHX8/+LpbHwvobjEA5YlXLN1u/3qorKt2m9ss94bSs5PBXYBrmqj7qvbKJNqUcXrb0m4Zi6wsuHfw3jPy2xTcr7qfQW4vZ2OlAlxlOGTgH8CDgYOALZso6pejYqThpZBkiRJkrohsHFE0gM7pD0PZn8aXrkXvHhG+YfQvhiDez4XR5xMI4ZhG6gFYGVlM1gVYD0wo+Cyh3Wlo50pCzXKwok8i4jPvWimwzzaCzWWtNWjcsuzBwc+KZZS/pznNP17GO95meb32KydIGlxOx1ppTad8DXERdq7teh48tRDabIwSJIkSVKnQsOfY8QwZv0VcMQ+8IkpgzEiZxMBNtwP1/8CPvV1WM2Dp7aljkiC+OG5KCx6ZAfdfJBQu5cZ3Fex6E4l59saHZPB+toUofkFl81ro+oVWZwi2Qt3Vi2QxUWXbwP2KLisOWQZtnueoux7OWWEXrOORyQF2BH4KvDPdH/EoyOSpCYGSZIkSeqWB6aF3Q1Hzu3ybkcjsGoV3LMK7r0fVq6CFSvjsfo+WLUCVt0Dq1fA2nth/XJYcy+MrISRFTC6HEbWw9gIjK6H0XUxqFhNHJ3SuC5S1Q+if6Q4SJofYE7WnQXHjwI+HOBs4GfAL7K0kTv3lJxP3jmshekl50fbqPP+djqSaIc2y5Utury+6d/Dds9TlNW7bRt1djTiJ8ChwMlttn0ncCXwtIJrDJKkJgZJkiRJ6pYMmHIO7DEXPlG1cIAN98GSZXDHErjjVlhyA9z1D1h6LixbGj+oh5yDkr83NMMY8cPrSO2oT2cbo9r6SHXnAa8vueb55GwRX9EriCHC4bXj6wEuJIZKP8vyR7mUTR8qGmmTK8BMykfeLG2j6pTd8Nq1bYAtswpt1LaS37HksuagcNjueYqycGy7NuosGllVKMA+wCmkj3q8hfj9egFxMffLgEMoDpKc2iY1MUiSJElSp+qjeaYAU/eHf6F8xAQr4c5FcPUVcN15cMNP4LZaWFQPdJr/DDn/LguXmv8MbAyS1taOeqDUTph0XsI1r6TDIKm2VfnDm16eQlxQ+EnA8QF+msX736wnoQawe8I17YQaa9ooU8WuVFvMewfKRxA1hyzDds9TlAVJ7UypW9BOR2p+SHmIdD7wXeDsrMW6VKH8uToiSWpikCRJkqRuyIgfyKZPKRhhsBxuuhDOOxEu+kWcVlIPhpqPxhFCzeeaw6T632Hjh76iMKlezygxuFpHDJMag6Qqb/zGANcAexdc9owA+2adLYD82oRrLs95vVehRlm51cCtbdTb61Eg86kWJO1ccn6ETdcHGrZ7nqJsGmU7o4vaGpEU4KnEndjyjABHZPDLkqpmlpw3SJKaGCRpIngO8Abib+nuAH4PHEdvh0TbviRJGz0wGgmYPpozGukP8JMnw4/YGBJtqB2jDX8fa/p73pE3Qgk2HZVEzrl62/XRSO2OSAL4AvDNgvPTgBMD/FNWvW5CnH5zVMKlP8p5/apYTe76T1uF+KH7JxW7Vjal7/fZpmsHpeh1kPRK4MwK1x9ccv7vLd7nsN3zFH8pOT8/wIEZXJRSWYg/N57aZl/KgtUPJIRIAFuWnDdIkqQJ5nhaD2W/ng7mW9u+JEnJ6iHSDGAWsNNi+EGIu1w96PhFDFqeR1zb52nEcORg4HHAo4H9iVt270NcvHpP4jSeBcSpSDsDDyGuVbMDsD1xKs084tosc2vHtsA2DcechmPr2jEb2ArYAticGH417tpWSYDNAyxp9b6bjuPaqHtegNsS6r64pJ7zSspfFxKmJDbUd3BCn96ZU3a/knJ/qnqfGuqek9CvkZA2RYwA0wLcVFLfV3LKDsw975YAS0va/2KFul6a8H7OySl7fkm5hyb24ZiSeo5NfT+SpMH3XFqHKPWjym+ZbF+SpPbUp7RtRgxqdr0NftjqA9mv4WvA04EnAI8BHkkMjfYEdmNjWLQjMSSqh0P1MKgeAM0ihkBb1o4tasfMhmPzFsdmDceM2tEcILW9dXiA/5fwoTgE+K8Q206pc0GAPyTW+4KSuo5MqOM/Evs1NaFfq0POotChPEi6MKUfOXWnBEkhwH8n1vfqhLparUs1UPe8WwL8uKQPy0LxNM96PVmAyxLuT16QdGtJudSg8E8l9Xy66j2SJA2u0ygOUgIJ/xGzfUmSOlIPkjYnBj4LboEftfpAdhZ8CTiIGCDtSQyOdiSOKNqWGBbVg6J6QFQPhRoDoOlNx7SGY2riMaXh6ChAqgswM8CliSHGtQFeFHICpQAzQgymViXWVzqVKMDWAdaU1LMhwMdCvC959ewY4OyEPn2+oI5BCJLGAhwbCp59gIMC3FFSzx0hZ1TRIN3zbgnwzIR+3B7iqMK8OmYE+Hbic8oLki4uKfeGhPfyioT2v9DJ/ZIkDZb6Ap1Fx8ttX5KknqoHSTOJYdBui2Bhqw9k58Yp2fsRRx/tSAye6qFRPTBqDIpahUNTco6szaOrAuwdYGXiB+QQ4N4ApwT4YoAPBfhWiCMkqtQxGuI0wZT+fSWxzrMDPCfUduEKcfTIXgFeH8qDlRBgRSjYwSsMRpBUP34aYrDZWMcWAd4cYG1C+cKpT4NyJo8QwgAAIABJREFUz7spwFUJ/bktwAtCDIcby+4VyqelpQRJJ5aUuzsULJIe4DUB1ie0f0K3758kqX+ugdIg5Vm2L0lST2XEsKceJO2eFyRdGNcH2osYIm1NHHHUOL2sVVDU8/Cn20LaKIduHh+s0LfNAlxSsf5FAe6pcP1YyJnq1dCPQQqS6sedAU6t3Z+RCmW2G4Z73k0BjqjQt9EAfwnwswCL23gueUHS2xLK3hXgdSGuqUaAhwR4YSifztZ4pCzYLUkaEt+CwhBlHXFdBduXJKl3GoOkuRQESX+BTxHXLdmOOAppBpuuTzTwQVGKAEeFOGWpnUCjynFqKJgSldO3PQPc18M+fTyhD4MYJLVzPG9Y7nm3BfhuF/t/d8G5vCBpzxDXhEptI2V0WavjH+N9byVJvbMzcA/kBikfsH1JknquapC0G3Hk0sxauUohyDAJceRD6hpH7Rw/DBV2/Grq23NDnArV7T59JSQ809DfIGl5gL924b1WWo+o3/e82wLMDmmLZZcdnwnw/YLzLYOkWh/e0aV7eG/BuZFQMupMkjRcDmLTKV7riXPVp9q+JEk9lxwkXQSfBBYQ10banPjfqgkxAilPgAMDXNnl4GB9gE90Gh4E2D2k7whXdowEeGuFtvsZJN0WYghyXgfv97g2+9a3e94LAeaGOG2t3ffw3RDXgmorSKr14bQO2h8N8K4Q16Equu5t43VPJUnjY3PgGcDRwCuJ/4Nq+5IkjY+qQdJ8JlGQBBDitu1vCmkLJpcd54W46123+jYlwAcC3N9Bn84JcGDFdvsaJNWumxni4uZV3uu9Ad7Sbt9q7fblnvdKgFkBvlOx/ysDvLmhjk6CpG0C/E+I60RV6cO1AQ6t1TE3FK+LdX6v76MkSZIkTRYGSYkCbBlioHRqqDblbVmAEwI8psd9e3WAM0Pa2k73B/hlaHNjjzAAQVLD9c8I5VPdVtTCih3b7VeLfo7rPe+1AE8O8PuS91K/j3s0lW07SGqo4/EBLkq4j9eEOCVuelP535aU272b90saZpPmP9ySJEnqiYwYCE0n7sI2exEcNx9e2nzhxfCpA+GbwEpgDTACjAFhHPs7EEIM0p4KPJS4o9QOxK3b1xLXQLwXuAr4C3BtNo73KMBOwKOBXYnB367ABmApcCdwOXBuFjf2GDgB5hDvYZ7bM9ilRbm9gecQ3++OwArgduBS4IwsPpueGPZ73ijAQ4iLkO9GXNNzBLgZuBr4TQare9h2Rgyp9q4dexEX9l8C3Ar8Nov9kCRJkiT1iSOSNFCqjkiSJFUzYXfJkCRJkiRJUncZJEmSJEmSJCmJQZIkSZIkSZKSGCRJkiRJkiQpiUGSJEmSJEmSkhgkSZIkSZIkKYlBkiRJkiRJkpIYJEmSJEmSJCmJQZIkSZIkSZKSTOt3ByRJkiSpi9YA/1Fw/v7x6ogkTUQGSZIkSZImjAzWAV/qdz8kaaJyapskSZIkSZKSGCRJkiRJkiQpiUGSJEmSJEmSkhgkSZIkSZIkKYlBkiRJkiRJkpIYJEmSJEmSJCmJQZIkSZIkSZKSGCRJkiRJkiQpiUGSJEmSJEmSkhgkSZIkSZIkKYlBkiRJkiRJkpIYJEmSJEmSJCmJQZIkSZIkSZKSGCRJkiRJkiQpiUGSJEmSJEmSkkzrdwckSZKkYRfgtcDDxrHJGzL49ji2px4JsCvwcGA5cH0G95Rcfyiwfe2fYxks7HEXJUmSJEnqmoz4y8mZwFxg90WwMEBoPi6CTwLzgW2AzYGptfJDL8AZrd5zD4+z+v2e1ZkABwW4tum5jgY4PcALQ/z+aC6zTYDVDdcv7kffJU1uTm2TJEmSpHFUG1X0RzYdxTYVOBz4OXBjgI8H2DfAlADziGHszIbrbx2XDktSA6e2SZIkSdI4CfGX+V+k/LPYfOCDtWNN7frpTdcYJEkadwZJkiRJkjR+ng7sV7HMzJzXT+mwL5JUmUGSJEmSJI2f5uls9wM/Am4hBkyHA7MT6rkOOLm7XZOkcgZJkiRJkjR+9mz69+sz+En9HwE2Aw4DXgW8kLgwfbObgJdlsKFnvZSkHAZJkiRJUu9dQXenId3Yxbo0vlYDNzf8+4+NJzNYB5wKnBpgDvAi4EnAzsC9wEXAdzK4Z3y6K0mSJElS92TEX07OBOYCuy+Cha22rL8o7jg1H9iGOMpiaq380AtwRqv33HD8qN99lCSpG6b0uwOSJEmSJEkaDgZJkiRJkiRJSuIaSZIkSdIEEuIUw9zTGSyvUNeWtF7suW5lBusLym9D/i+vV2ewpkWZucCLgb2BXYj/XgbcAfwZOC2DFWnvIF2Ii2A/k7ir2rzasZ64m9qihj//msFoF9udDxwAPKTpyIjrIC2v/XkncE4W19vqiQCPAx5O7NN8YFdgBFgK3AVcDpyZxb9LkiRJklSZayQxOGskBchK+rGyYn0nltT3ipLytxWU/UjTtY8J8LMA60raXBfgBwEWtHOPmtrcIsAxAa4vabPxuDnAOwNs0WHbhwb4eYDRCm2HAIsCnNCN91/rx/YB3hPgysT2xwJcFOCNwYEJkiRJkqSKDJIwSCooXxokBZge4NgAIxUDlTUBXt/BvToywJKKbTYedwf4QKj4NRxgnwBXdNDuA88ywFFV22/ox4wAXwywvoM+XBfgJe20L2l4uUaSJEmSpL4IsBlwGjFUqjq6ZXPgWwH+tWKb0wJ8HTgR2KFim43mAp8CvlCh7d2Bs4jTxzq1FfCVWh8qCbAb8AfgXcD0DvrwUODkAF8OMRiWNAkYJEmSJEnqh2nAycChHdSRAZ+pBVKlQvz881PgrR202exdAT6c0PbOwO+If3bTMQGOSL04wNOBS4DHd7EP7wR+Ezqc7idpOBgkSZIkSeqHdwIv6EI9OwKvS7z2g8Dzu9Bms48GeEPJNV8mjkjqhY+UXwIBdgIWEqeXdtthwLd7UK+kAePiaJIkSVLvPTHE0TedCBm8rCu9GQyzW7x2OvAn4g5pjwWeQ1r48p4AJ2YwlndBgCeTFriMEHdG+xtxd7iHAU8E5pSU+1iA72WxfHPbC4AXlZRfBvwfcB1xp7Z5xJDsMODRJWUfGWDnDG7Pu6C2ltL3gO1K6qobIe7StjWwR2KZlwb4ewafTrxekiRJkjTJuNg2SYttd+PYkNCPYVpsu/G4JMABOXW8IrGOfUv6cm5CHb8K8eu4uey2Ab6aUP7VOW1/LqHdmQV9PyLE3dKK6igcaRXgvYn38ZQAB4WG6YIB5gZ4QYAbEsqPBtinqC+SJEmSpMnLIAmDpILyKUHSn0PJaJ/EECd3mlyAxyeU/0Qo+XoM8J2SOv7aoszUAFcVlLk+FIRIDfWcVNL22wrKzgxwT0n5dSFONyzqw9YhBk1l93JcdimU1B+ukSRJkiSpXwJwZAb3llx3NLC05JpdCs7lhiw1twAfzWJ/irwDWFNwft8A+ze+kMGGLI6W2gF4JvG9fJc4dW4d8JmsuM6680rOb19w7l8on5r39izuApcrg/uyWNcZJXW9NMAjSq6RNKRcI0mSJElSv/wmg8vKLsriaJm/AM8ruKxox7CnljTx2VZrG7Xox/0BzgReSAyf/gFc2nBcl+WMHMtiEHZW7QAgxM9jZeFV3Y0l54tGNZUtBH451RbKfh8xFMsbmJARA6crKtQpaUgYJEmSJEnql79UuPaWkvMtg5QAuxIXu84zBvxvhX68BXhdwiiqUhmMplwX4FGUTCOkYU2jprILgKeUlH1/XgDWSgaXhrhwd9FueYcDH0utU9LwMEiSJEmS1C9VRqzcU3K+ZZACHFRSbmni1DIAMliSem07Qhzlsy9xp7gnAc8Adk7rWkv7FZwDWJHBbyp1MlpIcZB0UIBZWcV1uSQNPoMkSZIkqff+BHy1wzpSp0ANk0UVrr2/5HxeWLJDSbnbK/Sh6wJsRwyM/gk4mLh73ZZtVDWW8/puJeXKpszluaHk/FTiulVXtVm/pAFlkCRJkiT13qIMftDvTrRhao/rX13h2qRpYC1sW3L+tjbrbVttutlrgJfTvUWp86amlQVJZYFQnkXE8KpoA6d5GCRJE45BkiRJkjR5VN21uddBUvKUMtoPkrYpOb+8zXorC7AjcWTaP1M83awdeSOSdiop19aIpAzWhxjCzS+4bF47dUsabFX/QyJJkiRpeFX9//9e/+K5SpDUq6l92/Wo3gcJcChxTah/oXqIdCdwTsk1eUFS2dpSnYSF00vOtxv+SRpgjkiSJEmSJo+qoUE7a/VUsa7H9UP5iKOyETsdC7APcAqwdWKRW4DzgAuA84HLgEOApxWUyZvatrikrT0S+/QgIe6SV3bvlrZTt6TBZpAkSZIkTR7TA0ytsNX7rJ72ZnwWEC8Lkh4yDn34IeUh0vnAd4GzsxbrFoXyEDBvRFJPgiRg94RrDJKkCcggSZIkSZpcZlK+A1rdRFjjZknJ+e0DTMnyg5gHCTAbeD1wOXBFVlJ/gKcSd2LLMwIckcEvS5qeWXJ+vIOksnKrgVvbrFvSADNIkiRJkiaIDEKAtcDmBZdtQ3qQVLSQ8rD4U8n5acT1i36bWN+zgS/V/xFgGXHto8trf/4pg0sarn9tSX0fSAiRoHyaYV6QdFXsZu66TFuFGGT9JKEPjV5fcv73GayvWKekIeBi25IkSdLE0pU1gQLsS/qaPgMriyNyynYmO7pClc9v+vdc4MnA24CvERfTbrRXSX2/SGz3oSXnWwZFWRwV9MeSsp8O5QtnPyDAwcSd54qckVqfpOFikCRJkiRNLGVB0iGJ9Xyg044MkN+VnD88wCPLKglxOteLSi77btO/y0Z1pa5XVdbuZgXnvldS9qHAO1I6UVur6XMll60BfpxSn6ThY5AkSZIkTSx3l5w/NpSsbxPgFcCru9elvvtqwjU/D7B/3skQp8CdRPEUswsyuLbptTtL2n16Wcdqz+OgksuKgqQfE6c8Fjk+wMdCwWfEADsSpwCWhZEnZHBHyTWShpRBkiRJkjSxXFhyfhbw/QBbNZ8IsGWADwM/IH9NnaGTwaXAmSWX7QlcGOCoAHuH2vsPcae7w4C/AU8sqePbLV77W0mZzwTYOe9kgNew6SinVnIX487gPuDEkvJTgA8BZwV4TqgttB4gC7BXiGsi/Q14Wkk9K4HjEvoraUi52LYkSZI0sZxO+bS0JwCLQtyW/npgBnEtnxcR1/yZiP4fcQe1GQXXbAF8pfb3FSFuX78baZ+b7gRObvF6WZA0F/h7gPcCp2VwZ4CHAAcSn2PZSKS63DCq5r3EkUSPLrnuabWDALcQd6mbk9iHALw+g7sSr5c0hAySJEmSpInlAuIH+Xkl120LvL3kmtuAXbrRqX7L4K8B3kfDjmslZteOFGuAF2awosW5M2rnc0cMAdtRG80UYB3F09TyLCg6mcG6AC8h7iiX+r6q7tr3yQxOqVhG0pBxapskSZI0gWQwCryzC1UtY9MdyoZaBl+mfOHpqgLw2gz+nNPmDcQAK1VRiHRfwbmHhxhI5ar15ZXE6Wfd9l/AR3pQr6QBY5AkSZIkTTAZ/IjOds1aTgyRmheOngheB3yyi/V9MCu511lc7Pv0DtrYAPxH7cgzDXhpWUUZ/Bp4FPDHDvrTaBR4WwbvzGCsS3VKGmAGSZIkSdLE9Args8QRM1X8GnhkVr5o91DKIGTwQeAI4MYOqjoXeEoGn0q8/pXAt6j+PK4DDs/ilLxfEoObPK9KqTCDm4CnENeNWlWxP41+DzwxgxM6qEPSkDFIkiRJkiagDDZk8H7gWcTRMEWjRcaIu5odkcHzJsPW7bW1fPYhrhP1V9IDnguAZ2Tw1AzOq9DePRkcCRwMXJxQ5FrgKOARGfyuVscyYniT54kBdk/sz1gGnwZ2IO4M91vSRhStAk4Fnp3B0zK4KKU9SRPHhNnSU5IkSX2RAVOB6cQdr2YvguPmt5hiczF86kD4JnF9ljXACPGDa9URGmpDgF2J29jPrx0BWFQ7zsriwtqTVm27+5cBzwWeTPx6hhicnAP8H3B6Bvd0oa0M2APYu3bsBWwJLAFuBX6bwdWdttNGv3Yi7uq2K/FrZFfitLqlxF3pLgfOzeKC4JIkSZIkVZYR12aZSdzGfPdFsDBAaD4uiuvSzAe2ATYnBlD+YlMDIcDJrb5uG44NAU4KMQCSpEnLqW2SJEmSJrUQw9BnlVw2BXg1cGGAXXrfK0kaTNP63QFJkiRJ6rNHAFcA19SOxcCOxJ3rntR07fbAT4hrHUnSpGOQJEmSJGlSy+AfwBNanPpMiAtSH9P0+kEB5mdwS+97J0mDxaltkiRJkpTvKzmvP3ZceyFJA8IgSZIkSZLyPTTndUcjSZqUDJIkSZIkqUmALMCzgZNanF5NnA4nSZOOayRJkiRJmnQCbEVcWPu+hmMFMEJcaPuhwPyc4u/OYHQ8+ilJg8YgSZIkSdJk9ZDakWoM+HQG3+xRfyRp4BkkSZIkSVKxEeD7wGeyOIpJkiYtgyRJkiRJk9E64CPAw4hT2LYAZhI/Iy0mLqZdP87MXFxbkgCDJEmSJEmTUBZHGX2s3/2QpGHjrm2SJEmSJElKYpAkSZIkSZKkJAZJkiRJkiRJSmKQJEmSJEmSpCQGSZIkSZIkSUpikCRJkiRJkqQkBkmSJEmSJElKYpAkSZIkSZKkJAZJkiRJkiRJSmKQJEmSJEmSpCQGSZIkSZIkSUpikCRJkiRJkqQkBkmSJEmSJElKYpAkSZIkSZKkJNP63QFJktQzU4Es59zoeHZEkiRJE4NBkiRJE9etwE4556YCY+PYF0mSJE0ATm2TJEmSJElSEoMkaaiFKRAeC+F9EE6H8K5+90iSxskU4LHA+4DTAX/+SZIkjQOntklDJ+wGPBc4FHgqsE3DyT/0pUuSND78+SdJktRnBknS8DkGeHO/OyFJfeDPP0mSpD5zapskSZIkSZKSGCRJkiRJkiQpiUGSJEmSJEmSkhgkSZIkSZIkKYlBkiRJkiRJkpK4a5smoLA5cYvo+cA84FrgMsjW9qi9HWtt7Ujcivoe4C7gZsju6E2byjfez/9BbW9Ta3sBMB24FLgOsrHetz0QGt//VsBi4GbgxnHsQ87zpxfPfxrwUGAHYHtgJrAcuJv4vpf0oM1mU2ptz60dGXAvcBuwbBzan8wG4flLkiSNO4MkDYHwS2C7Fic+CdmvG657DPBW4BXAlk3XjkK4EjgVOBay0Q77tCvwOuDFwKMLrrsMOA04HrK7Eut+GvDJggv2KDj3JgjPTWuHsyH7YEE/dgB+lnPySsiOTGsm/I74AavZasiekVC+T88/bAWc2eLEfZA9u+G6DHgu8DbgcDYd6bmq9nXwJcgWlrc7MArePw3vn7L3DzHI+S7wVWBdxX4UPH8anj8lz5+G508n3//TgZcBzwcOA+YUXHsVcBbwv8DfO2iz2Xzi+3wycAgwO+e622h971KUfP+T+P1Pwfc/rb7/O/z5R4WffxT8/Ms1CM9fkiRJUrGwGEJocbyzdn4ahONzrml1nFcbRdROX2ZCOBbC6grtBQhLIfxLYhtHVKy73ePHJf2YX1D2LxXu2aqcOlYmlu/T8w9zcsqvbrhmHoQzKrT9zfg1NBTmAKHF0fD+mQeckXNdq+NyCoPXlhbn1FV7/kwDjq/Qh/OIoweryoCXA9dXaKt+jAGnAHu10W6jfYGTgJE2+tDqKJrePr+gXIXvf1bl1JH3/X9El95b2VHy828Tg/D8B1lG/F6cSRwZt/siWNjqh+BFMSicTxzBuDkwtVZekiRJ6pbcIOHD8UN5ODfnfNGxGMI+FfuxM4Qr2mir8fghhLkl7RgkPbh8n55/bpA0BiGDsD+E29to+2IIwzAaNC9IGiN+6NsfuD3nmqLjPuCACv3IC5I+TPzQem4bfVgMVPn+nwn8tI12mo97iaO22vFGYE0X+tB4GCSlGYTnP+gMkiRJmkRcbFvDbA7wP8TpHVXtBHwk/fKwB/AH4OFttNXo5cAlEGZ1WI/G9fk/SAY8AjgdeEgb5R9LnBY5rDp9/7OJ0z3bnXJVN17Pfy7we+I01k5tTZyO95KK5b4B/DfxQ7fG1yA8f0mSJEnV5I5IuTvn9dRjFMJuCe3PgHBpQn2LIfyNtGlvnytozxFJDy7fp+efOyIpQLitw7ZvgbBZ+j3si7wRSYG49k7eudQjNcjJG5F0d4ftjxIX5S6SEUOvTt9r87GCuEhzimN60H79cERSsUF4/sPCEUmSJE0iwzC9QsrTaopYIC6oewGwBXHh1cfmlJ8KvJuNa63k+TiwX8659cBHgRM3LqYdpgCPA04gLgDcyr9D+BZkV7c4dxNxpEWeQ8iflnMx6Yu6Xpx43aAar+ffys4tXlsHXEhcB2gB8HQ2XfS5blfgX4ET22h7EJS9/32Bg8l//wBvBz5D+7upjcfzfw/wrIS+3F1rc5T4PV8WUM0Cvk+8R0UOo3jhaYClwG9r7V9E/O/6PGBv4sLVhxHf67AYpJ9//X7+kiRJktqTOyKl+bgcwuObys6A8LOCMveUtP0wCBtyyt4N4VEFZadB+EFB279t8358o6DO/2yvzpbtDPqIpB4//8IRSc3HeRCaFtINj6B4DaWvpd/DvigakdR8nMemCwnPIn64Lir3poR+5I1Iaj4uB5qePzOIO4/llSn6/t+OuLB4UZsLiYFNs22Ji2KX9fnpBe1nxN3uispfQNx2vkjR/RvEEUllvlHQry7+/Ov78x82jkiSJEnSIEkKEv5K7iLWYTfiAsl5ZbcoaPsrBeVem9D37SAsL6jjiW3cD4OkcXn+yUHSQgg5Iz7COwrKnZb2/vsmNUhaSP6Il9nAFQVlr6L8A2RKkPRXWo9Qgjg6ZKygbN73/7ElbX6D8nUGjy6p41cFZV9SUvZkIGV6pEFSe/r9/IeNQZIkSZIGSWmQcG380F9YxwUF5XfPKTMbwsqcMn+s0P8PFrT9ofR6HqjPIGl8nn9KkPRzCndgCzsUlL0m7f33TUqQ9HPKp0i/vaSOfUvKlwVJ19b6WqRoZFSr5z8NuKugzOkl7TU6s6CeDcSwrWqfVxA/hKcwSKpuEJ7/sDFIkiRpEnHXNg27tcBLILu35LqbC87tkPP604Ctcs6dWtaxBkVrdrSz45Q26uXzL3M58GrIRguuWUpcR6uVhIXeB1rt/VP0/iGOnCm6Zn4Hfag9f7r9/B9L8a5yXy5pr9HxBeem0HqdnDlsOk2v0QkUT8tTZ/r9/CVJkgaaQZKG3bsh+0fCdfcVnNsx5/V/KihzfkKbddcVnFtQoR5tqpfPv8j9wIshu7/4siwAy3NOziAuzD6Mau+fkvcPxJEdRSNYOgmS3g304vk/teD6G6g+IqVo9NkhOe3nTRdcB3yhQvuqrt/PX5IkaaC5a5uGXeoUs5OAS3POXZXzetH/4P8bhFcmtj294FzRb71VrpfPv8jtkF2feG1oo/5BdzuQ+v4hTq/K00mQ1KvnX7R22W+o/kwvp/WizAAPa/FaUYh9LXBnxfZVTb+fvyRJ0kAzSNIkkV1AXHOkij0Kzr2+g8402rpL9ahQW89f3XNXwblOgqRUVZ//TgXnbmuj/aIyrdY6KholVzRNT93R7+cvSZI00IZ1WoXUYyEjbuHca2Xry0gTwdKCc+MRJFWVtwMctBck3F5wrtXPmaKRigZJvdfv5y9JkjTQDJKk1maTv0ZJN60ZhzakfltVcG7LcetFuqIP90vaqK8oSNuixWtFQYZBUu/1+/lLkiQNNIMkqbXNxqmdokWApYlil4Jzy8atF+nydtqD4pCnnTKtdpwr2grd/273Xr+fvyRJ0kBzjSSptaKttUeAI7vUjkGSJoPdC87dPW69SHcPsH3OuV3bqK9qkHYr8Jic6+e10b6q6ffzlyRJGmgGSVJL2QiElcCsFienA7+DrGjdC0kb7VZwblCDpDztrOlUFD60mvZ0S8H17vTYe/1+/pIkSQPNIfJSvqK1MPYbt14MtfAQYvCmyWsrYM+C8xeNV0cquLXg3F4V65oCHFhwvtX7X1RwfZURSXNpHYaPl2H9/u/38x9GWdOfkiRpAjNIkvJdWHAub9rJeBgrOLdVF9vZUHBudnnxMAM4heH8IKnueQvFCwr/brw6UsEFBecOBx5Woa5nAQsKzp/b4rWiEUlPIG008RTgh7T/M6HD73969f0/Hj//+v38h01jiJQBU2bD1M3ckU6SpAnLIEnK9/uCc0dD2GncevJgRdtPF61FU9US4npQreycUP7rwMHd646G0ObA0QXnLwPuHKe+VHF+wbkpwDEV6nprwbnbgWtavF42te0ZCe1+GnhmwnV5BvX7fzx+/vX7+Q+qrOmY0nBMBaZeAvvfBe+7C87eIefrNBSHgZIkSVI3hMUQQs7RwylmYRcIowVt/6p3bRf26yUFfboJQhfXPgvXF7T1+IJyXygoVz9WJvahX89/TkG7V1eop6j/gxzmzwFCzpH6/j9eUEcAjkqoY3FB+V49/2nAHQXtrgeenlDP24gfmvPq+c+ccrOANQXlflzS7gcKyjYeZV9/1xeULfj+5wsJbSd+/2/iJQV13kR31n7s9/Mfb80BUV5Y9EBgBEz7A2xzDzx5Lbx7BH48BkvKfugHCKfC24lrTc0hhs1TcUqcJEmSuqtfQQJA+H7J/xMvhNDGLj5hDoQd2uzTo0v69I726m3Z1hkF7ZxGnL7WeP0sCN9K+CwRMEgKTNwgaTpwYkH5QBxZsllCP/oRJEH8kF/U/1HgPzoov4ribeF/XFL+Uy3KbA4cX1Ku8Sj7+jujoOxpxOlrjWYB30psu90g6dEl9Xbr51+/n387ykKgomNq0zGNWlh0JzxqBbxgLRy1Hr4yCqePwY0BxlJ+0Dce62HZPvBY4gLkBkmSJA0p/8OtIRAWA3nTyPaH7LIetv1I4FKKv1dWA58HzgGuhuyOhvKziB8WdiBvSUKSAAAgAElEQVT+z/NBxN/k7w0cDdkX2+jTLGBFwQVjwAnAF4FFkI3Wym1V68cBxCknKyD7eElb/0XxB7M/Az8gftg/AHgt6dtj3w9ZwkLA/Xr+YQ75uzddA9k+ifUU9X8qZIM6zaPo/d8HHEec/nkdsJz4YfRRwBOBVxLX8ilyJDF0KFPy/OnV9/9c4hSzovWdIIZqfwb+SvxA/KTaUTb19aPAsQXnXwD8oqSOs4CzidOj9iPe9yqLQU+leJpRj7//21oIvOLPP2o//2jx84+in3/9fv5V1IMjjoUpD68FQ/Ng6vYwYypsvhnM2AxmToctNoMtpsCWU2DrKbA1sHUG20yN73m7KXH65E5ZfA9dW3cvwOj34JjXwenAvcSvgbXEZ1QfuSVJkiR1Qz9HJAGEj1f8pet9EJbEX74WXlf02+yyPp2Z2JcRCLdDWN3iXNn0GCDsQ/H0vpRjbc7rjkga3hFJrUZnrK1w/bcr9KNfI5IA3ljQdifH+cTQoUgG/KkLbRU9l7Kvv32Iz7YX7bc7IgngzMS2R4jrEK1ucS7h519fn3+q+sijqaNwQqsfMoNwrIIln4N3E0O8fYgh1SziqLYp+ItNSZKGyiB/iJEGxUeIUzxSzSb+5ruXu5W9hfjhqMw04hbcM9trJrsa+H57ZYE4cuV1HZTXcJhK2jQ1gPOAN/ewL910InHns266GXgFxbuiQQwc/j3huiL3E0cptWtQv//H6edfX59/isYpbNNGB/D/6e6HO34N33oYvPm9cdTWOuIaU82jkEJeHZIkafAM3P90SIMnGwP+me5/oOhAdiMx4BoPHyX+z39Vq4DnAxd2tzsaYicAhxE/SA6L1wHf6VJdfyNO+Svala3Rn4mhSTtWAy8mTrntxCB+/4/nz79+Pv8y9SBpKjB9tHujnDoR7oWb/gI/+wAcMwve+jz46eI4lXANcYTaOuJosQ1sHKUlSZKGSBd3d5Imsmw18EoIFxLXtdi2zx2CuAbIlsTt1dtZayRRdhOEQ4CFwB6Jha4EjoDsKgjzetc3DYkrgQ8Dp/S7I21YD7we+Dvxe39OG3WsA74CfIw4SqiK/yFO//k8cWHiFFcCLwWuYNMFsau6CWjz+5+rgF59/4/Tz7++P/889alg9YWyZ6yDaVt2qfJUq2Hp3bBoEdx4CVz3Pbjmkvgex4hB0QgxPFpDDBdXszFIGqN4jS5JkiSpXf1eI2mT/mwF4T0QLm9jqYjbIPwCwnsh7Nal/syD8CUI6yr0YxmET1ZsZ2viLnVjBfXeCuFDEBo+z4Qtc651jaSJs0ZSq+MuYnD0PDpb/6SfayQ125o4Eub6gj41HrcCXyVudd6pfYk7pRWtWXQrcbew5gWi88pU+frbmhgmFW1nfyvwIWLAU7dlzrWdrJHUaB7wJWI4kfq1uQyo+PMP6O/zb1YfiTSDGKTtcCecVPU/SGXHGKxfBUuWwGVXw9l/gB+eBF84Go7eC14OvAh4IXFx+OcBzwEOBw4FnkxcE+kA4rpI84nPaxZxKuxUHBkvSdJQcnFDqSNhe+ApxN/Ub0fc9WYqG3/7uoS4zfki4ErI7u1hX2bX+rGg4ZhLXKdkGXFnrRuASyG7vcN29id+ONiP+Nvnm4k7R529cZc4DbmiXduuJU5RO4C4Bs02xNEHy2rHNcTRKKH33eybBcTv/V2J3/vbEL8XlgJ3Eqd0XdqDdnckfmDfjbhg8QriqKGriTu49fr7r+T7v+ftF/Ur8ecfHfz8e0C/nn/dA2sjEUeqbbUYPrsTvDzE77uxAGNjMDoGoxtgZAxGRmDdKKxdD+vWw5q1sHoNrFoFq+6FlctgxVJYcSPc+ze452JY2bCYU3NQNtZ0bCA+/1HiiKP1tWNdw7G+dq5xjaSJ/HNCkqQJySBJktRKUZB0DXGEgaT+qAdJ04mje7YihmmziaPANqudq6+jlCe0+DO0+PcYm4ZHG3hwgNQcJNXDpPrfRxuuM0SSJGmIuUaSJEnScGoMeupBzggxZBpj06ljoUXZvKMeGBUFSI1Hc5jU+NoGNg2QDJEkSRpSBkmSJEnDpzHwGSVOHZtWe22Ejbu4ZWw6wqjx783hUd4IpOYgqTlUagyXWpVrbluSJA0pgyRJkqThEogBUT1EWk8cfdQYIk1h47S2qkFSqzCpOVhqda65jlZT5SRJ0pAzSJIkSRo+9YBmAzE8CmwcmVQPkbKmayE9VGoVMkHrsKi5juZ2JEnSBGKQJEmSNJzqoc4IG0cnTWHTtZHq1zb/PeXPonCoVZ3/v717j7Orru/9//6svWdm7x0CyCXhkplcIICg4gWqKAqo1Ye25VQxWMULqA3J7JFzrAdbtT3mp6cVpbVqM5M45aKIVUE8Vit4wRK0QktRVK4Kuc0ekIRrErLve31+f0wmmZnsvfZlJpk9M6/n4zFmZtZnfddndqabrne+3++a+DkAAJhlCJIAAABmnmpPVhu7nK3eebW+N/F4s18DAIBZjiAJAABgZpoY4lSmcKxGjwEAgDmGIAkAAGBmG7v8LGpGEoEQAACYNIIkAACA2YOwCAAAHFAESQCAanZJOqfGsezBbAQAAAAAAAAAAAAAAAAAAAAAAAAAAAAAAAAAAAAAAAAAAAAAAAAAAAAAAAAAAAAAAAAAAAAAAAAAAAAAAAAAAAAAAAAAAAAAAAAAAAAAAAAAAAAAAAAAAAAAAAAAAAAAAAAAAAAAAAAAAAAAAAAAAAAAMDvZdDcANCDq99QPWhcAcGDwHgcAAIAZIz7dDQARTPtusKrdaHmNzwFgJuA9DgAAADMOQRLa1egNlm1ZnfxCPGbpiQWlsv/Ppetz/dp3g8WNFoCZYu973NbViYFYLFg5saAQKn3CQPZL4j0OAAAAbSSY7gaAKkZvsAJJ8bIUVisqhUpIio2pZ6kmgJlg/HucB53VigqlisR7HAAAANoMQRLalWnkBqqjVK5ekK94QlKH9t1oAcBMMBoKxSR1hPKqQVK2LBfvcQAAAGgzBEloN2P/pT4mqaNQqV5YHpmR1LmnLhD/Yg+g/Y2+R42+x3XueS/bz+6iAo0Pknh/AwAAwLQjSEK7Gv3X+s5CpfrNU6HMjCQAM9JoKBSX1Bm6uqoV7S7KtP97HO91AAAAmFYESWhH4/YPKYVh1Q1mXUGnRm7EmI0EYKYJ9nx0hKF3VCvIVfaGTbzHAQAAoG0QJKFd7V3eViir+uI286TGL2sDgJli3xJes6pL254rhRURIgEAAKDNECSh3Vm+bPlqB+KmlAiRAMw8Y5/CZjEpVa0oV1ROhEgAAABoMwRJaHvFSlg1SIoFlhKPxQYwc40ESYEnqx3cVbSCeG8DAABAmyFIQtvLlS1b7fvxwOcd7F4AYIpZPLCq72VPZiu7JfmeDwAAAKAtECSh3fmOYriz2oG42XyNn43Ev9wDaHc24XOLmR1SrfCx52zXwWkJAAAAaBxBEtqZS9KObPWbqXhg88d8SYgEYCbZG4AHgc+vVnDPtvJO7ZuRxMwkAAAAtAWCJLSr0RsmfyxbebZaQUfgh4vNtgHMPHtDpJcuUDIw65pYELqX7ntSOREeAQAAoM0QJKGduST/1WPVg6R4TIfv+XTiUhEAmBFe2RM/otr3SxXtkBRq/5lIBEsAAACYVgRJaEfjlnL89DHtcPfyxKLALPnChXsfm82T2wDMJCYpOPHw4MhqB0uuZ0SABAAAgDZEkIR255K8GOrpagf/aGl8oQiQAMw8JknHzLOF1Q4Wy3pK7I0EAACANkSQhHYz8V/gXZIXKv5kteJlzwtGgyTCJAAzxd49kg5PVA+S8mU9oZH3v9HlbQAAAEBbIEhCuxq3vC1f0hPVio6dp+O1L0giTALQzibu5xYc2qnjqxU+V/TRIAkAAABoKwRJaGejQVL4XEmPVSs4tMuO1/5PbiNQAtCuRkPvQFIwr0PHVSt6phA+pvGbbRMqAQAAoC0QJKHdhZJ8R96rB0mdwWIxIwnAzLL3PSsZV0+1gkd3+mPat7RtFGESAAAAph1BEtrV2H+FDx97LhyqVpTs0FLtm5FEmARgJtg7KynRYYurFfz3tnCrmJEEAACANkSQhHbkY/50SeEvHws3VytMxscFSQDQ7vaGSJe9OH5cYHbIxIKKe+Gr91Ye1fggCQAAAGgLBEloV3tDJEnhNb+pZCruhYlFscDm/+XL493as9+ICJQAtK+xMyft1Yvt1GpFuZJGZyONfhAkAQAAoG0QJKGd7Q2TSlJld9E3VSt65aLYi8XyNgAzh0kKjjs0eFG1g8/m/RFJFbG0DQAAAG2IIAntauyMpIqkyjMFe7ha4bHz7QxJMfHkNgDty8b8GUiKHZEIXlqtcHvWf6vxs5HGLvcFAAAAplV8uhsAqnDtu+nau7wts6Ny7+JD4+dPLD4iYa/USJA0urwtnFgDNKCZm3SCSjRr795IkoIXHKbkvE69rFrhPY+H92rfjCTezwAAANBWmJGEdrY3RJJU+clQ5Z5qRYm4Lf+7c+LLNBKMjgZKpv2Xu/HBR9RHoPF7bZn2mVgz3b3yMbM+Rn9nYns+4v/3DxPnBWYJTVBxL3zxF6UHxNI2AAAAtCmb7gaAGkZvujolJSUdKul5G1clb+6K28KJxbsKvqFYCf+7M2blmCkMTB4YN15ojgfB488Wy7e97Kri77T/jbs98IHkmckOvcLdj5iO/jBzhS4LXVYKFStWPD6/096Y6AheOLHuiazf9ZJrcpdKekbSTkk5SSWx6TYAAADaBEvb0M7GzUiSVB7eGf7HCUfELphYOL/LzpVi5x7sBjH7LEzEwk29yX9cNpD76Oj31pyqrovPTX4lHthbR75DBo8D4+GnwtsllTV+RhIAAADQNljahnY2brNtSZV/2xjePL0tYfazoDOwD//u0sRfSuqQ1PHuc5Jf2hciAQdGGHr+8/9duFUjQVJZ+2+2DQAAAEw7giS0q7FPKQo1clNVuvK/Svc9mfVfT19bmCuScfv4F87tXHbr27te2xWzd053P5j9Nj4b/vCOx/SURpayTZyRRJgEAACAthCb7gaACGM3qo1pZHZIZ7Him17TE/vjwIzfXxwwZhY/ap7s6FTszR0xLZvufjC7Fcp6euUt+b9+7Dk9KykrKS+pqJFAiRAJAAAAbYMbcbS7sUFSTFLHPds8e0RSm047KnhFLLDO6W0Ps1kibsu74n6KZGyKhAMmW/Jtn/p58a9u2eRbNRIiZSUVNDIziaVtAAAAaCvcHKGdjc5IiknqkpSSNF/SYZLmLztMR/3PMztetfAQWxi3IG5jntJm3HihAb7nPTAR867TF8b+tNHzKqEX7n7cvzP6Nb9vaMTo75v7yJ+lSljcskOZT/9n8ec7C9op7f3YpZGntY3OSAqnqWUAAABgPwRJaHfBno+4pISkeRoJk+bv+Tyx51igkd9nbujRKBvzEdz7geSVz0vY0kZOfOSZ8Kfnfi3/RY3fDJnfPTRi9L+7rpGQqKSRZWy7NRIg7dK+pW1jN9wGAAAA2kJ8uhsA6hjdbDvUvhuumEZuxka/1zHme0AjxoZIMUnxh56s/OdZi+INBUn/9Wh4p0Zmi0x8shY3/GjU6BMpSxqZfTRxSRsBEgAAANoSQRLa3eiNVEUjN/1F7Zt5VNZIsDQ2SCJMQiPGbuTeIanzPx4Nf3HWIr2j7pnu/pXfFH+hkZv+amESUM/o78rYGUmjHwXxOwUAAIA2RpCEmWL0pqs44fMOjV/aRpCERoz+rsQldUpKfPU35fv+4g86SjGzjqgTdxU19MDTelIjQVJO+x7Vzk0/GjU2SCpr5HeopJH3NH6fAAAA0NYIkjATjN5Mjf0X+lAjN2Ax7dtHiRAJjRr7NMAuSZWnC7LnCr75sISdFHXi0zn/rUZCpOc0flYSN/5oxuj72eh7WWXMB79LAAAAaFsESZgpxt5UjT7FaGyARIiERo3+roxu4j66bLLjmYIeOSyhyCBpe9Z/p5ElSFmNbJA88claBABo1GiQNPZP9tsCAABAWyNIwkwyenM1GhyF2hcKECShUWN/Zyp7Pu+QVHxyt29cclj0yVt2hhs1Eh4VxvzJLBK0wqv8ye8QAAAA2hpBEmaisYHS2JsuwiQ0Y/T3JaY9e9Q8tquyZeTL2n7x+3DTnvqyxi9JIgBAMyb+vvD7AwAAgBmBIAkzGTdiaNVoiDS64XFFUvk3T/rW80+ufZK7l795f2VY4wOkiUuSAAAAAGDWCqa7AQCYBmM3bd8bJv1gY2VY7jXDoHxF20v7Hs0+djkbIRIAAACAOYEgCcBcNxoohVt2KlcK7dlahbmyHtf4mUhhrVoAAAAAmI0IkgDMdaOziSqSwkLFn6xVmC/7E9oXIE3cKBkAAAAAZj2CJABz2dglbqGkSq6smkFStqQntP++SBJhEgAAAIA5giAJwFw18ZHrLiksVvR0rRN2l/xpjd9bCQAAAADmFIIkABgzKylf8pp7JD1X9Ge0/1PaCJQAAAAAzBkESQDmunGhUK7iz9Qq3LF/kAQAAAAAcwpBEoC5zCd8HuZLtrNW8a68dojZSAAAAADmMIIkABgTDGUr4a5aRU/nw11ifyQAAAAAcxhBEoC5btym29miP1er8LHd9pyYiQQAAABgDiNIAoAxM5KeKypXq+ixneWsWNYGAAAAYA4jSAKAES7Jd1dsd62Coae1W+yRBAAAAGAOI0gCgDHL27KFSqFW0YM7lBfhEQAAAIA5jCAJAEa4JC+UVa5xeHST7YkzkQiWAAAAAMwZBEkAsI+XvXqQFLoqE2sPQj8AAAAA0FYIkgDMdeNmGe2uWKlGVUXsiwQAAABgjiNIAoB9vFDcb+bRyAGNm6lEmAQAAABgTiJIAoAxsqVy1aVt7jY6IwkAAAAA5iyCJAAY4ZL8ge3atWdj7XHK7jtVfbNtAAAAAJgzCJIAzGUTAyF/4Fnln8rqjomFwzv9NhEiAQAAAJjjYtPdAABMM9vzEZPUIanrvm3lX515XGxhqkMLy6Ht/u3T4f+76Dv5tbvL2i2pIKkoqSJpv5lLAAAAADCb2XQ3AADTLNC+ECklab6kw/b82aWRGUh5Sbsk7djzZ05SSRL7JgEAAACYU+LT3QAATDPXyMyiUCNPZitpZNZRTPue1FbQSJg0Gh6FIkACAAAAMAcRJAHAiNEgaTRE8j2fSyNL2XJ7vi6LIAkAAADAHEWQBGCuG91Ae2yQpD2fx8Z8XtzzMRokjZ4LAAAAAHMGeyQBwPgNt2MaCdnj2vdky4pGAqTRP0dnJBEkAQAAAJhTCJIAYMRomBSM+Rh9jxy7jxIhEgAAAIA5iyAJAPaxMR/S+CDJq3wOAAAAAHMKQRIA7K9akDT2TwAAAAAAAAAAAAAAAAAAAAAAAAAAAAAAAAAAAAAAAAAAAAAAAAAAAAAAAAAAAAAAAAAAAAAAAAAAAAAAAAAAAAAAAAAAAAAAAAAAAAAAAAAAAAAAAAAAAAAAAAAAAAAAAAAAAAAAAAAAAABAbTbdDQCz2VBf4uNBGCSjanaXs58/eVBPTtU1M6s7X2QWvzCqJlTlpz0DhR9N1TWnQiadvMzcFtQ6Xspm/37pl/XswewJ9WVWJY+3wFbXOh5auKmnP3/NwewJAAAAwIETn+4GgNkskJ2uQCuiapIdqUel7Lqpu2g8LdPKyJKy/fuUXW+KmGyVAj2/1vGwMzEo5QmS2owHdpwF+nit4+a2QRJBEgAAADBLBNPdADCbhbLr69WY/M+m6no3rFDMpLdG1bh8+Kr1+Q1TdU0AAAAAwNxBkAQcQNuL2VtcejqqxkxnD/WljpuK6718QeJcmY6KLAr1jTVSOBXXAwAAAADMLQRJwAF0xqBKFoY3RFdZELhH7mnUKFP0MjpJskq57iwpAAAAAACqIUgCDrCK9LV6NW56+2Svc8MKxQIFb4m8jnTfoi+Vfj3ZawEAAAAA5iaCJOAAWzyQ/7nct0TVmOvlm1cllkzmOq88OvEamWo+9UySFIZ1Qy0AAAAAAGohSAIOPA9l/xJZYWbxwCa3vM3qLGtz92JZ0X0AAAAAABCBIAk4CEKvvy+RBdby09vWSIEsqPO0Nv3shMH8UKvXAAAAAACAIAk4CJYMFB+UdE+dspdkLu1a3sr471+deLWkhZFF7myyDQAAAACYFIIk4CAJGwhyPNbirKTAIpe1ubwQev5bLY0NAAAAAMAe8eluAJgrwlLu60Fn8krJaga4ZsHbJX2qmXFHlrVZ5LI2uW5evE7PNDPuqI0rEz0dncGLJR0XSMe5dJyk4+QymT8j19Mme8bdt4VWuW1xf/H+Vq5zMAz1pc4IwvDU0NRjFvTI1W3ykpttl/wJhX5fPpf/0fJr9USr17hhhWIvXKDDax1//H7tOG+DyqNfD1/acbrH4xdJOtGkWGjaGIT2293l7E0nD+rJVvtokWVWJc/0wN9oFvSYdIxLgUyPKvRHihZ+54T+wu8OVjOZVcnjFbM/cvNTTDrGZEe7+y5z3+ZBsM3Dyh2FzYXbl9+iwsHqCQAAAJjrbLobAOaS4b7UjyW9PqomLJdf2LO+eF+jYw6tTrw6iAU/jarx0C/oHsh9u9ExJWlrOvG6QPZBk/5YZrHGz/QhhX5z0XTFsv781kbPGk6nHpDp+bWOF4rh4lb2eHpklRZ0xpPvCdzeFzX+Xu7u0i/kPvjIA/lrx4Y+jcj0db7QFP9NzeHL/vLu9bm77l+hzkMXJK8xs4tqtJGX7PpCJfvxE9drezM9NOvulepY0JH8oEkfNrPjomrd/W6ZX969Nr9BkoZ6U2cGge6KqN/Q3Z87r5l+MunkWyR9zKSXyazOf6d8t7tukVU+2b22eG8z1wEAAADQPJa2AQdRGIZfq1cTxOJvb2ZMq7usTc/mN+e+3+h4m1d2npLpS90fs+BWM/sfzYVIkmQ9CoJVnbL7Mn3JD2qaAuv7V6hzKJ38x65YcjiQXdlQiCRJZmZmZ1gQDJ54WvLB4b5k9NPwWvDwm9R12MLU92uFSHvaSMj8PbG8ilN9/bGG+lJnHNORvDcw+4d6IdKevs4wBbcNp1PXZlYoOZW9bEx3nZTpS24ws2+b2Rn1QyRJsnlm9jbz2D2ZvtTg1tV63lT2BAAAAGA8giTgIMrm8ze5PBdV4+bNBEkm6YLICte3Gl36s+UDiaXxjtitJp3aRA81OrNDTPbFTF/y7yY9VpM2r0osOXRh8meB2f8ys45WxzGzEyW7IZNOfuGGFWoyUKstsSz5WdWZmbbHzUu/rGen6roTDfV2vSFwv01mJzd9suliLUj+wC08dCp62ZJOntWl2B0mO6elAcxiJv15EKR+llmVPH4qegIAAACwP4Ik4CA65RrtMtf3ompMtnxLuuOljYy3dVXylXVnkYRhQ09ry6xKHh9L2E/MbEpvwk32V8O9ybdN5ZhRhlclXhuPBb802R9M1ZhmdtlZC1M3371SqUkPFrc3m9llDV03VN0ZbK3auir5KrPg32R2SKtjmNlrAgu+OtlehlclXhsz/USmIyc7lplOs7ju2PKBxNLJjgUAAABgfwRJwEFWcasb7MQUb+jpbUGgOsuufKh7XT5y/6QxF/2CyQ7IzbcH9okDMe5EW1bqWMWCb5pN/fImk95wTEfy2kmP4/7XjdS5tLOUzf3bZK9XzcMX6dBYTNdPZrbWKJOOncz5m3t1jGLB1002hcvkrCeesK+u4b9xAAAAwJTj/8kGDrInytkfyPVUVI1JF6r+3kKmIHpZm7u+Lsnr9bQpnVhs0p9GFrmecvd/cvllHobvkvuH3P0zku6pN75JLzgIy40s3pm6TqajGil295Kke9x9U+NXsAuH04mPttrgnjEaWiJnrpuWfln5SV2rhq7DE5+V2ZJ6dS49LffvysOPha5eua6V/KGp7KUjSH1VpgV1yp6Q+zdC+eWhq9ddV8l9S/Qp9qr39SY/NGWNAgAAAJAkxae7AWCuOWNQpeF0eIMUrK5ZZLZ4Szr5iiX9uTtrlWxJJ19hskWRF7NKQ0ujOtz6FNQOOFz6vrZnV3TfqGr7O40sXTPdELU5chjYSyU92kg/rcikk/9bDew75PJvy/XZ/Kbcr0b3jnowrSPnWepV5v6PZrYsegT71OaVnf9v6WBx8oHKyBPiviP3uzywsrleJNn5Zjqsovobs7fiwbSONNl767emHyqffeeiq/X0mG+vk6Sh3uSHA9Nnmt+Ifbyh3q43qM7fmUu35Hdn37v8Wj0x9vt3r1RqQUfic4EFl9Y61wJ9avPFuvpA7jMFAAAAzDUEScA0qFTsa7G4agdJkmKut0uqGSQFFr2szaVfN/I49BtWKGaB/rj2OL5R23K1QiRJ0qKB3LcyfcmvmfSuWjUmddfrpVWZFUrK7GNRNS4vynV5d3/uixOPPb9fT0nZ725cqds7O5PXmOytNQcyi3V0xtZIamj5Ye2GfJdX9Pru9bm7xn5788U6PJ5KrLp2IH/bpMav4RBPvt8CS0S35v1X9+cuWyOF1Y73DOT+YevqxK9jMd0iWcv/HbEg9uE6fdzU3Z9boSqz6s4YVFbKr8qkkzvN7PKq48uSsXmpd0jZda32CAAAAGA8lrYB02Dx+tzPXb45ssi0ImKPFwtc0RtYuzc0o+XCG1VZtDb3/Hw5u7BSCf8wdP+wXF+RdI/LCwr9M1Eh0l6hR+7FZEHd5UutOypxgUmHR9a4p6uFSGOdMKgd3WtzF7jrh9Fj6cKt6c7Tmm90n1BaOTFEkqSlX9az3QP5K2qFOJNlZvWeCrhtWyn3kXrXX7wuf6tL32i1j43prpNMekOt4+6eL8k/rDpLM3d67pMu/b7WcZNf0mqPAAAAAPZHkARMEwvtXyKPmx33/tWJV1c7lkkn/0BmETN8PLSCvt5MPyeu1/bF6/K39vTnPreoP3vxorXZlz5yX+6QO5/IX9PI+aGpzl5DPoWbKU8Q2Psjryzdd+f2fGulqqQAACAASURBVOMbZYflj0heO0gxs0BB5P5Ukdy3XtOfu6Hl81s0MnPLXxRZ5H7FyGyfRlQ+22ovHYq9Luq4ma5Z1p/fWm+c0wb0nMs/V3scO3NTOrG4lR4BAAAA7I8gCZgmpXK57tPbzKovnzLVWdbmun3RVbnhVnsbdd4GlS+8UZV6dcOXdpweWPCOyKJQXZPtp5o9G4WfE1nklb9s5OcY1b2u+Bu5XRdVY7I3Njre/ifbdQdqxlGU8MjkS6OWorl7vrQ7t77R8fYsnby1lV5MfnbUcXf7daNjuYeRtfEweEmjYwEAAACIRpAETJOlg8WH5PplZFEQXHDbuVX3Motc1ubyuiFVq9ZIwdZ052mZ3sSfD6dTX86kk8Pq6PiVSZGzgmR1n0LXkpj8hVGbfLu0s7u/cHOz47pXvlmn5OUPvU/zmx1XkkJVft7KeZNlcXth5HFpqNknxYXyuvtw1bjYWZGHK+EjjQ4VVIIHIsey8PRGxwIAAAAQjc22genkfr3MXhpRcfQJp3a9VhsKPxr9xlBv6kyZai7Vcfd8qZS/aapa/O1KHZXsSL0qkL9apldIerFk80ZjoUbzIT9AM3ACD5ZEtWBeb8ldDRVtjIzazWKJROciqfhgs0OX3Sb/xLcWBB4+Txb5Q9VdSrafUI+2+E8Sx0cd9LilM+nURY0MZKrzSxhY9HI+AAAAAA0jSAKmUbmc+0a8I3ll1GPUzWJvl/SjfV/7ijr3zf92wqB2TKavTenE4rj0blPwZ2bas6n05CYUBWp8aVkzzLQk6rjLN7Yy7s6nC1sPW5gMFZG8BBYcLanpIKmyKf94Kz1NlpsdHvW36FLzQZL0WLMn3L1SKZN1RtWY7K1TOIdt0ZSNBAAAAMxxLG0DptGSQf1esn+vU/aW+1do30231VnWFlpDT2urZnOvjsmkk9/qlG0OLPjUvhBp8g7UjCSXjq1T0tKMpNNuVFFS5D5TZnZ0s+O6tHP5LSq00tNkufthdSqeanpQ80ebPeWYMHlE09eZFEsd3OsBAAAAsxdBEjDNKgojgx8zPe+QBV1vkKStq1MvM9nSWrUuPb3ryWzT+wFJ0tZ04nXxIHW/mV0QtedQDdvc/bY6NQdqc+lnog6aVHO2Vz0u64g87lZuflB/rtV+JstUp1+zpgMer1jTM83ynQdmv6ya3AmSAAAAgClCkARMs1wu/22X56JqAgV/JklB4HWe1hbeuGcmTVM2r+w8JVBwk0kNBgk+5PLrQ1evV8qnL1qbPdZD/0TkGWo+cGiEySOXVrlpWSvjZlYoaXVmO4Xy7U0PbNrdSj9TwWSRoZvcj2p6zEA9zZ5z/UDuUXcvNXte65iRBAAAAEwV9kgCptkp12jXcJ++K+nttWpMOj+zQsl6y9oUqqVlbR0d8a/LVG/Z08899K942f+9Z7Cw375DFoue+RMcoBlJoeuxIHLjH2spSAqP6FxabypTUAqbD5LcIkPDAymUPxNETAYyqemleiZf3Oz+WWuk8P0j+zGdWKum4pU/iblNSegWSgcxtAIAAABmN4IkoA1UPLw+NrKpdnVm8+3o1MclnVCzxn1Lz7r8fzR77Uxf4lxJL649rJfc7G09a3PfjRyo4smoKOlA7ZGkOjOSTN5SkKR4nQDKPbvrmUKm2WHNDsym4w1eO3qTb2t+dpG1cM7IpWyzIoIks9jji/qzd7cyNgAAAIADh6VtQBt4olT4oVxPRhYF/pdRh0PZv0jyZq9tHrw36ri7PtqzNhsdIkkyC+ZFFnh4QIKkooIH5V775zY7ZLg3GT2Tq4rAgkuijrtsQyvLCN192oIkheFd0QXWM9SbOrPR4dZIgRSc20orLm2OOh6E4amtjAsAAADgwCJIAtrAGYMqyfyG6CqLnEHo5XKLT2vzkyKvqvBfGxpFXnN2iSQpiFyA1rITB3IZN0XOxHLTp+9eqciNs8caXp18hcneGl3lP2x0vAmmLUjqHig8IumJyCLzdzY63iXp5Ntken5r3Xjk0/Q8CF7T6EjDq7v+aKg31ZvpS5z78CXNL88DAAAA0DiCJKBNlFvc32iPexZ/qfhAKyd6naVJlWKDm2Sb/WmdK3U13FSz3K+LOmxmJx4TT/Y1MtQNKxRToCsjLyfPVUq5G5tpcV8zzc8am0rufnvUcTN7z6bVXSc3MJQFZn/TeiPhTYqYnWXuFw9f2nF6I314EHw+CNRvCm5LzkttH+5Lbc+kk7dl0sm1Q+nU6i0fSNR80iEAAACA5hAkAW1iyUDuDvfoWRq1hKG3HkK5bYs6HOvUa+sNMdSbfIeZvTzyMtIBC5KKpfyN7p6PLAr098N9qU+uiXjf29yrY85akPyxzM6OGspc65YM6vcttjutQoWDUcdNOqIjCP49c2nX8lo1969Q53A6dY1JL2i1j+6BwiNuqj0LzyymeHxtvZlkmd7EO81s4my4o83sXDNLB+ZfjMWc/QABAACAKUKQBLQRG9nnqDnuFQX29Ulc9p6og2bBZzKrksfXOj6cTrzbTF+pd5Eg9GQrzTXihEHtkPTP0VUWSPqb96eTt2bSXW8eswTKNqa7ThrqS1wSt9Q9ZnZe5DDuu3LZ3BVT0fd0WNxf+LHkD0XVmNlxige3DfWlzn/4Ih069tjGdNdJhy1I3ibTxZPvpvLpOvtbnb2wI3VnrRlSmdWJcxRY5N+7u13X/aXCw5NsFAAAAMAe/Cst0EaKYeX6zljsr5s6yey2nrXZyCeXRXHXPRa1e5HpSIvZr4Z6E5eXi/lbll2lbUN9qePkOtPkH5XZyxva/MisZhg1FfKbcpcnT0idLekl0W3YeVLsvOS8lIb7fMhlh5p0+MjBOhdxdzddsvzaOvsMtbtQf6NAkUvzzOx4k/41eXiykknrlzI9KtnLTTp2qtroXlu8dzid/J6k82v3oZd1xoJfDKeT33fply57SNJxZv76evtYuXupXPFPTVW/AAAAAJiRBLSVZesKv3XXL5o5JwzDyeytJJUrP3R5LrLGdFQQBNd2JlKPZ/qS+UB6NDB9p95ytrFctnhSfdax/BYVwmJlhUs7Gz/LevaGSI3V/2332txNzXfXXhYN5L4VSpH7Su1lFjOzM032pzVDJNdTrfZSrpTXuLxQp4l5MrvQzK4ITN8JTAP1N0OXTPri0vX5La32BgAAAGB/BElAmzH59Y3WujyXzecnFWz0DBY2KtRHGq03Wc29jty1o+Z55qf+dqWOara/ZvQMFjZapfJOue+a6rHd/Z+u6s9+YqrHnS6FZ7IfdOm+yY7j8s+6/Aetnr9kfemeMLQVkpcn28v4vnT1Vf25hn+vAQAAADSGIAloMyXPfSPqaVZjmfTdU67RpEOT7oHcWne1HAbIvSL3D7mFH6pdZPFkPHVhy9do0KJ1he+XC3663P9jakb0cujq7e7PXbZGCqdmzOm3/Gva+Zxnz3X3/251jFC6rntt7q8m28vigez3wlDvcnlxsmNJksJwfffa7J/Ppr8vAAAAoF0QJAFtZumAHneznzRSWwltcsvaxgjD7Dtdujpy8+MqXP5wRf7GRf25z+/2/HejZpYE5hdNvtP6llyV33xVf+4cefgxyXe3Oo67bwhDe2VPf3bdVPbXLp7fr6d253Kvk9ffLH0c9+cUalXP2ux7JTX1+1JLz0Dum6VK+CJJt7Y8iGt7KL980UC+d6r6AgAAADAeQRLQhqyRfY9cTz5RzrY+i2iCxev0TPfa7Ae8ole4+931r++/89A/uK2YO21xf/4n0kgwIdmGmueYvXLLBxJLp6rnKGukcFF//tNP7cgt9Er4brl+LHkDM1R8t9y/52HlTd39ufN6BrItz9iZCU65RrsW9WcvDj08x+W3R75G7rtcuroS+umLBrJfmupelq0r/HbR2uwfhhW9xd2/1egSRZc/rFCrSruzi3vW5v5ehEgAAADAAdPQw5YAzDk2tLJrmXXoZPPgZMlPcrN5kh6XKVMuVn68dLAY+Qj5drRlpY6NdXS9xDzWHZp6TN5tsoqbb3fXNnl4X2Fz4fblt6jO5s+z11Bf6jhz/bFLS2Q63qSSe7glcHvo8XLu5jMGlT1Yvdy/Qp3zj+461xScZIEtcNdCmc9XqEfdbEsQVrZUAt9ybX/xQZaxAQAAAAAAAAAAAAAAAAAAAAAAAAAAAAAAAAAAAAAAAAAAAAAAAAAAAAAAAAAAAAAAAAAAAAAAAAAAAAAAAAAAAAAAAAAAAAAAAAAAAAAAAAAAAAAAAAAAAAAAAAAAAAAAAAAAAAAAAAAAAAAAAAAAAAAAAAAAAAAAAAAAAAAAAAAAAAAAAAAAAAAAAAAAAAAAAAAAAAAAAAAAAAAAAAAAAAAAAAAAAAAAAAAAAAAAAAAAAAAAAAAAAAAAAMCUsOluAJjLMr2J95uCpZMdx00Vt7BobkU32xWE/mRovj0s5R9eMqjfT0WvAAAAAAAQJAHTKNOX3GCycw7kNVx61tx/5u7/+sgD+a+ct0HlA3m9g23r6sSywPyk7oHCD6a7FwAAAACY7YLpbgDAgWXS4TL7EwuCq5a/IHlvJt315unuaSr8+t2aN5RO/W0QswdMsbOnux8AAAAAmAsIkoA5xU4xi30/k05+Ybo7mQTLrE6864hDk78LTB8zWdd0NwQAAAAAcwVBEjAHmdllQ73JD093H80a6kudMZxO/txiwVfN7Ljp7gcAAAAA5hqCJGCOCkxXzpRlbo+s0oJMOnV14H6XzM6a7n4AAAAAYK4iSALmKjOTYp+c7jYa0RVLXmKm9430DAAAAACYLvHpbgBAbe76jaTv1DpuJlOowAOPmatD8pRbcILk55qss974ZnrZUDrxmp7+/E+ntHEAAAAAwKxEkAS0MTf9qmdt9hPNnvfwRTo0cXjyr83s8nq1gVmfJIIkAAAAAEBdLG0DZqHlX9PO7v7cR0J53SDJpZcejJ4AAAAAADMfQRIwi228L/d5d38kssjVc8MKxQ5SSwAAAACAGYylbcAsdt4GlTMvsNsknVirxsw6zliQWCTlt7Zyjcyq5PGK2R+5+SkmHWOyo919l7lv8yDY5mHljsLmwu3Lb1Gh0THXSMHb03remB7nRZ5gnnwwrSPHfuuQvLz7aj3d9A8kaagvdUYQhqeGph6zoEeubpOX3Gy75E8o9PvyufyPll+rJ1oZX5JuWKHYCxfo8FrHH79fO87boPLo18OXdpzu8fhFkk40KRaaNgah/XZ3OXvTyYN6cuL5W1fredmg+j8WHLJd2e4blZv4/QfTOvIQJd4it5PNtEiyIyV/KjT9XqH+q7Ajd8vyr2lniz9ypIPxmgMAAACYPIIkYJYzDzfLoicfxkve9HtBJp18i6SPmfQy2ci+33uvaabR71gQU/KE5O5MWrfIKp/sXlu8t97Y70knujst2NJwM2Z/MV+pvxj3vaTvlnKHNDrEI6u0oDOefE/g9j5Jz1cwJoWxkf+x0S8CUzKV9Exav5D74CMP5K8dG/o04qyFnaea4r+pdfyQU/zl2pC76/4V6jx0QfIamV009pF1wZ7/SXUkP59J2/WFSvbjJ67X9r3Hg+S9882Orza2Hx2ukfL/3+jXW9IdL41Z/G8kvdlknRr3bDzbe63E85LFTFrfKsk/tqy/teBxrIP9mgMAAACYPJa2AbOcm9Wc9SJJLi/85zOFhkObjemukzJ9yQ1m9m0zO2MkNarH5pnZ28xj92T6UoNbV++bbTTd7l+hzqF08h+7YsnhQHalTM9v6EQzM7MzLAgGTzwt+eBwX3LFVPf28JvUddjC1PfN7KKINhIyf08sr2Kz49+9Uh2ZvtSauMX/y2R/Wu9JfybrNLN3dsgeGupLXNLs9Ua182sOAAAAIBpBEjDr2YsjD7v97sIbVWlkpC3p5Fldit1hsnNaa8ViJv15EKR+llmVrDpb5mDavCqx5NCFyZ8FZv/LzDpaHcfMTpTshkw6+YWp3G8qsSz5WUmvb6D05qVf1rPNjP3wm9R1TEfyFpM+IVlTM9LMLBG4XT3cm3hPM+dJ7f+aAwAAAIhGkATMYsOXdpxu7n8YVWPyBxsaa1XitTHTT2Tj9yJqhZlOs7ju2PKBxNLJjtWq4VWJ18ZjwS9N9gdTNaaZXXbWwtTNd69UatKDxe3NZnZZQ9cN9bVmhjYL4sllyRtk9rrWmpNkZm7BZx5+k7oaPaXtX3MAAAAAdREkAbNUJp18i3d0bKi39Cx0u73eWJt7dYxiwddNlpy6Dq0nnrCvrpmG96EtK3WsYsE3zaZ+iZ1JbzimI3ntpMdx/+tG6lzaWcrm/q2Zsd10mczOb62zfcx0THJp6uJGamfCaw4AAACgPoIkYBbYfLESD6Z15JbezudnVne9KdOXGjSzb5tqPxVMklx6YOMD2cF643cEqa/KtKBO2RNy/0Yovzx09brrKrnX2XvJXvW+3uSH6l1/ilm8M3WdTEc1UuzuJUn3uPumxq9gFw6nEx9ttcE9YzS0XMtcNy39svJNDS0dOvF77vqBh+GaUOH73L3f5ZsbGcvN/3cDYeDMeM0BAAAA1NXAJrkADpRMX3JD5H5D7hVJhaqHRm7eY2aKqd5j2Woph69btD7/71ElQ71dbwiC2A+jaly6Jb87+96Jj2a/e6VSCzoSnwssuLT2uZ4rP5c7buweP5svViJIJs4e/TqIBX9m0vtrjuH+L2Ho42akxEyVRQP52ybWZtLJy83ss1E/z56+vi3XZ/Obcr9afsvI38GDaR05z1KvMvd/NLNl0QN4pVSqvGDpYPGhaoczfZ0vjHpq24Sx3KXvyP0uD6xsrhdJdr6ZDqt4+PrF/fmfVPk5h63GU9smuKcUlt63dKD0q4kHhnqT7wgC+5d6A5TD8qlLBoo1l0i2y2sOAAAAYPKafuQ3gINoZFZK1b1fJpsCu/zr3XVCJEmyIPbhyHHcb+ruz62Q5BOPnTGorJRflUknd5rZ5VXHlyVj81LvkLLrRr83MsMmf+vo15l08mWKWKFnbpsXr8vdWrNgdJwVSsrsY5E/j7wo1+Xd/bkvTjz2/H49JWW/u3Glbu/sTF5jsrfWbspiHZ2xNZL+rF5fkdx3eUWv716fu2vstzdfrMPjqcSqa6uEZQ0PLb+r/FzujbU26u4ZyH09k06+yszSUeMEQXy5VD1ImpGvOQAAAICaWNoGzDkeuvtnthVz761XuTHddZJJb6g5knu+JP+wqoRIY+303Cdd+n2t4yZv+VHyTTkqcUG95X5yT1cLNMY6YVA7utfmLnBX5EwtuS7cmu48rflG9wmllRNDJEla+mU92z2Qv2KNFLY0sLtLlQ/Ue9pbflPuw3Jtr9PkoprHZuBrDgAAAKA2giRgDnHp9xX3N3T35/7qjEGV6tV3KBb5VC8zXbOsP7+13jinDeg5l3+u9jh25qZ0YnG9cSYtsJrL4yTJpfvu3J5vfNPmsPwRyWsHOWYWKLig8QYnNuRbr+nP3dDy+VFDm93cvbZ4b726PUvM9guyxgm89hPTZtprDgAAACASQRIw63nZ3X/qYfjRbDH7omr76dRi8rOjjrvbrxvuwsPI2ngYvKTRsVqxKZ1YbFLt/agkySt/eeGNqjQ6Zve64m/kdl1Ujcne2Oh4+59s17U846geD6PDoXF9+FDk8dCrPs1vRr7mAAAAACIRJAGzlMtv99AvyD2TO7K7P3dO90D+ipMH9WRTg5jOijxcCR9pdKigEjwQOZaFpzc6Viti8hfKam+05NLO7v7Czc2O6175Zp2Slz/0Ps1vdlxJClX5eSvnNcTs/sYbsWeiDgcKuqp9fya+5gAAAACisdk20M7ct8p0l0sxuc0z+XzJTmrwMepneeA/Hn5U351EB5FP/fK4pTPp1EWNDGT19gcP7EVN9NW0wIMlUR2Yq/FHzY9V0cbISN4slkh0Lqq1GXWUstsBe/qYy+ouSdxXGz5nET9kaNVf2Zn4mgMAAACIRpAEtLHQ7Paetdn9NsUeWtX5giAWG5RZzRlDJus02f898QXJ8zedmDt/2VXa1sy1716plMk6o2pM9tZJPz5un9obNk8BMy2JOu7yja2Mu/PpwtbDFiZDyWpGG4EFR0tqOtSobMo/3kpPjfBSOdtwbWDlVv6aZ+JrDgAAACAaS9uAGahnffG+O7bnXu1h+FHJy1G1JvuDjq7kHUMru05o5hrHhMkjJtdls6z2hs1TwKVj65S0NDvmtBtVlDQcVWNmRzc7rks792x0fUB4Jcg1Whu4In/Hal5jhr3mAAAAAOojSAJmqAtvVKV7IH+Fh95br9bMlllH8NMtK+ve2O+V75zCuUaN8Ignf02NyH1+TIq1OrDLOiKPuzUfxLg/12o/DQ3fmW84SHKTt3iZmfWaAwAAAKiLIAmY4boH8v8sV93Hp5vZcfHO5I13r1TkDfio6wdyj7p7afIdNurAzkgy+WNRx920rJVxMyuUtDozb0L59qYHNu1upZ9GBX7gZjuNmnGvOQAAAIC62CMJmAUeL2X7julIvkpmJ0VX2qsWdiY/J+U+WG/MNVL4fmmrpBNr1VS88icxtykJPELpgIZWoeuxIGqOlVtLoUZ4ROfSetNqglLYfKjh1vCMoVaEuZZnGTV+jZn2mgMAAACoiyAJmAXOGFR2qM8uCuR3Shb5f9cm6xvq7fpez0DhR/XGNdlmRQRJZrHHF/Vn726h5SlV66lh40XPjjF5S6GG4nXCEPfsrmcKmWaHNVOlpX7aysx6zQEAAADUx9I2YJboWZu922V/20htEAT//ND7NL9enUubI8cJw1Mb7e9AMnndvXaKCh6Ue+1ZOGaHDPcm39bstQMLLok67rINezaHboq7z/ggaaa95gAAAADqI0gCZpFtxezfSrqnfqX1HJJMfKZ+nUc+VcuD4DUNtqbh1V1/NNSb6s30Jc59+BI19UQtr7fszetv2nziQC7jpv+IHMb06Ub3kJKk4dXJV5jsrdFV/sNGx5tgxgdJM/A1BwAAAFAHQRIwi5wxqJKr/F6XNzAbw1ZlVifOiSzx8CZFzIwx94uHL+04vYHWzIPg80GgflNwW3JeavtwX2p7Jp28LZNOrh1Kp1Zv+UBiac2TVefx84ESDfQguV8X2aTZicfEk32NDHXDCsUU6MrIy8lzlVLuxoZ626+ZA7+H0UExk15zAAAAAHURJAGzTPfa4r0u/2TdQjOzwAYffpO6ao41UHjETTdEjBFTPL623oySTG/inWY2ca+lo83sXDNLB+ZfjMW85t5OLqs3I6k78vgexVL+RnfPRxYF+vvhvtQn10S8P27u1TFnLUj+WGZnRw1lrnVLBvX7RnqbrXjNAQAAgNmFIAmYhTbel/+Mu9ffBNvspMSy1MeiiyqfrrPPzdkLO1J3blrddXK1w5nViXMU2D9HXcHdruv+UuHhiIJno8436fzM6sS7Hn6TujZfrMTQ6sSrh9Kpv5tYd8KgdkiK7EWyQNLfvD+dvDWT7nrzmGV4tjHdddJQX+KSuKXuMbPzIodx35XL5q6Ivtbsx2sOAAAAzC48tQ2Yhc7boPLW0yoXB4r9wmQ1ZxxJksz/avPKzq8vHSw+VO1w99rivcPp5PcknV9zCNPLOmPBL4bTye+79EuXPSTpODN/fb39bNy9VK74p6JqgtC3Keo58mZmMftq4oTkVebqlJlJ0sMX6YrlX9POsaX5TbnLkyekzpb0kqhrjoQWsfOS81Ia7vMhlx1q0uEjB6POHPmh3HTJ8mv1RJ3KOYHXHAAAAJg9mJEEzFKL+4v3K/Q19epM1hnvjK1XxK16uVJe4/JCnZHmyexCM7siMH0nMA3U3xRZMumLS9fnt0TV5JW/r944I2NZ12iIJEmdh3Qumliz/BYVwmJlhWt8wFRn5J69gUZj9X/bvTZ3U+P1sxuvOQAAADB7ECQBs9idT+SvdPld9epMds5QOlHzkepL1pfuCUNbIXn0ptdNcunqq/pzH6lXd+J6bXfX/c2ObzHbL0iSpJ7BwkarVN4p913NjlmPu//TVf3ZT0z1uDMdrzkAAAAwOxAkAbPYhTeqUgkrF9fd7FiSWXDlmL1p9rN4IPu9MNS7GnsiXAPCcH332uyfr5HCBk/4fLOXMFnNTbgXrSt8v1zw0+Ue+Xj6xnk5dPV29+cua/xnmlt4zQEAAICZjyAJmOWWDBQflPR/6tWZdEQilfyHqJqegdw3S5XwRZJubbkh1/ZQfvmigXyv1Pgj7u/cnr/W3b/V5NWqzkgateSq/Oar+nPnyMOPSb67ybH3cvcNYWiv7OnPrmt1jLmC1xwAAACY2QiSgDng6v7cP8j9znp1ZvburenE66Jqlq0r/HbR2uwfhhW9xd2/1ehSJZc/rFCrSruzi3vW5v5eTYRI0sjsqkfuz71D7h+S66m613PdG5o9WK9ujRQu6s9/+qkduYVeCd8t148lb2B2i++W+/c8rLypuz93Xs9A9r8b+0nAaw4AAADMXPWegwMAke5foc75R3edawpOssAWuGuhzOcr1KNutiUIK1sqgW+5tr/44FQtP1ojBe9Z3bU8bsGLZXa6mS+R60mXb5fp0UpZt9XbwDvKlpU6NtbR9RLzWHdo6jF5t8kqbr7dXdvk4X2FzYXbl9+iOhuQo1G85gAAAAAAAAAAAAAAAAAAAAAAAAAAAAAAAAAAAAAAAAAAAAAAAAAAAAAAAAAAAAAAAAAAAAAAAAAAAAAAAAAAAAAAAAAAAAAAAAAAAAAAAAAAAAAAAAAAAAAAAAAAAAAAAAAAAAAAAAAAAAAAAAAAAAAAAAAAAAAAAAAAAAAAAAAAAAAAAAAAAAAAAAAAAAAAAAAAAAAAAAAAAAAAAAAAAAAAAAAAAAAAAAAAAAAAAAAAAAAAAAAAAAAAAAAAAAAAAAAAAAAAAAAAAAAAAAAAAAAAAAAAAAAAAAAAAAAAAAAAAAAAAAAAAAAAAAAAAAAAAAAAAAAAAAAAAAAAAAAAAAAAgylGtQAAAEtJREFUAAAAAAAAAAAAAAAAAAAAAAAAAAAAAAAAAAAAAAAAAAAAAAAAAAAAAAAAAAAAAAAAAAAAAAAAAAAAAAAAAAAAAAAA4CD4/wHMVq7BYZ4pXgAAAABJRU5ErkJggg==)"
      ],
      "metadata": {
        "id": "qGJaGufEbqxR"
      }
    },
    {
      "cell_type": "code",
      "source": [
        "def fatorial(num):\n",
        "\n",
        "    if (num < 0) or (type(num) != int):\n",
        "        raise ValueError(\"Apenas números positivos são aceitos\")\n",
        "\n",
        "    produto = 1\n",
        "\n",
        "    while(num > 0):\n",
        "        produto = produto * num\n",
        "\n",
        "        num = num - 1\n",
        "\n",
        "    return produto"
      ],
      "metadata": {
        "id": "tsvMgtc1VchH"
      },
      "execution_count": null,
      "outputs": []
    },
    {
      "cell_type": "code",
      "source": [
        "fatorial(3)"
      ],
      "metadata": {
        "colab": {
          "base_uri": "https://localhost:8080/"
        },
        "id": "H9i1Ogvua5Ww",
        "outputId": "6669ac2d-83e7-4de1-a21d-2a212a94f41c"
      },
      "execution_count": null,
      "outputs": [
        {
          "output_type": "execute_result",
          "data": {
            "text/plain": [
              "6"
            ]
          },
          "metadata": {},
          "execution_count": 82
        }
      ]
    },
    {
      "cell_type": "code",
      "source": [
        "fatorial(-5)"
      ],
      "metadata": {
        "colab": {
          "base_uri": "https://localhost:8080/",
          "height": 287
        },
        "id": "rKJNpNSGaEoq",
        "outputId": "84f80f78-07dc-4a1f-f28c-cd876af36148"
      },
      "execution_count": null,
      "outputs": [
        {
          "output_type": "error",
          "ename": "ValueError",
          "evalue": "ignored",
          "traceback": [
            "\u001b[0;31m---------------------------------------------------------------------------\u001b[0m",
            "\u001b[0;31mValueError\u001b[0m                                Traceback (most recent call last)",
            "\u001b[0;32m<ipython-input-83-3a473d4b66d2>\u001b[0m in \u001b[0;36m<module>\u001b[0;34m\u001b[0m\n\u001b[0;32m----> 1\u001b[0;31m \u001b[0mfatorial\u001b[0m\u001b[0;34m(\u001b[0m\u001b[0;34m-\u001b[0m\u001b[0;36m5\u001b[0m\u001b[0;34m)\u001b[0m\u001b[0;34m\u001b[0m\u001b[0;34m\u001b[0m\u001b[0m\n\u001b[0m",
            "\u001b[0;32m<ipython-input-81-d51e6626c95e>\u001b[0m in \u001b[0;36mfatorial\u001b[0;34m(num)\u001b[0m\n\u001b[1;32m      2\u001b[0m \u001b[0;34m\u001b[0m\u001b[0m\n\u001b[1;32m      3\u001b[0m     \u001b[0;32mif\u001b[0m \u001b[0;34m(\u001b[0m\u001b[0mnum\u001b[0m \u001b[0;34m<\u001b[0m \u001b[0;36m0\u001b[0m\u001b[0;34m)\u001b[0m \u001b[0;32mor\u001b[0m \u001b[0;34m(\u001b[0m\u001b[0mtype\u001b[0m\u001b[0;34m(\u001b[0m\u001b[0mnum\u001b[0m\u001b[0;34m)\u001b[0m \u001b[0;34m!=\u001b[0m \u001b[0mint\u001b[0m\u001b[0;34m)\u001b[0m\u001b[0;34m:\u001b[0m\u001b[0;34m\u001b[0m\u001b[0;34m\u001b[0m\u001b[0m\n\u001b[0;32m----> 4\u001b[0;31m         \u001b[0;32mraise\u001b[0m \u001b[0mValueError\u001b[0m\u001b[0;34m(\u001b[0m\u001b[0;34m\"Apenas números positivos são aceitos\"\u001b[0m\u001b[0;34m)\u001b[0m\u001b[0;34m\u001b[0m\u001b[0;34m\u001b[0m\u001b[0m\n\u001b[0m\u001b[1;32m      5\u001b[0m \u001b[0;34m\u001b[0m\u001b[0m\n\u001b[1;32m      6\u001b[0m     \u001b[0mproduto\u001b[0m \u001b[0;34m=\u001b[0m \u001b[0;36m1\u001b[0m\u001b[0;34m\u001b[0m\u001b[0;34m\u001b[0m\u001b[0m\n",
            "\u001b[0;31mValueError\u001b[0m: Apenas números positivos são aceitos"
          ]
        }
      ]
    },
    {
      "cell_type": "markdown",
      "source": [
        "### Argumentos padrões e nomeados"
      ],
      "metadata": {
        "id": "_ePjshVMb7wO"
      }
    },
    {
      "cell_type": "code",
      "source": [
        "def fatorial(num=5):\n",
        "\n",
        "    if (num < 0) or (type(num) != int):\n",
        "        raise ValueError(\"Apenas números positivos são aceitos\")\n",
        "\n",
        "    produto = 1\n",
        "\n",
        "    while(num > 0):\n",
        "        produto = produto * num\n",
        "\n",
        "        num = num - 1\n",
        "\n",
        "    return produto"
      ],
      "metadata": {
        "id": "kI4lNk0HaGnp"
      },
      "execution_count": null,
      "outputs": []
    },
    {
      "cell_type": "code",
      "source": [
        "fatorial()"
      ],
      "metadata": {
        "colab": {
          "base_uri": "https://localhost:8080/"
        },
        "id": "Fpubk9U3cCs_",
        "outputId": "478e3497-5bde-4099-ce96-be07ae19bf41"
      },
      "execution_count": null,
      "outputs": [
        {
          "output_type": "execute_result",
          "data": {
            "text/plain": [
              "120"
            ]
          },
          "metadata": {},
          "execution_count": 85
        }
      ]
    },
    {
      "cell_type": "code",
      "source": [
        "fatorial(5)"
      ],
      "metadata": {
        "colab": {
          "base_uri": "https://localhost:8080/"
        },
        "id": "mnFZc3PVcD1X",
        "outputId": "b1cdbd5c-7e90-4646-8e51-a782e5f83c80"
      },
      "execution_count": null,
      "outputs": [
        {
          "output_type": "execute_result",
          "data": {
            "text/plain": [
              "120"
            ]
          },
          "metadata": {},
          "execution_count": 86
        }
      ]
    },
    {
      "cell_type": "code",
      "source": [
        "fatorial(num=5)"
      ],
      "metadata": {
        "colab": {
          "base_uri": "https://localhost:8080/"
        },
        "id": "xikncMUacJ-I",
        "outputId": "4541874c-0e9b-4f3d-838e-bbfe02fce136"
      },
      "execution_count": null,
      "outputs": [
        {
          "output_type": "execute_result",
          "data": {
            "text/plain": [
              "120"
            ]
          },
          "metadata": {},
          "execution_count": 87
        }
      ]
    },
    {
      "cell_type": "code",
      "source": [
        "def Graus_to_radianos(a, pi=3.14159265359):\n",
        "    x = a * pi / 180.0\n",
        "    \n",
        "    return x"
      ],
      "metadata": {
        "id": "wzXkpy7zcMgV"
      },
      "execution_count": null,
      "outputs": []
    },
    {
      "cell_type": "code",
      "source": [
        "Graus_to_radianos(45)"
      ],
      "metadata": {
        "colab": {
          "base_uri": "https://localhost:8080/"
        },
        "id": "Ql7glXrVdBmI",
        "outputId": "ea9527c0-0e5b-456f-86fc-d54176275a4b"
      },
      "execution_count": null,
      "outputs": [
        {
          "output_type": "execute_result",
          "data": {
            "text/plain": [
              "0.7853981633975001"
            ]
          },
          "metadata": {},
          "execution_count": 89
        }
      ]
    },
    {
      "cell_type": "code",
      "source": [
        "Graus_to_radianos(45, 3.14)"
      ],
      "metadata": {
        "colab": {
          "base_uri": "https://localhost:8080/"
        },
        "id": "12Jxv-aRdD5m",
        "outputId": "c5dd401d-7663-46da-f35b-778edf1f6419"
      },
      "execution_count": null,
      "outputs": [
        {
          "output_type": "execute_result",
          "data": {
            "text/plain": [
              "0.785"
            ]
          },
          "metadata": {},
          "execution_count": 90
        }
      ]
    },
    {
      "cell_type": "markdown",
      "source": [
        "### Escopo"
      ],
      "metadata": {
        "id": "4AjASh0diwAX"
      }
    },
    {
      "cell_type": "code",
      "source": [
        "pi = 3.14\n",
        "e = 2.71\n",
        "\n",
        "def f1(v1):\n",
        "    print(\"v1 no escopo local de f1:\", v1)\n",
        "    \n",
        "    print(\"pi no escopo local de f1:\", pi)\n",
        "    \n",
        "    e = 3\n",
        "    \n",
        "    print(\"e no escopo local de f1:\", e)\n",
        "\n",
        "        \n",
        "f1(pi)\n",
        "print(\"e no escopo global:\", e)\n",
        "\n",
        "# print(\"v1 no escopo global:\", v1)"
      ],
      "metadata": {
        "colab": {
          "base_uri": "https://localhost:8080/"
        },
        "id": "3GuluQl5iuo7",
        "outputId": "7fb213fb-f881-47f8-8e26-1c8ce07516be"
      },
      "execution_count": null,
      "outputs": [
        {
          "output_type": "stream",
          "name": "stdout",
          "text": [
            "v1 no escopo local de f1: 3.14\n",
            "pi no escopo local de f1: 3.14\n",
            "e no escopo local de f1: 3\n",
            "e no escopo global: 2.71\n"
          ]
        }
      ]
    },
    {
      "cell_type": "markdown",
      "source": [
        "### Parâmetros *args e **kwargs"
      ],
      "metadata": {
        "id": "brF81IXQeX7p"
      }
    },
    {
      "cell_type": "code",
      "source": [
        "def concat(*args, sep=\"/\"):\n",
        "    return sep.join(args)"
      ],
      "metadata": {
        "id": "UPsheQPreBi_"
      },
      "execution_count": null,
      "outputs": []
    },
    {
      "cell_type": "code",
      "source": [
        "concat(\"Terra\", \"Marte\", \"Venus\")"
      ],
      "metadata": {
        "colab": {
          "base_uri": "https://localhost:8080/",
          "height": 35
        },
        "id": "NW2nikjzeivE",
        "outputId": "3a9fb6d6-d8ad-4375-9692-5a9ff91850d8"
      },
      "execution_count": null,
      "outputs": [
        {
          "output_type": "execute_result",
          "data": {
            "text/plain": [
              "'Terra/Marte/Venus'"
            ],
            "application/vnd.google.colaboratory.intrinsic+json": {
              "type": "string"
            }
          },
          "metadata": {},
          "execution_count": 92
        }
      ]
    },
    {
      "cell_type": "code",
      "source": [
        "planetas = [\"Terra\", \"Marte\", \"Venus\"]\n"
      ],
      "metadata": {
        "id": "ZqgF1y_Aeku6"
      },
      "execution_count": null,
      "outputs": []
    },
    {
      "cell_type": "code",
      "source": [
        "concat(planetas)"
      ],
      "metadata": {
        "colab": {
          "base_uri": "https://localhost:8080/",
          "height": 235
        },
        "id": "AyhECKY4e1tB",
        "outputId": "db2ac295-c6dd-4165-aaf8-0e9257dde390"
      },
      "execution_count": null,
      "outputs": [
        {
          "output_type": "error",
          "ename": "TypeError",
          "evalue": "ignored",
          "traceback": [
            "\u001b[0;31m---------------------------------------------------------------------------\u001b[0m",
            "\u001b[0;31mTypeError\u001b[0m                                 Traceback (most recent call last)",
            "\u001b[0;32m<ipython-input-94-f47e3a6cbc76>\u001b[0m in \u001b[0;36m<module>\u001b[0;34m\u001b[0m\n\u001b[0;32m----> 1\u001b[0;31m \u001b[0mconcat\u001b[0m\u001b[0;34m(\u001b[0m\u001b[0mplanetas\u001b[0m\u001b[0;34m)\u001b[0m\u001b[0;34m\u001b[0m\u001b[0;34m\u001b[0m\u001b[0m\n\u001b[0m",
            "\u001b[0;32m<ipython-input-91-9af82bf954d4>\u001b[0m in \u001b[0;36mconcat\u001b[0;34m(sep, *args)\u001b[0m\n\u001b[1;32m      1\u001b[0m \u001b[0;32mdef\u001b[0m \u001b[0mconcat\u001b[0m\u001b[0;34m(\u001b[0m\u001b[0;34m*\u001b[0m\u001b[0margs\u001b[0m\u001b[0;34m,\u001b[0m \u001b[0msep\u001b[0m\u001b[0;34m=\u001b[0m\u001b[0;34m\"/\"\u001b[0m\u001b[0;34m)\u001b[0m\u001b[0;34m:\u001b[0m\u001b[0;34m\u001b[0m\u001b[0;34m\u001b[0m\u001b[0m\n\u001b[0;32m----> 2\u001b[0;31m     \u001b[0;32mreturn\u001b[0m \u001b[0msep\u001b[0m\u001b[0;34m.\u001b[0m\u001b[0mjoin\u001b[0m\u001b[0;34m(\u001b[0m\u001b[0margs\u001b[0m\u001b[0;34m)\u001b[0m\u001b[0;34m\u001b[0m\u001b[0;34m\u001b[0m\u001b[0m\n\u001b[0m",
            "\u001b[0;31mTypeError\u001b[0m: sequence item 0: expected str instance, list found"
          ]
        }
      ]
    },
    {
      "cell_type": "markdown",
      "source": [
        "Neste caso lembrem de desempacotar os argumentos da lista!!"
      ],
      "metadata": {
        "id": "ZohthlKMfCft"
      }
    },
    {
      "cell_type": "code",
      "source": [
        "concat(*planetas)"
      ],
      "metadata": {
        "colab": {
          "base_uri": "https://localhost:8080/",
          "height": 35
        },
        "id": "_DWNLNlYfBJP",
        "outputId": "f57a468d-0e53-4ad8-80e7-5e78f5884dd2"
      },
      "execution_count": null,
      "outputs": [
        {
          "output_type": "execute_result",
          "data": {
            "text/plain": [
              "'Terra/Marte/Venus'"
            ],
            "application/vnd.google.colaboratory.intrinsic+json": {
              "type": "string"
            }
          },
          "metadata": {},
          "execution_count": 95
        }
      ]
    },
    {
      "cell_type": "code",
      "source": [
        "def imprimir_kwargs(**kwargs):\n",
        "   \n",
        "    for k, v in kwargs.items():\n",
        "        print(f\"key: {k}, value:{v}\")"
      ],
      "metadata": {
        "id": "61EsD64YfLP-"
      },
      "execution_count": null,
      "outputs": []
    },
    {
      "cell_type": "code",
      "source": [
        "imprimir_kwargs(estado=\"PE\", latitude=-8.37, longitude=-36.5 )"
      ],
      "metadata": {
        "colab": {
          "base_uri": "https://localhost:8080/"
        },
        "id": "R-sryklsfxGC",
        "outputId": "0e5e859c-7933-48ee-95c9-d40672e208d9"
      },
      "execution_count": null,
      "outputs": [
        {
          "output_type": "stream",
          "name": "stdout",
          "text": [
            "key: estado, value:PE\n",
            "key: latitude, value:-8.37\n",
            "key: longitude, value:-36.5\n"
          ]
        }
      ]
    },
    {
      "cell_type": "markdown",
      "source": [
        "### Strings de documentação\n",
        "\n",
        "[Referência](https://docs.python.org/pt-br/3.7/tutorial/controlflow.html#documentation-strings)"
      ],
      "metadata": {
        "id": "Bz70Md6Pg50n"
      }
    },
    {
      "cell_type": "code",
      "source": [
        "def my_function():\n",
        "    \"\"\"Do nothing, but document it.\n",
        "\n",
        "    No, really, it doesn't do anything.\n",
        "    \"\"\"\n",
        "    pass"
      ],
      "metadata": {
        "id": "JD7663Hefxld"
      },
      "execution_count": null,
      "outputs": []
    },
    {
      "cell_type": "code",
      "source": [
        "my_function()"
      ],
      "metadata": {
        "id": "43hfC_sQhG2j"
      },
      "execution_count": null,
      "outputs": []
    },
    {
      "cell_type": "code",
      "source": [
        "print(my_function.__doc__)"
      ],
      "metadata": {
        "colab": {
          "base_uri": "https://localhost:8080/"
        },
        "id": "pRP7--f_haAJ",
        "outputId": "c1110652-8d70-45af-ceef-c73fbbf85c20"
      },
      "execution_count": null,
      "outputs": [
        {
          "output_type": "stream",
          "name": "stdout",
          "text": [
            "Do nothing, but document it.\n",
            "\n",
            "    No, really, it doesn't do anything.\n",
            "    \n"
          ]
        }
      ]
    },
    {
      "cell_type": "code",
      "source": [],
      "metadata": {
        "id": "7i6BL4HrhbFg"
      },
      "execution_count": null,
      "outputs": []
    }
  ]
}