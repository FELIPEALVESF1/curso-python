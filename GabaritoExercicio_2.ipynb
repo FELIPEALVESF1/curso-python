{
  "nbformat": 4,
  "nbformat_minor": 0,
  "metadata": {
    "colab": {
      "provenance": [],
      "authorship_tag": "ABX9TyPxErKt3v7n3FE8uzgu3GBM",
      "include_colab_link": true
    },
    "kernelspec": {
      "name": "python3",
      "display_name": "Python 3"
    },
    "language_info": {
      "name": "python"
    }
  },
  "cells": [
    {
      "cell_type": "markdown",
      "metadata": {
        "id": "view-in-github",
        "colab_type": "text"
      },
      "source": [
        "<a href=\"https://colab.research.google.com/github/viniciusgcjr/curso-python/blob/main/GabaritoExercicio_2.ipynb\" target=\"_parent\"><img src=\"https://colab.research.google.com/assets/colab-badge.svg\" alt=\"Open In Colab\"/></a>"
      ]
    },
    {
      "cell_type": "markdown",
      "source": [
        "As Variáveis a seguir serão utilizadas ao longo do exercício 2"
      ],
      "metadata": {
        "id": "ONEyBWlyYSg6"
      }
    },
    {
      "cell_type": "code",
      "source": [
        "nome = 'Vinicius'"
      ],
      "metadata": {
        "id": "lXtKzGrjX_lT"
      },
      "execution_count": 1,
      "outputs": []
    },
    {
      "cell_type": "code",
      "execution_count": 2,
      "metadata": {
        "id": "NIEOw4q2VvUu"
      },
      "outputs": [],
      "source": [
        "idade_vinicius = 34"
      ]
    },
    {
      "cell_type": "code",
      "source": [
        "idade_junior = 50"
      ],
      "metadata": {
        "id": "UW9dpMfoWI7E"
      },
      "execution_count": 3,
      "outputs": []
    },
    {
      "cell_type": "code",
      "source": [
        "lista_num = [1,10,100,1000,2,2,2,2,2,2,2,3,4,5,6,7,8,9]"
      ],
      "metadata": {
        "id": "NxXEAgPiWR5V"
      },
      "execution_count": 4,
      "outputs": []
    },
    {
      "cell_type": "code",
      "source": [
        "lista_nomes = ['Vinícius', 'Gomes', 'Costa', 'Junior']"
      ],
      "metadata": {
        "id": "LLFMZW3gWX7a"
      },
      "execution_count": 5,
      "outputs": []
    },
    {
      "cell_type": "markdown",
      "source": [
        "# E1\n",
        "\n",
        "Compare as idades de vinicius e junior e imprima o resultado. Deve retornar um valor booleano (True ou False)"
      ],
      "metadata": {
        "id": "_tWaUFMFV9AK"
      }
    },
    {
      "cell_type": "code",
      "source": [
        "idade_vinicius == idade_junior"
      ],
      "metadata": {
        "id": "R8VP4RwAWN_K",
        "outputId": "27e71d83-353f-476b-f975-623b6ff51207",
        "colab": {
          "base_uri": "https://localhost:8080/"
        }
      },
      "execution_count": 14,
      "outputs": [
        {
          "output_type": "execute_result",
          "data": {
            "text/plain": [
              "False"
            ]
          },
          "metadata": {},
          "execution_count": 14
        }
      ]
    },
    {
      "cell_type": "markdown",
      "source": [
        "# E2 \n",
        "\n",
        "Pergunte ao usuário a idade dele e compare com a idade de Vinícius para saber se Vinícius é mais velho ou tem idade igual ao usuário"
      ],
      "metadata": {
        "id": "yVqkPZjNXUep"
      }
    },
    {
      "cell_type": "code",
      "source": [
        "idade_usuario = int(input('Idade usr: '))\n",
        "idade_vinicius >= idade_usuario"
      ],
      "metadata": {
        "id": "ScOa6vYEXqnz",
        "outputId": "1b153e03-901a-4d79-c3d0-96b8a7a608ac",
        "colab": {
          "base_uri": "https://localhost:8080/"
        }
      },
      "execution_count": 16,
      "outputs": [
        {
          "name": "stdout",
          "output_type": "stream",
          "text": [
            "Idade usr: 20\n"
          ]
        },
        {
          "output_type": "execute_result",
          "data": {
            "text/plain": [
              "True"
            ]
          },
          "metadata": {},
          "execution_count": 16
        }
      ]
    },
    {
      "cell_type": "code",
      "source": [],
      "metadata": {
        "id": "OxhYKvsLniWq"
      },
      "execution_count": null,
      "outputs": []
    },
    {
      "cell_type": "markdown",
      "source": [
        "#E3\n",
        "\n",
        "\n",
        "Pergunte ao usuário o nome dele e verifique se o tamanho do nome dele é maior que o de Vinícius"
      ],
      "metadata": {
        "id": "snDJq3uin7QZ"
      }
    },
    {
      "cell_type": "code",
      "source": [
        "nome_usr = input('Seu nome ')\n",
        "len(nome) > len(nome_usr)"
      ],
      "metadata": {
        "id": "39OOwq7tq9Th",
        "outputId": "f98b177e-45da-4b07-f0f0-2fed8d307582",
        "colab": {
          "base_uri": "https://localhost:8080/"
        }
      },
      "execution_count": 17,
      "outputs": [
        {
          "name": "stdout",
          "output_type": "stream",
          "text": [
            "Seu nome viniciusjgngfogmdops\n"
          ]
        },
        {
          "output_type": "execute_result",
          "data": {
            "text/plain": [
              "False"
            ]
          },
          "metadata": {},
          "execution_count": 17
        }
      ]
    },
    {
      "cell_type": "markdown",
      "source": [
        "#E4\n",
        "\n",
        "Qual o maior valor da lista lista_num?"
      ],
      "metadata": {
        "id": "v3J9nTrbYmhZ"
      }
    },
    {
      "cell_type": "code",
      "source": [
        "max(lista_num)"
      ],
      "metadata": {
        "id": "eFf2wTwBYouf",
        "outputId": "827a9261-1b2b-4cca-8c4f-1a40ad80e7e5",
        "colab": {
          "base_uri": "https://localhost:8080/"
        }
      },
      "execution_count": 13,
      "outputs": [
        {
          "output_type": "execute_result",
          "data": {
            "text/plain": [
              "1000"
            ]
          },
          "metadata": {},
          "execution_count": 13
        }
      ]
    },
    {
      "cell_type": "markdown",
      "source": [
        "# E5\n",
        "\n",
        "Quantos elementos existem na lista lista_num e na lista_nomes?"
      ],
      "metadata": {
        "id": "N5KQgzO2ZgIg"
      }
    },
    {
      "cell_type": "code",
      "source": [
        "len(lista_num)"
      ],
      "metadata": {
        "id": "A2r8hN0IZhW3",
        "outputId": "ac85dd4e-d4d2-4305-d930-aeb075e58df9",
        "colab": {
          "base_uri": "https://localhost:8080/"
        }
      },
      "execution_count": 18,
      "outputs": [
        {
          "output_type": "execute_result",
          "data": {
            "text/plain": [
              "18"
            ]
          },
          "metadata": {},
          "execution_count": 18
        }
      ]
    },
    {
      "cell_type": "code",
      "source": [
        "len(lista_nomes)"
      ],
      "metadata": {
        "id": "027YQvUbZ_o7",
        "outputId": "f01cb3a9-5d60-4333-ea43-414eb0e7f511",
        "colab": {
          "base_uri": "https://localhost:8080/"
        }
      },
      "execution_count": 19,
      "outputs": [
        {
          "output_type": "execute_result",
          "data": {
            "text/plain": [
              "4"
            ]
          },
          "metadata": {},
          "execution_count": 19
        }
      ]
    },
    {
      "cell_type": "code",
      "source": [
        "len(lista_nomes[0])"
      ],
      "metadata": {
        "id": "ekd7kmoPhmpo",
        "outputId": "9c023cac-5a5c-415c-c076-78e837e56c55",
        "colab": {
          "base_uri": "https://localhost:8080/"
        }
      },
      "execution_count": 20,
      "outputs": [
        {
          "output_type": "execute_result",
          "data": {
            "text/plain": [
              "8"
            ]
          },
          "metadata": {},
          "execution_count": 20
        }
      ]
    },
    {
      "cell_type": "markdown",
      "source": [
        "#E6 \n",
        "\n",
        "Crie uma variavel copia_nome e atribua o nome presente na lista_nomes. Imprima copia_nome"
      ],
      "metadata": {
        "id": "WIvn4qataA1L"
      }
    },
    {
      "cell_type": "code",
      "source": [
        "copia_nome = lista_nomes[0]\n",
        "copia_nome"
      ],
      "metadata": {
        "id": "SsavNft5agEe",
        "outputId": "cafe6223-ca6a-46b3-b035-7f64f45c5ffb",
        "colab": {
          "base_uri": "https://localhost:8080/",
          "height": 36
        }
      },
      "execution_count": 21,
      "outputs": [
        {
          "output_type": "execute_result",
          "data": {
            "text/plain": [
              "'Vinícius'"
            ],
            "application/vnd.google.colaboratory.intrinsic+json": {
              "type": "string"
            }
          },
          "metadata": {},
          "execution_count": 21
        }
      ]
    },
    {
      "cell_type": "markdown",
      "source": [
        "# E7\n",
        "\n",
        "Cria uma variavel chamada de n1 e n2 e atribua o nome e sobrenome presente na lista_nomes e imprima n1 e n2"
      ],
      "metadata": {
        "id": "LQY5fsS9aguj"
      }
    },
    {
      "cell_type": "code",
      "source": [
        "n1, n2, *outralista = lista_nomes\n",
        "print(n1, n2)"
      ],
      "metadata": {
        "id": "i-MJ-hOyag_p",
        "outputId": "18fb8008-0b93-45e8-fb9f-3aef7e76784e",
        "colab": {
          "base_uri": "https://localhost:8080/"
        }
      },
      "execution_count": 23,
      "outputs": [
        {
          "output_type": "stream",
          "name": "stdout",
          "text": [
            "Vinícius Gomes\n"
          ]
        }
      ]
    },
    {
      "cell_type": "markdown",
      "source": [
        "# E8\n",
        "\n",
        "imprima o primeiro elemento da lista_num"
      ],
      "metadata": {
        "id": "u5ag3mlimw0g"
      }
    },
    {
      "cell_type": "code",
      "source": [
        "lista_num[0]"
      ],
      "metadata": {
        "id": "TsfkPb-im4Rh",
        "outputId": "42a01e3a-c165-4203-9d0a-b9575a3abf1c",
        "colab": {
          "base_uri": "https://localhost:8080/"
        }
      },
      "execution_count": 24,
      "outputs": [
        {
          "output_type": "execute_result",
          "data": {
            "text/plain": [
              "1"
            ]
          },
          "metadata": {},
          "execution_count": 24
        }
      ]
    },
    {
      "cell_type": "markdown",
      "source": [
        "#E9 \n",
        "\n",
        "Adicione um elemento númerico qualquer a lista de números (lista_num)"
      ],
      "metadata": {
        "id": "bPkpY3v5m8yC"
      }
    },
    {
      "cell_type": "code",
      "source": [
        "lista_num.append('numqlq')"
      ],
      "metadata": {
        "id": "ltC7ZU6nnEJg"
      },
      "execution_count": 25,
      "outputs": []
    },
    {
      "cell_type": "code",
      "source": [
        "print(lista_num)"
      ],
      "metadata": {
        "colab": {
          "base_uri": "https://localhost:8080/"
        },
        "id": "35khOXi-r2GX",
        "outputId": "7e21a779-10f0-4086-f3ea-e04464ab0ef3"
      },
      "execution_count": 26,
      "outputs": [
        {
          "output_type": "stream",
          "name": "stdout",
          "text": [
            "[1, 10, 100, 1000, 2, 2, 2, 2, 2, 2, 2, 3, 4, 5, 6, 7, 8, 9, 'numqlq']\n"
          ]
        }
      ]
    },
    {
      "cell_type": "code",
      "source": [
        "lista_num[-1]"
      ],
      "metadata": {
        "id": "zYoM1bAPjMWx",
        "outputId": "f5bb15cf-89ee-4fb0-c2dc-36a3438146cc",
        "colab": {
          "base_uri": "https://localhost:8080/",
          "height": 36
        }
      },
      "execution_count": 27,
      "outputs": [
        {
          "output_type": "execute_result",
          "data": {
            "text/plain": [
              "'numqlq'"
            ],
            "application/vnd.google.colaboratory.intrinsic+json": {
              "type": "string"
            }
          },
          "metadata": {},
          "execution_count": 27
        }
      ]
    },
    {
      "cell_type": "markdown",
      "source": [
        "# E10\n",
        "\n",
        "Remova o último elemento da lista de nomes e a salve numa variável. Imprima a lista de nomes e a variável criada "
      ],
      "metadata": {
        "id": "4Iy_Ok8mnE1R"
      }
    },
    {
      "cell_type": "code",
      "source": [
        "ult_valor = lista_nomes.pop()\n",
        "ult_valor"
      ],
      "metadata": {
        "id": "tc1SBV5rnGLo",
        "outputId": "5ec78636-239b-4697-f1e4-6f30cab13fe2",
        "colab": {
          "base_uri": "https://localhost:8080/",
          "height": 36
        }
      },
      "execution_count": 28,
      "outputs": [
        {
          "output_type": "execute_result",
          "data": {
            "text/plain": [
              "'Junior'"
            ],
            "application/vnd.google.colaboratory.intrinsic+json": {
              "type": "string"
            }
          },
          "metadata": {},
          "execution_count": 28
        }
      ]
    },
    {
      "cell_type": "code",
      "source": [
        "lista_nomes"
      ],
      "metadata": {
        "id": "tcMFM64JkFl3",
        "outputId": "3fdae9ae-0436-4e02-8690-322c724441e5",
        "colab": {
          "base_uri": "https://localhost:8080/"
        }
      },
      "execution_count": 29,
      "outputs": [
        {
          "output_type": "execute_result",
          "data": {
            "text/plain": [
              "['Vinícius', 'Gomes', 'Costa']"
            ]
          },
          "metadata": {},
          "execution_count": 29
        }
      ]
    },
    {
      "cell_type": "markdown",
      "source": [
        "#E11 \n",
        "\n",
        "Calcule a soma de todos os elementos da lista de números"
      ],
      "metadata": {
        "id": "7pycsbYvnP9j"
      }
    },
    {
      "cell_type": "code",
      "source": [
        "lista_num.pop()"
      ],
      "metadata": {
        "id": "mhSGXoK_lOER",
        "outputId": "2191aa9e-69a3-4a54-ce54-2135760da578",
        "colab": {
          "base_uri": "https://localhost:8080/",
          "height": 36
        }
      },
      "execution_count": 32,
      "outputs": [
        {
          "output_type": "execute_result",
          "data": {
            "text/plain": [
              "'numqlq'"
            ],
            "application/vnd.google.colaboratory.intrinsic+json": {
              "type": "string"
            }
          },
          "metadata": {},
          "execution_count": 32
        }
      ]
    },
    {
      "cell_type": "code",
      "source": [
        "sum(lista_num)"
      ],
      "metadata": {
        "colab": {
          "base_uri": "https://localhost:8080/"
        },
        "id": "t_X7t99fnV6Z",
        "outputId": "ee3f55af-85f3-4dab-a553-5d8e411f4f7b"
      },
      "execution_count": 33,
      "outputs": [
        {
          "output_type": "execute_result",
          "data": {
            "text/plain": [
              "1167"
            ]
          },
          "metadata": {},
          "execution_count": 33
        }
      ]
    },
    {
      "cell_type": "markdown",
      "source": [
        "#E12 \n",
        "\n",
        "Acesse o primeiro elemento da lista de nomes e imprima a últma letra deste elemento"
      ],
      "metadata": {
        "id": "dyv003muo19j"
      }
    },
    {
      "cell_type": "code",
      "source": [
        "lista_nomes[0][-1]"
      ],
      "metadata": {
        "id": "COd1aG7NpOca",
        "outputId": "65ac4b30-4f79-40c2-fc85-8da661efadac",
        "colab": {
          "base_uri": "https://localhost:8080/",
          "height": 36
        }
      },
      "execution_count": 39,
      "outputs": [
        {
          "output_type": "execute_result",
          "data": {
            "text/plain": [
              "'s'"
            ],
            "application/vnd.google.colaboratory.intrinsic+json": {
              "type": "string"
            }
          },
          "metadata": {},
          "execution_count": 39
        }
      ]
    },
    {
      "cell_type": "code",
      "source": [
        "lista_nomes[-1][-1]"
      ],
      "metadata": {
        "id": "b_eKUvNVlZTK",
        "outputId": "4b983873-7636-4329-b18a-84da23fe60ad",
        "colab": {
          "base_uri": "https://localhost:8080/",
          "height": 36
        }
      },
      "execution_count": 38,
      "outputs": [
        {
          "output_type": "execute_result",
          "data": {
            "text/plain": [
              "'a'"
            ],
            "application/vnd.google.colaboratory.intrinsic+json": {
              "type": "string"
            }
          },
          "metadata": {},
          "execution_count": 38
        }
      ]
    },
    {
      "cell_type": "markdown",
      "source": [
        "#E13\n",
        "\n",
        "Crie uma tupla chamada registros com os valores: 1, 2, 3, a, b e c. Imprima a tupla"
      ],
      "metadata": {
        "id": "hP7wJ7I1pW1a"
      }
    },
    {
      "cell_type": "code",
      "source": [
        "registros = (1,2,3,'a','b','c')\n",
        "registros"
      ],
      "metadata": {
        "id": "zj9uhAWFpo78",
        "outputId": "db8da644-dfee-4069-d710-82e64d5f635d",
        "colab": {
          "base_uri": "https://localhost:8080/"
        }
      },
      "execution_count": 40,
      "outputs": [
        {
          "output_type": "execute_result",
          "data": {
            "text/plain": [
              "(1, 2, 3, 'a', 'b', 'c')"
            ]
          },
          "metadata": {},
          "execution_count": 40
        }
      ]
    },
    {
      "cell_type": "code",
      "source": [
        "type(registros)"
      ],
      "metadata": {
        "id": "2t4r5jvQl30A",
        "outputId": "cc416b4a-1093-4201-ffbc-dc605fef4e18",
        "colab": {
          "base_uri": "https://localhost:8080/"
        }
      },
      "execution_count": 41,
      "outputs": [
        {
          "output_type": "execute_result",
          "data": {
            "text/plain": [
              "tuple"
            ]
          },
          "metadata": {},
          "execution_count": 41
        }
      ]
    },
    {
      "cell_type": "markdown",
      "source": [
        "#E14\n",
        "\n",
        "Crie uma lista com valores de 0 a 21 com incrementos de 3 passos"
      ],
      "metadata": {
        "id": "7MtFfadJpr2R"
      }
    },
    {
      "cell_type": "code",
      "source": [
        "list(range(0,21,3))"
      ],
      "metadata": {
        "id": "OaC6vpgop5d6",
        "outputId": "e0051917-f9fd-451a-daef-ce6c51de5bf1",
        "colab": {
          "base_uri": "https://localhost:8080/"
        }
      },
      "execution_count": 43,
      "outputs": [
        {
          "output_type": "execute_result",
          "data": {
            "text/plain": [
              "[0, 3, 6, 9, 12, 15, 18]"
            ]
          },
          "metadata": {},
          "execution_count": 43
        }
      ]
    },
    {
      "cell_type": "markdown",
      "source": [
        "#E16\n",
        "\n",
        "Verifique se a string 'us' está contida na variável nome"
      ],
      "metadata": {
        "id": "E2GXDR1eqWoC"
      }
    },
    {
      "cell_type": "code",
      "source": [
        "'us' in nome"
      ],
      "metadata": {
        "id": "-srNkh88tn_f",
        "outputId": "db7795c5-bcfa-4eb2-cd82-8b21c12a05b9",
        "colab": {
          "base_uri": "https://localhost:8080/"
        }
      },
      "execution_count": 44,
      "outputs": [
        {
          "output_type": "execute_result",
          "data": {
            "text/plain": [
              "True"
            ]
          },
          "metadata": {},
          "execution_count": 44
        }
      ]
    },
    {
      "cell_type": "markdown",
      "source": [
        "#E15\n",
        "\n",
        "Forme a string 'www.apac.pe.gov.br' a partir de uma lista que contêm os valores:\n",
        "['www', 'apac','pe','gov','br']"
      ],
      "metadata": {
        "id": "7QyYLjgip7m5"
      }
    },
    {
      "cell_type": "code",
      "source": [
        "valores = ['www', 'apac','pe','gov','br']\n",
        "valores"
      ],
      "metadata": {
        "id": "lZR_zgoDtmmw",
        "outputId": "8ad009dd-db83-4fe5-b8c0-6b6fbaf50fe4",
        "colab": {
          "base_uri": "https://localhost:8080/"
        }
      },
      "execution_count": 46,
      "outputs": [
        {
          "output_type": "execute_result",
          "data": {
            "text/plain": [
              "['www', 'apac', 'pe', 'gov', 'br']"
            ]
          },
          "metadata": {},
          "execution_count": 46
        }
      ]
    },
    {
      "cell_type": "code",
      "source": [
        "url = '.'.join(valores)\n",
        "url"
      ],
      "metadata": {
        "id": "AQOL9kPmYHF3",
        "outputId": "f71094b3-1593-44d0-adcd-4e5d7d3d2c0c",
        "colab": {
          "base_uri": "https://localhost:8080/",
          "height": 36
        }
      },
      "execution_count": 49,
      "outputs": [
        {
          "output_type": "execute_result",
          "data": {
            "text/plain": [
              "'www.apac.pe.gov.br'"
            ],
            "application/vnd.google.colaboratory.intrinsic+json": {
              "type": "string"
            }
          },
          "metadata": {},
          "execution_count": 49
        }
      ]
    },
    {
      "cell_type": "code",
      "source": [],
      "metadata": {
        "id": "Tcef3zfJnE1a"
      },
      "execution_count": null,
      "outputs": []
    }
  ]
}